{
  "nbformat": 4,
  "nbformat_minor": 0,
  "metadata": {
    "colab": {
      "name": "optimasi_saham_11.ipynb",
      "provenance": [],
      "collapsed_sections": [
        "XSlSTvCyHRLB",
        "ejFmPRAq1cwk",
        "BOVV_Uv0Ec_U",
        "mQA4cfa3Ite_",
        "PgLWe5igvRxL",
        "UPNJwmUaI4LN",
        "PcS0QKYLE9C-"
      ]
    },
    "kernelspec": {
      "name": "python3",
      "display_name": "Python 3"
    }
  },
  "cells": [
    {
      "cell_type": "code",
      "metadata": {
        "id": "0m5fajyEATap"
      },
      "source": [
        "#%reset"
      ],
      "execution_count": null,
      "outputs": []
    },
    {
      "cell_type": "markdown",
      "metadata": {
        "id": "upLHTRU9CCqG"
      },
      "source": [
        "###Import Data"
      ]
    },
    {
      "cell_type": "code",
      "metadata": {
        "id": "emaDvQokAi31",
        "colab": {
          "base_uri": "https://localhost:8080/"
        },
        "outputId": "1d11d4ca-50db-4323-d193-d35880ffcc6a"
      },
      "source": [
        "from google.colab import drive\n",
        "drive.mount('/content/drive')"
      ],
      "execution_count": null,
      "outputs": [
        {
          "output_type": "stream",
          "text": [
            "Drive already mounted at /content/drive; to attempt to forcibly remount, call drive.mount(\"/content/drive\", force_remount=True).\n"
          ],
          "name": "stdout"
        }
      ]
    },
    {
      "cell_type": "markdown",
      "metadata": {
        "id": "-r4OmIQOEYtz"
      },
      "source": [
        "###2 emiten"
      ]
    },
    {
      "cell_type": "markdown",
      "metadata": {
        "id": "XSlSTvCyHRLB"
      },
      "source": [
        "####Ellipsoidal Uncertainty"
      ]
    },
    {
      "cell_type": "code",
      "metadata": {
        "colab": {
          "base_uri": "https://localhost:8080/"
        },
        "id": "rJ5IimFGAlC1",
        "outputId": "cb22a36c-aa87-4f0c-cab7-82d7b35e7824"
      },
      "source": [
        "import os\n",
        "base_dir = '/content/drive/My Drive/PYTHON/saham/data2'\n",
        "\n",
        "data2 = [f for f in os.listdir(base_dir)]\n",
        "for f in data2:\n",
        "    print(f)"
      ],
      "execution_count": null,
      "outputs": [
        {
          "output_type": "stream",
          "text": [
            "BBRI.JK.csv\n",
            "PGAS.JK.csv\n"
          ],
          "name": "stdout"
        }
      ]
    },
    {
      "cell_type": "code",
      "metadata": {
        "colab": {
          "base_uri": "https://localhost:8080/",
          "height": 467
        },
        "id": "bkHeMZ1tEfls",
        "outputId": "fa7e06a4-794e-47f9-a68e-caae41601e5a"
      },
      "source": [
        "#show one emiten\n",
        "import pandas as pd\n",
        "\n",
        "example_emiten2 = data2[0]\n",
        "df_example2 = pd.read_csv(base_dir+'/'+example_emiten2)\n",
        "print(example_emiten2)\n",
        "print(df_example2.info())\n",
        "print(\"Showing Head of Emiten Dataframe\")\n",
        "df_example2.head()"
      ],
      "execution_count": null,
      "outputs": [
        {
          "output_type": "stream",
          "text": [
            "BBRI.JK.csv\n",
            "<class 'pandas.core.frame.DataFrame'>\n",
            "RangeIndex: 523 entries, 0 to 522\n",
            "Data columns (total 7 columns):\n",
            " #   Column     Non-Null Count  Dtype  \n",
            "---  ------     --------------  -----  \n",
            " 0   Date       523 non-null    object \n",
            " 1   Open       523 non-null    float64\n",
            " 2   High       523 non-null    float64\n",
            " 3   Low        523 non-null    float64\n",
            " 4   Close      523 non-null    float64\n",
            " 5   Adj Close  523 non-null    float64\n",
            " 6   Volume     523 non-null    int64  \n",
            "dtypes: float64(5), int64(1), object(1)\n",
            "memory usage: 28.7+ KB\n",
            "None\n",
            "Showing Head of Emiten Dataframe\n"
          ],
          "name": "stdout"
        },
        {
          "output_type": "execute_result",
          "data": {
            "text/html": [
              "<div>\n",
              "<style scoped>\n",
              "    .dataframe tbody tr th:only-of-type {\n",
              "        vertical-align: middle;\n",
              "    }\n",
              "\n",
              "    .dataframe tbody tr th {\n",
              "        vertical-align: top;\n",
              "    }\n",
              "\n",
              "    .dataframe thead th {\n",
              "        text-align: right;\n",
              "    }\n",
              "</style>\n",
              "<table border=\"1\" class=\"dataframe\">\n",
              "  <thead>\n",
              "    <tr style=\"text-align: right;\">\n",
              "      <th></th>\n",
              "      <th>Date</th>\n",
              "      <th>Open</th>\n",
              "      <th>High</th>\n",
              "      <th>Low</th>\n",
              "      <th>Close</th>\n",
              "      <th>Adj Close</th>\n",
              "      <th>Volume</th>\n",
              "    </tr>\n",
              "  </thead>\n",
              "  <tbody>\n",
              "    <tr>\n",
              "      <th>0</th>\n",
              "      <td>2010-01-01</td>\n",
              "      <td>780.0</td>\n",
              "      <td>795.0</td>\n",
              "      <td>755.0</td>\n",
              "      <td>765.0</td>\n",
              "      <td>237.514099</td>\n",
              "      <td>450460000</td>\n",
              "    </tr>\n",
              "    <tr>\n",
              "      <th>1</th>\n",
              "      <td>2010-01-08</td>\n",
              "      <td>770.0</td>\n",
              "      <td>795.0</td>\n",
              "      <td>755.0</td>\n",
              "      <td>785.0</td>\n",
              "      <td>243.723633</td>\n",
              "      <td>609235000</td>\n",
              "    </tr>\n",
              "    <tr>\n",
              "      <th>2</th>\n",
              "      <td>2010-01-15</td>\n",
              "      <td>780.0</td>\n",
              "      <td>830.0</td>\n",
              "      <td>780.0</td>\n",
              "      <td>790.0</td>\n",
              "      <td>245.275955</td>\n",
              "      <td>877595000</td>\n",
              "    </tr>\n",
              "    <tr>\n",
              "      <th>3</th>\n",
              "      <td>2010-01-22</td>\n",
              "      <td>790.0</td>\n",
              "      <td>790.0</td>\n",
              "      <td>750.0</td>\n",
              "      <td>765.0</td>\n",
              "      <td>237.514099</td>\n",
              "      <td>645765000</td>\n",
              "    </tr>\n",
              "    <tr>\n",
              "      <th>4</th>\n",
              "      <td>2010-01-29</td>\n",
              "      <td>765.0</td>\n",
              "      <td>770.0</td>\n",
              "      <td>740.0</td>\n",
              "      <td>740.0</td>\n",
              "      <td>229.752167</td>\n",
              "      <td>766440000</td>\n",
              "    </tr>\n",
              "  </tbody>\n",
              "</table>\n",
              "</div>"
            ],
            "text/plain": [
              "         Date   Open   High    Low  Close   Adj Close     Volume\n",
              "0  2010-01-01  780.0  795.0  755.0  765.0  237.514099  450460000\n",
              "1  2010-01-08  770.0  795.0  755.0  785.0  243.723633  609235000\n",
              "2  2010-01-15  780.0  830.0  780.0  790.0  245.275955  877595000\n",
              "3  2010-01-22  790.0  790.0  750.0  765.0  237.514099  645765000\n",
              "4  2010-01-29  765.0  770.0  740.0  740.0  229.752167  766440000"
            ]
          },
          "metadata": {
            "tags": []
          },
          "execution_count": 4
        }
      ]
    },
    {
      "cell_type": "code",
      "metadata": {
        "colab": {
          "base_uri": "https://localhost:8080/",
          "height": 191
        },
        "id": "k1KajzksE2Dc",
        "outputId": "a03ec614-125f-4232-fa98-f93bd1cd59a4"
      },
      "source": [
        "#prepare main dataframe\n",
        "\n",
        "df2=pd.DataFrame()\n",
        "target_column2 = 'Close'\n",
        "emitens2 = []\n",
        "for f in data2:\n",
        "  emiten = f.lower().replace('.jk.csv', '')\n",
        "  emitens2.append(emiten)\n",
        "  df_emiten = pd.read_csv(base_dir+'/'+f)\n",
        "  df2['Date'] = df_emiten['Date']\n",
        "  df2[emiten] = df_emiten[target_column2]\n",
        "df2=df2.dropna()\n",
        "\n",
        "#showing head of dataframe\n",
        "df2.head()"
      ],
      "execution_count": null,
      "outputs": [
        {
          "output_type": "execute_result",
          "data": {
            "text/html": [
              "<div>\n",
              "<style scoped>\n",
              "    .dataframe tbody tr th:only-of-type {\n",
              "        vertical-align: middle;\n",
              "    }\n",
              "\n",
              "    .dataframe tbody tr th {\n",
              "        vertical-align: top;\n",
              "    }\n",
              "\n",
              "    .dataframe thead th {\n",
              "        text-align: right;\n",
              "    }\n",
              "</style>\n",
              "<table border=\"1\" class=\"dataframe\">\n",
              "  <thead>\n",
              "    <tr style=\"text-align: right;\">\n",
              "      <th></th>\n",
              "      <th>Date</th>\n",
              "      <th>bbri</th>\n",
              "      <th>pgas</th>\n",
              "    </tr>\n",
              "  </thead>\n",
              "  <tbody>\n",
              "    <tr>\n",
              "      <th>0</th>\n",
              "      <td>2010-01-01</td>\n",
              "      <td>765.0</td>\n",
              "      <td>4000.0</td>\n",
              "    </tr>\n",
              "    <tr>\n",
              "      <th>1</th>\n",
              "      <td>2010-01-08</td>\n",
              "      <td>785.0</td>\n",
              "      <td>3850.0</td>\n",
              "    </tr>\n",
              "    <tr>\n",
              "      <th>2</th>\n",
              "      <td>2010-01-15</td>\n",
              "      <td>790.0</td>\n",
              "      <td>3750.0</td>\n",
              "    </tr>\n",
              "    <tr>\n",
              "      <th>3</th>\n",
              "      <td>2010-01-22</td>\n",
              "      <td>765.0</td>\n",
              "      <td>3800.0</td>\n",
              "    </tr>\n",
              "    <tr>\n",
              "      <th>4</th>\n",
              "      <td>2010-01-29</td>\n",
              "      <td>740.0</td>\n",
              "      <td>3700.0</td>\n",
              "    </tr>\n",
              "  </tbody>\n",
              "</table>\n",
              "</div>"
            ],
            "text/plain": [
              "         Date   bbri    pgas\n",
              "0  2010-01-01  765.0  4000.0\n",
              "1  2010-01-08  785.0  3850.0\n",
              "2  2010-01-15  790.0  3750.0\n",
              "3  2010-01-22  765.0  3800.0\n",
              "4  2010-01-29  740.0  3700.0"
            ]
          },
          "metadata": {
            "tags": []
          },
          "execution_count": 5
        }
      ]
    },
    {
      "cell_type": "code",
      "metadata": {
        "id": "c6nwWsrrE-Yj"
      },
      "source": [
        "#splitting train and test data\n",
        "df_train2 = df2[(df2['Date'] <= '2017-01-01')]\n",
        "df_test2 = df2[(df2['Date'] > '2017-01-01')]"
      ],
      "execution_count": null,
      "outputs": []
    },
    {
      "cell_type": "code",
      "metadata": {
        "colab": {
          "base_uri": "https://localhost:8080/",
          "height": 391
        },
        "id": "19oh5s3DFEOE",
        "outputId": "9a0caa02-9502-4c71-f6be-b015db15397c"
      },
      "source": [
        "df_train2"
      ],
      "execution_count": null,
      "outputs": [
        {
          "output_type": "execute_result",
          "data": {
            "text/html": [
              "<div>\n",
              "<style scoped>\n",
              "    .dataframe tbody tr th:only-of-type {\n",
              "        vertical-align: middle;\n",
              "    }\n",
              "\n",
              "    .dataframe tbody tr th {\n",
              "        vertical-align: top;\n",
              "    }\n",
              "\n",
              "    .dataframe thead th {\n",
              "        text-align: right;\n",
              "    }\n",
              "</style>\n",
              "<table border=\"1\" class=\"dataframe\">\n",
              "  <thead>\n",
              "    <tr style=\"text-align: right;\">\n",
              "      <th></th>\n",
              "      <th>Date</th>\n",
              "      <th>bbri</th>\n",
              "      <th>pgas</th>\n",
              "    </tr>\n",
              "  </thead>\n",
              "  <tbody>\n",
              "    <tr>\n",
              "      <th>0</th>\n",
              "      <td>2010-01-01</td>\n",
              "      <td>765.0</td>\n",
              "      <td>4000.0</td>\n",
              "    </tr>\n",
              "    <tr>\n",
              "      <th>1</th>\n",
              "      <td>2010-01-08</td>\n",
              "      <td>785.0</td>\n",
              "      <td>3850.0</td>\n",
              "    </tr>\n",
              "    <tr>\n",
              "      <th>2</th>\n",
              "      <td>2010-01-15</td>\n",
              "      <td>790.0</td>\n",
              "      <td>3750.0</td>\n",
              "    </tr>\n",
              "    <tr>\n",
              "      <th>3</th>\n",
              "      <td>2010-01-22</td>\n",
              "      <td>765.0</td>\n",
              "      <td>3800.0</td>\n",
              "    </tr>\n",
              "    <tr>\n",
              "      <th>4</th>\n",
              "      <td>2010-01-29</td>\n",
              "      <td>740.0</td>\n",
              "      <td>3700.0</td>\n",
              "    </tr>\n",
              "    <tr>\n",
              "      <th>...</th>\n",
              "      <td>...</td>\n",
              "      <td>...</td>\n",
              "      <td>...</td>\n",
              "    </tr>\n",
              "    <tr>\n",
              "      <th>361</th>\n",
              "      <td>2016-12-02</td>\n",
              "      <td>2300.0</td>\n",
              "      <td>2840.0</td>\n",
              "    </tr>\n",
              "    <tr>\n",
              "      <th>362</th>\n",
              "      <td>2016-12-09</td>\n",
              "      <td>2280.0</td>\n",
              "      <td>2800.0</td>\n",
              "    </tr>\n",
              "    <tr>\n",
              "      <th>363</th>\n",
              "      <td>2016-12-16</td>\n",
              "      <td>2175.0</td>\n",
              "      <td>2480.0</td>\n",
              "    </tr>\n",
              "    <tr>\n",
              "      <th>364</th>\n",
              "      <td>2016-12-23</td>\n",
              "      <td>2330.0</td>\n",
              "      <td>2760.0</td>\n",
              "    </tr>\n",
              "    <tr>\n",
              "      <th>365</th>\n",
              "      <td>2016-12-30</td>\n",
              "      <td>2420.0</td>\n",
              "      <td>2860.0</td>\n",
              "    </tr>\n",
              "  </tbody>\n",
              "</table>\n",
              "<p>366 rows × 3 columns</p>\n",
              "</div>"
            ],
            "text/plain": [
              "           Date    bbri    pgas\n",
              "0    2010-01-01   765.0  4000.0\n",
              "1    2010-01-08   785.0  3850.0\n",
              "2    2010-01-15   790.0  3750.0\n",
              "3    2010-01-22   765.0  3800.0\n",
              "4    2010-01-29   740.0  3700.0\n",
              "..          ...     ...     ...\n",
              "361  2016-12-02  2300.0  2840.0\n",
              "362  2016-12-09  2280.0  2800.0\n",
              "363  2016-12-16  2175.0  2480.0\n",
              "364  2016-12-23  2330.0  2760.0\n",
              "365  2016-12-30  2420.0  2860.0\n",
              "\n",
              "[366 rows x 3 columns]"
            ]
          },
          "metadata": {
            "tags": []
          },
          "execution_count": 7
        }
      ]
    },
    {
      "cell_type": "code",
      "metadata": {
        "colab": {
          "base_uri": "https://localhost:8080/",
          "height": 391
        },
        "id": "7Hqm0qAzFIOD",
        "outputId": "d55fc64b-b5dc-4deb-dec0-10c2dd775ba4"
      },
      "source": [
        "df_test2\n"
      ],
      "execution_count": null,
      "outputs": [
        {
          "output_type": "execute_result",
          "data": {
            "text/html": [
              "<div>\n",
              "<style scoped>\n",
              "    .dataframe tbody tr th:only-of-type {\n",
              "        vertical-align: middle;\n",
              "    }\n",
              "\n",
              "    .dataframe tbody tr th {\n",
              "        vertical-align: top;\n",
              "    }\n",
              "\n",
              "    .dataframe thead th {\n",
              "        text-align: right;\n",
              "    }\n",
              "</style>\n",
              "<table border=\"1\" class=\"dataframe\">\n",
              "  <thead>\n",
              "    <tr style=\"text-align: right;\">\n",
              "      <th></th>\n",
              "      <th>Date</th>\n",
              "      <th>bbri</th>\n",
              "      <th>pgas</th>\n",
              "    </tr>\n",
              "  </thead>\n",
              "  <tbody>\n",
              "    <tr>\n",
              "      <th>366</th>\n",
              "      <td>2017-01-06</td>\n",
              "      <td>2375.0</td>\n",
              "      <td>2730.0</td>\n",
              "    </tr>\n",
              "    <tr>\n",
              "      <th>367</th>\n",
              "      <td>2017-01-13</td>\n",
              "      <td>2400.0</td>\n",
              "      <td>2720.0</td>\n",
              "    </tr>\n",
              "    <tr>\n",
              "      <th>368</th>\n",
              "      <td>2017-01-20</td>\n",
              "      <td>2350.0</td>\n",
              "      <td>2730.0</td>\n",
              "    </tr>\n",
              "    <tr>\n",
              "      <th>369</th>\n",
              "      <td>2017-01-27</td>\n",
              "      <td>2395.0</td>\n",
              "      <td>2870.0</td>\n",
              "    </tr>\n",
              "    <tr>\n",
              "      <th>370</th>\n",
              "      <td>2017-02-03</td>\n",
              "      <td>2395.0</td>\n",
              "      <td>2810.0</td>\n",
              "    </tr>\n",
              "    <tr>\n",
              "      <th>...</th>\n",
              "      <td>...</td>\n",
              "      <td>...</td>\n",
              "      <td>...</td>\n",
              "    </tr>\n",
              "    <tr>\n",
              "      <th>518</th>\n",
              "      <td>2019-12-06</td>\n",
              "      <td>4250.0</td>\n",
              "      <td>2110.0</td>\n",
              "    </tr>\n",
              "    <tr>\n",
              "      <th>519</th>\n",
              "      <td>2019-12-13</td>\n",
              "      <td>4350.0</td>\n",
              "      <td>2160.0</td>\n",
              "    </tr>\n",
              "    <tr>\n",
              "      <th>520</th>\n",
              "      <td>2019-12-20</td>\n",
              "      <td>4410.0</td>\n",
              "      <td>2190.0</td>\n",
              "    </tr>\n",
              "    <tr>\n",
              "      <th>521</th>\n",
              "      <td>2019-12-27</td>\n",
              "      <td>4410.0</td>\n",
              "      <td>2140.0</td>\n",
              "    </tr>\n",
              "    <tr>\n",
              "      <th>522</th>\n",
              "      <td>2020-01-03</td>\n",
              "      <td>4420.0</td>\n",
              "      <td>2160.0</td>\n",
              "    </tr>\n",
              "  </tbody>\n",
              "</table>\n",
              "<p>157 rows × 3 columns</p>\n",
              "</div>"
            ],
            "text/plain": [
              "           Date    bbri    pgas\n",
              "366  2017-01-06  2375.0  2730.0\n",
              "367  2017-01-13  2400.0  2720.0\n",
              "368  2017-01-20  2350.0  2730.0\n",
              "369  2017-01-27  2395.0  2870.0\n",
              "370  2017-02-03  2395.0  2810.0\n",
              "..          ...     ...     ...\n",
              "518  2019-12-06  4250.0  2110.0\n",
              "519  2019-12-13  4350.0  2160.0\n",
              "520  2019-12-20  4410.0  2190.0\n",
              "521  2019-12-27  4410.0  2140.0\n",
              "522  2020-01-03  4420.0  2160.0\n",
              "\n",
              "[157 rows x 3 columns]"
            ]
          },
          "metadata": {
            "tags": []
          },
          "execution_count": 8
        }
      ]
    },
    {
      "cell_type": "code",
      "metadata": {
        "colab": {
          "base_uri": "https://localhost:8080/"
        },
        "id": "CnvXgO_3FRxD",
        "outputId": "1694657b-48f4-4b54-9b19-1ef1e7cdbc55"
      },
      "source": [
        "emiten_means2 = df2.mean()\n",
        "emiten_means2"
      ],
      "execution_count": null,
      "outputs": [
        {
          "output_type": "execute_result",
          "data": {
            "text/plain": [
              "bbri    2210.248566\n",
              "pgas    3530.869981\n",
              "dtype: float64"
            ]
          },
          "metadata": {
            "tags": []
          },
          "execution_count": 9
        }
      ]
    },
    {
      "cell_type": "code",
      "metadata": {
        "colab": {
          "base_uri": "https://localhost:8080/",
          "height": 191
        },
        "id": "byPxkIr6FTXT",
        "outputId": "0890a2f5-6e19-44bb-f18a-f3a51a5a742b"
      },
      "source": [
        "#prepare dataframe percentage return \n",
        "\n",
        "df_pct_ret2 = df_train2.drop(columns=['Date']).pct_change()\n",
        "df_pct_ret2=df_pct_ret2.dropna()\n",
        "df_pct_ret2.head()"
      ],
      "execution_count": null,
      "outputs": [
        {
          "output_type": "execute_result",
          "data": {
            "text/html": [
              "<div>\n",
              "<style scoped>\n",
              "    .dataframe tbody tr th:only-of-type {\n",
              "        vertical-align: middle;\n",
              "    }\n",
              "\n",
              "    .dataframe tbody tr th {\n",
              "        vertical-align: top;\n",
              "    }\n",
              "\n",
              "    .dataframe thead th {\n",
              "        text-align: right;\n",
              "    }\n",
              "</style>\n",
              "<table border=\"1\" class=\"dataframe\">\n",
              "  <thead>\n",
              "    <tr style=\"text-align: right;\">\n",
              "      <th></th>\n",
              "      <th>bbri</th>\n",
              "      <th>pgas</th>\n",
              "    </tr>\n",
              "  </thead>\n",
              "  <tbody>\n",
              "    <tr>\n",
              "      <th>1</th>\n",
              "      <td>0.026144</td>\n",
              "      <td>-0.037500</td>\n",
              "    </tr>\n",
              "    <tr>\n",
              "      <th>2</th>\n",
              "      <td>0.006369</td>\n",
              "      <td>-0.025974</td>\n",
              "    </tr>\n",
              "    <tr>\n",
              "      <th>3</th>\n",
              "      <td>-0.031646</td>\n",
              "      <td>0.013333</td>\n",
              "    </tr>\n",
              "    <tr>\n",
              "      <th>4</th>\n",
              "      <td>-0.032680</td>\n",
              "      <td>-0.026316</td>\n",
              "    </tr>\n",
              "    <tr>\n",
              "      <th>5</th>\n",
              "      <td>-0.013514</td>\n",
              "      <td>-0.020270</td>\n",
              "    </tr>\n",
              "  </tbody>\n",
              "</table>\n",
              "</div>"
            ],
            "text/plain": [
              "       bbri      pgas\n",
              "1  0.026144 -0.037500\n",
              "2  0.006369 -0.025974\n",
              "3 -0.031646  0.013333\n",
              "4 -0.032680 -0.026316\n",
              "5 -0.013514 -0.020270"
            ]
          },
          "metadata": {
            "tags": []
          },
          "execution_count": 10
        }
      ]
    },
    {
      "cell_type": "code",
      "metadata": {
        "colab": {
          "base_uri": "https://localhost:8080/"
        },
        "id": "tvq7LGKcFczF",
        "outputId": "c5f0fbb7-cf22-44c2-8460-a937bd2b9a64"
      },
      "source": [
        "import numpy as np\n",
        "R2=np.array(df_pct_ret2)\n",
        "print(R2.shape)"
      ],
      "execution_count": null,
      "outputs": [
        {
          "output_type": "stream",
          "text": [
            "(365, 2)\n"
          ],
          "name": "stdout"
        }
      ]
    },
    {
      "cell_type": "code",
      "metadata": {
        "colab": {
          "base_uri": "https://localhost:8080/"
        },
        "id": "OOFSWKeXFegT",
        "outputId": "ef9b36b2-73d5-4569-f9b7-a618d6e8cdd7"
      },
      "source": [
        "emiten_pct_ret_means2 = df_pct_ret2.mean()\n",
        "emiten_pct_ret_means2"
      ],
      "execution_count": null,
      "outputs": [
        {
          "output_type": "execute_result",
          "data": {
            "text/plain": [
              "bbri    0.004238\n",
              "pgas    0.000255\n",
              "dtype: float64"
            ]
          },
          "metadata": {
            "tags": []
          },
          "execution_count": 12
        }
      ]
    },
    {
      "cell_type": "code",
      "metadata": {
        "colab": {
          "base_uri": "https://localhost:8080/"
        },
        "id": "eKFD4K7BFhG0",
        "outputId": "54491682-d16b-41ef-e991-67694940e5a7"
      },
      "source": [
        "myu2 = np.matrix(emiten_pct_ret_means2.values).T\n",
        "myu2\n",
        "\n"
      ],
      "execution_count": null,
      "outputs": [
        {
          "output_type": "execute_result",
          "data": {
            "text/plain": [
              "matrix([[0.00423764],\n",
              "        [0.00025489]])"
            ]
          },
          "metadata": {
            "tags": []
          },
          "execution_count": 13
        }
      ]
    },
    {
      "cell_type": "code",
      "metadata": {
        "colab": {
          "base_uri": "https://localhost:8080/"
        },
        "id": "DowyYXQiFi-L",
        "outputId": "5df2cf5a-98bf-4a4b-9265-4343f42ca72a"
      },
      "source": [
        "#set nilai tho dan rho\n",
        "tho = 0.01\n",
        "rho = 0.0002;\n",
        "print(rho)"
      ],
      "execution_count": null,
      "outputs": [
        {
          "output_type": "stream",
          "text": [
            "0.0002\n"
          ],
          "name": "stdout"
        }
      ]
    },
    {
      "cell_type": "code",
      "metadata": {
        "colab": {
          "base_uri": "https://localhost:8080/"
        },
        "id": "rZ_1k-1tFvFT",
        "outputId": "d5f700a6-ee47-493b-d3b5-d48d01da9907"
      },
      "source": [
        "#jumlah data\n",
        "n=R2.shape[0]\n",
        "n"
      ],
      "execution_count": null,
      "outputs": [
        {
          "output_type": "execute_result",
          "data": {
            "text/plain": [
              "365"
            ]
          },
          "metadata": {
            "tags": []
          },
          "execution_count": 15
        }
      ]
    },
    {
      "cell_type": "code",
      "metadata": {
        "colab": {
          "base_uri": "https://localhost:8080/"
        },
        "id": "mbnyUGzrF8r7",
        "outputId": "825418c2-792c-42f2-d0c5-6f174786e2be"
      },
      "source": [
        "import cvxpy as cp\n",
        "import numpy as np\n",
        "import math as mt\n",
        "\n",
        "# Generate a random feasible SOCP.\n",
        "P = np.array([[0.0001], [0.00009]]).T\n",
        "\n",
        "ns = R2.shape[1]\n",
        "m12 = np.ones((n,1), dtype=np.int64)\n",
        "m12 = np.matrix(m12).T\n",
        "w0 = np.random.randn(n)\n",
        "\n",
        "\n",
        "# Define and solve the CVXPY problem.\n",
        "w = cp.Variable(ns)\n",
        "contraints = [\n",
        "      cp.SOC(w.T @ myu2 - rho, P * w), #first constrraint, SOC constraint\n",
        "      cp.sum(w) == 1,\n",
        "      \n",
        "]\n",
        "\n",
        "obj = cp.Minimize(cp.sum_squares(cp.reshape(rho*m12.T, (n,)) - R2*w) + tho*cp.sum(cp.abs(w)))\n",
        "\n",
        "prob = cp.Problem(obj,contraints)\n",
        "prob.solve()\n",
        "\n",
        "# Print result.\n",
        "print(\"The optimal value is\", prob.value)\n",
        "print(\"Solution for w is\")\n",
        "print(w.value)\n",
        "#print(\"SOC constraint dual variable solution\")\n",
        "#print(contraints[0].dual_value)"
      ],
      "execution_count": null,
      "outputs": [
        {
          "output_type": "stream",
          "text": [
            "The optimal value is 0.5633056848003961\n",
            "Solution for w is\n",
            "[0.5338137 0.4661863]\n"
          ],
          "name": "stdout"
        }
      ]
    },
    {
      "cell_type": "code",
      "metadata": {
        "colab": {
          "base_uri": "https://localhost:8080/"
        },
        "id": "pmSd1djoGNDU",
        "outputId": "4a857241-1d01-47f7-c4e0-2235b5c6007f"
      },
      "source": [
        "#first constraint manual validation\n",
        "print(rho) #rho\n",
        "print(w.value.T@myu2 - np.linalg.norm(P*w.value)) \n",
        "print(w.value.T@myu2 - np.linalg.norm(P*w.value)>= rho) #value of first constraint\n",
        "(P*w.value)\n",
        "print(cp.sum(cp.abs(w.value).value))"
      ],
      "execution_count": null,
      "outputs": [
        {
          "output_type": "stream",
          "text": [
            "0.0002\n",
            "[[0.00231304]]\n",
            "[[ True]]\n",
            "Sum([0.5338137 0.4661863], None, False)\n"
          ],
          "name": "stdout"
        }
      ]
    },
    {
      "cell_type": "code",
      "metadata": {
        "colab": {
          "base_uri": "https://localhost:8080/",
          "height": 391
        },
        "id": "AxpWusyRGVNi",
        "outputId": "a93b035d-3cbb-4eef-9627-e3ae9db8d9f9"
      },
      "source": [
        "df_pct_ret_test2=df_test2.drop(columns=['Date']).pct_change()\n",
        "df_pct_ret_test2=df_pct_ret_test2.dropna()\n",
        "df_pct_ret_test2"
      ],
      "execution_count": null,
      "outputs": [
        {
          "output_type": "execute_result",
          "data": {
            "text/html": [
              "<div>\n",
              "<style scoped>\n",
              "    .dataframe tbody tr th:only-of-type {\n",
              "        vertical-align: middle;\n",
              "    }\n",
              "\n",
              "    .dataframe tbody tr th {\n",
              "        vertical-align: top;\n",
              "    }\n",
              "\n",
              "    .dataframe thead th {\n",
              "        text-align: right;\n",
              "    }\n",
              "</style>\n",
              "<table border=\"1\" class=\"dataframe\">\n",
              "  <thead>\n",
              "    <tr style=\"text-align: right;\">\n",
              "      <th></th>\n",
              "      <th>bbri</th>\n",
              "      <th>pgas</th>\n",
              "    </tr>\n",
              "  </thead>\n",
              "  <tbody>\n",
              "    <tr>\n",
              "      <th>367</th>\n",
              "      <td>0.010526</td>\n",
              "      <td>-0.003663</td>\n",
              "    </tr>\n",
              "    <tr>\n",
              "      <th>368</th>\n",
              "      <td>-0.020833</td>\n",
              "      <td>0.003676</td>\n",
              "    </tr>\n",
              "    <tr>\n",
              "      <th>369</th>\n",
              "      <td>0.019149</td>\n",
              "      <td>0.051282</td>\n",
              "    </tr>\n",
              "    <tr>\n",
              "      <th>370</th>\n",
              "      <td>0.000000</td>\n",
              "      <td>-0.020906</td>\n",
              "    </tr>\n",
              "    <tr>\n",
              "      <th>371</th>\n",
              "      <td>0.002088</td>\n",
              "      <td>0.007117</td>\n",
              "    </tr>\n",
              "    <tr>\n",
              "      <th>...</th>\n",
              "      <td>...</td>\n",
              "      <td>...</td>\n",
              "    </tr>\n",
              "    <tr>\n",
              "      <th>518</th>\n",
              "      <td>0.007109</td>\n",
              "      <td>-0.040909</td>\n",
              "    </tr>\n",
              "    <tr>\n",
              "      <th>519</th>\n",
              "      <td>0.023529</td>\n",
              "      <td>0.023697</td>\n",
              "    </tr>\n",
              "    <tr>\n",
              "      <th>520</th>\n",
              "      <td>0.013793</td>\n",
              "      <td>0.013889</td>\n",
              "    </tr>\n",
              "    <tr>\n",
              "      <th>521</th>\n",
              "      <td>0.000000</td>\n",
              "      <td>-0.022831</td>\n",
              "    </tr>\n",
              "    <tr>\n",
              "      <th>522</th>\n",
              "      <td>0.002268</td>\n",
              "      <td>0.009346</td>\n",
              "    </tr>\n",
              "  </tbody>\n",
              "</table>\n",
              "<p>156 rows × 2 columns</p>\n",
              "</div>"
            ],
            "text/plain": [
              "         bbri      pgas\n",
              "367  0.010526 -0.003663\n",
              "368 -0.020833  0.003676\n",
              "369  0.019149  0.051282\n",
              "370  0.000000 -0.020906\n",
              "371  0.002088  0.007117\n",
              "..        ...       ...\n",
              "518  0.007109 -0.040909\n",
              "519  0.023529  0.023697\n",
              "520  0.013793  0.013889\n",
              "521  0.000000 -0.022831\n",
              "522  0.002268  0.009346\n",
              "\n",
              "[156 rows x 2 columns]"
            ]
          },
          "metadata": {
            "tags": []
          },
          "execution_count": 18
        }
      ]
    },
    {
      "cell_type": "code",
      "metadata": {
        "colab": {
          "base_uri": "https://localhost:8080/"
        },
        "id": "wHUUJ1IEGsBR",
        "outputId": "fccc29db-9137-445e-b449-03a4346820ad"
      },
      "source": [
        "emitens2"
      ],
      "execution_count": null,
      "outputs": [
        {
          "output_type": "execute_result",
          "data": {
            "text/plain": [
              "['bbri', 'pgas']"
            ]
          },
          "metadata": {
            "tags": []
          },
          "execution_count": 19
        }
      ]
    },
    {
      "cell_type": "code",
      "metadata": {
        "colab": {
          "base_uri": "https://localhost:8080/",
          "height": 391
        },
        "id": "jEbAwCcIGtjN",
        "outputId": "bb6094df-d364-49cc-c501-c059e9d88331"
      },
      "source": [
        "df_pct_weekly_return2 = pd.DataFrame()\n",
        "i=0\n",
        "for emiten in emitens2:\n",
        "  df_pct_weekly_return2[emiten]=w.value[i]*df_pct_ret_test2[emiten]\n",
        "  i+=1\n",
        "\n",
        "df_pct_weekly_return2"
      ],
      "execution_count": null,
      "outputs": [
        {
          "output_type": "execute_result",
          "data": {
            "text/html": [
              "<div>\n",
              "<style scoped>\n",
              "    .dataframe tbody tr th:only-of-type {\n",
              "        vertical-align: middle;\n",
              "    }\n",
              "\n",
              "    .dataframe tbody tr th {\n",
              "        vertical-align: top;\n",
              "    }\n",
              "\n",
              "    .dataframe thead th {\n",
              "        text-align: right;\n",
              "    }\n",
              "</style>\n",
              "<table border=\"1\" class=\"dataframe\">\n",
              "  <thead>\n",
              "    <tr style=\"text-align: right;\">\n",
              "      <th></th>\n",
              "      <th>bbri</th>\n",
              "      <th>pgas</th>\n",
              "    </tr>\n",
              "  </thead>\n",
              "  <tbody>\n",
              "    <tr>\n",
              "      <th>367</th>\n",
              "      <td>0.005619</td>\n",
              "      <td>-0.001708</td>\n",
              "    </tr>\n",
              "    <tr>\n",
              "      <th>368</th>\n",
              "      <td>-0.011121</td>\n",
              "      <td>0.001714</td>\n",
              "    </tr>\n",
              "    <tr>\n",
              "      <th>369</th>\n",
              "      <td>0.010222</td>\n",
              "      <td>0.023907</td>\n",
              "    </tr>\n",
              "    <tr>\n",
              "      <th>370</th>\n",
              "      <td>0.000000</td>\n",
              "      <td>-0.009746</td>\n",
              "    </tr>\n",
              "    <tr>\n",
              "      <th>371</th>\n",
              "      <td>0.001114</td>\n",
              "      <td>0.003318</td>\n",
              "    </tr>\n",
              "    <tr>\n",
              "      <th>...</th>\n",
              "      <td>...</td>\n",
              "      <td>...</td>\n",
              "    </tr>\n",
              "    <tr>\n",
              "      <th>518</th>\n",
              "      <td>0.003795</td>\n",
              "      <td>-0.019071</td>\n",
              "    </tr>\n",
              "    <tr>\n",
              "      <th>519</th>\n",
              "      <td>0.012560</td>\n",
              "      <td>0.011047</td>\n",
              "    </tr>\n",
              "    <tr>\n",
              "      <th>520</th>\n",
              "      <td>0.007363</td>\n",
              "      <td>0.006475</td>\n",
              "    </tr>\n",
              "    <tr>\n",
              "      <th>521</th>\n",
              "      <td>0.000000</td>\n",
              "      <td>-0.010644</td>\n",
              "    </tr>\n",
              "    <tr>\n",
              "      <th>522</th>\n",
              "      <td>0.001210</td>\n",
              "      <td>0.004357</td>\n",
              "    </tr>\n",
              "  </tbody>\n",
              "</table>\n",
              "<p>156 rows × 2 columns</p>\n",
              "</div>"
            ],
            "text/plain": [
              "         bbri      pgas\n",
              "367  0.005619 -0.001708\n",
              "368 -0.011121  0.001714\n",
              "369  0.010222  0.023907\n",
              "370  0.000000 -0.009746\n",
              "371  0.001114  0.003318\n",
              "..        ...       ...\n",
              "518  0.003795 -0.019071\n",
              "519  0.012560  0.011047\n",
              "520  0.007363  0.006475\n",
              "521  0.000000 -0.010644\n",
              "522  0.001210  0.004357\n",
              "\n",
              "[156 rows x 2 columns]"
            ]
          },
          "metadata": {
            "tags": []
          },
          "execution_count": 20
        }
      ]
    },
    {
      "cell_type": "code",
      "metadata": {
        "colab": {
          "base_uri": "https://localhost:8080/",
          "height": 391
        },
        "id": "cGwtzJcQGvtL",
        "outputId": "afd383c8-4739-4516-fda6-bd6c8fa859aa"
      },
      "source": [
        "price_data2 = df_test2.drop(columns=['Date'])\n",
        "price_data2"
      ],
      "execution_count": null,
      "outputs": [
        {
          "output_type": "execute_result",
          "data": {
            "text/html": [
              "<div>\n",
              "<style scoped>\n",
              "    .dataframe tbody tr th:only-of-type {\n",
              "        vertical-align: middle;\n",
              "    }\n",
              "\n",
              "    .dataframe tbody tr th {\n",
              "        vertical-align: top;\n",
              "    }\n",
              "\n",
              "    .dataframe thead th {\n",
              "        text-align: right;\n",
              "    }\n",
              "</style>\n",
              "<table border=\"1\" class=\"dataframe\">\n",
              "  <thead>\n",
              "    <tr style=\"text-align: right;\">\n",
              "      <th></th>\n",
              "      <th>bbri</th>\n",
              "      <th>pgas</th>\n",
              "    </tr>\n",
              "  </thead>\n",
              "  <tbody>\n",
              "    <tr>\n",
              "      <th>366</th>\n",
              "      <td>2375.0</td>\n",
              "      <td>2730.0</td>\n",
              "    </tr>\n",
              "    <tr>\n",
              "      <th>367</th>\n",
              "      <td>2400.0</td>\n",
              "      <td>2720.0</td>\n",
              "    </tr>\n",
              "    <tr>\n",
              "      <th>368</th>\n",
              "      <td>2350.0</td>\n",
              "      <td>2730.0</td>\n",
              "    </tr>\n",
              "    <tr>\n",
              "      <th>369</th>\n",
              "      <td>2395.0</td>\n",
              "      <td>2870.0</td>\n",
              "    </tr>\n",
              "    <tr>\n",
              "      <th>370</th>\n",
              "      <td>2395.0</td>\n",
              "      <td>2810.0</td>\n",
              "    </tr>\n",
              "    <tr>\n",
              "      <th>...</th>\n",
              "      <td>...</td>\n",
              "      <td>...</td>\n",
              "    </tr>\n",
              "    <tr>\n",
              "      <th>518</th>\n",
              "      <td>4250.0</td>\n",
              "      <td>2110.0</td>\n",
              "    </tr>\n",
              "    <tr>\n",
              "      <th>519</th>\n",
              "      <td>4350.0</td>\n",
              "      <td>2160.0</td>\n",
              "    </tr>\n",
              "    <tr>\n",
              "      <th>520</th>\n",
              "      <td>4410.0</td>\n",
              "      <td>2190.0</td>\n",
              "    </tr>\n",
              "    <tr>\n",
              "      <th>521</th>\n",
              "      <td>4410.0</td>\n",
              "      <td>2140.0</td>\n",
              "    </tr>\n",
              "    <tr>\n",
              "      <th>522</th>\n",
              "      <td>4420.0</td>\n",
              "      <td>2160.0</td>\n",
              "    </tr>\n",
              "  </tbody>\n",
              "</table>\n",
              "<p>157 rows × 2 columns</p>\n",
              "</div>"
            ],
            "text/plain": [
              "       bbri    pgas\n",
              "366  2375.0  2730.0\n",
              "367  2400.0  2720.0\n",
              "368  2350.0  2730.0\n",
              "369  2395.0  2870.0\n",
              "370  2395.0  2810.0\n",
              "..      ...     ...\n",
              "518  4250.0  2110.0\n",
              "519  4350.0  2160.0\n",
              "520  4410.0  2190.0\n",
              "521  4410.0  2140.0\n",
              "522  4420.0  2160.0\n",
              "\n",
              "[157 rows x 2 columns]"
            ]
          },
          "metadata": {
            "tags": []
          },
          "execution_count": 21
        }
      ]
    },
    {
      "cell_type": "code",
      "metadata": {
        "colab": {
          "base_uri": "https://localhost:8080/",
          "height": 391
        },
        "id": "Ejg66oFjGytC",
        "outputId": "5a3fbc63-76b1-4b2b-a4b2-0111484f249d"
      },
      "source": [
        "ret_data2 = price_data2.pct_change()[1:]\n",
        "ret_data2"
      ],
      "execution_count": null,
      "outputs": [
        {
          "output_type": "execute_result",
          "data": {
            "text/html": [
              "<div>\n",
              "<style scoped>\n",
              "    .dataframe tbody tr th:only-of-type {\n",
              "        vertical-align: middle;\n",
              "    }\n",
              "\n",
              "    .dataframe tbody tr th {\n",
              "        vertical-align: top;\n",
              "    }\n",
              "\n",
              "    .dataframe thead th {\n",
              "        text-align: right;\n",
              "    }\n",
              "</style>\n",
              "<table border=\"1\" class=\"dataframe\">\n",
              "  <thead>\n",
              "    <tr style=\"text-align: right;\">\n",
              "      <th></th>\n",
              "      <th>bbri</th>\n",
              "      <th>pgas</th>\n",
              "    </tr>\n",
              "  </thead>\n",
              "  <tbody>\n",
              "    <tr>\n",
              "      <th>367</th>\n",
              "      <td>0.010526</td>\n",
              "      <td>-0.003663</td>\n",
              "    </tr>\n",
              "    <tr>\n",
              "      <th>368</th>\n",
              "      <td>-0.020833</td>\n",
              "      <td>0.003676</td>\n",
              "    </tr>\n",
              "    <tr>\n",
              "      <th>369</th>\n",
              "      <td>0.019149</td>\n",
              "      <td>0.051282</td>\n",
              "    </tr>\n",
              "    <tr>\n",
              "      <th>370</th>\n",
              "      <td>0.000000</td>\n",
              "      <td>-0.020906</td>\n",
              "    </tr>\n",
              "    <tr>\n",
              "      <th>371</th>\n",
              "      <td>0.002088</td>\n",
              "      <td>0.007117</td>\n",
              "    </tr>\n",
              "    <tr>\n",
              "      <th>...</th>\n",
              "      <td>...</td>\n",
              "      <td>...</td>\n",
              "    </tr>\n",
              "    <tr>\n",
              "      <th>518</th>\n",
              "      <td>0.007109</td>\n",
              "      <td>-0.040909</td>\n",
              "    </tr>\n",
              "    <tr>\n",
              "      <th>519</th>\n",
              "      <td>0.023529</td>\n",
              "      <td>0.023697</td>\n",
              "    </tr>\n",
              "    <tr>\n",
              "      <th>520</th>\n",
              "      <td>0.013793</td>\n",
              "      <td>0.013889</td>\n",
              "    </tr>\n",
              "    <tr>\n",
              "      <th>521</th>\n",
              "      <td>0.000000</td>\n",
              "      <td>-0.022831</td>\n",
              "    </tr>\n",
              "    <tr>\n",
              "      <th>522</th>\n",
              "      <td>0.002268</td>\n",
              "      <td>0.009346</td>\n",
              "    </tr>\n",
              "  </tbody>\n",
              "</table>\n",
              "<p>156 rows × 2 columns</p>\n",
              "</div>"
            ],
            "text/plain": [
              "         bbri      pgas\n",
              "367  0.010526 -0.003663\n",
              "368 -0.020833  0.003676\n",
              "369  0.019149  0.051282\n",
              "370  0.000000 -0.020906\n",
              "371  0.002088  0.007117\n",
              "..        ...       ...\n",
              "518  0.007109 -0.040909\n",
              "519  0.023529  0.023697\n",
              "520  0.013793  0.013889\n",
              "521  0.000000 -0.022831\n",
              "522  0.002268  0.009346\n",
              "\n",
              "[156 rows x 2 columns]"
            ]
          },
          "metadata": {
            "tags": []
          },
          "execution_count": 22
        }
      ]
    },
    {
      "cell_type": "code",
      "metadata": {
        "colab": {
          "base_uri": "https://localhost:8080/",
          "height": 391
        },
        "id": "sxWZHMmCG0Oq",
        "outputId": "3d463385-0a03-4754-aabd-74d2d4daa068"
      },
      "source": [
        "weighted_returns2 = (w.value.reshape(2) * ret_data2)\n",
        "weighted_returns2"
      ],
      "execution_count": null,
      "outputs": [
        {
          "output_type": "execute_result",
          "data": {
            "text/html": [
              "<div>\n",
              "<style scoped>\n",
              "    .dataframe tbody tr th:only-of-type {\n",
              "        vertical-align: middle;\n",
              "    }\n",
              "\n",
              "    .dataframe tbody tr th {\n",
              "        vertical-align: top;\n",
              "    }\n",
              "\n",
              "    .dataframe thead th {\n",
              "        text-align: right;\n",
              "    }\n",
              "</style>\n",
              "<table border=\"1\" class=\"dataframe\">\n",
              "  <thead>\n",
              "    <tr style=\"text-align: right;\">\n",
              "      <th></th>\n",
              "      <th>bbri</th>\n",
              "      <th>pgas</th>\n",
              "    </tr>\n",
              "  </thead>\n",
              "  <tbody>\n",
              "    <tr>\n",
              "      <th>367</th>\n",
              "      <td>0.005619</td>\n",
              "      <td>-0.001708</td>\n",
              "    </tr>\n",
              "    <tr>\n",
              "      <th>368</th>\n",
              "      <td>-0.011121</td>\n",
              "      <td>0.001714</td>\n",
              "    </tr>\n",
              "    <tr>\n",
              "      <th>369</th>\n",
              "      <td>0.010222</td>\n",
              "      <td>0.023907</td>\n",
              "    </tr>\n",
              "    <tr>\n",
              "      <th>370</th>\n",
              "      <td>0.000000</td>\n",
              "      <td>-0.009746</td>\n",
              "    </tr>\n",
              "    <tr>\n",
              "      <th>371</th>\n",
              "      <td>0.001114</td>\n",
              "      <td>0.003318</td>\n",
              "    </tr>\n",
              "    <tr>\n",
              "      <th>...</th>\n",
              "      <td>...</td>\n",
              "      <td>...</td>\n",
              "    </tr>\n",
              "    <tr>\n",
              "      <th>518</th>\n",
              "      <td>0.003795</td>\n",
              "      <td>-0.019071</td>\n",
              "    </tr>\n",
              "    <tr>\n",
              "      <th>519</th>\n",
              "      <td>0.012560</td>\n",
              "      <td>0.011047</td>\n",
              "    </tr>\n",
              "    <tr>\n",
              "      <th>520</th>\n",
              "      <td>0.007363</td>\n",
              "      <td>0.006475</td>\n",
              "    </tr>\n",
              "    <tr>\n",
              "      <th>521</th>\n",
              "      <td>0.000000</td>\n",
              "      <td>-0.010644</td>\n",
              "    </tr>\n",
              "    <tr>\n",
              "      <th>522</th>\n",
              "      <td>0.001210</td>\n",
              "      <td>0.004357</td>\n",
              "    </tr>\n",
              "  </tbody>\n",
              "</table>\n",
              "<p>156 rows × 2 columns</p>\n",
              "</div>"
            ],
            "text/plain": [
              "         bbri      pgas\n",
              "367  0.005619 -0.001708\n",
              "368 -0.011121  0.001714\n",
              "369  0.010222  0.023907\n",
              "370  0.000000 -0.009746\n",
              "371  0.001114  0.003318\n",
              "..        ...       ...\n",
              "518  0.003795 -0.019071\n",
              "519  0.012560  0.011047\n",
              "520  0.007363  0.006475\n",
              "521  0.000000 -0.010644\n",
              "522  0.001210  0.004357\n",
              "\n",
              "[156 rows x 2 columns]"
            ]
          },
          "metadata": {
            "tags": []
          },
          "execution_count": 23
        }
      ]
    },
    {
      "cell_type": "code",
      "metadata": {
        "colab": {
          "base_uri": "https://localhost:8080/"
        },
        "id": "kHJtOjulG1t7",
        "outputId": "dce2994d-a22d-40f6-c923-55ac93986077"
      },
      "source": [
        "port_ret21 = weighted_returns2.sum(axis=1)\n",
        "port_ret21"
      ],
      "execution_count": null,
      "outputs": [
        {
          "output_type": "execute_result",
          "data": {
            "text/plain": [
              "367    0.003911\n",
              "368   -0.009407\n",
              "369    0.034129\n",
              "370   -0.009746\n",
              "371    0.004432\n",
              "         ...   \n",
              "518   -0.015276\n",
              "519    0.023607\n",
              "520    0.013838\n",
              "521   -0.010644\n",
              "522    0.005567\n",
              "Length: 156, dtype: float64"
            ]
          },
          "metadata": {
            "tags": []
          },
          "execution_count": 24
        }
      ]
    },
    {
      "cell_type": "code",
      "metadata": {
        "id": "4l8wKHY-G5CK"
      },
      "source": [
        "port_ret21.to_csv('port_ret21.csv')\n",
        "!cp port_ret21.csv \"/content/drive/My Drive/PYTHON/port_ret\""
      ],
      "execution_count": null,
      "outputs": []
    },
    {
      "cell_type": "code",
      "metadata": {
        "colab": {
          "base_uri": "https://localhost:8080/"
        },
        "id": "9ek2H0SFG4Pa",
        "outputId": "db85d2d6-0b97-4f81-86b3-5e6d0804e8fd"
      },
      "source": [
        "print('Max return:', max(port_ret21))\n",
        "print('Min return:', min(port_ret21))\n",
        "print('Average return:', np.mean(port_ret21))\n",
        "print('sharpe ratio :', np.mean(port_ret21)/np.std(port_ret21))\n",
        "\n",
        "\n",
        "print(np.mean(port_ret21) > rho)"
      ],
      "execution_count": null,
      "outputs": [
        {
          "output_type": "stream",
          "text": [
            "Max return: 0.11747564031184005\n",
            "Min return: -0.12183003368736164\n",
            "Average return: 0.0025132713930340464\n",
            "sharpe ratio : 0.06802633147802563\n",
            "True\n"
          ],
          "name": "stdout"
        }
      ]
    },
    {
      "cell_type": "code",
      "metadata": {
        "colab": {
          "base_uri": "https://localhost:8080/",
          "height": 307
        },
        "id": "yvPTIaNCHCk1",
        "outputId": "c11f5a99-3980-4cd4-e889-2856172fe931"
      },
      "source": [
        "import matplotlib.pyplot as plt\n",
        "\n",
        "fig = plt.figure()\n",
        "ax1 = fig.add_axes([0.1,0.1,0.8,0.8])\n",
        "ax1.hist(port_ret21, bins = 60)\n",
        "ax1.set_xlabel('Return Portofolio')\n",
        "ax1.set_ylabel(\"Jumlah\")\n",
        "ax1.set_title(\"Return Portofolio Ellipsoidal 2 emiten\")\n",
        "plt.show(); \n"
      ],
      "execution_count": null,
      "outputs": [
        {
          "output_type": "display_data",
          "data": {
            "image/png": "[encoded data removed]",
            "text/plain": [
              "<Figure size 432x288 with 1 Axes>"
            ]
          },
          "metadata": {
            "tags": [],
            "needs_background": "light"
          }
        }
      ]
    },
    {
      "cell_type": "markdown",
      "metadata": {
        "id": "ejFmPRAq1cwk"
      },
      "source": [
        "#### Sparse Mean Variance"
      ]
    },
    {
      "cell_type": "code",
      "metadata": {
        "colab": {
          "base_uri": "https://localhost:8080/"
        },
        "id": "yQiN8dAp58I6",
        "outputId": "ef1301db-3880-4729-93d2-663d1cf5abd9"
      },
      "source": [
        "ns = R2.shape[1]\n",
        "m12 = np.ones((n,1), dtype=np.int64)\n",
        "m12 = np.matrix(m12).T\n",
        "w0 = np.random.randn(n)\n",
        "\n",
        "\n",
        "# Define and solve the CVXPY problem.\n",
        "w = cp.Variable(ns)\n",
        "contraints = [\n",
        "      w.T*myu2 == rho, \n",
        "      cp.sum(w) == 1,\n",
        "      \n",
        "]\n",
        "\n",
        "obj = cp.Minimize(cp.sum_squares(cp.reshape(rho*m12.T, (n,)) - R2*w) + tho*cp.sum(cp.abs(w)))\n",
        "\n",
        "prob = cp.Problem(obj,contraints)\n",
        "prob.solve()\n",
        "\n",
        "print(\"The optimal value is\", prob.value)\n",
        "print(\"Solution for w is\")\n",
        "print(w.value)\n",
        "print(\"SOC constraint dual variable solution\")\n",
        "print(contraints[0].dual_value)"
      ],
      "execution_count": null,
      "outputs": [
        {
          "output_type": "stream",
          "text": [
            "The optimal value is 0.8852362424239388\n",
            "Solution for w is\n",
            "[-0.0137808  1.0137808]\n",
            "SOC constraint dual variable solution\n",
            "[299.99117558]\n"
          ],
          "name": "stdout"
        }
      ]
    },
    {
      "cell_type": "code",
      "metadata": {
        "colab": {
          "base_uri": "https://localhost:8080/",
          "height": 391
        },
        "id": "2XtK22TK6bYy",
        "outputId": "369f793a-7df6-4bd7-bce9-72e9abf7bc51"
      },
      "source": [
        "df_pct_ret_test2=df_test2.drop(columns=['Date']).pct_change()\n",
        "df_pct_ret_test2=df_pct_ret_test2.dropna()\n",
        "df_pct_ret_test2"
      ],
      "execution_count": null,
      "outputs": [
        {
          "output_type": "execute_result",
          "data": {
            "text/html": [
              "<div>\n",
              "<style scoped>\n",
              "    .dataframe tbody tr th:only-of-type {\n",
              "        vertical-align: middle;\n",
              "    }\n",
              "\n",
              "    .dataframe tbody tr th {\n",
              "        vertical-align: top;\n",
              "    }\n",
              "\n",
              "    .dataframe thead th {\n",
              "        text-align: right;\n",
              "    }\n",
              "</style>\n",
              "<table border=\"1\" class=\"dataframe\">\n",
              "  <thead>\n",
              "    <tr style=\"text-align: right;\">\n",
              "      <th></th>\n",
              "      <th>bbri</th>\n",
              "      <th>pgas</th>\n",
              "    </tr>\n",
              "  </thead>\n",
              "  <tbody>\n",
              "    <tr>\n",
              "      <th>367</th>\n",
              "      <td>0.010526</td>\n",
              "      <td>-0.003663</td>\n",
              "    </tr>\n",
              "    <tr>\n",
              "      <th>368</th>\n",
              "      <td>-0.020833</td>\n",
              "      <td>0.003676</td>\n",
              "    </tr>\n",
              "    <tr>\n",
              "      <th>369</th>\n",
              "      <td>0.019149</td>\n",
              "      <td>0.051282</td>\n",
              "    </tr>\n",
              "    <tr>\n",
              "      <th>370</th>\n",
              "      <td>0.000000</td>\n",
              "      <td>-0.020906</td>\n",
              "    </tr>\n",
              "    <tr>\n",
              "      <th>371</th>\n",
              "      <td>0.002088</td>\n",
              "      <td>0.007117</td>\n",
              "    </tr>\n",
              "    <tr>\n",
              "      <th>...</th>\n",
              "      <td>...</td>\n",
              "      <td>...</td>\n",
              "    </tr>\n",
              "    <tr>\n",
              "      <th>518</th>\n",
              "      <td>0.007109</td>\n",
              "      <td>-0.040909</td>\n",
              "    </tr>\n",
              "    <tr>\n",
              "      <th>519</th>\n",
              "      <td>0.023529</td>\n",
              "      <td>0.023697</td>\n",
              "    </tr>\n",
              "    <tr>\n",
              "      <th>520</th>\n",
              "      <td>0.013793</td>\n",
              "      <td>0.013889</td>\n",
              "    </tr>\n",
              "    <tr>\n",
              "      <th>521</th>\n",
              "      <td>0.000000</td>\n",
              "      <td>-0.022831</td>\n",
              "    </tr>\n",
              "    <tr>\n",
              "      <th>522</th>\n",
              "      <td>0.002268</td>\n",
              "      <td>0.009346</td>\n",
              "    </tr>\n",
              "  </tbody>\n",
              "</table>\n",
              "<p>156 rows × 2 columns</p>\n",
              "</div>"
            ],
            "text/plain": [
              "         bbri      pgas\n",
              "367  0.010526 -0.003663\n",
              "368 -0.020833  0.003676\n",
              "369  0.019149  0.051282\n",
              "370  0.000000 -0.020906\n",
              "371  0.002088  0.007117\n",
              "..        ...       ...\n",
              "518  0.007109 -0.040909\n",
              "519  0.023529  0.023697\n",
              "520  0.013793  0.013889\n",
              "521  0.000000 -0.022831\n",
              "522  0.002268  0.009346\n",
              "\n",
              "[156 rows x 2 columns]"
            ]
          },
          "metadata": {
            "tags": []
          },
          "execution_count": 29
        }
      ]
    },
    {
      "cell_type": "code",
      "metadata": {
        "colab": {
          "base_uri": "https://localhost:8080/"
        },
        "id": "Zo-GiNwS6hZJ",
        "outputId": "48edb4bd-2e28-432d-fbf4-46b0d9f929ed"
      },
      "source": [
        "emitens2"
      ],
      "execution_count": null,
      "outputs": [
        {
          "output_type": "execute_result",
          "data": {
            "text/plain": [
              "['bbri', 'pgas']"
            ]
          },
          "metadata": {
            "tags": []
          },
          "execution_count": 30
        }
      ]
    },
    {
      "cell_type": "code",
      "metadata": {
        "colab": {
          "base_uri": "https://localhost:8080/",
          "height": 391
        },
        "id": "fJ_YOSHE6lIG",
        "outputId": "e6b99ad7-654c-4e03-ab07-cdd541a43a67"
      },
      "source": [
        "df_pct_weekly_return2 = pd.DataFrame()\n",
        "i=0\n",
        "for emiten in emitens2:\n",
        "  df_pct_weekly_return2[emiten]=w.value[i]*df_pct_ret_test2[emiten]\n",
        "  i+=1\n",
        "\n",
        "df_pct_weekly_return2"
      ],
      "execution_count": null,
      "outputs": [
        {
          "output_type": "execute_result",
          "data": {
            "text/html": [
              "<div>\n",
              "<style scoped>\n",
              "    .dataframe tbody tr th:only-of-type {\n",
              "        vertical-align: middle;\n",
              "    }\n",
              "\n",
              "    .dataframe tbody tr th {\n",
              "        vertical-align: top;\n",
              "    }\n",
              "\n",
              "    .dataframe thead th {\n",
              "        text-align: right;\n",
              "    }\n",
              "</style>\n",
              "<table border=\"1\" class=\"dataframe\">\n",
              "  <thead>\n",
              "    <tr style=\"text-align: right;\">\n",
              "      <th></th>\n",
              "      <th>bbri</th>\n",
              "      <th>pgas</th>\n",
              "    </tr>\n",
              "  </thead>\n",
              "  <tbody>\n",
              "    <tr>\n",
              "      <th>367</th>\n",
              "      <td>-0.000145</td>\n",
              "      <td>-0.003713</td>\n",
              "    </tr>\n",
              "    <tr>\n",
              "      <th>368</th>\n",
              "      <td>0.000287</td>\n",
              "      <td>0.003727</td>\n",
              "    </tr>\n",
              "    <tr>\n",
              "      <th>369</th>\n",
              "      <td>-0.000264</td>\n",
              "      <td>0.051989</td>\n",
              "    </tr>\n",
              "    <tr>\n",
              "      <th>370</th>\n",
              "      <td>-0.000000</td>\n",
              "      <td>-0.021194</td>\n",
              "    </tr>\n",
              "    <tr>\n",
              "      <th>371</th>\n",
              "      <td>-0.000029</td>\n",
              "      <td>0.007216</td>\n",
              "    </tr>\n",
              "    <tr>\n",
              "      <th>...</th>\n",
              "      <td>...</td>\n",
              "      <td>...</td>\n",
              "    </tr>\n",
              "    <tr>\n",
              "      <th>518</th>\n",
              "      <td>-0.000098</td>\n",
              "      <td>-0.041473</td>\n",
              "    </tr>\n",
              "    <tr>\n",
              "      <th>519</th>\n",
              "      <td>-0.000324</td>\n",
              "      <td>0.024023</td>\n",
              "    </tr>\n",
              "    <tr>\n",
              "      <th>520</th>\n",
              "      <td>-0.000190</td>\n",
              "      <td>0.014080</td>\n",
              "    </tr>\n",
              "    <tr>\n",
              "      <th>521</th>\n",
              "      <td>-0.000000</td>\n",
              "      <td>-0.023146</td>\n",
              "    </tr>\n",
              "    <tr>\n",
              "      <th>522</th>\n",
              "      <td>-0.000031</td>\n",
              "      <td>0.009475</td>\n",
              "    </tr>\n",
              "  </tbody>\n",
              "</table>\n",
              "<p>156 rows × 2 columns</p>\n",
              "</div>"
            ],
            "text/plain": [
              "         bbri      pgas\n",
              "367 -0.000145 -0.003713\n",
              "368  0.000287  0.003727\n",
              "369 -0.000264  0.051989\n",
              "370 -0.000000 -0.021194\n",
              "371 -0.000029  0.007216\n",
              "..        ...       ...\n",
              "518 -0.000098 -0.041473\n",
              "519 -0.000324  0.024023\n",
              "520 -0.000190  0.014080\n",
              "521 -0.000000 -0.023146\n",
              "522 -0.000031  0.009475\n",
              "\n",
              "[156 rows x 2 columns]"
            ]
          },
          "metadata": {
            "tags": []
          },
          "execution_count": 31
        }
      ]
    },
    {
      "cell_type": "code",
      "metadata": {
        "colab": {
          "base_uri": "https://localhost:8080/",
          "height": 391
        },
        "id": "yINJVXtQ6vz6",
        "outputId": "1634f526-8670-4a25-ce53-187e3c43c6a1"
      },
      "source": [
        "price_data2 = df_test2.drop(columns=['Date'])\n",
        "price_data2"
      ],
      "execution_count": null,
      "outputs": [
        {
          "output_type": "execute_result",
          "data": {
            "text/html": [
              "<div>\n",
              "<style scoped>\n",
              "    .dataframe tbody tr th:only-of-type {\n",
              "        vertical-align: middle;\n",
              "    }\n",
              "\n",
              "    .dataframe tbody tr th {\n",
              "        vertical-align: top;\n",
              "    }\n",
              "\n",
              "    .dataframe thead th {\n",
              "        text-align: right;\n",
              "    }\n",
              "</style>\n",
              "<table border=\"1\" class=\"dataframe\">\n",
              "  <thead>\n",
              "    <tr style=\"text-align: right;\">\n",
              "      <th></th>\n",
              "      <th>bbri</th>\n",
              "      <th>pgas</th>\n",
              "    </tr>\n",
              "  </thead>\n",
              "  <tbody>\n",
              "    <tr>\n",
              "      <th>366</th>\n",
              "      <td>2375.0</td>\n",
              "      <td>2730.0</td>\n",
              "    </tr>\n",
              "    <tr>\n",
              "      <th>367</th>\n",
              "      <td>2400.0</td>\n",
              "      <td>2720.0</td>\n",
              "    </tr>\n",
              "    <tr>\n",
              "      <th>368</th>\n",
              "      <td>2350.0</td>\n",
              "      <td>2730.0</td>\n",
              "    </tr>\n",
              "    <tr>\n",
              "      <th>369</th>\n",
              "      <td>2395.0</td>\n",
              "      <td>2870.0</td>\n",
              "    </tr>\n",
              "    <tr>\n",
              "      <th>370</th>\n",
              "      <td>2395.0</td>\n",
              "      <td>2810.0</td>\n",
              "    </tr>\n",
              "    <tr>\n",
              "      <th>...</th>\n",
              "      <td>...</td>\n",
              "      <td>...</td>\n",
              "    </tr>\n",
              "    <tr>\n",
              "      <th>518</th>\n",
              "      <td>4250.0</td>\n",
              "      <td>2110.0</td>\n",
              "    </tr>\n",
              "    <tr>\n",
              "      <th>519</th>\n",
              "      <td>4350.0</td>\n",
              "      <td>2160.0</td>\n",
              "    </tr>\n",
              "    <tr>\n",
              "      <th>520</th>\n",
              "      <td>4410.0</td>\n",
              "      <td>2190.0</td>\n",
              "    </tr>\n",
              "    <tr>\n",
              "      <th>521</th>\n",
              "      <td>4410.0</td>\n",
              "      <td>2140.0</td>\n",
              "    </tr>\n",
              "    <tr>\n",
              "      <th>522</th>\n",
              "      <td>4420.0</td>\n",
              "      <td>2160.0</td>\n",
              "    </tr>\n",
              "  </tbody>\n",
              "</table>\n",
              "<p>157 rows × 2 columns</p>\n",
              "</div>"
            ],
            "text/plain": [
              "       bbri    pgas\n",
              "366  2375.0  2730.0\n",
              "367  2400.0  2720.0\n",
              "368  2350.0  2730.0\n",
              "369  2395.0  2870.0\n",
              "370  2395.0  2810.0\n",
              "..      ...     ...\n",
              "518  4250.0  2110.0\n",
              "519  4350.0  2160.0\n",
              "520  4410.0  2190.0\n",
              "521  4410.0  2140.0\n",
              "522  4420.0  2160.0\n",
              "\n",
              "[157 rows x 2 columns]"
            ]
          },
          "metadata": {
            "tags": []
          },
          "execution_count": 32
        }
      ]
    },
    {
      "cell_type": "code",
      "metadata": {
        "colab": {
          "base_uri": "https://localhost:8080/",
          "height": 391
        },
        "id": "sFI2JUFh6y8q",
        "outputId": "3886e2a1-cc18-4715-b343-e4fffc912410"
      },
      "source": [
        "ret_data2 = price_data2.pct_change()[1:]\n",
        "ret_data2"
      ],
      "execution_count": null,
      "outputs": [
        {
          "output_type": "execute_result",
          "data": {
            "text/html": [
              "<div>\n",
              "<style scoped>\n",
              "    .dataframe tbody tr th:only-of-type {\n",
              "        vertical-align: middle;\n",
              "    }\n",
              "\n",
              "    .dataframe tbody tr th {\n",
              "        vertical-align: top;\n",
              "    }\n",
              "\n",
              "    .dataframe thead th {\n",
              "        text-align: right;\n",
              "    }\n",
              "</style>\n",
              "<table border=\"1\" class=\"dataframe\">\n",
              "  <thead>\n",
              "    <tr style=\"text-align: right;\">\n",
              "      <th></th>\n",
              "      <th>bbri</th>\n",
              "      <th>pgas</th>\n",
              "    </tr>\n",
              "  </thead>\n",
              "  <tbody>\n",
              "    <tr>\n",
              "      <th>367</th>\n",
              "      <td>0.010526</td>\n",
              "      <td>-0.003663</td>\n",
              "    </tr>\n",
              "    <tr>\n",
              "      <th>368</th>\n",
              "      <td>-0.020833</td>\n",
              "      <td>0.003676</td>\n",
              "    </tr>\n",
              "    <tr>\n",
              "      <th>369</th>\n",
              "      <td>0.019149</td>\n",
              "      <td>0.051282</td>\n",
              "    </tr>\n",
              "    <tr>\n",
              "      <th>370</th>\n",
              "      <td>0.000000</td>\n",
              "      <td>-0.020906</td>\n",
              "    </tr>\n",
              "    <tr>\n",
              "      <th>371</th>\n",
              "      <td>0.002088</td>\n",
              "      <td>0.007117</td>\n",
              "    </tr>\n",
              "    <tr>\n",
              "      <th>...</th>\n",
              "      <td>...</td>\n",
              "      <td>...</td>\n",
              "    </tr>\n",
              "    <tr>\n",
              "      <th>518</th>\n",
              "      <td>0.007109</td>\n",
              "      <td>-0.040909</td>\n",
              "    </tr>\n",
              "    <tr>\n",
              "      <th>519</th>\n",
              "      <td>0.023529</td>\n",
              "      <td>0.023697</td>\n",
              "    </tr>\n",
              "    <tr>\n",
              "      <th>520</th>\n",
              "      <td>0.013793</td>\n",
              "      <td>0.013889</td>\n",
              "    </tr>\n",
              "    <tr>\n",
              "      <th>521</th>\n",
              "      <td>0.000000</td>\n",
              "      <td>-0.022831</td>\n",
              "    </tr>\n",
              "    <tr>\n",
              "      <th>522</th>\n",
              "      <td>0.002268</td>\n",
              "      <td>0.009346</td>\n",
              "    </tr>\n",
              "  </tbody>\n",
              "</table>\n",
              "<p>156 rows × 2 columns</p>\n",
              "</div>"
            ],
            "text/plain": [
              "         bbri      pgas\n",
              "367  0.010526 -0.003663\n",
              "368 -0.020833  0.003676\n",
              "369  0.019149  0.051282\n",
              "370  0.000000 -0.020906\n",
              "371  0.002088  0.007117\n",
              "..        ...       ...\n",
              "518  0.007109 -0.040909\n",
              "519  0.023529  0.023697\n",
              "520  0.013793  0.013889\n",
              "521  0.000000 -0.022831\n",
              "522  0.002268  0.009346\n",
              "\n",
              "[156 rows x 2 columns]"
            ]
          },
          "metadata": {
            "tags": []
          },
          "execution_count": 33
        }
      ]
    },
    {
      "cell_type": "code",
      "metadata": {
        "colab": {
          "base_uri": "https://localhost:8080/",
          "height": 391
        },
        "id": "LMbgaGDQ6186",
        "outputId": "cc750c28-1e87-4d9f-d8ed-a7997ab11ab4"
      },
      "source": [
        "weighted_returns2 = (w.value.reshape(2) * ret_data2)\n",
        "weighted_returns2"
      ],
      "execution_count": null,
      "outputs": [
        {
          "output_type": "execute_result",
          "data": {
            "text/html": [
              "<div>\n",
              "<style scoped>\n",
              "    .dataframe tbody tr th:only-of-type {\n",
              "        vertical-align: middle;\n",
              "    }\n",
              "\n",
              "    .dataframe tbody tr th {\n",
              "        vertical-align: top;\n",
              "    }\n",
              "\n",
              "    .dataframe thead th {\n",
              "        text-align: right;\n",
              "    }\n",
              "</style>\n",
              "<table border=\"1\" class=\"dataframe\">\n",
              "  <thead>\n",
              "    <tr style=\"text-align: right;\">\n",
              "      <th></th>\n",
              "      <th>bbri</th>\n",
              "      <th>pgas</th>\n",
              "    </tr>\n",
              "  </thead>\n",
              "  <tbody>\n",
              "    <tr>\n",
              "      <th>367</th>\n",
              "      <td>-0.000145</td>\n",
              "      <td>-0.003713</td>\n",
              "    </tr>\n",
              "    <tr>\n",
              "      <th>368</th>\n",
              "      <td>0.000287</td>\n",
              "      <td>0.003727</td>\n",
              "    </tr>\n",
              "    <tr>\n",
              "      <th>369</th>\n",
              "      <td>-0.000264</td>\n",
              "      <td>0.051989</td>\n",
              "    </tr>\n",
              "    <tr>\n",
              "      <th>370</th>\n",
              "      <td>-0.000000</td>\n",
              "      <td>-0.021194</td>\n",
              "    </tr>\n",
              "    <tr>\n",
              "      <th>371</th>\n",
              "      <td>-0.000029</td>\n",
              "      <td>0.007216</td>\n",
              "    </tr>\n",
              "    <tr>\n",
              "      <th>...</th>\n",
              "      <td>...</td>\n",
              "      <td>...</td>\n",
              "    </tr>\n",
              "    <tr>\n",
              "      <th>518</th>\n",
              "      <td>-0.000098</td>\n",
              "      <td>-0.041473</td>\n",
              "    </tr>\n",
              "    <tr>\n",
              "      <th>519</th>\n",
              "      <td>-0.000324</td>\n",
              "      <td>0.024023</td>\n",
              "    </tr>\n",
              "    <tr>\n",
              "      <th>520</th>\n",
              "      <td>-0.000190</td>\n",
              "      <td>0.014080</td>\n",
              "    </tr>\n",
              "    <tr>\n",
              "      <th>521</th>\n",
              "      <td>-0.000000</td>\n",
              "      <td>-0.023146</td>\n",
              "    </tr>\n",
              "    <tr>\n",
              "      <th>522</th>\n",
              "      <td>-0.000031</td>\n",
              "      <td>0.009475</td>\n",
              "    </tr>\n",
              "  </tbody>\n",
              "</table>\n",
              "<p>156 rows × 2 columns</p>\n",
              "</div>"
            ],
            "text/plain": [
              "         bbri      pgas\n",
              "367 -0.000145 -0.003713\n",
              "368  0.000287  0.003727\n",
              "369 -0.000264  0.051989\n",
              "370 -0.000000 -0.021194\n",
              "371 -0.000029  0.007216\n",
              "..        ...       ...\n",
              "518 -0.000098 -0.041473\n",
              "519 -0.000324  0.024023\n",
              "520 -0.000190  0.014080\n",
              "521 -0.000000 -0.023146\n",
              "522 -0.000031  0.009475\n",
              "\n",
              "[156 rows x 2 columns]"
            ]
          },
          "metadata": {
            "tags": []
          },
          "execution_count": 34
        }
      ]
    },
    {
      "cell_type": "code",
      "metadata": {
        "colab": {
          "base_uri": "https://localhost:8080/"
        },
        "id": "Ff1kGY9763La",
        "outputId": "fd4cfbe1-06d6-4f14-8a27-f0a64b698890"
      },
      "source": [
        "port_ret22 = weighted_returns2.sum(axis=1)\n",
        "port_ret22"
      ],
      "execution_count": null,
      "outputs": [
        {
          "output_type": "execute_result",
          "data": {
            "text/plain": [
              "367   -0.003859\n",
              "368    0.004014\n",
              "369    0.051725\n",
              "370   -0.021194\n",
              "371    0.007187\n",
              "         ...   \n",
              "518   -0.041571\n",
              "519    0.023699\n",
              "520    0.013890\n",
              "521   -0.023146\n",
              "522    0.009443\n",
              "Length: 156, dtype: float64"
            ]
          },
          "metadata": {
            "tags": []
          },
          "execution_count": 35
        }
      ]
    },
    {
      "cell_type": "code",
      "metadata": {
        "id": "PbJ0XDtL67US"
      },
      "source": [
        "port_ret22.to_csv('port_ret22.csv')\n",
        "!cp port_ret22.csv \"/content/drive/My Drive/PYTHON/port_ret\""
      ],
      "execution_count": null,
      "outputs": []
    },
    {
      "cell_type": "code",
      "metadata": {
        "colab": {
          "base_uri": "https://localhost:8080/"
        },
        "id": "nEzKn3rS7CBB",
        "outputId": "0fc62801-9768-4641-b6cf-224659725c01"
      },
      "source": [
        "print('Max return:', max(port_ret22))\n",
        "print('Min return:', min(port_ret22))\n",
        "print('Average return:', np.mean(port_ret22))\n",
        "print('sharpe ratio :', np.mean(port_ret22)/np.std(port_ret22))\n"
      ],
      "execution_count": null,
      "outputs": [
        {
          "output_type": "stream",
          "text": [
            "Max return: 0.22497319200997784\n",
            "Min return: -0.16512340551368135\n",
            "Average return: 0.0001109918534505319\n",
            "sharpe ratio : 0.0018843109711669677\n"
          ],
          "name": "stdout"
        }
      ]
    },
    {
      "cell_type": "code",
      "metadata": {
        "colab": {
          "base_uri": "https://localhost:8080/",
          "height": 307
        },
        "id": "Y4JkKT2_7HLZ",
        "outputId": "9daf1509-c0e2-4670-c365-6d32994881b3"
      },
      "source": [
        "import matplotlib.pyplot as plt\n",
        "\n",
        "fig = plt.figure()\n",
        "ax1 = fig.add_axes([0.1,0.1,0.8,0.8])\n",
        "ax1.hist(port_ret22, bins = 60)\n",
        "ax1.set_xlabel('Return Portofolio')\n",
        "ax1.set_ylabel(\"Jumlah\")\n",
        "ax1.set_title(\"Return Portofolio sparse mean-variance 2 emiten\")\n",
        "plt.show(); "
      ],
      "execution_count": null,
      "outputs": [
        {
          "output_type": "display_data",
          "data": {
            "image/png": "[encoded data removed]",
            "text/plain": [
              "<Figure size 432x288 with 1 Axes>"
            ]
          },
          "metadata": {
            "tags": [],
            "needs_background": "light"
          }
        }
      ]
    },
    {
      "cell_type": "markdown",
      "metadata": {
        "id": "BOVV_Uv0Ec_U"
      },
      "source": [
        "###3 emiten"
      ]
    },
    {
      "cell_type": "markdown",
      "metadata": {
        "id": "mbif-EOw8E-L"
      },
      "source": [
        "#### ellipsoidal uncertainty"
      ]
    },
    {
      "cell_type": "code",
      "metadata": {
        "colab": {
          "base_uri": "https://localhost:8080/"
        },
        "id": "Oiss-ZdnAsHH",
        "outputId": "a6baa1d5-5312-465d-f0bd-5c07fa07981d"
      },
      "source": [
        "import os\n",
        "base_dir = '/content/drive/My Drive/PYTHON/saham/data3'\n",
        "\n",
        "data3 = [f for f in os.listdir(base_dir)]\n",
        "for f in data3:\n",
        "    print(f)"
      ],
      "execution_count": null,
      "outputs": [
        {
          "output_type": "stream",
          "text": [
            "ASII.JK.csv\n",
            "BBRI.JK.csv\n",
            "PGAS.JK.csv\n"
          ],
          "name": "stdout"
        }
      ]
    },
    {
      "cell_type": "code",
      "metadata": {
        "colab": {
          "base_uri": "https://localhost:8080/",
          "height": 467
        },
        "id": "J3lcY8yb8A0i",
        "outputId": "adccf6a4-5eea-496e-b08c-9be59ac1f419"
      },
      "source": [
        "#show one emiten\n",
        "import pandas as pd\n",
        "\n",
        "example_emiten3 = data3[0]\n",
        "df_example3 = pd.read_csv(base_dir+'/'+example_emiten3)\n",
        "print(example_emiten3)\n",
        "print(df_example3.info())\n",
        "print(\"Showing Head of Emiten Dataframe\")\n",
        "df_example3.head()"
      ],
      "execution_count": null,
      "outputs": [
        {
          "output_type": "stream",
          "text": [
            "ASII.JK.csv\n",
            "<class 'pandas.core.frame.DataFrame'>\n",
            "RangeIndex: 523 entries, 0 to 522\n",
            "Data columns (total 7 columns):\n",
            " #   Column     Non-Null Count  Dtype  \n",
            "---  ------     --------------  -----  \n",
            " 0   Date       523 non-null    object \n",
            " 1   Open       523 non-null    float64\n",
            " 2   High       523 non-null    float64\n",
            " 3   Low        523 non-null    float64\n",
            " 4   Close      523 non-null    float64\n",
            " 5   Adj Close  523 non-null    float64\n",
            " 6   Volume     523 non-null    int64  \n",
            "dtypes: float64(5), int64(1), object(1)\n",
            "memory usage: 28.7+ KB\n",
            "None\n",
            "Showing Head of Emiten Dataframe\n"
          ],
          "name": "stdout"
        },
        {
          "output_type": "execute_result",
          "data": {
            "text/html": [
              "<div>\n",
              "<style scoped>\n",
              "    .dataframe tbody tr th:only-of-type {\n",
              "        vertical-align: middle;\n",
              "    }\n",
              "\n",
              "    .dataframe tbody tr th {\n",
              "        vertical-align: top;\n",
              "    }\n",
              "\n",
              "    .dataframe thead th {\n",
              "        text-align: right;\n",
              "    }\n",
              "</style>\n",
              "<table border=\"1\" class=\"dataframe\">\n",
              "  <thead>\n",
              "    <tr style=\"text-align: right;\">\n",
              "      <th></th>\n",
              "      <th>Date</th>\n",
              "      <th>Open</th>\n",
              "      <th>High</th>\n",
              "      <th>Low</th>\n",
              "      <th>Close</th>\n",
              "      <th>Adj Close</th>\n",
              "      <th>Volume</th>\n",
              "    </tr>\n",
              "  </thead>\n",
              "  <tbody>\n",
              "    <tr>\n",
              "      <th>0</th>\n",
              "      <td>2010-01-01</td>\n",
              "      <td>3530.0</td>\n",
              "      <td>3580.0</td>\n",
              "      <td>3415.0</td>\n",
              "      <td>3420.0</td>\n",
              "      <td>1195.503296</td>\n",
              "      <td>160</td>\n",
              "    </tr>\n",
              "    <tr>\n",
              "      <th>1</th>\n",
              "      <td>2010-01-08</td>\n",
              "      <td>3440.0</td>\n",
              "      <td>3580.0</td>\n",
              "      <td>3380.0</td>\n",
              "      <td>3555.0</td>\n",
              "      <td>1242.694092</td>\n",
              "      <td>200</td>\n",
              "    </tr>\n",
              "    <tr>\n",
              "      <th>2</th>\n",
              "      <td>2010-01-15</td>\n",
              "      <td>3620.0</td>\n",
              "      <td>3650.0</td>\n",
              "      <td>3520.0</td>\n",
              "      <td>3525.0</td>\n",
              "      <td>1232.207153</td>\n",
              "      <td>17475160</td>\n",
              "    </tr>\n",
              "    <tr>\n",
              "      <th>3</th>\n",
              "      <td>2010-01-22</td>\n",
              "      <td>3380.0</td>\n",
              "      <td>3600.0</td>\n",
              "      <td>3320.0</td>\n",
              "      <td>3600.0</td>\n",
              "      <td>1258.424194</td>\n",
              "      <td>39415160</td>\n",
              "    </tr>\n",
              "    <tr>\n",
              "      <th>4</th>\n",
              "      <td>2010-01-29</td>\n",
              "      <td>3595.0</td>\n",
              "      <td>3630.0</td>\n",
              "      <td>3485.0</td>\n",
              "      <td>3535.0</td>\n",
              "      <td>1235.702759</td>\n",
              "      <td>32005160</td>\n",
              "    </tr>\n",
              "  </tbody>\n",
              "</table>\n",
              "</div>"
            ],
            "text/plain": [
              "         Date    Open    High     Low   Close    Adj Close    Volume\n",
              "0  2010-01-01  3530.0  3580.0  3415.0  3420.0  1195.503296       160\n",
              "1  2010-01-08  3440.0  3580.0  3380.0  3555.0  1242.694092       200\n",
              "2  2010-01-15  3620.0  3650.0  3520.0  3525.0  1232.207153  17475160\n",
              "3  2010-01-22  3380.0  3600.0  3320.0  3600.0  1258.424194  39415160\n",
              "4  2010-01-29  3595.0  3630.0  3485.0  3535.0  1235.702759  32005160"
            ]
          },
          "metadata": {
            "tags": []
          },
          "execution_count": 40
        }
      ]
    },
    {
      "cell_type": "code",
      "metadata": {
        "id": "tZvznVrk8MMq"
      },
      "source": [
        "df3=pd.DataFrame()\n",
        "target_column3 = 'Close'\n",
        "emitens3 = []\n",
        "for f in data3:\n",
        "  emiten = f.lower().replace('.jk.csv', '')\n",
        "  emitens3.append(emiten)\n",
        "  df_emiten3 = pd.read_csv(base_dir+'/'+f)\n",
        "  df3['Date'] = df_emiten3['Date']\n",
        "  df3[emiten] = df_emiten3[target_column3]\n",
        "df3=df3.dropna()"
      ],
      "execution_count": null,
      "outputs": []
    },
    {
      "cell_type": "code",
      "metadata": {
        "id": "fwjezsUc8Yyh"
      },
      "source": [
        "df_train3 = df3[(df3['Date'] <= '2017-01-01')]\n",
        "df_test3 = df3[(df3['Date'] > '2017-01-01')]"
      ],
      "execution_count": null,
      "outputs": []
    },
    {
      "cell_type": "code",
      "metadata": {
        "colab": {
          "base_uri": "https://localhost:8080/",
          "height": 391
        },
        "id": "rGQGRVcc8gTh",
        "outputId": "b5a33252-980b-48eb-9a05-afc63b87a2fc"
      },
      "source": [
        "df_train3"
      ],
      "execution_count": null,
      "outputs": [
        {
          "output_type": "execute_result",
          "data": {
            "text/html": [
              "<div>\n",
              "<style scoped>\n",
              "    .dataframe tbody tr th:only-of-type {\n",
              "        vertical-align: middle;\n",
              "    }\n",
              "\n",
              "    .dataframe tbody tr th {\n",
              "        vertical-align: top;\n",
              "    }\n",
              "\n",
              "    .dataframe thead th {\n",
              "        text-align: right;\n",
              "    }\n",
              "</style>\n",
              "<table border=\"1\" class=\"dataframe\">\n",
              "  <thead>\n",
              "    <tr style=\"text-align: right;\">\n",
              "      <th></th>\n",
              "      <th>Date</th>\n",
              "      <th>asii</th>\n",
              "      <th>bbri</th>\n",
              "      <th>pgas</th>\n",
              "    </tr>\n",
              "  </thead>\n",
              "  <tbody>\n",
              "    <tr>\n",
              "      <th>0</th>\n",
              "      <td>2010-01-01</td>\n",
              "      <td>3420.0</td>\n",
              "      <td>765.0</td>\n",
              "      <td>4000.0</td>\n",
              "    </tr>\n",
              "    <tr>\n",
              "      <th>1</th>\n",
              "      <td>2010-01-08</td>\n",
              "      <td>3555.0</td>\n",
              "      <td>785.0</td>\n",
              "      <td>3850.0</td>\n",
              "    </tr>\n",
              "    <tr>\n",
              "      <th>2</th>\n",
              "      <td>2010-01-15</td>\n",
              "      <td>3525.0</td>\n",
              "      <td>790.0</td>\n",
              "      <td>3750.0</td>\n",
              "    </tr>\n",
              "    <tr>\n",
              "      <th>3</th>\n",
              "      <td>2010-01-22</td>\n",
              "      <td>3600.0</td>\n",
              "      <td>765.0</td>\n",
              "      <td>3800.0</td>\n",
              "    </tr>\n",
              "    <tr>\n",
              "      <th>4</th>\n",
              "      <td>2010-01-29</td>\n",
              "      <td>3535.0</td>\n",
              "      <td>740.0</td>\n",
              "      <td>3700.0</td>\n",
              "    </tr>\n",
              "    <tr>\n",
              "      <th>...</th>\n",
              "      <td>...</td>\n",
              "      <td>...</td>\n",
              "      <td>...</td>\n",
              "      <td>...</td>\n",
              "    </tr>\n",
              "    <tr>\n",
              "      <th>361</th>\n",
              "      <td>2016-12-02</td>\n",
              "      <td>7800.0</td>\n",
              "      <td>2300.0</td>\n",
              "      <td>2840.0</td>\n",
              "    </tr>\n",
              "    <tr>\n",
              "      <th>362</th>\n",
              "      <td>2016-12-09</td>\n",
              "      <td>7750.0</td>\n",
              "      <td>2280.0</td>\n",
              "      <td>2800.0</td>\n",
              "    </tr>\n",
              "    <tr>\n",
              "      <th>363</th>\n",
              "      <td>2016-12-16</td>\n",
              "      <td>7525.0</td>\n",
              "      <td>2175.0</td>\n",
              "      <td>2480.0</td>\n",
              "    </tr>\n",
              "    <tr>\n",
              "      <th>364</th>\n",
              "      <td>2016-12-23</td>\n",
              "      <td>8125.0</td>\n",
              "      <td>2330.0</td>\n",
              "      <td>2760.0</td>\n",
              "    </tr>\n",
              "    <tr>\n",
              "      <th>365</th>\n",
              "      <td>2016-12-30</td>\n",
              "      <td>8125.0</td>\n",
              "      <td>2420.0</td>\n",
              "      <td>2860.0</td>\n",
              "    </tr>\n",
              "  </tbody>\n",
              "</table>\n",
              "<p>366 rows × 4 columns</p>\n",
              "</div>"
            ],
            "text/plain": [
              "           Date    asii    bbri    pgas\n",
              "0    2010-01-01  3420.0   765.0  4000.0\n",
              "1    2010-01-08  3555.0   785.0  3850.0\n",
              "2    2010-01-15  3525.0   790.0  3750.0\n",
              "3    2010-01-22  3600.0   765.0  3800.0\n",
              "4    2010-01-29  3535.0   740.0  3700.0\n",
              "..          ...     ...     ...     ...\n",
              "361  2016-12-02  7800.0  2300.0  2840.0\n",
              "362  2016-12-09  7750.0  2280.0  2800.0\n",
              "363  2016-12-16  7525.0  2175.0  2480.0\n",
              "364  2016-12-23  8125.0  2330.0  2760.0\n",
              "365  2016-12-30  8125.0  2420.0  2860.0\n",
              "\n",
              "[366 rows x 4 columns]"
            ]
          },
          "metadata": {
            "tags": []
          },
          "execution_count": 43
        }
      ]
    },
    {
      "cell_type": "code",
      "metadata": {
        "colab": {
          "base_uri": "https://localhost:8080/",
          "height": 391
        },
        "id": "sWaGw9gy8kRY",
        "outputId": "3ef7b84c-0563-45a2-86fe-e385b5c9c554"
      },
      "source": [
        "df_test3"
      ],
      "execution_count": null,
      "outputs": [
        {
          "output_type": "execute_result",
          "data": {
            "text/html": [
              "<div>\n",
              "<style scoped>\n",
              "    .dataframe tbody tr th:only-of-type {\n",
              "        vertical-align: middle;\n",
              "    }\n",
              "\n",
              "    .dataframe tbody tr th {\n",
              "        vertical-align: top;\n",
              "    }\n",
              "\n",
              "    .dataframe thead th {\n",
              "        text-align: right;\n",
              "    }\n",
              "</style>\n",
              "<table border=\"1\" class=\"dataframe\">\n",
              "  <thead>\n",
              "    <tr style=\"text-align: right;\">\n",
              "      <th></th>\n",
              "      <th>Date</th>\n",
              "      <th>asii</th>\n",
              "      <th>bbri</th>\n",
              "      <th>pgas</th>\n",
              "    </tr>\n",
              "  </thead>\n",
              "  <tbody>\n",
              "    <tr>\n",
              "      <th>366</th>\n",
              "      <td>2017-01-06</td>\n",
              "      <td>7925.0</td>\n",
              "      <td>2375.0</td>\n",
              "      <td>2730.0</td>\n",
              "    </tr>\n",
              "    <tr>\n",
              "      <th>367</th>\n",
              "      <td>2017-01-13</td>\n",
              "      <td>8150.0</td>\n",
              "      <td>2400.0</td>\n",
              "      <td>2720.0</td>\n",
              "    </tr>\n",
              "    <tr>\n",
              "      <th>368</th>\n",
              "      <td>2017-01-20</td>\n",
              "      <td>8075.0</td>\n",
              "      <td>2350.0</td>\n",
              "      <td>2730.0</td>\n",
              "    </tr>\n",
              "    <tr>\n",
              "      <th>369</th>\n",
              "      <td>2017-01-27</td>\n",
              "      <td>8100.0</td>\n",
              "      <td>2395.0</td>\n",
              "      <td>2870.0</td>\n",
              "    </tr>\n",
              "    <tr>\n",
              "      <th>370</th>\n",
              "      <td>2017-02-03</td>\n",
              "      <td>8075.0</td>\n",
              "      <td>2395.0</td>\n",
              "      <td>2810.0</td>\n",
              "    </tr>\n",
              "    <tr>\n",
              "      <th>...</th>\n",
              "      <td>...</td>\n",
              "      <td>...</td>\n",
              "      <td>...</td>\n",
              "      <td>...</td>\n",
              "    </tr>\n",
              "    <tr>\n",
              "      <th>518</th>\n",
              "      <td>2019-12-06</td>\n",
              "      <td>6550.0</td>\n",
              "      <td>4250.0</td>\n",
              "      <td>2110.0</td>\n",
              "    </tr>\n",
              "    <tr>\n",
              "      <th>519</th>\n",
              "      <td>2019-12-13</td>\n",
              "      <td>6850.0</td>\n",
              "      <td>4350.0</td>\n",
              "      <td>2160.0</td>\n",
              "    </tr>\n",
              "    <tr>\n",
              "      <th>520</th>\n",
              "      <td>2019-12-20</td>\n",
              "      <td>6875.0</td>\n",
              "      <td>4410.0</td>\n",
              "      <td>2190.0</td>\n",
              "    </tr>\n",
              "    <tr>\n",
              "      <th>521</th>\n",
              "      <td>2019-12-27</td>\n",
              "      <td>6875.0</td>\n",
              "      <td>4410.0</td>\n",
              "      <td>2140.0</td>\n",
              "    </tr>\n",
              "    <tr>\n",
              "      <th>522</th>\n",
              "      <td>2020-01-03</td>\n",
              "      <td>6950.0</td>\n",
              "      <td>4420.0</td>\n",
              "      <td>2160.0</td>\n",
              "    </tr>\n",
              "  </tbody>\n",
              "</table>\n",
              "<p>157 rows × 4 columns</p>\n",
              "</div>"
            ],
            "text/plain": [
              "           Date    asii    bbri    pgas\n",
              "366  2017-01-06  7925.0  2375.0  2730.0\n",
              "367  2017-01-13  8150.0  2400.0  2720.0\n",
              "368  2017-01-20  8075.0  2350.0  2730.0\n",
              "369  2017-01-27  8100.0  2395.0  2870.0\n",
              "370  2017-02-03  8075.0  2395.0  2810.0\n",
              "..          ...     ...     ...     ...\n",
              "518  2019-12-06  6550.0  4250.0  2110.0\n",
              "519  2019-12-13  6850.0  4350.0  2160.0\n",
              "520  2019-12-20  6875.0  4410.0  2190.0\n",
              "521  2019-12-27  6875.0  4410.0  2140.0\n",
              "522  2020-01-03  6950.0  4420.0  2160.0\n",
              "\n",
              "[157 rows x 4 columns]"
            ]
          },
          "metadata": {
            "tags": []
          },
          "execution_count": 44
        }
      ]
    },
    {
      "cell_type": "code",
      "metadata": {
        "colab": {
          "base_uri": "https://localhost:8080/"
        },
        "id": "lZx63lJ18mgZ",
        "outputId": "10adf0df-0341-410e-e077-3f9dd6fedeaf"
      },
      "source": [
        "emiten_means3 = df3.mean()\n",
        "emiten_means3"
      ],
      "execution_count": null,
      "outputs": [
        {
          "output_type": "execute_result",
          "data": {
            "text/plain": [
              "asii    6963.231358\n",
              "bbri    2210.248566\n",
              "pgas    3530.869981\n",
              "dtype: float64"
            ]
          },
          "metadata": {
            "tags": []
          },
          "execution_count": 45
        }
      ]
    },
    {
      "cell_type": "code",
      "metadata": {
        "colab": {
          "base_uri": "https://localhost:8080/",
          "height": 191
        },
        "id": "Bqhihll9-bWA",
        "outputId": "295e33dd-6bf2-4ad8-bc3a-b3f8c9e9f575"
      },
      "source": [
        "df_pct_ret3 = df_train3.drop(columns=['Date']).pct_change()\n",
        "df_pct_ret3=df_pct_ret3.dropna()\n",
        "df_pct_ret3.head()"
      ],
      "execution_count": null,
      "outputs": [
        {
          "output_type": "execute_result",
          "data": {
            "text/html": [
              "<div>\n",
              "<style scoped>\n",
              "    .dataframe tbody tr th:only-of-type {\n",
              "        vertical-align: middle;\n",
              "    }\n",
              "\n",
              "    .dataframe tbody tr th {\n",
              "        vertical-align: top;\n",
              "    }\n",
              "\n",
              "    .dataframe thead th {\n",
              "        text-align: right;\n",
              "    }\n",
              "</style>\n",
              "<table border=\"1\" class=\"dataframe\">\n",
              "  <thead>\n",
              "    <tr style=\"text-align: right;\">\n",
              "      <th></th>\n",
              "      <th>asii</th>\n",
              "      <th>bbri</th>\n",
              "      <th>pgas</th>\n",
              "    </tr>\n",
              "  </thead>\n",
              "  <tbody>\n",
              "    <tr>\n",
              "      <th>1</th>\n",
              "      <td>0.039474</td>\n",
              "      <td>0.026144</td>\n",
              "      <td>-0.037500</td>\n",
              "    </tr>\n",
              "    <tr>\n",
              "      <th>2</th>\n",
              "      <td>-0.008439</td>\n",
              "      <td>0.006369</td>\n",
              "      <td>-0.025974</td>\n",
              "    </tr>\n",
              "    <tr>\n",
              "      <th>3</th>\n",
              "      <td>0.021277</td>\n",
              "      <td>-0.031646</td>\n",
              "      <td>0.013333</td>\n",
              "    </tr>\n",
              "    <tr>\n",
              "      <th>4</th>\n",
              "      <td>-0.018056</td>\n",
              "      <td>-0.032680</td>\n",
              "      <td>-0.026316</td>\n",
              "    </tr>\n",
              "    <tr>\n",
              "      <th>5</th>\n",
              "      <td>-0.029703</td>\n",
              "      <td>-0.013514</td>\n",
              "      <td>-0.020270</td>\n",
              "    </tr>\n",
              "  </tbody>\n",
              "</table>\n",
              "</div>"
            ],
            "text/plain": [
              "       asii      bbri      pgas\n",
              "1  0.039474  0.026144 -0.037500\n",
              "2 -0.008439  0.006369 -0.025974\n",
              "3  0.021277 -0.031646  0.013333\n",
              "4 -0.018056 -0.032680 -0.026316\n",
              "5 -0.029703 -0.013514 -0.020270"
            ]
          },
          "metadata": {
            "tags": []
          },
          "execution_count": 46
        }
      ]
    },
    {
      "cell_type": "code",
      "metadata": {
        "colab": {
          "base_uri": "https://localhost:8080/"
        },
        "id": "nVF8nlhr-fJ4",
        "outputId": "97d08356-f2d5-4580-94e3-02e38b7980e3"
      },
      "source": [
        "import numpy as np\n",
        "R3=np.array(df_pct_ret3)\n",
        "print(R3.shape)"
      ],
      "execution_count": null,
      "outputs": [
        {
          "output_type": "stream",
          "text": [
            "(365, 3)\n"
          ],
          "name": "stdout"
        }
      ]
    },
    {
      "cell_type": "code",
      "metadata": {
        "colab": {
          "base_uri": "https://localhost:8080/"
        },
        "id": "5KHQSz0Q-f2i",
        "outputId": "67281ee9-c035-4a58-cb6e-de25b6f6591b"
      },
      "source": [
        "emiten_pct_ret_means3 = df_pct_ret3.mean()\n",
        "emiten_pct_ret_means3"
      ],
      "execution_count": null,
      "outputs": [
        {
          "output_type": "execute_result",
          "data": {
            "text/plain": [
              "asii    0.003320\n",
              "bbri    0.004238\n",
              "pgas    0.000255\n",
              "dtype: float64"
            ]
          },
          "metadata": {
            "tags": []
          },
          "execution_count": 48
        }
      ]
    },
    {
      "cell_type": "code",
      "metadata": {
        "colab": {
          "base_uri": "https://localhost:8080/"
        },
        "id": "AlcX94R9-oep",
        "outputId": "ecba9184-ec35-4d9b-95b8-f719d7bd1cc2"
      },
      "source": [
        "myu3 = np.matrix(emiten_pct_ret_means3.values).T\n",
        "myu3"
      ],
      "execution_count": null,
      "outputs": [
        {
          "output_type": "execute_result",
          "data": {
            "text/plain": [
              "matrix([[0.00331959],\n",
              "        [0.00423764],\n",
              "        [0.00025489]])"
            ]
          },
          "metadata": {
            "tags": []
          },
          "execution_count": 49
        }
      ]
    },
    {
      "cell_type": "code",
      "metadata": {
        "colab": {
          "base_uri": "https://localhost:8080/"
        },
        "id": "Rp5ojRKM-0RZ",
        "outputId": "d0ad4879-48e5-4932-ff0b-14289d2e33e6"
      },
      "source": [
        "tho = 0.01\n",
        "rho= 0.0002;\n",
        "print(rho)"
      ],
      "execution_count": null,
      "outputs": [
        {
          "output_type": "stream",
          "text": [
            "0.0002\n"
          ],
          "name": "stdout"
        }
      ]
    },
    {
      "cell_type": "code",
      "metadata": {
        "colab": {
          "base_uri": "https://localhost:8080/"
        },
        "id": "kLN0iqA7-4dq",
        "outputId": "19b9ddb5-4bc9-456d-8d85-673f577b341d"
      },
      "source": [
        "#jumlah data\n",
        "n=R3.shape[0]\n",
        "n"
      ],
      "execution_count": null,
      "outputs": [
        {
          "output_type": "execute_result",
          "data": {
            "text/plain": [
              "365"
            ]
          },
          "metadata": {
            "tags": []
          },
          "execution_count": 51
        }
      ]
    },
    {
      "cell_type": "code",
      "metadata": {
        "colab": {
          "base_uri": "https://localhost:8080/"
        },
        "id": "D6fdJuIg-9pY",
        "outputId": "427fe59a-7ac8-4cb7-902f-e8deabe08897"
      },
      "source": [
        "import cvxpy as cp\n",
        "import numpy as np\n",
        "\n",
        "# Generate a random feasible SOCP.\n",
        "P = np.array([[0.0001], [0.00009], [0.00008]]).T\n",
        "\n",
        "ns = R3.shape[1]\n",
        "m13 = np.ones((n,1), dtype=np.int64)\n",
        "m13 = np.matrix(m13).T\n",
        "w0 = np.random.randn(n)\n",
        "\n",
        "\n",
        "# Define and solve the CVXPY problem.\n",
        "w = cp.Variable(ns)\n",
        "contraints = [\n",
        "      cp.SOC(w.T @ myu3 - rho, P * w), #first constrraint, SOC constraint\n",
        "      cp.sum(w) == 1,\n",
        "      \n",
        "]\n",
        "\n",
        "obj = cp.Minimize(cp.sum_squares(cp.reshape(rho*m13.T, (n,)) - R3*w) + tho*cp.sum(cp.abs(w)))\n",
        "\n",
        "prob = cp.Problem(obj,contraints)\n",
        "prob.solve()\n",
        "\n",
        "# Print result.\n",
        "print(\"The optimal value is\", prob.value)\n",
        "print(\"Solution for w is\")\n",
        "print(w.value)\n",
        "#print(\"SOC constraint dual variable solution\")\n",
        "#print(contraints[0].dual_value)"
      ],
      "execution_count": null,
      "outputs": [
        {
          "output_type": "stream",
          "text": [
            "The optimal value is 0.49221182982685285\n",
            "Solution for w is\n",
            "[0.37890204 0.27230602 0.34879193]\n"
          ],
          "name": "stdout"
        }
      ]
    },
    {
      "cell_type": "code",
      "metadata": {
        "colab": {
          "base_uri": "https://localhost:8080/"
        },
        "id": "o4mEmifa_k1D",
        "outputId": "40931ffb-05c5-4eb6-9b00-d4df869c5561"
      },
      "source": [
        "#first constraint manual validation\n",
        "print(rho) #rho\n",
        "print(w.value.T@myu3 - np.linalg.norm(P*w.value)) \n",
        "print(w.value.T@myu3 - np.linalg.norm(P*w.value)>= rho) #value of first constraint\n",
        "(P*w.value)"
      ],
      "execution_count": null,
      "outputs": [
        {
          "output_type": "stream",
          "text": [
            "0.0002\n",
            "[[0.00244758]]\n",
            "[[ True]]\n"
          ],
          "name": "stdout"
        },
        {
          "output_type": "execute_result",
          "data": {
            "text/plain": [
              "array([[3.78902043e-05, 2.45075422e-05, 2.79033547e-05]])"
            ]
          },
          "metadata": {
            "tags": []
          },
          "execution_count": 53
        }
      ]
    },
    {
      "cell_type": "code",
      "metadata": {
        "colab": {
          "base_uri": "https://localhost:8080/",
          "height": 391
        },
        "id": "V4lwQDdUBxNA",
        "outputId": "08705596-b562-480d-abef-8738b84e5c47"
      },
      "source": [
        "df_pct_ret_test3=df_test3.drop(columns=['Date']).pct_change()\n",
        "df_pct_ret_test3=df_pct_ret_test3.dropna()\n",
        "df_pct_ret_test3"
      ],
      "execution_count": null,
      "outputs": [
        {
          "output_type": "execute_result",
          "data": {
            "text/html": [
              "<div>\n",
              "<style scoped>\n",
              "    .dataframe tbody tr th:only-of-type {\n",
              "        vertical-align: middle;\n",
              "    }\n",
              "\n",
              "    .dataframe tbody tr th {\n",
              "        vertical-align: top;\n",
              "    }\n",
              "\n",
              "    .dataframe thead th {\n",
              "        text-align: right;\n",
              "    }\n",
              "</style>\n",
              "<table border=\"1\" class=\"dataframe\">\n",
              "  <thead>\n",
              "    <tr style=\"text-align: right;\">\n",
              "      <th></th>\n",
              "      <th>asii</th>\n",
              "      <th>bbri</th>\n",
              "      <th>pgas</th>\n",
              "    </tr>\n",
              "  </thead>\n",
              "  <tbody>\n",
              "    <tr>\n",
              "      <th>367</th>\n",
              "      <td>0.028391</td>\n",
              "      <td>0.010526</td>\n",
              "      <td>-0.003663</td>\n",
              "    </tr>\n",
              "    <tr>\n",
              "      <th>368</th>\n",
              "      <td>-0.009202</td>\n",
              "      <td>-0.020833</td>\n",
              "      <td>0.003676</td>\n",
              "    </tr>\n",
              "    <tr>\n",
              "      <th>369</th>\n",
              "      <td>0.003096</td>\n",
              "      <td>0.019149</td>\n",
              "      <td>0.051282</td>\n",
              "    </tr>\n",
              "    <tr>\n",
              "      <th>370</th>\n",
              "      <td>-0.003086</td>\n",
              "      <td>0.000000</td>\n",
              "      <td>-0.020906</td>\n",
              "    </tr>\n",
              "    <tr>\n",
              "      <th>371</th>\n",
              "      <td>0.003096</td>\n",
              "      <td>0.002088</td>\n",
              "      <td>0.007117</td>\n",
              "    </tr>\n",
              "    <tr>\n",
              "      <th>...</th>\n",
              "      <td>...</td>\n",
              "      <td>...</td>\n",
              "      <td>...</td>\n",
              "    </tr>\n",
              "    <tr>\n",
              "      <th>518</th>\n",
              "      <td>-0.022388</td>\n",
              "      <td>0.007109</td>\n",
              "      <td>-0.040909</td>\n",
              "    </tr>\n",
              "    <tr>\n",
              "      <th>519</th>\n",
              "      <td>0.045802</td>\n",
              "      <td>0.023529</td>\n",
              "      <td>0.023697</td>\n",
              "    </tr>\n",
              "    <tr>\n",
              "      <th>520</th>\n",
              "      <td>0.003650</td>\n",
              "      <td>0.013793</td>\n",
              "      <td>0.013889</td>\n",
              "    </tr>\n",
              "    <tr>\n",
              "      <th>521</th>\n",
              "      <td>0.000000</td>\n",
              "      <td>0.000000</td>\n",
              "      <td>-0.022831</td>\n",
              "    </tr>\n",
              "    <tr>\n",
              "      <th>522</th>\n",
              "      <td>0.010909</td>\n",
              "      <td>0.002268</td>\n",
              "      <td>0.009346</td>\n",
              "    </tr>\n",
              "  </tbody>\n",
              "</table>\n",
              "<p>156 rows × 3 columns</p>\n",
              "</div>"
            ],
            "text/plain": [
              "         asii      bbri      pgas\n",
              "367  0.028391  0.010526 -0.003663\n",
              "368 -0.009202 -0.020833  0.003676\n",
              "369  0.003096  0.019149  0.051282\n",
              "370 -0.003086  0.000000 -0.020906\n",
              "371  0.003096  0.002088  0.007117\n",
              "..        ...       ...       ...\n",
              "518 -0.022388  0.007109 -0.040909\n",
              "519  0.045802  0.023529  0.023697\n",
              "520  0.003650  0.013793  0.013889\n",
              "521  0.000000  0.000000 -0.022831\n",
              "522  0.010909  0.002268  0.009346\n",
              "\n",
              "[156 rows x 3 columns]"
            ]
          },
          "metadata": {
            "tags": []
          },
          "execution_count": 54
        }
      ]
    },
    {
      "cell_type": "code",
      "metadata": {
        "colab": {
          "base_uri": "https://localhost:8080/"
        },
        "id": "BrFFqp8eBy9w",
        "outputId": "51940efa-a119-4110-81a0-b1dd931fc91a"
      },
      "source": [
        "emitens3"
      ],
      "execution_count": null,
      "outputs": [
        {
          "output_type": "execute_result",
          "data": {
            "text/plain": [
              "['asii', 'bbri', 'pgas']"
            ]
          },
          "metadata": {
            "tags": []
          },
          "execution_count": 55
        }
      ]
    },
    {
      "cell_type": "code",
      "metadata": {
        "colab": {
          "base_uri": "https://localhost:8080/",
          "height": 391
        },
        "id": "IBwo2cuIB-O_",
        "outputId": "dde25a58-cb34-49ea-c31b-97fc8d71004c"
      },
      "source": [
        "df_pct_weekly_return3 = pd.DataFrame()\n",
        "i=0\n",
        "for emiten in emitens3:\n",
        "  df_pct_weekly_return3[emiten]=w.value[i]*df_pct_ret_test3[emiten]\n",
        "  i+=1\n",
        "\n",
        "df_pct_weekly_return3"
      ],
      "execution_count": null,
      "outputs": [
        {
          "output_type": "execute_result",
          "data": {
            "text/html": [
              "<div>\n",
              "<style scoped>\n",
              "    .dataframe tbody tr th:only-of-type {\n",
              "        vertical-align: middle;\n",
              "    }\n",
              "\n",
              "    .dataframe tbody tr th {\n",
              "        vertical-align: top;\n",
              "    }\n",
              "\n",
              "    .dataframe thead th {\n",
              "        text-align: right;\n",
              "    }\n",
              "</style>\n",
              "<table border=\"1\" class=\"dataframe\">\n",
              "  <thead>\n",
              "    <tr style=\"text-align: right;\">\n",
              "      <th></th>\n",
              "      <th>asii</th>\n",
              "      <th>bbri</th>\n",
              "      <th>pgas</th>\n",
              "    </tr>\n",
              "  </thead>\n",
              "  <tbody>\n",
              "    <tr>\n",
              "      <th>367</th>\n",
              "      <td>0.010757</td>\n",
              "      <td>0.002866</td>\n",
              "      <td>-0.001278</td>\n",
              "    </tr>\n",
              "    <tr>\n",
              "      <th>368</th>\n",
              "      <td>-0.003487</td>\n",
              "      <td>-0.005673</td>\n",
              "      <td>0.001282</td>\n",
              "    </tr>\n",
              "    <tr>\n",
              "      <th>369</th>\n",
              "      <td>0.001173</td>\n",
              "      <td>0.005214</td>\n",
              "      <td>0.017887</td>\n",
              "    </tr>\n",
              "    <tr>\n",
              "      <th>370</th>\n",
              "      <td>-0.001169</td>\n",
              "      <td>0.000000</td>\n",
              "      <td>-0.007292</td>\n",
              "    </tr>\n",
              "    <tr>\n",
              "      <th>371</th>\n",
              "      <td>0.001173</td>\n",
              "      <td>0.000568</td>\n",
              "      <td>0.002483</td>\n",
              "    </tr>\n",
              "    <tr>\n",
              "      <th>...</th>\n",
              "      <td>...</td>\n",
              "      <td>...</td>\n",
              "      <td>...</td>\n",
              "    </tr>\n",
              "    <tr>\n",
              "      <th>518</th>\n",
              "      <td>-0.008483</td>\n",
              "      <td>0.001936</td>\n",
              "      <td>-0.014269</td>\n",
              "    </tr>\n",
              "    <tr>\n",
              "      <th>519</th>\n",
              "      <td>0.017354</td>\n",
              "      <td>0.006407</td>\n",
              "      <td>0.008265</td>\n",
              "    </tr>\n",
              "    <tr>\n",
              "      <th>520</th>\n",
              "      <td>0.001383</td>\n",
              "      <td>0.003756</td>\n",
              "      <td>0.004844</td>\n",
              "    </tr>\n",
              "    <tr>\n",
              "      <th>521</th>\n",
              "      <td>0.000000</td>\n",
              "      <td>0.000000</td>\n",
              "      <td>-0.007963</td>\n",
              "    </tr>\n",
              "    <tr>\n",
              "      <th>522</th>\n",
              "      <td>0.004133</td>\n",
              "      <td>0.000617</td>\n",
              "      <td>0.003260</td>\n",
              "    </tr>\n",
              "  </tbody>\n",
              "</table>\n",
              "<p>156 rows × 3 columns</p>\n",
              "</div>"
            ],
            "text/plain": [
              "         asii      bbri      pgas\n",
              "367  0.010757  0.002866 -0.001278\n",
              "368 -0.003487 -0.005673  0.001282\n",
              "369  0.001173  0.005214  0.017887\n",
              "370 -0.001169  0.000000 -0.007292\n",
              "371  0.001173  0.000568  0.002483\n",
              "..        ...       ...       ...\n",
              "518 -0.008483  0.001936 -0.014269\n",
              "519  0.017354  0.006407  0.008265\n",
              "520  0.001383  0.003756  0.004844\n",
              "521  0.000000  0.000000 -0.007963\n",
              "522  0.004133  0.000617  0.003260\n",
              "\n",
              "[156 rows x 3 columns]"
            ]
          },
          "metadata": {
            "tags": []
          },
          "execution_count": 56
        }
      ]
    },
    {
      "cell_type": "code",
      "metadata": {
        "colab": {
          "base_uri": "https://localhost:8080/",
          "height": 391
        },
        "id": "H_evYQ2ECHXp",
        "outputId": "7e416f10-8fa6-4f9a-e440-9864cb3b2c8d"
      },
      "source": [
        "price_data3 = df_test3.drop(columns=['Date'])\n",
        "price_data3"
      ],
      "execution_count": null,
      "outputs": [
        {
          "output_type": "execute_result",
          "data": {
            "text/html": [
              "<div>\n",
              "<style scoped>\n",
              "    .dataframe tbody tr th:only-of-type {\n",
              "        vertical-align: middle;\n",
              "    }\n",
              "\n",
              "    .dataframe tbody tr th {\n",
              "        vertical-align: top;\n",
              "    }\n",
              "\n",
              "    .dataframe thead th {\n",
              "        text-align: right;\n",
              "    }\n",
              "</style>\n",
              "<table border=\"1\" class=\"dataframe\">\n",
              "  <thead>\n",
              "    <tr style=\"text-align: right;\">\n",
              "      <th></th>\n",
              "      <th>asii</th>\n",
              "      <th>bbri</th>\n",
              "      <th>pgas</th>\n",
              "    </tr>\n",
              "  </thead>\n",
              "  <tbody>\n",
              "    <tr>\n",
              "      <th>366</th>\n",
              "      <td>7925.0</td>\n",
              "      <td>2375.0</td>\n",
              "      <td>2730.0</td>\n",
              "    </tr>\n",
              "    <tr>\n",
              "      <th>367</th>\n",
              "      <td>8150.0</td>\n",
              "      <td>2400.0</td>\n",
              "      <td>2720.0</td>\n",
              "    </tr>\n",
              "    <tr>\n",
              "      <th>368</th>\n",
              "      <td>8075.0</td>\n",
              "      <td>2350.0</td>\n",
              "      <td>2730.0</td>\n",
              "    </tr>\n",
              "    <tr>\n",
              "      <th>369</th>\n",
              "      <td>8100.0</td>\n",
              "      <td>2395.0</td>\n",
              "      <td>2870.0</td>\n",
              "    </tr>\n",
              "    <tr>\n",
              "      <th>370</th>\n",
              "      <td>8075.0</td>\n",
              "      <td>2395.0</td>\n",
              "      <td>2810.0</td>\n",
              "    </tr>\n",
              "    <tr>\n",
              "      <th>...</th>\n",
              "      <td>...</td>\n",
              "      <td>...</td>\n",
              "      <td>...</td>\n",
              "    </tr>\n",
              "    <tr>\n",
              "      <th>518</th>\n",
              "      <td>6550.0</td>\n",
              "      <td>4250.0</td>\n",
              "      <td>2110.0</td>\n",
              "    </tr>\n",
              "    <tr>\n",
              "      <th>519</th>\n",
              "      <td>6850.0</td>\n",
              "      <td>4350.0</td>\n",
              "      <td>2160.0</td>\n",
              "    </tr>\n",
              "    <tr>\n",
              "      <th>520</th>\n",
              "      <td>6875.0</td>\n",
              "      <td>4410.0</td>\n",
              "      <td>2190.0</td>\n",
              "    </tr>\n",
              "    <tr>\n",
              "      <th>521</th>\n",
              "      <td>6875.0</td>\n",
              "      <td>4410.0</td>\n",
              "      <td>2140.0</td>\n",
              "    </tr>\n",
              "    <tr>\n",
              "      <th>522</th>\n",
              "      <td>6950.0</td>\n",
              "      <td>4420.0</td>\n",
              "      <td>2160.0</td>\n",
              "    </tr>\n",
              "  </tbody>\n",
              "</table>\n",
              "<p>157 rows × 3 columns</p>\n",
              "</div>"
            ],
            "text/plain": [
              "       asii    bbri    pgas\n",
              "366  7925.0  2375.0  2730.0\n",
              "367  8150.0  2400.0  2720.0\n",
              "368  8075.0  2350.0  2730.0\n",
              "369  8100.0  2395.0  2870.0\n",
              "370  8075.0  2395.0  2810.0\n",
              "..      ...     ...     ...\n",
              "518  6550.0  4250.0  2110.0\n",
              "519  6850.0  4350.0  2160.0\n",
              "520  6875.0  4410.0  2190.0\n",
              "521  6875.0  4410.0  2140.0\n",
              "522  6950.0  4420.0  2160.0\n",
              "\n",
              "[157 rows x 3 columns]"
            ]
          },
          "metadata": {
            "tags": []
          },
          "execution_count": 57
        }
      ]
    },
    {
      "cell_type": "code",
      "metadata": {
        "colab": {
          "base_uri": "https://localhost:8080/",
          "height": 391
        },
        "id": "J-sdfVpyCIJh",
        "outputId": "8c9b5ca7-c1eb-4c27-bb2d-fbbd67a2e0d1"
      },
      "source": [
        "ret_data3 = price_data3.pct_change()[1:]\n",
        "ret_data3"
      ],
      "execution_count": null,
      "outputs": [
        {
          "output_type": "execute_result",
          "data": {
            "text/html": [
              "<div>\n",
              "<style scoped>\n",
              "    .dataframe tbody tr th:only-of-type {\n",
              "        vertical-align: middle;\n",
              "    }\n",
              "\n",
              "    .dataframe tbody tr th {\n",
              "        vertical-align: top;\n",
              "    }\n",
              "\n",
              "    .dataframe thead th {\n",
              "        text-align: right;\n",
              "    }\n",
              "</style>\n",
              "<table border=\"1\" class=\"dataframe\">\n",
              "  <thead>\n",
              "    <tr style=\"text-align: right;\">\n",
              "      <th></th>\n",
              "      <th>asii</th>\n",
              "      <th>bbri</th>\n",
              "      <th>pgas</th>\n",
              "    </tr>\n",
              "  </thead>\n",
              "  <tbody>\n",
              "    <tr>\n",
              "      <th>367</th>\n",
              "      <td>0.028391</td>\n",
              "      <td>0.010526</td>\n",
              "      <td>-0.003663</td>\n",
              "    </tr>\n",
              "    <tr>\n",
              "      <th>368</th>\n",
              "      <td>-0.009202</td>\n",
              "      <td>-0.020833</td>\n",
              "      <td>0.003676</td>\n",
              "    </tr>\n",
              "    <tr>\n",
              "      <th>369</th>\n",
              "      <td>0.003096</td>\n",
              "      <td>0.019149</td>\n",
              "      <td>0.051282</td>\n",
              "    </tr>\n",
              "    <tr>\n",
              "      <th>370</th>\n",
              "      <td>-0.003086</td>\n",
              "      <td>0.000000</td>\n",
              "      <td>-0.020906</td>\n",
              "    </tr>\n",
              "    <tr>\n",
              "      <th>371</th>\n",
              "      <td>0.003096</td>\n",
              "      <td>0.002088</td>\n",
              "      <td>0.007117</td>\n",
              "    </tr>\n",
              "    <tr>\n",
              "      <th>...</th>\n",
              "      <td>...</td>\n",
              "      <td>...</td>\n",
              "      <td>...</td>\n",
              "    </tr>\n",
              "    <tr>\n",
              "      <th>518</th>\n",
              "      <td>-0.022388</td>\n",
              "      <td>0.007109</td>\n",
              "      <td>-0.040909</td>\n",
              "    </tr>\n",
              "    <tr>\n",
              "      <th>519</th>\n",
              "      <td>0.045802</td>\n",
              "      <td>0.023529</td>\n",
              "      <td>0.023697</td>\n",
              "    </tr>\n",
              "    <tr>\n",
              "      <th>520</th>\n",
              "      <td>0.003650</td>\n",
              "      <td>0.013793</td>\n",
              "      <td>0.013889</td>\n",
              "    </tr>\n",
              "    <tr>\n",
              "      <th>521</th>\n",
              "      <td>0.000000</td>\n",
              "      <td>0.000000</td>\n",
              "      <td>-0.022831</td>\n",
              "    </tr>\n",
              "    <tr>\n",
              "      <th>522</th>\n",
              "      <td>0.010909</td>\n",
              "      <td>0.002268</td>\n",
              "      <td>0.009346</td>\n",
              "    </tr>\n",
              "  </tbody>\n",
              "</table>\n",
              "<p>156 rows × 3 columns</p>\n",
              "</div>"
            ],
            "text/plain": [
              "         asii      bbri      pgas\n",
              "367  0.028391  0.010526 -0.003663\n",
              "368 -0.009202 -0.020833  0.003676\n",
              "369  0.003096  0.019149  0.051282\n",
              "370 -0.003086  0.000000 -0.020906\n",
              "371  0.003096  0.002088  0.007117\n",
              "..        ...       ...       ...\n",
              "518 -0.022388  0.007109 -0.040909\n",
              "519  0.045802  0.023529  0.023697\n",
              "520  0.003650  0.013793  0.013889\n",
              "521  0.000000  0.000000 -0.022831\n",
              "522  0.010909  0.002268  0.009346\n",
              "\n",
              "[156 rows x 3 columns]"
            ]
          },
          "metadata": {
            "tags": []
          },
          "execution_count": 58
        }
      ]
    },
    {
      "cell_type": "code",
      "metadata": {
        "colab": {
          "base_uri": "https://localhost:8080/",
          "height": 391
        },
        "id": "XDAeiNbQCaqu",
        "outputId": "6fe22607-df4a-437a-fe19-da41cd3b8d38"
      },
      "source": [
        "weighted_returns3 = (w.value.reshape(3) * ret_data3)\n",
        "weighted_returns3"
      ],
      "execution_count": null,
      "outputs": [
        {
          "output_type": "execute_result",
          "data": {
            "text/html": [
              "<div>\n",
              "<style scoped>\n",
              "    .dataframe tbody tr th:only-of-type {\n",
              "        vertical-align: middle;\n",
              "    }\n",
              "\n",
              "    .dataframe tbody tr th {\n",
              "        vertical-align: top;\n",
              "    }\n",
              "\n",
              "    .dataframe thead th {\n",
              "        text-align: right;\n",
              "    }\n",
              "</style>\n",
              "<table border=\"1\" class=\"dataframe\">\n",
              "  <thead>\n",
              "    <tr style=\"text-align: right;\">\n",
              "      <th></th>\n",
              "      <th>asii</th>\n",
              "      <th>bbri</th>\n",
              "      <th>pgas</th>\n",
              "    </tr>\n",
              "  </thead>\n",
              "  <tbody>\n",
              "    <tr>\n",
              "      <th>367</th>\n",
              "      <td>0.010757</td>\n",
              "      <td>0.002866</td>\n",
              "      <td>-0.001278</td>\n",
              "    </tr>\n",
              "    <tr>\n",
              "      <th>368</th>\n",
              "      <td>-0.003487</td>\n",
              "      <td>-0.005673</td>\n",
              "      <td>0.001282</td>\n",
              "    </tr>\n",
              "    <tr>\n",
              "      <th>369</th>\n",
              "      <td>0.001173</td>\n",
              "      <td>0.005214</td>\n",
              "      <td>0.017887</td>\n",
              "    </tr>\n",
              "    <tr>\n",
              "      <th>370</th>\n",
              "      <td>-0.001169</td>\n",
              "      <td>0.000000</td>\n",
              "      <td>-0.007292</td>\n",
              "    </tr>\n",
              "    <tr>\n",
              "      <th>371</th>\n",
              "      <td>0.001173</td>\n",
              "      <td>0.000568</td>\n",
              "      <td>0.002483</td>\n",
              "    </tr>\n",
              "    <tr>\n",
              "      <th>...</th>\n",
              "      <td>...</td>\n",
              "      <td>...</td>\n",
              "      <td>...</td>\n",
              "    </tr>\n",
              "    <tr>\n",
              "      <th>518</th>\n",
              "      <td>-0.008483</td>\n",
              "      <td>0.001936</td>\n",
              "      <td>-0.014269</td>\n",
              "    </tr>\n",
              "    <tr>\n",
              "      <th>519</th>\n",
              "      <td>0.017354</td>\n",
              "      <td>0.006407</td>\n",
              "      <td>0.008265</td>\n",
              "    </tr>\n",
              "    <tr>\n",
              "      <th>520</th>\n",
              "      <td>0.001383</td>\n",
              "      <td>0.003756</td>\n",
              "      <td>0.004844</td>\n",
              "    </tr>\n",
              "    <tr>\n",
              "      <th>521</th>\n",
              "      <td>0.000000</td>\n",
              "      <td>0.000000</td>\n",
              "      <td>-0.007963</td>\n",
              "    </tr>\n",
              "    <tr>\n",
              "      <th>522</th>\n",
              "      <td>0.004133</td>\n",
              "      <td>0.000617</td>\n",
              "      <td>0.003260</td>\n",
              "    </tr>\n",
              "  </tbody>\n",
              "</table>\n",
              "<p>156 rows × 3 columns</p>\n",
              "</div>"
            ],
            "text/plain": [
              "         asii      bbri      pgas\n",
              "367  0.010757  0.002866 -0.001278\n",
              "368 -0.003487 -0.005673  0.001282\n",
              "369  0.001173  0.005214  0.017887\n",
              "370 -0.001169  0.000000 -0.007292\n",
              "371  0.001173  0.000568  0.002483\n",
              "..        ...       ...       ...\n",
              "518 -0.008483  0.001936 -0.014269\n",
              "519  0.017354  0.006407  0.008265\n",
              "520  0.001383  0.003756  0.004844\n",
              "521  0.000000  0.000000 -0.007963\n",
              "522  0.004133  0.000617  0.003260\n",
              "\n",
              "[156 rows x 3 columns]"
            ]
          },
          "metadata": {
            "tags": []
          },
          "execution_count": 59
        }
      ]
    },
    {
      "cell_type": "code",
      "metadata": {
        "colab": {
          "base_uri": "https://localhost:8080/"
        },
        "id": "UzwwmYV2CgGu",
        "outputId": "9b9b5e86-91bd-4511-ffa4-0d5e8eb3f502"
      },
      "source": [
        "port_ret31 = weighted_returns3.sum(axis=1)\n",
        "port_ret31"
      ],
      "execution_count": null,
      "outputs": [
        {
          "output_type": "execute_result",
          "data": {
            "text/plain": [
              "367    0.012346\n",
              "368   -0.007878\n",
              "369    0.024274\n",
              "370   -0.008461\n",
              "371    0.004224\n",
              "         ...   \n",
              "518   -0.020816\n",
              "519    0.032027\n",
              "520    0.009983\n",
              "521   -0.007963\n",
              "522    0.008011\n",
              "Length: 156, dtype: float64"
            ]
          },
          "metadata": {
            "tags": []
          },
          "execution_count": 60
        }
      ]
    },
    {
      "cell_type": "code",
      "metadata": {
        "id": "3EaSn6mcCg0j"
      },
      "source": [
        "port_ret31.to_csv('port_ret31.csv')\n",
        "!cp port_ret31.csv \"/content/drive/My Drive/PYTHON/port_ret\""
      ],
      "execution_count": null,
      "outputs": []
    },
    {
      "cell_type": "code",
      "metadata": {
        "colab": {
          "base_uri": "https://localhost:8080/"
        },
        "id": "y4JQZpWjCkwY",
        "outputId": "ac51f2d5-90d3-4b4e-e657-828131ae6c4f"
      },
      "source": [
        "print('Max return:', max(port_ret31))\n",
        "print('Min return:', min(port_ret31))\n",
        "print('Average return:', np.mean(port_ret31))\n",
        "print('sharpe ratio :', np.mean(port_ret31)/np.std(port_ret31))\n",
        "\n",
        "\n",
        "print(np.mean(port_ret31) > rho) "
      ],
      "execution_count": null,
      "outputs": [
        {
          "output_type": "stream",
          "text": [
            "Max return: 0.10202881398290914\n",
            "Min return: -0.08135670623722727\n",
            "Average return: 0.001191438370719998\n",
            "sharpe ratio : 0.03598112341040192\n",
            "True\n"
          ],
          "name": "stdout"
        }
      ]
    },
    {
      "cell_type": "code",
      "metadata": {
        "colab": {
          "base_uri": "https://localhost:8080/",
          "height": 307
        },
        "id": "IYSvbzynCxqP",
        "outputId": "6ffd1441-fcfb-4abb-d412-4bd5fb9beea8"
      },
      "source": [
        "import matplotlib.pyplot as plt\n",
        "\n",
        "fig = plt.figure()\n",
        "ax1 = fig.add_axes([0.1,0.1,0.8,0.8])\n",
        "ax1.hist(port_ret31, bins = 60)\n",
        "ax1.set_xlabel('Return Portofolio')\n",
        "ax1.set_ylabel(\"Jumlah\")\n",
        "ax1.set_title(\"Return Portofolio Ellipsoidal 3 emiten\")\n",
        "plt.show(); "
      ],
      "execution_count": null,
      "outputs": [
        {
          "output_type": "display_data",
          "data": {
            "image/png": "[encoded data removed]",
            "text/plain": [
              "<Figure size 432x288 with 1 Axes>"
            ]
          },
          "metadata": {
            "tags": [],
            "needs_background": "light"
          }
        }
      ]
    },
    {
      "cell_type": "markdown",
      "metadata": {
        "id": "1taWIvZADFoN"
      },
      "source": [
        "####Sparse Mean-Variance"
      ]
    },
    {
      "cell_type": "code",
      "metadata": {
        "colab": {
          "base_uri": "https://localhost:8080/"
        },
        "id": "86gEhnhBDDRm",
        "outputId": "91c70269-4295-4bc8-c481-79982dac1479"
      },
      "source": [
        "ns = R3.shape[1]\n",
        "m13 = np.ones((n,1), dtype=np.int64)\n",
        "m13= np.matrix(m13).T\n",
        "w0 = np.random.randn(n)\n",
        "\n",
        "\n",
        "# Define and solve the CVXPY problem.\n",
        "w = cp.Variable(ns)\n",
        "contraints = [\n",
        "      w.T*myu3 == rho, \n",
        "      cp.sum(w) == 1,\n",
        "      \n",
        "]\n",
        "\n",
        "obj = cp.Minimize(cp.sum_squares(cp.reshape(rho*m13.T, (n,)) - R3*w) + tho*cp.sum(cp.abs(w)))\n",
        "\n",
        "prob = cp.Problem(obj,contraints)\n",
        "prob.solve()\n",
        "\n",
        "print(\"The optimal value is\", prob.value)\n",
        "print(\"Solution for w is\")\n",
        "print(w.value)\n",
        "print(\"SOC constraint dual variable solution\")\n",
        "print(contraints[0].dual_value)"
      ],
      "execution_count": null,
      "outputs": [
        {
          "output_type": "stream",
          "text": [
            "The optimal value is 0.8498134857303001\n",
            "Solution for w is\n",
            "[ 0.26565115 -0.21819761  0.95254646]\n",
            "SOC constraint dual variable solution\n",
            "[311.34190748]\n"
          ],
          "name": "stdout"
        }
      ]
    },
    {
      "cell_type": "code",
      "metadata": {
        "colab": {
          "base_uri": "https://localhost:8080/",
          "height": 391
        },
        "id": "qRwhb3o1DUQv",
        "outputId": "45d46760-0b9b-4e93-8333-7496142c1361"
      },
      "source": [
        "#return portofolio\n",
        "df_pct_ret_test3=df_test3.drop(columns=['Date']).pct_change()\n",
        "df_pct_ret_test3=df_pct_ret_test3.dropna()\n",
        "df_pct_ret_test3"
      ],
      "execution_count": null,
      "outputs": [
        {
          "output_type": "execute_result",
          "data": {
            "text/html": [
              "<div>\n",
              "<style scoped>\n",
              "    .dataframe tbody tr th:only-of-type {\n",
              "        vertical-align: middle;\n",
              "    }\n",
              "\n",
              "    .dataframe tbody tr th {\n",
              "        vertical-align: top;\n",
              "    }\n",
              "\n",
              "    .dataframe thead th {\n",
              "        text-align: right;\n",
              "    }\n",
              "</style>\n",
              "<table border=\"1\" class=\"dataframe\">\n",
              "  <thead>\n",
              "    <tr style=\"text-align: right;\">\n",
              "      <th></th>\n",
              "      <th>asii</th>\n",
              "      <th>bbri</th>\n",
              "      <th>pgas</th>\n",
              "    </tr>\n",
              "  </thead>\n",
              "  <tbody>\n",
              "    <tr>\n",
              "      <th>367</th>\n",
              "      <td>0.028391</td>\n",
              "      <td>0.010526</td>\n",
              "      <td>-0.003663</td>\n",
              "    </tr>\n",
              "    <tr>\n",
              "      <th>368</th>\n",
              "      <td>-0.009202</td>\n",
              "      <td>-0.020833</td>\n",
              "      <td>0.003676</td>\n",
              "    </tr>\n",
              "    <tr>\n",
              "      <th>369</th>\n",
              "      <td>0.003096</td>\n",
              "      <td>0.019149</td>\n",
              "      <td>0.051282</td>\n",
              "    </tr>\n",
              "    <tr>\n",
              "      <th>370</th>\n",
              "      <td>-0.003086</td>\n",
              "      <td>0.000000</td>\n",
              "      <td>-0.020906</td>\n",
              "    </tr>\n",
              "    <tr>\n",
              "      <th>371</th>\n",
              "      <td>0.003096</td>\n",
              "      <td>0.002088</td>\n",
              "      <td>0.007117</td>\n",
              "    </tr>\n",
              "    <tr>\n",
              "      <th>...</th>\n",
              "      <td>...</td>\n",
              "      <td>...</td>\n",
              "      <td>...</td>\n",
              "    </tr>\n",
              "    <tr>\n",
              "      <th>518</th>\n",
              "      <td>-0.022388</td>\n",
              "      <td>0.007109</td>\n",
              "      <td>-0.040909</td>\n",
              "    </tr>\n",
              "    <tr>\n",
              "      <th>519</th>\n",
              "      <td>0.045802</td>\n",
              "      <td>0.023529</td>\n",
              "      <td>0.023697</td>\n",
              "    </tr>\n",
              "    <tr>\n",
              "      <th>520</th>\n",
              "      <td>0.003650</td>\n",
              "      <td>0.013793</td>\n",
              "      <td>0.013889</td>\n",
              "    </tr>\n",
              "    <tr>\n",
              "      <th>521</th>\n",
              "      <td>0.000000</td>\n",
              "      <td>0.000000</td>\n",
              "      <td>-0.022831</td>\n",
              "    </tr>\n",
              "    <tr>\n",
              "      <th>522</th>\n",
              "      <td>0.010909</td>\n",
              "      <td>0.002268</td>\n",
              "      <td>0.009346</td>\n",
              "    </tr>\n",
              "  </tbody>\n",
              "</table>\n",
              "<p>156 rows × 3 columns</p>\n",
              "</div>"
            ],
            "text/plain": [
              "         asii      bbri      pgas\n",
              "367  0.028391  0.010526 -0.003663\n",
              "368 -0.009202 -0.020833  0.003676\n",
              "369  0.003096  0.019149  0.051282\n",
              "370 -0.003086  0.000000 -0.020906\n",
              "371  0.003096  0.002088  0.007117\n",
              "..        ...       ...       ...\n",
              "518 -0.022388  0.007109 -0.040909\n",
              "519  0.045802  0.023529  0.023697\n",
              "520  0.003650  0.013793  0.013889\n",
              "521  0.000000  0.000000 -0.022831\n",
              "522  0.010909  0.002268  0.009346\n",
              "\n",
              "[156 rows x 3 columns]"
            ]
          },
          "metadata": {
            "tags": []
          },
          "execution_count": 65
        }
      ]
    },
    {
      "cell_type": "code",
      "metadata": {
        "colab": {
          "base_uri": "https://localhost:8080/"
        },
        "id": "A33f-nFyHsim",
        "outputId": "b581a592-4cf6-49f8-c96b-40cc0793b4fa"
      },
      "source": [
        "emitens3"
      ],
      "execution_count": null,
      "outputs": [
        {
          "output_type": "execute_result",
          "data": {
            "text/plain": [
              "['asii', 'bbri', 'pgas']"
            ]
          },
          "metadata": {
            "tags": []
          },
          "execution_count": 66
        }
      ]
    },
    {
      "cell_type": "code",
      "metadata": {
        "colab": {
          "base_uri": "https://localhost:8080/",
          "height": 391
        },
        "id": "z_4XFeFVH1Md",
        "outputId": "416307eb-c3ef-4061-a2d6-86c34f51a8d7"
      },
      "source": [
        "df_pct_weekly_return3 = pd.DataFrame()\n",
        "i=0\n",
        "for emiten in emitens3:\n",
        "  df_pct_weekly_return3[emiten]=w.value[i]*df_pct_ret_test3[emiten]\n",
        "  i+=1\n",
        "\n",
        "df_pct_weekly_return3"
      ],
      "execution_count": null,
      "outputs": [
        {
          "output_type": "execute_result",
          "data": {
            "text/html": [
              "<div>\n",
              "<style scoped>\n",
              "    .dataframe tbody tr th:only-of-type {\n",
              "        vertical-align: middle;\n",
              "    }\n",
              "\n",
              "    .dataframe tbody tr th {\n",
              "        vertical-align: top;\n",
              "    }\n",
              "\n",
              "    .dataframe thead th {\n",
              "        text-align: right;\n",
              "    }\n",
              "</style>\n",
              "<table border=\"1\" class=\"dataframe\">\n",
              "  <thead>\n",
              "    <tr style=\"text-align: right;\">\n",
              "      <th></th>\n",
              "      <th>asii</th>\n",
              "      <th>bbri</th>\n",
              "      <th>pgas</th>\n",
              "    </tr>\n",
              "  </thead>\n",
              "  <tbody>\n",
              "    <tr>\n",
              "      <th>367</th>\n",
              "      <td>0.007542</td>\n",
              "      <td>-0.002297</td>\n",
              "      <td>-0.003489</td>\n",
              "    </tr>\n",
              "    <tr>\n",
              "      <th>368</th>\n",
              "      <td>-0.002445</td>\n",
              "      <td>0.004546</td>\n",
              "      <td>0.003502</td>\n",
              "    </tr>\n",
              "    <tr>\n",
              "      <th>369</th>\n",
              "      <td>0.000822</td>\n",
              "      <td>-0.004178</td>\n",
              "      <td>0.048849</td>\n",
              "    </tr>\n",
              "    <tr>\n",
              "      <th>370</th>\n",
              "      <td>-0.000820</td>\n",
              "      <td>-0.000000</td>\n",
              "      <td>-0.019914</td>\n",
              "    </tr>\n",
              "    <tr>\n",
              "      <th>371</th>\n",
              "      <td>0.000822</td>\n",
              "      <td>-0.000456</td>\n",
              "      <td>0.006780</td>\n",
              "    </tr>\n",
              "    <tr>\n",
              "      <th>...</th>\n",
              "      <td>...</td>\n",
              "      <td>...</td>\n",
              "      <td>...</td>\n",
              "    </tr>\n",
              "    <tr>\n",
              "      <th>518</th>\n",
              "      <td>-0.005947</td>\n",
              "      <td>-0.001551</td>\n",
              "      <td>-0.038968</td>\n",
              "    </tr>\n",
              "    <tr>\n",
              "      <th>519</th>\n",
              "      <td>0.012167</td>\n",
              "      <td>-0.005134</td>\n",
              "      <td>0.022572</td>\n",
              "    </tr>\n",
              "    <tr>\n",
              "      <th>520</th>\n",
              "      <td>0.000970</td>\n",
              "      <td>-0.003010</td>\n",
              "      <td>0.013230</td>\n",
              "    </tr>\n",
              "    <tr>\n",
              "      <th>521</th>\n",
              "      <td>0.000000</td>\n",
              "      <td>-0.000000</td>\n",
              "      <td>-0.021748</td>\n",
              "    </tr>\n",
              "    <tr>\n",
              "      <th>522</th>\n",
              "      <td>0.002898</td>\n",
              "      <td>-0.000495</td>\n",
              "      <td>0.008902</td>\n",
              "    </tr>\n",
              "  </tbody>\n",
              "</table>\n",
              "<p>156 rows × 3 columns</p>\n",
              "</div>"
            ],
            "text/plain": [
              "         asii      bbri      pgas\n",
              "367  0.007542 -0.002297 -0.003489\n",
              "368 -0.002445  0.004546  0.003502\n",
              "369  0.000822 -0.004178  0.048849\n",
              "370 -0.000820 -0.000000 -0.019914\n",
              "371  0.000822 -0.000456  0.006780\n",
              "..        ...       ...       ...\n",
              "518 -0.005947 -0.001551 -0.038968\n",
              "519  0.012167 -0.005134  0.022572\n",
              "520  0.000970 -0.003010  0.013230\n",
              "521  0.000000 -0.000000 -0.021748\n",
              "522  0.002898 -0.000495  0.008902\n",
              "\n",
              "[156 rows x 3 columns]"
            ]
          },
          "metadata": {
            "tags": []
          },
          "execution_count": 67
        }
      ]
    },
    {
      "cell_type": "code",
      "metadata": {
        "colab": {
          "base_uri": "https://localhost:8080/",
          "height": 391
        },
        "id": "zyiFD5LsIBUV",
        "outputId": "4179222d-ff7b-4871-801a-2bea1721b36d"
      },
      "source": [
        "price_data3 = df_test3.drop(columns=['Date'])\n",
        "price_data3"
      ],
      "execution_count": null,
      "outputs": [
        {
          "output_type": "execute_result",
          "data": {
            "text/html": [
              "<div>\n",
              "<style scoped>\n",
              "    .dataframe tbody tr th:only-of-type {\n",
              "        vertical-align: middle;\n",
              "    }\n",
              "\n",
              "    .dataframe tbody tr th {\n",
              "        vertical-align: top;\n",
              "    }\n",
              "\n",
              "    .dataframe thead th {\n",
              "        text-align: right;\n",
              "    }\n",
              "</style>\n",
              "<table border=\"1\" class=\"dataframe\">\n",
              "  <thead>\n",
              "    <tr style=\"text-align: right;\">\n",
              "      <th></th>\n",
              "      <th>asii</th>\n",
              "      <th>bbri</th>\n",
              "      <th>pgas</th>\n",
              "    </tr>\n",
              "  </thead>\n",
              "  <tbody>\n",
              "    <tr>\n",
              "      <th>366</th>\n",
              "      <td>7925.0</td>\n",
              "      <td>2375.0</td>\n",
              "      <td>2730.0</td>\n",
              "    </tr>\n",
              "    <tr>\n",
              "      <th>367</th>\n",
              "      <td>8150.0</td>\n",
              "      <td>2400.0</td>\n",
              "      <td>2720.0</td>\n",
              "    </tr>\n",
              "    <tr>\n",
              "      <th>368</th>\n",
              "      <td>8075.0</td>\n",
              "      <td>2350.0</td>\n",
              "      <td>2730.0</td>\n",
              "    </tr>\n",
              "    <tr>\n",
              "      <th>369</th>\n",
              "      <td>8100.0</td>\n",
              "      <td>2395.0</td>\n",
              "      <td>2870.0</td>\n",
              "    </tr>\n",
              "    <tr>\n",
              "      <th>370</th>\n",
              "      <td>8075.0</td>\n",
              "      <td>2395.0</td>\n",
              "      <td>2810.0</td>\n",
              "    </tr>\n",
              "    <tr>\n",
              "      <th>...</th>\n",
              "      <td>...</td>\n",
              "      <td>...</td>\n",
              "      <td>...</td>\n",
              "    </tr>\n",
              "    <tr>\n",
              "      <th>518</th>\n",
              "      <td>6550.0</td>\n",
              "      <td>4250.0</td>\n",
              "      <td>2110.0</td>\n",
              "    </tr>\n",
              "    <tr>\n",
              "      <th>519</th>\n",
              "      <td>6850.0</td>\n",
              "      <td>4350.0</td>\n",
              "      <td>2160.0</td>\n",
              "    </tr>\n",
              "    <tr>\n",
              "      <th>520</th>\n",
              "      <td>6875.0</td>\n",
              "      <td>4410.0</td>\n",
              "      <td>2190.0</td>\n",
              "    </tr>\n",
              "    <tr>\n",
              "      <th>521</th>\n",
              "      <td>6875.0</td>\n",
              "      <td>4410.0</td>\n",
              "      <td>2140.0</td>\n",
              "    </tr>\n",
              "    <tr>\n",
              "      <th>522</th>\n",
              "      <td>6950.0</td>\n",
              "      <td>4420.0</td>\n",
              "      <td>2160.0</td>\n",
              "    </tr>\n",
              "  </tbody>\n",
              "</table>\n",
              "<p>157 rows × 3 columns</p>\n",
              "</div>"
            ],
            "text/plain": [
              "       asii    bbri    pgas\n",
              "366  7925.0  2375.0  2730.0\n",
              "367  8150.0  2400.0  2720.0\n",
              "368  8075.0  2350.0  2730.0\n",
              "369  8100.0  2395.0  2870.0\n",
              "370  8075.0  2395.0  2810.0\n",
              "..      ...     ...     ...\n",
              "518  6550.0  4250.0  2110.0\n",
              "519  6850.0  4350.0  2160.0\n",
              "520  6875.0  4410.0  2190.0\n",
              "521  6875.0  4410.0  2140.0\n",
              "522  6950.0  4420.0  2160.0\n",
              "\n",
              "[157 rows x 3 columns]"
            ]
          },
          "metadata": {
            "tags": []
          },
          "execution_count": 68
        }
      ]
    },
    {
      "cell_type": "code",
      "metadata": {
        "colab": {
          "base_uri": "https://localhost:8080/",
          "height": 391
        },
        "id": "TYma7Lf4IGeI",
        "outputId": "1db0dbea-2d85-40b7-cf8a-e6f382d35c26"
      },
      "source": [
        "ret_data3 = price_data3.pct_change()[1:]\n",
        "ret_data3"
      ],
      "execution_count": null,
      "outputs": [
        {
          "output_type": "execute_result",
          "data": {
            "text/html": [
              "<div>\n",
              "<style scoped>\n",
              "    .dataframe tbody tr th:only-of-type {\n",
              "        vertical-align: middle;\n",
              "    }\n",
              "\n",
              "    .dataframe tbody tr th {\n",
              "        vertical-align: top;\n",
              "    }\n",
              "\n",
              "    .dataframe thead th {\n",
              "        text-align: right;\n",
              "    }\n",
              "</style>\n",
              "<table border=\"1\" class=\"dataframe\">\n",
              "  <thead>\n",
              "    <tr style=\"text-align: right;\">\n",
              "      <th></th>\n",
              "      <th>asii</th>\n",
              "      <th>bbri</th>\n",
              "      <th>pgas</th>\n",
              "    </tr>\n",
              "  </thead>\n",
              "  <tbody>\n",
              "    <tr>\n",
              "      <th>367</th>\n",
              "      <td>0.028391</td>\n",
              "      <td>0.010526</td>\n",
              "      <td>-0.003663</td>\n",
              "    </tr>\n",
              "    <tr>\n",
              "      <th>368</th>\n",
              "      <td>-0.009202</td>\n",
              "      <td>-0.020833</td>\n",
              "      <td>0.003676</td>\n",
              "    </tr>\n",
              "    <tr>\n",
              "      <th>369</th>\n",
              "      <td>0.003096</td>\n",
              "      <td>0.019149</td>\n",
              "      <td>0.051282</td>\n",
              "    </tr>\n",
              "    <tr>\n",
              "      <th>370</th>\n",
              "      <td>-0.003086</td>\n",
              "      <td>0.000000</td>\n",
              "      <td>-0.020906</td>\n",
              "    </tr>\n",
              "    <tr>\n",
              "      <th>371</th>\n",
              "      <td>0.003096</td>\n",
              "      <td>0.002088</td>\n",
              "      <td>0.007117</td>\n",
              "    </tr>\n",
              "    <tr>\n",
              "      <th>...</th>\n",
              "      <td>...</td>\n",
              "      <td>...</td>\n",
              "      <td>...</td>\n",
              "    </tr>\n",
              "    <tr>\n",
              "      <th>518</th>\n",
              "      <td>-0.022388</td>\n",
              "      <td>0.007109</td>\n",
              "      <td>-0.040909</td>\n",
              "    </tr>\n",
              "    <tr>\n",
              "      <th>519</th>\n",
              "      <td>0.045802</td>\n",
              "      <td>0.023529</td>\n",
              "      <td>0.023697</td>\n",
              "    </tr>\n",
              "    <tr>\n",
              "      <th>520</th>\n",
              "      <td>0.003650</td>\n",
              "      <td>0.013793</td>\n",
              "      <td>0.013889</td>\n",
              "    </tr>\n",
              "    <tr>\n",
              "      <th>521</th>\n",
              "      <td>0.000000</td>\n",
              "      <td>0.000000</td>\n",
              "      <td>-0.022831</td>\n",
              "    </tr>\n",
              "    <tr>\n",
              "      <th>522</th>\n",
              "      <td>0.010909</td>\n",
              "      <td>0.002268</td>\n",
              "      <td>0.009346</td>\n",
              "    </tr>\n",
              "  </tbody>\n",
              "</table>\n",
              "<p>156 rows × 3 columns</p>\n",
              "</div>"
            ],
            "text/plain": [
              "         asii      bbri      pgas\n",
              "367  0.028391  0.010526 -0.003663\n",
              "368 -0.009202 -0.020833  0.003676\n",
              "369  0.003096  0.019149  0.051282\n",
              "370 -0.003086  0.000000 -0.020906\n",
              "371  0.003096  0.002088  0.007117\n",
              "..        ...       ...       ...\n",
              "518 -0.022388  0.007109 -0.040909\n",
              "519  0.045802  0.023529  0.023697\n",
              "520  0.003650  0.013793  0.013889\n",
              "521  0.000000  0.000000 -0.022831\n",
              "522  0.010909  0.002268  0.009346\n",
              "\n",
              "[156 rows x 3 columns]"
            ]
          },
          "metadata": {
            "tags": []
          },
          "execution_count": 69
        }
      ]
    },
    {
      "cell_type": "code",
      "metadata": {
        "colab": {
          "base_uri": "https://localhost:8080/",
          "height": 391
        },
        "id": "gaPSW0_zIKIc",
        "outputId": "bf56c31f-1fb8-429a-cee4-eb8bfa44341a"
      },
      "source": [
        "weighted_returns3 = (w.value.reshape(3) * ret_data3)\n",
        "weighted_returns3"
      ],
      "execution_count": null,
      "outputs": [
        {
          "output_type": "execute_result",
          "data": {
            "text/html": [
              "<div>\n",
              "<style scoped>\n",
              "    .dataframe tbody tr th:only-of-type {\n",
              "        vertical-align: middle;\n",
              "    }\n",
              "\n",
              "    .dataframe tbody tr th {\n",
              "        vertical-align: top;\n",
              "    }\n",
              "\n",
              "    .dataframe thead th {\n",
              "        text-align: right;\n",
              "    }\n",
              "</style>\n",
              "<table border=\"1\" class=\"dataframe\">\n",
              "  <thead>\n",
              "    <tr style=\"text-align: right;\">\n",
              "      <th></th>\n",
              "      <th>asii</th>\n",
              "      <th>bbri</th>\n",
              "      <th>pgas</th>\n",
              "    </tr>\n",
              "  </thead>\n",
              "  <tbody>\n",
              "    <tr>\n",
              "      <th>367</th>\n",
              "      <td>0.007542</td>\n",
              "      <td>-0.002297</td>\n",
              "      <td>-0.003489</td>\n",
              "    </tr>\n",
              "    <tr>\n",
              "      <th>368</th>\n",
              "      <td>-0.002445</td>\n",
              "      <td>0.004546</td>\n",
              "      <td>0.003502</td>\n",
              "    </tr>\n",
              "    <tr>\n",
              "      <th>369</th>\n",
              "      <td>0.000822</td>\n",
              "      <td>-0.004178</td>\n",
              "      <td>0.048849</td>\n",
              "    </tr>\n",
              "    <tr>\n",
              "      <th>370</th>\n",
              "      <td>-0.000820</td>\n",
              "      <td>-0.000000</td>\n",
              "      <td>-0.019914</td>\n",
              "    </tr>\n",
              "    <tr>\n",
              "      <th>371</th>\n",
              "      <td>0.000822</td>\n",
              "      <td>-0.000456</td>\n",
              "      <td>0.006780</td>\n",
              "    </tr>\n",
              "    <tr>\n",
              "      <th>...</th>\n",
              "      <td>...</td>\n",
              "      <td>...</td>\n",
              "      <td>...</td>\n",
              "    </tr>\n",
              "    <tr>\n",
              "      <th>518</th>\n",
              "      <td>-0.005947</td>\n",
              "      <td>-0.001551</td>\n",
              "      <td>-0.038968</td>\n",
              "    </tr>\n",
              "    <tr>\n",
              "      <th>519</th>\n",
              "      <td>0.012167</td>\n",
              "      <td>-0.005134</td>\n",
              "      <td>0.022572</td>\n",
              "    </tr>\n",
              "    <tr>\n",
              "      <th>520</th>\n",
              "      <td>0.000970</td>\n",
              "      <td>-0.003010</td>\n",
              "      <td>0.013230</td>\n",
              "    </tr>\n",
              "    <tr>\n",
              "      <th>521</th>\n",
              "      <td>0.000000</td>\n",
              "      <td>-0.000000</td>\n",
              "      <td>-0.021748</td>\n",
              "    </tr>\n",
              "    <tr>\n",
              "      <th>522</th>\n",
              "      <td>0.002898</td>\n",
              "      <td>-0.000495</td>\n",
              "      <td>0.008902</td>\n",
              "    </tr>\n",
              "  </tbody>\n",
              "</table>\n",
              "<p>156 rows × 3 columns</p>\n",
              "</div>"
            ],
            "text/plain": [
              "         asii      bbri      pgas\n",
              "367  0.007542 -0.002297 -0.003489\n",
              "368 -0.002445  0.004546  0.003502\n",
              "369  0.000822 -0.004178  0.048849\n",
              "370 -0.000820 -0.000000 -0.019914\n",
              "371  0.000822 -0.000456  0.006780\n",
              "..        ...       ...       ...\n",
              "518 -0.005947 -0.001551 -0.038968\n",
              "519  0.012167 -0.005134  0.022572\n",
              "520  0.000970 -0.003010  0.013230\n",
              "521  0.000000 -0.000000 -0.021748\n",
              "522  0.002898 -0.000495  0.008902\n",
              "\n",
              "[156 rows x 3 columns]"
            ]
          },
          "metadata": {
            "tags": []
          },
          "execution_count": 70
        }
      ]
    },
    {
      "cell_type": "code",
      "metadata": {
        "colab": {
          "base_uri": "https://localhost:8080/"
        },
        "id": "mq5CzJZmIM_c",
        "outputId": "250b111b-bb6d-4728-8a25-e0d81e6ba1d4"
      },
      "source": [
        "port_ret32 = weighted_returns3.sum(axis=1)\n",
        "port_ret32"
      ],
      "execution_count": null,
      "outputs": [
        {
          "output_type": "execute_result",
          "data": {
            "text/plain": [
              "367    0.001756\n",
              "368    0.005603\n",
              "369    0.045493\n",
              "370   -0.020734\n",
              "371    0.007147\n",
              "         ...   \n",
              "518   -0.046466\n",
              "519    0.029605\n",
              "520    0.011190\n",
              "521   -0.021748\n",
              "522    0.011306\n",
              "Length: 156, dtype: float64"
            ]
          },
          "metadata": {
            "tags": []
          },
          "execution_count": 71
        }
      ]
    },
    {
      "cell_type": "code",
      "metadata": {
        "id": "eBYFEu93ISvd"
      },
      "source": [
        "port_ret32.to_csv('port_ret32.csv')\n",
        "!cp port_ret32.csv \"/content/drive/My Drive/PYTHON/port_ret\""
      ],
      "execution_count": null,
      "outputs": []
    },
    {
      "cell_type": "code",
      "metadata": {
        "colab": {
          "base_uri": "https://localhost:8080/"
        },
        "id": "kwDB3l3ZITVN",
        "outputId": "56065082-094c-4ce2-8a17-01dd189e3f0d"
      },
      "source": [
        "print('Max return:', max(port_ret32))\n",
        "print('Min return:', min(port_ret32))\n",
        "print('Average return:', np.mean(port_ret32))\n",
        "print('sharpe ratio :', np.mean(port_ret32)/np.std(port_ret32))"
      ],
      "execution_count": null,
      "outputs": [
        {
          "output_type": "stream",
          "text": [
            "Max return: 0.20835597772594874\n",
            "Min return: -0.16918314122020217\n",
            "Average return: -0.000908196602947245\n",
            "sharpe ratio : -0.01590032467445969\n"
          ],
          "name": "stdout"
        }
      ]
    },
    {
      "cell_type": "code",
      "metadata": {
        "colab": {
          "base_uri": "https://localhost:8080/",
          "height": 307
        },
        "id": "yjQKbIh5IWS-",
        "outputId": "f5a038d1-9050-4e2e-e5f2-5d5264be1476"
      },
      "source": [
        "import matplotlib.pyplot as plt\n",
        "\n",
        "fig = plt.figure()\n",
        "ax1 = fig.add_axes([0.1,0.1,0.8,0.8])\n",
        "ax1.hist(port_ret32, bins = 60)\n",
        "ax1.set_xlabel('Return Portofolio')\n",
        "ax1.set_ylabel(\"Jumlah\")\n",
        "ax1.set_title(\"Return Portofolio sparse mean-variance 3 emiten\")\n",
        "plt.show(); "
      ],
      "execution_count": null,
      "outputs": [
        {
          "output_type": "display_data",
          "data": {
            "image/png": "[encoded data removed]",
            "text/plain": [
              "<Figure size 432x288 with 1 Axes>"
            ]
          },
          "metadata": {
            "tags": [],
            "needs_background": "light"
          }
        }
      ]
    },
    {
      "cell_type": "markdown",
      "metadata": {
        "id": "m6R-dvc87-OS"
      },
      "source": [
        "###4 emiten"
      ]
    },
    {
      "cell_type": "markdown",
      "metadata": {
        "id": "mQA4cfa3Ite_"
      },
      "source": [
        "####Ellipsoidal Uncertainty"
      ]
    },
    {
      "cell_type": "code",
      "metadata": {
        "colab": {
          "base_uri": "https://localhost:8080/"
        },
        "id": "MuWIhzcBDUIA",
        "outputId": "3dd43518-597d-4a15-917b-3ad75fa8f371"
      },
      "source": [
        "import os\n",
        "base_dir = '/content/drive/My Drive/PYTHON/saham/data4'\n",
        "\n",
        "data4 = [f for f in os.listdir(base_dir)]\n",
        "for f in data4:\n",
        "    print(f)"
      ],
      "execution_count": null,
      "outputs": [
        {
          "output_type": "stream",
          "text": [
            "ASII.JK.csv\n",
            "BBRI.JK.csv\n",
            "CPIN.JK.csv\n",
            "PGAS.JK.csv\n"
          ],
          "name": "stdout"
        }
      ]
    },
    {
      "cell_type": "code",
      "metadata": {
        "colab": {
          "base_uri": "https://localhost:8080/",
          "height": 467
        },
        "id": "3Wd8mF48IsI1",
        "outputId": "f76ebfb0-acd7-4aca-ad3c-7a4104291981"
      },
      "source": [
        "#show one emiten\n",
        "import pandas as pd\n",
        "\n",
        "example_emiten4 = data4[0]\n",
        "df_example4 = pd.read_csv(base_dir+'/'+example_emiten4)\n",
        "print(example_emiten4)\n",
        "print(df_example4.info())\n",
        "print(\"Showing Head of Emiten Dataframe\")\n",
        "df_example4.head()"
      ],
      "execution_count": null,
      "outputs": [
        {
          "output_type": "stream",
          "text": [
            "ASII.JK.csv\n",
            "<class 'pandas.core.frame.DataFrame'>\n",
            "RangeIndex: 523 entries, 0 to 522\n",
            "Data columns (total 7 columns):\n",
            " #   Column     Non-Null Count  Dtype  \n",
            "---  ------     --------------  -----  \n",
            " 0   Date       523 non-null    object \n",
            " 1   Open       523 non-null    float64\n",
            " 2   High       523 non-null    float64\n",
            " 3   Low        523 non-null    float64\n",
            " 4   Close      523 non-null    float64\n",
            " 5   Adj Close  523 non-null    float64\n",
            " 6   Volume     523 non-null    int64  \n",
            "dtypes: float64(5), int64(1), object(1)\n",
            "memory usage: 28.7+ KB\n",
            "None\n",
            "Showing Head of Emiten Dataframe\n"
          ],
          "name": "stdout"
        },
        {
          "output_type": "execute_result",
          "data": {
            "text/html": [
              "<div>\n",
              "<style scoped>\n",
              "    .dataframe tbody tr th:only-of-type {\n",
              "        vertical-align: middle;\n",
              "    }\n",
              "\n",
              "    .dataframe tbody tr th {\n",
              "        vertical-align: top;\n",
              "    }\n",
              "\n",
              "    .dataframe thead th {\n",
              "        text-align: right;\n",
              "    }\n",
              "</style>\n",
              "<table border=\"1\" class=\"dataframe\">\n",
              "  <thead>\n",
              "    <tr style=\"text-align: right;\">\n",
              "      <th></th>\n",
              "      <th>Date</th>\n",
              "      <th>Open</th>\n",
              "      <th>High</th>\n",
              "      <th>Low</th>\n",
              "      <th>Close</th>\n",
              "      <th>Adj Close</th>\n",
              "      <th>Volume</th>\n",
              "    </tr>\n",
              "  </thead>\n",
              "  <tbody>\n",
              "    <tr>\n",
              "      <th>0</th>\n",
              "      <td>2010-01-01</td>\n",
              "      <td>3530.0</td>\n",
              "      <td>3580.0</td>\n",
              "      <td>3415.0</td>\n",
              "      <td>3420.0</td>\n",
              "      <td>1195.503296</td>\n",
              "      <td>160</td>\n",
              "    </tr>\n",
              "    <tr>\n",
              "      <th>1</th>\n",
              "      <td>2010-01-08</td>\n",
              "      <td>3440.0</td>\n",
              "      <td>3580.0</td>\n",
              "      <td>3380.0</td>\n",
              "      <td>3555.0</td>\n",
              "      <td>1242.694092</td>\n",
              "      <td>200</td>\n",
              "    </tr>\n",
              "    <tr>\n",
              "      <th>2</th>\n",
              "      <td>2010-01-15</td>\n",
              "      <td>3620.0</td>\n",
              "      <td>3650.0</td>\n",
              "      <td>3520.0</td>\n",
              "      <td>3525.0</td>\n",
              "      <td>1232.207153</td>\n",
              "      <td>17475160</td>\n",
              "    </tr>\n",
              "    <tr>\n",
              "      <th>3</th>\n",
              "      <td>2010-01-22</td>\n",
              "      <td>3380.0</td>\n",
              "      <td>3600.0</td>\n",
              "      <td>3320.0</td>\n",
              "      <td>3600.0</td>\n",
              "      <td>1258.424194</td>\n",
              "      <td>39415160</td>\n",
              "    </tr>\n",
              "    <tr>\n",
              "      <th>4</th>\n",
              "      <td>2010-01-29</td>\n",
              "      <td>3595.0</td>\n",
              "      <td>3630.0</td>\n",
              "      <td>3485.0</td>\n",
              "      <td>3535.0</td>\n",
              "      <td>1235.702759</td>\n",
              "      <td>32005160</td>\n",
              "    </tr>\n",
              "  </tbody>\n",
              "</table>\n",
              "</div>"
            ],
            "text/plain": [
              "         Date    Open    High     Low   Close    Adj Close    Volume\n",
              "0  2010-01-01  3530.0  3580.0  3415.0  3420.0  1195.503296       160\n",
              "1  2010-01-08  3440.0  3580.0  3380.0  3555.0  1242.694092       200\n",
              "2  2010-01-15  3620.0  3650.0  3520.0  3525.0  1232.207153  17475160\n",
              "3  2010-01-22  3380.0  3600.0  3320.0  3600.0  1258.424194  39415160\n",
              "4  2010-01-29  3595.0  3630.0  3485.0  3535.0  1235.702759  32005160"
            ]
          },
          "metadata": {
            "tags": []
          },
          "execution_count": 76
        }
      ]
    },
    {
      "cell_type": "code",
      "metadata": {
        "id": "ep10fFKwJvVs"
      },
      "source": [
        "df4=pd.DataFrame()\n",
        "target_column4 = 'Close'\n",
        "emitens4 = []\n",
        "for f in data4:\n",
        "  emiten = f.lower().replace('.jk.csv', '')\n",
        "  emitens4.append(emiten)\n",
        "  df_emiten4 = pd.read_csv(base_dir+'/'+f)\n",
        "  df4['Date'] = df_emiten4['Date']\n",
        "  df4[emiten] = df_emiten4[target_column4]\n",
        "df4=df4.dropna()"
      ],
      "execution_count": null,
      "outputs": []
    },
    {
      "cell_type": "code",
      "metadata": {
        "colab": {
          "base_uri": "https://localhost:8080/"
        },
        "id": "NWQmOkcBJ7ts",
        "outputId": "9d9f04ab-2198-4f20-b639-b1b82876b97a"
      },
      "source": [
        "df_train4 = df4[(df4['Date'] <= '2017-01-01')]\n",
        "df_test4 = df4[(df4['Date'] > '2017-01-01')]\n",
        "\n",
        "print(df_train4)\n",
        "print(df_test4)"
      ],
      "execution_count": null,
      "outputs": [
        {
          "output_type": "stream",
          "text": [
            "           Date    asii    bbri    cpin    pgas\n",
            "0    2010-01-01  3420.0   765.0   450.0  4000.0\n",
            "1    2010-01-08  3555.0   785.0   455.0  3850.0\n",
            "2    2010-01-15  3525.0   790.0   455.0  3750.0\n",
            "3    2010-01-22  3600.0   765.0   440.0  3800.0\n",
            "4    2010-01-29  3535.0   740.0   440.0  3700.0\n",
            "..          ...     ...     ...     ...     ...\n",
            "361  2016-12-02  7800.0  2300.0  3150.0  2840.0\n",
            "362  2016-12-09  7750.0  2280.0  3180.0  2800.0\n",
            "363  2016-12-16  7525.0  2175.0  2900.0  2480.0\n",
            "364  2016-12-23  8125.0  2330.0  3110.0  2760.0\n",
            "365  2016-12-30  8125.0  2420.0  3260.0  2860.0\n",
            "\n",
            "[366 rows x 5 columns]\n",
            "           Date    asii    bbri    cpin    pgas\n",
            "366  2017-01-06  7925.0  2375.0  3190.0  2730.0\n",
            "367  2017-01-13  8150.0  2400.0  3230.0  2720.0\n",
            "368  2017-01-20  8075.0  2350.0  3200.0  2730.0\n",
            "369  2017-01-27  8100.0  2395.0  3220.0  2870.0\n",
            "370  2017-02-03  8075.0  2395.0  3290.0  2810.0\n",
            "..          ...     ...     ...     ...     ...\n",
            "518  2019-12-06  6550.0  4250.0  6525.0  2110.0\n",
            "519  2019-12-13  6850.0  4350.0  6750.0  2160.0\n",
            "520  2019-12-20  6875.0  4410.0  6925.0  2190.0\n",
            "521  2019-12-27  6875.0  4410.0  6575.0  2140.0\n",
            "522  2020-01-03  6950.0  4420.0  6900.0  2160.0\n",
            "\n",
            "[157 rows x 5 columns]\n"
          ],
          "name": "stdout"
        }
      ]
    },
    {
      "cell_type": "code",
      "metadata": {
        "colab": {
          "base_uri": "https://localhost:8080/"
        },
        "id": "LD-HIK4GKKEt",
        "outputId": "b16fde14-02df-4933-866b-ee5eac6a9706"
      },
      "source": [
        "emiten_means4 = df4.mean()\n",
        "emiten_means4"
      ],
      "execution_count": null,
      "outputs": [
        {
          "output_type": "execute_result",
          "data": {
            "text/plain": [
              "asii    6963.231358\n",
              "bbri    2210.248566\n",
              "cpin    3433.757170\n",
              "pgas    3530.869981\n",
              "dtype: float64"
            ]
          },
          "metadata": {
            "tags": []
          },
          "execution_count": 79
        }
      ]
    },
    {
      "cell_type": "code",
      "metadata": {
        "colab": {
          "base_uri": "https://localhost:8080/",
          "height": 191
        },
        "id": "NJlI_2fWKcWr",
        "outputId": "044e7731-cf9c-4528-ae2d-c6cab2961a9e"
      },
      "source": [
        "df_pct_ret4 = df_train4.drop(columns=['Date']).pct_change()\n",
        "df_pct_ret4=df_pct_ret4.dropna()\n",
        "df_pct_ret4.head()"
      ],
      "execution_count": null,
      "outputs": [
        {
          "output_type": "execute_result",
          "data": {
            "text/html": [
              "<div>\n",
              "<style scoped>\n",
              "    .dataframe tbody tr th:only-of-type {\n",
              "        vertical-align: middle;\n",
              "    }\n",
              "\n",
              "    .dataframe tbody tr th {\n",
              "        vertical-align: top;\n",
              "    }\n",
              "\n",
              "    .dataframe thead th {\n",
              "        text-align: right;\n",
              "    }\n",
              "</style>\n",
              "<table border=\"1\" class=\"dataframe\">\n",
              "  <thead>\n",
              "    <tr style=\"text-align: right;\">\n",
              "      <th></th>\n",
              "      <th>asii</th>\n",
              "      <th>bbri</th>\n",
              "      <th>cpin</th>\n",
              "      <th>pgas</th>\n",
              "    </tr>\n",
              "  </thead>\n",
              "  <tbody>\n",
              "    <tr>\n",
              "      <th>1</th>\n",
              "      <td>0.039474</td>\n",
              "      <td>0.026144</td>\n",
              "      <td>0.011111</td>\n",
              "      <td>-0.037500</td>\n",
              "    </tr>\n",
              "    <tr>\n",
              "      <th>2</th>\n",
              "      <td>-0.008439</td>\n",
              "      <td>0.006369</td>\n",
              "      <td>0.000000</td>\n",
              "      <td>-0.025974</td>\n",
              "    </tr>\n",
              "    <tr>\n",
              "      <th>3</th>\n",
              "      <td>0.021277</td>\n",
              "      <td>-0.031646</td>\n",
              "      <td>-0.032967</td>\n",
              "      <td>0.013333</td>\n",
              "    </tr>\n",
              "    <tr>\n",
              "      <th>4</th>\n",
              "      <td>-0.018056</td>\n",
              "      <td>-0.032680</td>\n",
              "      <td>0.000000</td>\n",
              "      <td>-0.026316</td>\n",
              "    </tr>\n",
              "    <tr>\n",
              "      <th>5</th>\n",
              "      <td>-0.029703</td>\n",
              "      <td>-0.013514</td>\n",
              "      <td>-0.045455</td>\n",
              "      <td>-0.020270</td>\n",
              "    </tr>\n",
              "  </tbody>\n",
              "</table>\n",
              "</div>"
            ],
            "text/plain": [
              "       asii      bbri      cpin      pgas\n",
              "1  0.039474  0.026144  0.011111 -0.037500\n",
              "2 -0.008439  0.006369  0.000000 -0.025974\n",
              "3  0.021277 -0.031646 -0.032967  0.013333\n",
              "4 -0.018056 -0.032680  0.000000 -0.026316\n",
              "5 -0.029703 -0.013514 -0.045455 -0.020270"
            ]
          },
          "metadata": {
            "tags": []
          },
          "execution_count": 80
        }
      ]
    },
    {
      "cell_type": "code",
      "metadata": {
        "colab": {
          "base_uri": "https://localhost:8080/"
        },
        "id": "cucTp81gLbQU",
        "outputId": "1371752c-9973-4216-f1a4-41cef7897158"
      },
      "source": [
        "import numpy as np\n",
        "R4=np.array(df_pct_ret4)\n",
        "print(R4.shape)"
      ],
      "execution_count": null,
      "outputs": [
        {
          "output_type": "stream",
          "text": [
            "(365, 4)\n"
          ],
          "name": "stdout"
        }
      ]
    },
    {
      "cell_type": "code",
      "metadata": {
        "colab": {
          "base_uri": "https://localhost:8080/"
        },
        "id": "Cqzg4tAYML98",
        "outputId": "21ae997e-5da9-472e-9f08-099b3317fd95"
      },
      "source": [
        "emiten_pct_ret_means4 = df_pct_ret4.mean()\n",
        "emiten_pct_ret_means4"
      ],
      "execution_count": null,
      "outputs": [
        {
          "output_type": "execute_result",
          "data": {
            "text/plain": [
              "asii    0.003320\n",
              "bbri    0.004238\n",
              "cpin    0.007500\n",
              "pgas    0.000255\n",
              "dtype: float64"
            ]
          },
          "metadata": {
            "tags": []
          },
          "execution_count": 82
        }
      ]
    },
    {
      "cell_type": "code",
      "metadata": {
        "colab": {
          "base_uri": "https://localhost:8080/"
        },
        "id": "cUOA1Z9aMROs",
        "outputId": "0d2dff67-6c54-43c4-a18c-ed892a1c7f19"
      },
      "source": [
        "myu4 = np.matrix(emiten_pct_ret_means4.values).T\n",
        "myu4"
      ],
      "execution_count": null,
      "outputs": [
        {
          "output_type": "execute_result",
          "data": {
            "text/plain": [
              "matrix([[0.00331959],\n",
              "        [0.00423764],\n",
              "        [0.00749999],\n",
              "        [0.00025489]])"
            ]
          },
          "metadata": {
            "tags": []
          },
          "execution_count": 83
        }
      ]
    },
    {
      "cell_type": "code",
      "metadata": {
        "colab": {
          "base_uri": "https://localhost:8080/"
        },
        "id": "GGNvMIZHMVgj",
        "outputId": "3b2b2123-7048-4f90-8749-7d9a09a2c02c"
      },
      "source": [
        "tho = 0.01\n",
        "rho= 0.0002;\n",
        "print(rho)\n",
        "\n",
        "#jumlah data\n",
        "n=R4.shape[0]\n",
        "print(n)"
      ],
      "execution_count": null,
      "outputs": [
        {
          "output_type": "stream",
          "text": [
            "0.0002\n",
            "365\n"
          ],
          "name": "stdout"
        }
      ]
    },
    {
      "cell_type": "code",
      "metadata": {
        "colab": {
          "base_uri": "https://localhost:8080/"
        },
        "id": "QE-SZKXBNJsn",
        "outputId": "e5c3cff1-4ab2-48f9-f54f-0d2a39da65d8"
      },
      "source": [
        "import cvxpy as cp\n",
        "import numpy as np\n",
        "\n",
        "# Generate a random feasible SOCP.\n",
        "P = np.array([[0.0001], [0.00009], [0.00008], [0.0001]]).T\n",
        "\n",
        "ns = R4.shape[1]\n",
        "m14 = np.ones((n,1), dtype=np.int64)\n",
        "m14 = np.matrix(m14).T\n",
        "w0 = np.random.randn(n)\n",
        "\n",
        "\n",
        "# Define and solve the CVXPY problem.\n",
        "w = cp.Variable(ns)\n",
        "contraints = [\n",
        "      cp.SOC(w.T @ myu4 - rho, P * w), #first constrraint, SOC constraint\n",
        "      cp.sum(w) == 1,\n",
        "      \n",
        "]\n",
        "\n",
        "obj = cp.Minimize(cp.sum_squares(cp.reshape(rho*m14.T, (n,)) - R4*w) + tho*cp.sum(cp.abs(w)))\n",
        "\n",
        "prob = cp.Problem(obj,contraints)\n",
        "prob.solve()\n",
        "\n",
        "# Print result.\n",
        "print(\"The optimal value is\", prob.value)\n",
        "print(\"Solution for w is\")\n",
        "print(w.value)\n",
        "#print(\"SOC constraint dual variable solution\")\n",
        "#print(contraints[0].dual_value)"
      ],
      "execution_count": null,
      "outputs": [
        {
          "output_type": "stream",
          "text": [
            "The optimal value is 0.4909523956066155\n",
            "Solution for w is\n",
            "[0.36784384 0.25775811 0.03321256 0.34118549]\n"
          ],
          "name": "stdout"
        }
      ]
    },
    {
      "cell_type": "code",
      "metadata": {
        "colab": {
          "base_uri": "https://localhost:8080/"
        },
        "id": "jss7qVDfNfRk",
        "outputId": "10bba42f-836f-4920-e420-1069f0157501"
      },
      "source": [
        "#first constraint manual validation\n",
        "print(rho) #rho\n",
        "print(w.value.T@myu4 - np.linalg.norm(P*w.value)) \n",
        "print(w.value.T@myu4 - np.linalg.norm(P*w.value)>= rho) #value of first constraint\n",
        "(P*w.value)"
      ],
      "execution_count": null,
      "outputs": [
        {
          "output_type": "stream",
          "text": [
            "0.0002\n",
            "[[0.0025941]]\n",
            "[[ True]]\n"
          ],
          "name": "stdout"
        },
        {
          "output_type": "execute_result",
          "data": {
            "text/plain": [
              "array([[3.67843839e-05, 2.31982296e-05, 2.65700510e-06, 3.41185491e-05]])"
            ]
          },
          "metadata": {
            "tags": []
          },
          "execution_count": 86
        }
      ]
    },
    {
      "cell_type": "code",
      "metadata": {
        "colab": {
          "base_uri": "https://localhost:8080/",
          "height": 391
        },
        "id": "0ZhSloVbOx-6",
        "outputId": "0a46818f-52a3-4673-fc01-a18d5b475844"
      },
      "source": [
        "#mencari return dan drop kolom date\n",
        "df_pct_ret_test4=df_test4.drop(columns=['Date']).pct_change()\n",
        "df_pct_ret_test4=df_pct_ret_test4.dropna()\n",
        "df_pct_ret_test4"
      ],
      "execution_count": null,
      "outputs": [
        {
          "output_type": "execute_result",
          "data": {
            "text/html": [
              "<div>\n",
              "<style scoped>\n",
              "    .dataframe tbody tr th:only-of-type {\n",
              "        vertical-align: middle;\n",
              "    }\n",
              "\n",
              "    .dataframe tbody tr th {\n",
              "        vertical-align: top;\n",
              "    }\n",
              "\n",
              "    .dataframe thead th {\n",
              "        text-align: right;\n",
              "    }\n",
              "</style>\n",
              "<table border=\"1\" class=\"dataframe\">\n",
              "  <thead>\n",
              "    <tr style=\"text-align: right;\">\n",
              "      <th></th>\n",
              "      <th>asii</th>\n",
              "      <th>bbri</th>\n",
              "      <th>cpin</th>\n",
              "      <th>pgas</th>\n",
              "    </tr>\n",
              "  </thead>\n",
              "  <tbody>\n",
              "    <tr>\n",
              "      <th>367</th>\n",
              "      <td>0.028391</td>\n",
              "      <td>0.010526</td>\n",
              "      <td>0.012539</td>\n",
              "      <td>-0.003663</td>\n",
              "    </tr>\n",
              "    <tr>\n",
              "      <th>368</th>\n",
              "      <td>-0.009202</td>\n",
              "      <td>-0.020833</td>\n",
              "      <td>-0.009288</td>\n",
              "      <td>0.003676</td>\n",
              "    </tr>\n",
              "    <tr>\n",
              "      <th>369</th>\n",
              "      <td>0.003096</td>\n",
              "      <td>0.019149</td>\n",
              "      <td>0.006250</td>\n",
              "      <td>0.051282</td>\n",
              "    </tr>\n",
              "    <tr>\n",
              "      <th>370</th>\n",
              "      <td>-0.003086</td>\n",
              "      <td>0.000000</td>\n",
              "      <td>0.021739</td>\n",
              "      <td>-0.020906</td>\n",
              "    </tr>\n",
              "    <tr>\n",
              "      <th>371</th>\n",
              "      <td>0.003096</td>\n",
              "      <td>0.002088</td>\n",
              "      <td>0.063830</td>\n",
              "      <td>0.007117</td>\n",
              "    </tr>\n",
              "    <tr>\n",
              "      <th>...</th>\n",
              "      <td>...</td>\n",
              "      <td>...</td>\n",
              "      <td>...</td>\n",
              "      <td>...</td>\n",
              "    </tr>\n",
              "    <tr>\n",
              "      <th>518</th>\n",
              "      <td>-0.022388</td>\n",
              "      <td>0.007109</td>\n",
              "      <td>-0.054348</td>\n",
              "      <td>-0.040909</td>\n",
              "    </tr>\n",
              "    <tr>\n",
              "      <th>519</th>\n",
              "      <td>0.045802</td>\n",
              "      <td>0.023529</td>\n",
              "      <td>0.034483</td>\n",
              "      <td>0.023697</td>\n",
              "    </tr>\n",
              "    <tr>\n",
              "      <th>520</th>\n",
              "      <td>0.003650</td>\n",
              "      <td>0.013793</td>\n",
              "      <td>0.025926</td>\n",
              "      <td>0.013889</td>\n",
              "    </tr>\n",
              "    <tr>\n",
              "      <th>521</th>\n",
              "      <td>0.000000</td>\n",
              "      <td>0.000000</td>\n",
              "      <td>-0.050542</td>\n",
              "      <td>-0.022831</td>\n",
              "    </tr>\n",
              "    <tr>\n",
              "      <th>522</th>\n",
              "      <td>0.010909</td>\n",
              "      <td>0.002268</td>\n",
              "      <td>0.049430</td>\n",
              "      <td>0.009346</td>\n",
              "    </tr>\n",
              "  </tbody>\n",
              "</table>\n",
              "<p>156 rows × 4 columns</p>\n",
              "</div>"
            ],
            "text/plain": [
              "         asii      bbri      cpin      pgas\n",
              "367  0.028391  0.010526  0.012539 -0.003663\n",
              "368 -0.009202 -0.020833 -0.009288  0.003676\n",
              "369  0.003096  0.019149  0.006250  0.051282\n",
              "370 -0.003086  0.000000  0.021739 -0.020906\n",
              "371  0.003096  0.002088  0.063830  0.007117\n",
              "..        ...       ...       ...       ...\n",
              "518 -0.022388  0.007109 -0.054348 -0.040909\n",
              "519  0.045802  0.023529  0.034483  0.023697\n",
              "520  0.003650  0.013793  0.025926  0.013889\n",
              "521  0.000000  0.000000 -0.050542 -0.022831\n",
              "522  0.010909  0.002268  0.049430  0.009346\n",
              "\n",
              "[156 rows x 4 columns]"
            ]
          },
          "metadata": {
            "tags": []
          },
          "execution_count": 87
        }
      ]
    },
    {
      "cell_type": "code",
      "metadata": {
        "colab": {
          "base_uri": "https://localhost:8080/"
        },
        "id": "9-HaxYAkO-Et",
        "outputId": "1c202077-e2a0-4ad3-9298-a621324f71e8"
      },
      "source": [
        "emitens4"
      ],
      "execution_count": null,
      "outputs": [
        {
          "output_type": "execute_result",
          "data": {
            "text/plain": [
              "['asii', 'bbri', 'cpin', 'pgas']"
            ]
          },
          "metadata": {
            "tags": []
          },
          "execution_count": 88
        }
      ]
    },
    {
      "cell_type": "code",
      "metadata": {
        "colab": {
          "base_uri": "https://localhost:8080/",
          "height": 391
        },
        "id": "aXs8eIqLO9cy",
        "outputId": "0f626b44-5e20-4d97-ecf3-1ed9229dc205"
      },
      "source": [
        "df_pct_weekly_return4 = pd.DataFrame()\n",
        "i=0\n",
        "for emiten in emitens4:\n",
        "  df_pct_weekly_return4[emiten]=w.value[i]*df_pct_ret_test4[emiten]\n",
        "  i+=1\n",
        "\n",
        "df_pct_weekly_return4"
      ],
      "execution_count": null,
      "outputs": [
        {
          "output_type": "execute_result",
          "data": {
            "text/html": [
              "<div>\n",
              "<style scoped>\n",
              "    .dataframe tbody tr th:only-of-type {\n",
              "        vertical-align: middle;\n",
              "    }\n",
              "\n",
              "    .dataframe tbody tr th {\n",
              "        vertical-align: top;\n",
              "    }\n",
              "\n",
              "    .dataframe thead th {\n",
              "        text-align: right;\n",
              "    }\n",
              "</style>\n",
              "<table border=\"1\" class=\"dataframe\">\n",
              "  <thead>\n",
              "    <tr style=\"text-align: right;\">\n",
              "      <th></th>\n",
              "      <th>asii</th>\n",
              "      <th>bbri</th>\n",
              "      <th>cpin</th>\n",
              "      <th>pgas</th>\n",
              "    </tr>\n",
              "  </thead>\n",
              "  <tbody>\n",
              "    <tr>\n",
              "      <th>367</th>\n",
              "      <td>0.010444</td>\n",
              "      <td>0.002713</td>\n",
              "      <td>0.000416</td>\n",
              "      <td>-0.001250</td>\n",
              "    </tr>\n",
              "    <tr>\n",
              "      <th>368</th>\n",
              "      <td>-0.003385</td>\n",
              "      <td>-0.005370</td>\n",
              "      <td>-0.000308</td>\n",
              "      <td>0.001254</td>\n",
              "    </tr>\n",
              "    <tr>\n",
              "      <th>369</th>\n",
              "      <td>0.001139</td>\n",
              "      <td>0.004936</td>\n",
              "      <td>0.000208</td>\n",
              "      <td>0.017497</td>\n",
              "    </tr>\n",
              "    <tr>\n",
              "      <th>370</th>\n",
              "      <td>-0.001135</td>\n",
              "      <td>0.000000</td>\n",
              "      <td>0.000722</td>\n",
              "      <td>-0.007133</td>\n",
              "    </tr>\n",
              "    <tr>\n",
              "      <th>371</th>\n",
              "      <td>0.001139</td>\n",
              "      <td>0.000538</td>\n",
              "      <td>0.002120</td>\n",
              "      <td>0.002428</td>\n",
              "    </tr>\n",
              "    <tr>\n",
              "      <th>...</th>\n",
              "      <td>...</td>\n",
              "      <td>...</td>\n",
              "      <td>...</td>\n",
              "      <td>...</td>\n",
              "    </tr>\n",
              "    <tr>\n",
              "      <th>518</th>\n",
              "      <td>-0.008235</td>\n",
              "      <td>0.001832</td>\n",
              "      <td>-0.001805</td>\n",
              "      <td>-0.013958</td>\n",
              "    </tr>\n",
              "    <tr>\n",
              "      <th>519</th>\n",
              "      <td>0.016848</td>\n",
              "      <td>0.006065</td>\n",
              "      <td>0.001145</td>\n",
              "      <td>0.008085</td>\n",
              "    </tr>\n",
              "    <tr>\n",
              "      <th>520</th>\n",
              "      <td>0.001342</td>\n",
              "      <td>0.003555</td>\n",
              "      <td>0.000861</td>\n",
              "      <td>0.004739</td>\n",
              "    </tr>\n",
              "    <tr>\n",
              "      <th>521</th>\n",
              "      <td>0.000000</td>\n",
              "      <td>0.000000</td>\n",
              "      <td>-0.001679</td>\n",
              "      <td>-0.007790</td>\n",
              "    </tr>\n",
              "    <tr>\n",
              "      <th>522</th>\n",
              "      <td>0.004013</td>\n",
              "      <td>0.000584</td>\n",
              "      <td>0.001642</td>\n",
              "      <td>0.003189</td>\n",
              "    </tr>\n",
              "  </tbody>\n",
              "</table>\n",
              "<p>156 rows × 4 columns</p>\n",
              "</div>"
            ],
            "text/plain": [
              "         asii      bbri      cpin      pgas\n",
              "367  0.010444  0.002713  0.000416 -0.001250\n",
              "368 -0.003385 -0.005370 -0.000308  0.001254\n",
              "369  0.001139  0.004936  0.000208  0.017497\n",
              "370 -0.001135  0.000000  0.000722 -0.007133\n",
              "371  0.001139  0.000538  0.002120  0.002428\n",
              "..        ...       ...       ...       ...\n",
              "518 -0.008235  0.001832 -0.001805 -0.013958\n",
              "519  0.016848  0.006065  0.001145  0.008085\n",
              "520  0.001342  0.003555  0.000861  0.004739\n",
              "521  0.000000  0.000000 -0.001679 -0.007790\n",
              "522  0.004013  0.000584  0.001642  0.003189\n",
              "\n",
              "[156 rows x 4 columns]"
            ]
          },
          "metadata": {
            "tags": []
          },
          "execution_count": 89
        }
      ]
    },
    {
      "cell_type": "code",
      "metadata": {
        "colab": {
          "base_uri": "https://localhost:8080/",
          "height": 391
        },
        "id": "0UUppLofPIK6",
        "outputId": "f5909580-4c6e-4f1a-a915-006d0eac33cb"
      },
      "source": [
        "price_data4 = df_test4.drop(columns=['Date'])\n",
        "price_data4"
      ],
      "execution_count": null,
      "outputs": [
        {
          "output_type": "execute_result",
          "data": {
            "text/html": [
              "<div>\n",
              "<style scoped>\n",
              "    .dataframe tbody tr th:only-of-type {\n",
              "        vertical-align: middle;\n",
              "    }\n",
              "\n",
              "    .dataframe tbody tr th {\n",
              "        vertical-align: top;\n",
              "    }\n",
              "\n",
              "    .dataframe thead th {\n",
              "        text-align: right;\n",
              "    }\n",
              "</style>\n",
              "<table border=\"1\" class=\"dataframe\">\n",
              "  <thead>\n",
              "    <tr style=\"text-align: right;\">\n",
              "      <th></th>\n",
              "      <th>asii</th>\n",
              "      <th>bbri</th>\n",
              "      <th>cpin</th>\n",
              "      <th>pgas</th>\n",
              "    </tr>\n",
              "  </thead>\n",
              "  <tbody>\n",
              "    <tr>\n",
              "      <th>366</th>\n",
              "      <td>7925.0</td>\n",
              "      <td>2375.0</td>\n",
              "      <td>3190.0</td>\n",
              "      <td>2730.0</td>\n",
              "    </tr>\n",
              "    <tr>\n",
              "      <th>367</th>\n",
              "      <td>8150.0</td>\n",
              "      <td>2400.0</td>\n",
              "      <td>3230.0</td>\n",
              "      <td>2720.0</td>\n",
              "    </tr>\n",
              "    <tr>\n",
              "      <th>368</th>\n",
              "      <td>8075.0</td>\n",
              "      <td>2350.0</td>\n",
              "      <td>3200.0</td>\n",
              "      <td>2730.0</td>\n",
              "    </tr>\n",
              "    <tr>\n",
              "      <th>369</th>\n",
              "      <td>8100.0</td>\n",
              "      <td>2395.0</td>\n",
              "      <td>3220.0</td>\n",
              "      <td>2870.0</td>\n",
              "    </tr>\n",
              "    <tr>\n",
              "      <th>370</th>\n",
              "      <td>8075.0</td>\n",
              "      <td>2395.0</td>\n",
              "      <td>3290.0</td>\n",
              "      <td>2810.0</td>\n",
              "    </tr>\n",
              "    <tr>\n",
              "      <th>...</th>\n",
              "      <td>...</td>\n",
              "      <td>...</td>\n",
              "      <td>...</td>\n",
              "      <td>...</td>\n",
              "    </tr>\n",
              "    <tr>\n",
              "      <th>518</th>\n",
              "      <td>6550.0</td>\n",
              "      <td>4250.0</td>\n",
              "      <td>6525.0</td>\n",
              "      <td>2110.0</td>\n",
              "    </tr>\n",
              "    <tr>\n",
              "      <th>519</th>\n",
              "      <td>6850.0</td>\n",
              "      <td>4350.0</td>\n",
              "      <td>6750.0</td>\n",
              "      <td>2160.0</td>\n",
              "    </tr>\n",
              "    <tr>\n",
              "      <th>520</th>\n",
              "      <td>6875.0</td>\n",
              "      <td>4410.0</td>\n",
              "      <td>6925.0</td>\n",
              "      <td>2190.0</td>\n",
              "    </tr>\n",
              "    <tr>\n",
              "      <th>521</th>\n",
              "      <td>6875.0</td>\n",
              "      <td>4410.0</td>\n",
              "      <td>6575.0</td>\n",
              "      <td>2140.0</td>\n",
              "    </tr>\n",
              "    <tr>\n",
              "      <th>522</th>\n",
              "      <td>6950.0</td>\n",
              "      <td>4420.0</td>\n",
              "      <td>6900.0</td>\n",
              "      <td>2160.0</td>\n",
              "    </tr>\n",
              "  </tbody>\n",
              "</table>\n",
              "<p>157 rows × 4 columns</p>\n",
              "</div>"
            ],
            "text/plain": [
              "       asii    bbri    cpin    pgas\n",
              "366  7925.0  2375.0  3190.0  2730.0\n",
              "367  8150.0  2400.0  3230.0  2720.0\n",
              "368  8075.0  2350.0  3200.0  2730.0\n",
              "369  8100.0  2395.0  3220.0  2870.0\n",
              "370  8075.0  2395.0  3290.0  2810.0\n",
              "..      ...     ...     ...     ...\n",
              "518  6550.0  4250.0  6525.0  2110.0\n",
              "519  6850.0  4350.0  6750.0  2160.0\n",
              "520  6875.0  4410.0  6925.0  2190.0\n",
              "521  6875.0  4410.0  6575.0  2140.0\n",
              "522  6950.0  4420.0  6900.0  2160.0\n",
              "\n",
              "[157 rows x 4 columns]"
            ]
          },
          "metadata": {
            "tags": []
          },
          "execution_count": 90
        }
      ]
    },
    {
      "cell_type": "code",
      "metadata": {
        "colab": {
          "base_uri": "https://localhost:8080/",
          "height": 391
        },
        "id": "xc-zRCXZuOoF",
        "outputId": "9f92037c-f78a-4d96-a52b-3a080c8f4019"
      },
      "source": [
        "ret_data4 = price_data4.pct_change()[1:]\n",
        "ret_data4"
      ],
      "execution_count": null,
      "outputs": [
        {
          "output_type": "execute_result",
          "data": {
            "text/html": [
              "<div>\n",
              "<style scoped>\n",
              "    .dataframe tbody tr th:only-of-type {\n",
              "        vertical-align: middle;\n",
              "    }\n",
              "\n",
              "    .dataframe tbody tr th {\n",
              "        vertical-align: top;\n",
              "    }\n",
              "\n",
              "    .dataframe thead th {\n",
              "        text-align: right;\n",
              "    }\n",
              "</style>\n",
              "<table border=\"1\" class=\"dataframe\">\n",
              "  <thead>\n",
              "    <tr style=\"text-align: right;\">\n",
              "      <th></th>\n",
              "      <th>asii</th>\n",
              "      <th>bbri</th>\n",
              "      <th>cpin</th>\n",
              "      <th>pgas</th>\n",
              "    </tr>\n",
              "  </thead>\n",
              "  <tbody>\n",
              "    <tr>\n",
              "      <th>367</th>\n",
              "      <td>0.028391</td>\n",
              "      <td>0.010526</td>\n",
              "      <td>0.012539</td>\n",
              "      <td>-0.003663</td>\n",
              "    </tr>\n",
              "    <tr>\n",
              "      <th>368</th>\n",
              "      <td>-0.009202</td>\n",
              "      <td>-0.020833</td>\n",
              "      <td>-0.009288</td>\n",
              "      <td>0.003676</td>\n",
              "    </tr>\n",
              "    <tr>\n",
              "      <th>369</th>\n",
              "      <td>0.003096</td>\n",
              "      <td>0.019149</td>\n",
              "      <td>0.006250</td>\n",
              "      <td>0.051282</td>\n",
              "    </tr>\n",
              "    <tr>\n",
              "      <th>370</th>\n",
              "      <td>-0.003086</td>\n",
              "      <td>0.000000</td>\n",
              "      <td>0.021739</td>\n",
              "      <td>-0.020906</td>\n",
              "    </tr>\n",
              "    <tr>\n",
              "      <th>371</th>\n",
              "      <td>0.003096</td>\n",
              "      <td>0.002088</td>\n",
              "      <td>0.063830</td>\n",
              "      <td>0.007117</td>\n",
              "    </tr>\n",
              "    <tr>\n",
              "      <th>...</th>\n",
              "      <td>...</td>\n",
              "      <td>...</td>\n",
              "      <td>...</td>\n",
              "      <td>...</td>\n",
              "    </tr>\n",
              "    <tr>\n",
              "      <th>518</th>\n",
              "      <td>-0.022388</td>\n",
              "      <td>0.007109</td>\n",
              "      <td>-0.054348</td>\n",
              "      <td>-0.040909</td>\n",
              "    </tr>\n",
              "    <tr>\n",
              "      <th>519</th>\n",
              "      <td>0.045802</td>\n",
              "      <td>0.023529</td>\n",
              "      <td>0.034483</td>\n",
              "      <td>0.023697</td>\n",
              "    </tr>\n",
              "    <tr>\n",
              "      <th>520</th>\n",
              "      <td>0.003650</td>\n",
              "      <td>0.013793</td>\n",
              "      <td>0.025926</td>\n",
              "      <td>0.013889</td>\n",
              "    </tr>\n",
              "    <tr>\n",
              "      <th>521</th>\n",
              "      <td>0.000000</td>\n",
              "      <td>0.000000</td>\n",
              "      <td>-0.050542</td>\n",
              "      <td>-0.022831</td>\n",
              "    </tr>\n",
              "    <tr>\n",
              "      <th>522</th>\n",
              "      <td>0.010909</td>\n",
              "      <td>0.002268</td>\n",
              "      <td>0.049430</td>\n",
              "      <td>0.009346</td>\n",
              "    </tr>\n",
              "  </tbody>\n",
              "</table>\n",
              "<p>156 rows × 4 columns</p>\n",
              "</div>"
            ],
            "text/plain": [
              "         asii      bbri      cpin      pgas\n",
              "367  0.028391  0.010526  0.012539 -0.003663\n",
              "368 -0.009202 -0.020833 -0.009288  0.003676\n",
              "369  0.003096  0.019149  0.006250  0.051282\n",
              "370 -0.003086  0.000000  0.021739 -0.020906\n",
              "371  0.003096  0.002088  0.063830  0.007117\n",
              "..        ...       ...       ...       ...\n",
              "518 -0.022388  0.007109 -0.054348 -0.040909\n",
              "519  0.045802  0.023529  0.034483  0.023697\n",
              "520  0.003650  0.013793  0.025926  0.013889\n",
              "521  0.000000  0.000000 -0.050542 -0.022831\n",
              "522  0.010909  0.002268  0.049430  0.009346\n",
              "\n",
              "[156 rows x 4 columns]"
            ]
          },
          "metadata": {
            "tags": []
          },
          "execution_count": 91
        }
      ]
    },
    {
      "cell_type": "code",
      "metadata": {
        "colab": {
          "base_uri": "https://localhost:8080/",
          "height": 391
        },
        "id": "dnGrPD9ruUXO",
        "outputId": "1fcbe8b2-b95d-4cd2-e97d-77f6aefc04f0"
      },
      "source": [
        "weighted_returns4 = (w.value.reshape(4) * ret_data4)\n",
        "weighted_returns4"
      ],
      "execution_count": null,
      "outputs": [
        {
          "output_type": "execute_result",
          "data": {
            "text/html": [
              "<div>\n",
              "<style scoped>\n",
              "    .dataframe tbody tr th:only-of-type {\n",
              "        vertical-align: middle;\n",
              "    }\n",
              "\n",
              "    .dataframe tbody tr th {\n",
              "        vertical-align: top;\n",
              "    }\n",
              "\n",
              "    .dataframe thead th {\n",
              "        text-align: right;\n",
              "    }\n",
              "</style>\n",
              "<table border=\"1\" class=\"dataframe\">\n",
              "  <thead>\n",
              "    <tr style=\"text-align: right;\">\n",
              "      <th></th>\n",
              "      <th>asii</th>\n",
              "      <th>bbri</th>\n",
              "      <th>cpin</th>\n",
              "      <th>pgas</th>\n",
              "    </tr>\n",
              "  </thead>\n",
              "  <tbody>\n",
              "    <tr>\n",
              "      <th>367</th>\n",
              "      <td>0.010444</td>\n",
              "      <td>0.002713</td>\n",
              "      <td>0.000416</td>\n",
              "      <td>-0.001250</td>\n",
              "    </tr>\n",
              "    <tr>\n",
              "      <th>368</th>\n",
              "      <td>-0.003385</td>\n",
              "      <td>-0.005370</td>\n",
              "      <td>-0.000308</td>\n",
              "      <td>0.001254</td>\n",
              "    </tr>\n",
              "    <tr>\n",
              "      <th>369</th>\n",
              "      <td>0.001139</td>\n",
              "      <td>0.004936</td>\n",
              "      <td>0.000208</td>\n",
              "      <td>0.017497</td>\n",
              "    </tr>\n",
              "    <tr>\n",
              "      <th>370</th>\n",
              "      <td>-0.001135</td>\n",
              "      <td>0.000000</td>\n",
              "      <td>0.000722</td>\n",
              "      <td>-0.007133</td>\n",
              "    </tr>\n",
              "    <tr>\n",
              "      <th>371</th>\n",
              "      <td>0.001139</td>\n",
              "      <td>0.000538</td>\n",
              "      <td>0.002120</td>\n",
              "      <td>0.002428</td>\n",
              "    </tr>\n",
              "    <tr>\n",
              "      <th>...</th>\n",
              "      <td>...</td>\n",
              "      <td>...</td>\n",
              "      <td>...</td>\n",
              "      <td>...</td>\n",
              "    </tr>\n",
              "    <tr>\n",
              "      <th>518</th>\n",
              "      <td>-0.008235</td>\n",
              "      <td>0.001832</td>\n",
              "      <td>-0.001805</td>\n",
              "      <td>-0.013958</td>\n",
              "    </tr>\n",
              "    <tr>\n",
              "      <th>519</th>\n",
              "      <td>0.016848</td>\n",
              "      <td>0.006065</td>\n",
              "      <td>0.001145</td>\n",
              "      <td>0.008085</td>\n",
              "    </tr>\n",
              "    <tr>\n",
              "      <th>520</th>\n",
              "      <td>0.001342</td>\n",
              "      <td>0.003555</td>\n",
              "      <td>0.000861</td>\n",
              "      <td>0.004739</td>\n",
              "    </tr>\n",
              "    <tr>\n",
              "      <th>521</th>\n",
              "      <td>0.000000</td>\n",
              "      <td>0.000000</td>\n",
              "      <td>-0.001679</td>\n",
              "      <td>-0.007790</td>\n",
              "    </tr>\n",
              "    <tr>\n",
              "      <th>522</th>\n",
              "      <td>0.004013</td>\n",
              "      <td>0.000584</td>\n",
              "      <td>0.001642</td>\n",
              "      <td>0.003189</td>\n",
              "    </tr>\n",
              "  </tbody>\n",
              "</table>\n",
              "<p>156 rows × 4 columns</p>\n",
              "</div>"
            ],
            "text/plain": [
              "         asii      bbri      cpin      pgas\n",
              "367  0.010444  0.002713  0.000416 -0.001250\n",
              "368 -0.003385 -0.005370 -0.000308  0.001254\n",
              "369  0.001139  0.004936  0.000208  0.017497\n",
              "370 -0.001135  0.000000  0.000722 -0.007133\n",
              "371  0.001139  0.000538  0.002120  0.002428\n",
              "..        ...       ...       ...       ...\n",
              "518 -0.008235  0.001832 -0.001805 -0.013958\n",
              "519  0.016848  0.006065  0.001145  0.008085\n",
              "520  0.001342  0.003555  0.000861  0.004739\n",
              "521  0.000000  0.000000 -0.001679 -0.007790\n",
              "522  0.004013  0.000584  0.001642  0.003189\n",
              "\n",
              "[156 rows x 4 columns]"
            ]
          },
          "metadata": {
            "tags": []
          },
          "execution_count": 92
        }
      ]
    },
    {
      "cell_type": "code",
      "metadata": {
        "colab": {
          "base_uri": "https://localhost:8080/"
        },
        "id": "PBmYQFEbuZq8",
        "outputId": "f107ed14-7bdc-4c10-c9ac-da71a5c5fd9e"
      },
      "source": [
        "port_ret41 = weighted_returns4.sum(axis=1)\n",
        "port_ret41"
      ],
      "execution_count": null,
      "outputs": [
        {
          "output_type": "execute_result",
          "data": {
            "text/plain": [
              "367    0.012323\n",
              "368   -0.007809\n",
              "369    0.023779\n",
              "370   -0.007546\n",
              "371    0.006225\n",
              "         ...   \n",
              "518   -0.022166\n",
              "519    0.032143\n",
              "520    0.010498\n",
              "521   -0.009468\n",
              "522    0.009428\n",
              "Length: 156, dtype: float64"
            ]
          },
          "metadata": {
            "tags": []
          },
          "execution_count": 93
        }
      ]
    },
    {
      "cell_type": "code",
      "metadata": {
        "id": "pKh3feN_vGzr"
      },
      "source": [
        "port_ret41.to_csv('port_ret41.csv')\n",
        "!cp port_ret41.csv \"/content/drive/My Drive/PYTHON/port_ret\""
      ],
      "execution_count": null,
      "outputs": []
    },
    {
      "cell_type": "code",
      "metadata": {
        "colab": {
          "base_uri": "https://localhost:8080/"
        },
        "id": "BS965H-CvHYE",
        "outputId": "e40c6bc7-7a88-46a8-87fc-5ca11129c78e"
      },
      "source": [
        "print('Max return:', max(port_ret41))\n",
        "print('Min return:', min(port_ret41))\n",
        "print('Average return:', np.mean(port_ret41))\n",
        "print('sharpe ratio :', np.mean(port_ret41)/np.std(port_ret41))\n",
        "\n",
        "\n",
        "print(np.mean(port_ret41) > rho)"
      ],
      "execution_count": null,
      "outputs": [
        {
          "output_type": "stream",
          "text": [
            "Max return: 0.10063621222922031\n",
            "Min return: -0.07799471053630114\n",
            "Average return: 0.00135608923424102\n",
            "sharpe ratio : 0.04106005155277486\n",
            "True\n"
          ],
          "name": "stdout"
        }
      ]
    },
    {
      "cell_type": "code",
      "metadata": {
        "colab": {
          "base_uri": "https://localhost:8080/",
          "height": 307
        },
        "id": "Lren-UgLvKYE",
        "outputId": "21c9050a-a316-4b36-c4d8-54e11e986c62"
      },
      "source": [
        "import matplotlib.pyplot as plt\n",
        "\n",
        "fig = plt.figure()\n",
        "ax1 = fig.add_axes([0.1,0.1,0.8,0.8])\n",
        "ax1.hist(port_ret41, bins = 60)\n",
        "ax1.set_xlabel('Return Portofolio')\n",
        "ax1.set_ylabel(\"Jumlah\")\n",
        "ax1.set_title(\"Return Portofolio Ellipsoidal 4 emiten\")\n",
        "plt.show(); "
      ],
      "execution_count": null,
      "outputs": [
        {
          "output_type": "display_data",
          "data": {
            "image/png": "[encoded data removed]",
            "text/plain": [
              "<Figure size 432x288 with 1 Axes>"
            ]
          },
          "metadata": {
            "tags": [],
            "needs_background": "light"
          }
        }
      ]
    },
    {
      "cell_type": "markdown",
      "metadata": {
        "id": "PgLWe5igvRxL"
      },
      "source": [
        "####sparse mean variance"
      ]
    },
    {
      "cell_type": "code",
      "metadata": {
        "colab": {
          "base_uri": "https://localhost:8080/"
        },
        "id": "zWmaUFY4vWNT",
        "outputId": "7d6ef510-6ed5-4e9a-8370-8ca7e095867c"
      },
      "source": [
        "ns = R4.shape[1]\n",
        "m14 = np.ones((n,1), dtype=np.int64)\n",
        "m14 = np.matrix(m14).T\n",
        "w0 = np.random.randn(n)\n",
        "\n",
        "\n",
        "# Define and solve the CVXPY problem.\n",
        "w = cp.Variable(ns)\n",
        "contraints = [\n",
        "      w.T*myu4 == rho, \n",
        "      cp.sum(w) == 1,\n",
        "      \n",
        "]\n",
        "\n",
        "obj = cp.Minimize(cp.sum_squares(cp.reshape(rho*m14.T, (n,)) - R4*w) + tho*cp.sum(cp.abs(w)))\n",
        "\n",
        "prob = cp.Problem(obj,contraints)\n",
        "prob.solve()\n",
        "\n",
        "print(\"The optimal value is\", prob.value)\n",
        "print(\"Solution for w is\")\n",
        "print(w.value)\n",
        "print(\"SOC constraint dual variable solution\")\n",
        "print(contraints[0].dual_value)"
      ],
      "execution_count": null,
      "outputs": [
        {
          "output_type": "stream",
          "text": [
            "The optimal value is 0.6803712108869872\n",
            "Solution for w is\n",
            "[ 0.41597477  0.1351637  -0.25783611  0.70669764]\n",
            "SOC constraint dual variable solution\n",
            "[152.82929924]\n"
          ],
          "name": "stdout"
        }
      ]
    },
    {
      "cell_type": "code",
      "metadata": {
        "colab": {
          "base_uri": "https://localhost:8080/",
          "height": 391
        },
        "id": "TWXi0tqNwUS7",
        "outputId": "eda0b515-5277-4ab7-cb4d-ff31e2750a99"
      },
      "source": [
        "df_pct_ret_test4=df_test4.drop(columns=['Date']).pct_change()\n",
        "df_pct_ret_test4=df_pct_ret_test4.dropna()\n",
        "df_pct_ret_test4"
      ],
      "execution_count": null,
      "outputs": [
        {
          "output_type": "execute_result",
          "data": {
            "text/html": [
              "<div>\n",
              "<style scoped>\n",
              "    .dataframe tbody tr th:only-of-type {\n",
              "        vertical-align: middle;\n",
              "    }\n",
              "\n",
              "    .dataframe tbody tr th {\n",
              "        vertical-align: top;\n",
              "    }\n",
              "\n",
              "    .dataframe thead th {\n",
              "        text-align: right;\n",
              "    }\n",
              "</style>\n",
              "<table border=\"1\" class=\"dataframe\">\n",
              "  <thead>\n",
              "    <tr style=\"text-align: right;\">\n",
              "      <th></th>\n",
              "      <th>asii</th>\n",
              "      <th>bbri</th>\n",
              "      <th>cpin</th>\n",
              "      <th>pgas</th>\n",
              "    </tr>\n",
              "  </thead>\n",
              "  <tbody>\n",
              "    <tr>\n",
              "      <th>367</th>\n",
              "      <td>0.028391</td>\n",
              "      <td>0.010526</td>\n",
              "      <td>0.012539</td>\n",
              "      <td>-0.003663</td>\n",
              "    </tr>\n",
              "    <tr>\n",
              "      <th>368</th>\n",
              "      <td>-0.009202</td>\n",
              "      <td>-0.020833</td>\n",
              "      <td>-0.009288</td>\n",
              "      <td>0.003676</td>\n",
              "    </tr>\n",
              "    <tr>\n",
              "      <th>369</th>\n",
              "      <td>0.003096</td>\n",
              "      <td>0.019149</td>\n",
              "      <td>0.006250</td>\n",
              "      <td>0.051282</td>\n",
              "    </tr>\n",
              "    <tr>\n",
              "      <th>370</th>\n",
              "      <td>-0.003086</td>\n",
              "      <td>0.000000</td>\n",
              "      <td>0.021739</td>\n",
              "      <td>-0.020906</td>\n",
              "    </tr>\n",
              "    <tr>\n",
              "      <th>371</th>\n",
              "      <td>0.003096</td>\n",
              "      <td>0.002088</td>\n",
              "      <td>0.063830</td>\n",
              "      <td>0.007117</td>\n",
              "    </tr>\n",
              "    <tr>\n",
              "      <th>...</th>\n",
              "      <td>...</td>\n",
              "      <td>...</td>\n",
              "      <td>...</td>\n",
              "      <td>...</td>\n",
              "    </tr>\n",
              "    <tr>\n",
              "      <th>518</th>\n",
              "      <td>-0.022388</td>\n",
              "      <td>0.007109</td>\n",
              "      <td>-0.054348</td>\n",
              "      <td>-0.040909</td>\n",
              "    </tr>\n",
              "    <tr>\n",
              "      <th>519</th>\n",
              "      <td>0.045802</td>\n",
              "      <td>0.023529</td>\n",
              "      <td>0.034483</td>\n",
              "      <td>0.023697</td>\n",
              "    </tr>\n",
              "    <tr>\n",
              "      <th>520</th>\n",
              "      <td>0.003650</td>\n",
              "      <td>0.013793</td>\n",
              "      <td>0.025926</td>\n",
              "      <td>0.013889</td>\n",
              "    </tr>\n",
              "    <tr>\n",
              "      <th>521</th>\n",
              "      <td>0.000000</td>\n",
              "      <td>0.000000</td>\n",
              "      <td>-0.050542</td>\n",
              "      <td>-0.022831</td>\n",
              "    </tr>\n",
              "    <tr>\n",
              "      <th>522</th>\n",
              "      <td>0.010909</td>\n",
              "      <td>0.002268</td>\n",
              "      <td>0.049430</td>\n",
              "      <td>0.009346</td>\n",
              "    </tr>\n",
              "  </tbody>\n",
              "</table>\n",
              "<p>156 rows × 4 columns</p>\n",
              "</div>"
            ],
            "text/plain": [
              "         asii      bbri      cpin      pgas\n",
              "367  0.028391  0.010526  0.012539 -0.003663\n",
              "368 -0.009202 -0.020833 -0.009288  0.003676\n",
              "369  0.003096  0.019149  0.006250  0.051282\n",
              "370 -0.003086  0.000000  0.021739 -0.020906\n",
              "371  0.003096  0.002088  0.063830  0.007117\n",
              "..        ...       ...       ...       ...\n",
              "518 -0.022388  0.007109 -0.054348 -0.040909\n",
              "519  0.045802  0.023529  0.034483  0.023697\n",
              "520  0.003650  0.013793  0.025926  0.013889\n",
              "521  0.000000  0.000000 -0.050542 -0.022831\n",
              "522  0.010909  0.002268  0.049430  0.009346\n",
              "\n",
              "[156 rows x 4 columns]"
            ]
          },
          "metadata": {
            "tags": []
          },
          "execution_count": 98
        }
      ]
    },
    {
      "cell_type": "code",
      "metadata": {
        "colab": {
          "base_uri": "https://localhost:8080/"
        },
        "id": "2lyJ7M5JBKpG",
        "outputId": "5ae4adc6-1040-430b-9035-de0f363bfe6e"
      },
      "source": [
        "emitens4"
      ],
      "execution_count": null,
      "outputs": [
        {
          "output_type": "execute_result",
          "data": {
            "text/plain": [
              "['asii', 'bbri', 'cpin', 'pgas']"
            ]
          },
          "metadata": {
            "tags": []
          },
          "execution_count": 99
        }
      ]
    },
    {
      "cell_type": "code",
      "metadata": {
        "colab": {
          "base_uri": "https://localhost:8080/",
          "height": 391
        },
        "id": "N_6Z5uzVBUV9",
        "outputId": "05fb1ae8-ae23-4530-964a-26f94155816b"
      },
      "source": [
        "df_pct_weekly_return4 = pd.DataFrame()\n",
        "i=0\n",
        "for emiten in emitens4:\n",
        "  df_pct_weekly_return4[emiten]=w.value[i]*df_pct_ret_test4[emiten]\n",
        "  i+=1\n",
        "\n",
        "df_pct_weekly_return4"
      ],
      "execution_count": null,
      "outputs": [
        {
          "output_type": "execute_result",
          "data": {
            "text/html": [
              "<div>\n",
              "<style scoped>\n",
              "    .dataframe tbody tr th:only-of-type {\n",
              "        vertical-align: middle;\n",
              "    }\n",
              "\n",
              "    .dataframe tbody tr th {\n",
              "        vertical-align: top;\n",
              "    }\n",
              "\n",
              "    .dataframe thead th {\n",
              "        text-align: right;\n",
              "    }\n",
              "</style>\n",
              "<table border=\"1\" class=\"dataframe\">\n",
              "  <thead>\n",
              "    <tr style=\"text-align: right;\">\n",
              "      <th></th>\n",
              "      <th>asii</th>\n",
              "      <th>bbri</th>\n",
              "      <th>cpin</th>\n",
              "      <th>pgas</th>\n",
              "    </tr>\n",
              "  </thead>\n",
              "  <tbody>\n",
              "    <tr>\n",
              "      <th>367</th>\n",
              "      <td>0.011810</td>\n",
              "      <td>0.001423</td>\n",
              "      <td>-0.003233</td>\n",
              "      <td>-0.002589</td>\n",
              "    </tr>\n",
              "    <tr>\n",
              "      <th>368</th>\n",
              "      <td>-0.003828</td>\n",
              "      <td>-0.002816</td>\n",
              "      <td>0.002395</td>\n",
              "      <td>0.002598</td>\n",
              "    </tr>\n",
              "    <tr>\n",
              "      <th>369</th>\n",
              "      <td>0.001288</td>\n",
              "      <td>0.002588</td>\n",
              "      <td>-0.001611</td>\n",
              "      <td>0.036241</td>\n",
              "    </tr>\n",
              "    <tr>\n",
              "      <th>370</th>\n",
              "      <td>-0.001284</td>\n",
              "      <td>0.000000</td>\n",
              "      <td>-0.005605</td>\n",
              "      <td>-0.014774</td>\n",
              "    </tr>\n",
              "    <tr>\n",
              "      <th>371</th>\n",
              "      <td>0.001288</td>\n",
              "      <td>0.000282</td>\n",
              "      <td>-0.016458</td>\n",
              "      <td>0.005030</td>\n",
              "    </tr>\n",
              "    <tr>\n",
              "      <th>...</th>\n",
              "      <td>...</td>\n",
              "      <td>...</td>\n",
              "      <td>...</td>\n",
              "      <td>...</td>\n",
              "    </tr>\n",
              "    <tr>\n",
              "      <th>518</th>\n",
              "      <td>-0.009313</td>\n",
              "      <td>0.000961</td>\n",
              "      <td>0.014013</td>\n",
              "      <td>-0.028910</td>\n",
              "    </tr>\n",
              "    <tr>\n",
              "      <th>519</th>\n",
              "      <td>0.019052</td>\n",
              "      <td>0.003180</td>\n",
              "      <td>-0.008891</td>\n",
              "      <td>0.016746</td>\n",
              "    </tr>\n",
              "    <tr>\n",
              "      <th>520</th>\n",
              "      <td>0.001518</td>\n",
              "      <td>0.001864</td>\n",
              "      <td>-0.006685</td>\n",
              "      <td>0.009815</td>\n",
              "    </tr>\n",
              "    <tr>\n",
              "      <th>521</th>\n",
              "      <td>0.000000</td>\n",
              "      <td>0.000000</td>\n",
              "      <td>0.013031</td>\n",
              "      <td>-0.016135</td>\n",
              "    </tr>\n",
              "    <tr>\n",
              "      <th>522</th>\n",
              "      <td>0.004538</td>\n",
              "      <td>0.000306</td>\n",
              "      <td>-0.012745</td>\n",
              "      <td>0.006605</td>\n",
              "    </tr>\n",
              "  </tbody>\n",
              "</table>\n",
              "<p>156 rows × 4 columns</p>\n",
              "</div>"
            ],
            "text/plain": [
              "         asii      bbri      cpin      pgas\n",
              "367  0.011810  0.001423 -0.003233 -0.002589\n",
              "368 -0.003828 -0.002816  0.002395  0.002598\n",
              "369  0.001288  0.002588 -0.001611  0.036241\n",
              "370 -0.001284  0.000000 -0.005605 -0.014774\n",
              "371  0.001288  0.000282 -0.016458  0.005030\n",
              "..        ...       ...       ...       ...\n",
              "518 -0.009313  0.000961  0.014013 -0.028910\n",
              "519  0.019052  0.003180 -0.008891  0.016746\n",
              "520  0.001518  0.001864 -0.006685  0.009815\n",
              "521  0.000000  0.000000  0.013031 -0.016135\n",
              "522  0.004538  0.000306 -0.012745  0.006605\n",
              "\n",
              "[156 rows x 4 columns]"
            ]
          },
          "metadata": {
            "tags": []
          },
          "execution_count": 100
        }
      ]
    },
    {
      "cell_type": "code",
      "metadata": {
        "colab": {
          "base_uri": "https://localhost:8080/",
          "height": 391
        },
        "id": "IRDk4yY5BYEe",
        "outputId": "14c68aea-5f6b-4db9-ee10-5137a95be672"
      },
      "source": [
        "price_data4 = df_test4.drop(columns=['Date'])\n",
        "price_data4"
      ],
      "execution_count": null,
      "outputs": [
        {
          "output_type": "execute_result",
          "data": {
            "text/html": [
              "<div>\n",
              "<style scoped>\n",
              "    .dataframe tbody tr th:only-of-type {\n",
              "        vertical-align: middle;\n",
              "    }\n",
              "\n",
              "    .dataframe tbody tr th {\n",
              "        vertical-align: top;\n",
              "    }\n",
              "\n",
              "    .dataframe thead th {\n",
              "        text-align: right;\n",
              "    }\n",
              "</style>\n",
              "<table border=\"1\" class=\"dataframe\">\n",
              "  <thead>\n",
              "    <tr style=\"text-align: right;\">\n",
              "      <th></th>\n",
              "      <th>asii</th>\n",
              "      <th>bbri</th>\n",
              "      <th>cpin</th>\n",
              "      <th>pgas</th>\n",
              "    </tr>\n",
              "  </thead>\n",
              "  <tbody>\n",
              "    <tr>\n",
              "      <th>366</th>\n",
              "      <td>7925.0</td>\n",
              "      <td>2375.0</td>\n",
              "      <td>3190.0</td>\n",
              "      <td>2730.0</td>\n",
              "    </tr>\n",
              "    <tr>\n",
              "      <th>367</th>\n",
              "      <td>8150.0</td>\n",
              "      <td>2400.0</td>\n",
              "      <td>3230.0</td>\n",
              "      <td>2720.0</td>\n",
              "    </tr>\n",
              "    <tr>\n",
              "      <th>368</th>\n",
              "      <td>8075.0</td>\n",
              "      <td>2350.0</td>\n",
              "      <td>3200.0</td>\n",
              "      <td>2730.0</td>\n",
              "    </tr>\n",
              "    <tr>\n",
              "      <th>369</th>\n",
              "      <td>8100.0</td>\n",
              "      <td>2395.0</td>\n",
              "      <td>3220.0</td>\n",
              "      <td>2870.0</td>\n",
              "    </tr>\n",
              "    <tr>\n",
              "      <th>370</th>\n",
              "      <td>8075.0</td>\n",
              "      <td>2395.0</td>\n",
              "      <td>3290.0</td>\n",
              "      <td>2810.0</td>\n",
              "    </tr>\n",
              "    <tr>\n",
              "      <th>...</th>\n",
              "      <td>...</td>\n",
              "      <td>...</td>\n",
              "      <td>...</td>\n",
              "      <td>...</td>\n",
              "    </tr>\n",
              "    <tr>\n",
              "      <th>518</th>\n",
              "      <td>6550.0</td>\n",
              "      <td>4250.0</td>\n",
              "      <td>6525.0</td>\n",
              "      <td>2110.0</td>\n",
              "    </tr>\n",
              "    <tr>\n",
              "      <th>519</th>\n",
              "      <td>6850.0</td>\n",
              "      <td>4350.0</td>\n",
              "      <td>6750.0</td>\n",
              "      <td>2160.0</td>\n",
              "    </tr>\n",
              "    <tr>\n",
              "      <th>520</th>\n",
              "      <td>6875.0</td>\n",
              "      <td>4410.0</td>\n",
              "      <td>6925.0</td>\n",
              "      <td>2190.0</td>\n",
              "    </tr>\n",
              "    <tr>\n",
              "      <th>521</th>\n",
              "      <td>6875.0</td>\n",
              "      <td>4410.0</td>\n",
              "      <td>6575.0</td>\n",
              "      <td>2140.0</td>\n",
              "    </tr>\n",
              "    <tr>\n",
              "      <th>522</th>\n",
              "      <td>6950.0</td>\n",
              "      <td>4420.0</td>\n",
              "      <td>6900.0</td>\n",
              "      <td>2160.0</td>\n",
              "    </tr>\n",
              "  </tbody>\n",
              "</table>\n",
              "<p>157 rows × 4 columns</p>\n",
              "</div>"
            ],
            "text/plain": [
              "       asii    bbri    cpin    pgas\n",
              "366  7925.0  2375.0  3190.0  2730.0\n",
              "367  8150.0  2400.0  3230.0  2720.0\n",
              "368  8075.0  2350.0  3200.0  2730.0\n",
              "369  8100.0  2395.0  3220.0  2870.0\n",
              "370  8075.0  2395.0  3290.0  2810.0\n",
              "..      ...     ...     ...     ...\n",
              "518  6550.0  4250.0  6525.0  2110.0\n",
              "519  6850.0  4350.0  6750.0  2160.0\n",
              "520  6875.0  4410.0  6925.0  2190.0\n",
              "521  6875.0  4410.0  6575.0  2140.0\n",
              "522  6950.0  4420.0  6900.0  2160.0\n",
              "\n",
              "[157 rows x 4 columns]"
            ]
          },
          "metadata": {
            "tags": []
          },
          "execution_count": 101
        }
      ]
    },
    {
      "cell_type": "code",
      "metadata": {
        "colab": {
          "base_uri": "https://localhost:8080/",
          "height": 391
        },
        "id": "gYGEHGR7BiBN",
        "outputId": "a62e6f83-529e-4877-f8f3-d7fcea043b87"
      },
      "source": [
        "ret_data4 = price_data4.pct_change()[1:]\n",
        "ret_data4"
      ],
      "execution_count": null,
      "outputs": [
        {
          "output_type": "execute_result",
          "data": {
            "text/html": [
              "<div>\n",
              "<style scoped>\n",
              "    .dataframe tbody tr th:only-of-type {\n",
              "        vertical-align: middle;\n",
              "    }\n",
              "\n",
              "    .dataframe tbody tr th {\n",
              "        vertical-align: top;\n",
              "    }\n",
              "\n",
              "    .dataframe thead th {\n",
              "        text-align: right;\n",
              "    }\n",
              "</style>\n",
              "<table border=\"1\" class=\"dataframe\">\n",
              "  <thead>\n",
              "    <tr style=\"text-align: right;\">\n",
              "      <th></th>\n",
              "      <th>asii</th>\n",
              "      <th>bbri</th>\n",
              "      <th>cpin</th>\n",
              "      <th>pgas</th>\n",
              "    </tr>\n",
              "  </thead>\n",
              "  <tbody>\n",
              "    <tr>\n",
              "      <th>367</th>\n",
              "      <td>0.028391</td>\n",
              "      <td>0.010526</td>\n",
              "      <td>0.012539</td>\n",
              "      <td>-0.003663</td>\n",
              "    </tr>\n",
              "    <tr>\n",
              "      <th>368</th>\n",
              "      <td>-0.009202</td>\n",
              "      <td>-0.020833</td>\n",
              "      <td>-0.009288</td>\n",
              "      <td>0.003676</td>\n",
              "    </tr>\n",
              "    <tr>\n",
              "      <th>369</th>\n",
              "      <td>0.003096</td>\n",
              "      <td>0.019149</td>\n",
              "      <td>0.006250</td>\n",
              "      <td>0.051282</td>\n",
              "    </tr>\n",
              "    <tr>\n",
              "      <th>370</th>\n",
              "      <td>-0.003086</td>\n",
              "      <td>0.000000</td>\n",
              "      <td>0.021739</td>\n",
              "      <td>-0.020906</td>\n",
              "    </tr>\n",
              "    <tr>\n",
              "      <th>371</th>\n",
              "      <td>0.003096</td>\n",
              "      <td>0.002088</td>\n",
              "      <td>0.063830</td>\n",
              "      <td>0.007117</td>\n",
              "    </tr>\n",
              "    <tr>\n",
              "      <th>...</th>\n",
              "      <td>...</td>\n",
              "      <td>...</td>\n",
              "      <td>...</td>\n",
              "      <td>...</td>\n",
              "    </tr>\n",
              "    <tr>\n",
              "      <th>518</th>\n",
              "      <td>-0.022388</td>\n",
              "      <td>0.007109</td>\n",
              "      <td>-0.054348</td>\n",
              "      <td>-0.040909</td>\n",
              "    </tr>\n",
              "    <tr>\n",
              "      <th>519</th>\n",
              "      <td>0.045802</td>\n",
              "      <td>0.023529</td>\n",
              "      <td>0.034483</td>\n",
              "      <td>0.023697</td>\n",
              "    </tr>\n",
              "    <tr>\n",
              "      <th>520</th>\n",
              "      <td>0.003650</td>\n",
              "      <td>0.013793</td>\n",
              "      <td>0.025926</td>\n",
              "      <td>0.013889</td>\n",
              "    </tr>\n",
              "    <tr>\n",
              "      <th>521</th>\n",
              "      <td>0.000000</td>\n",
              "      <td>0.000000</td>\n",
              "      <td>-0.050542</td>\n",
              "      <td>-0.022831</td>\n",
              "    </tr>\n",
              "    <tr>\n",
              "      <th>522</th>\n",
              "      <td>0.010909</td>\n",
              "      <td>0.002268</td>\n",
              "      <td>0.049430</td>\n",
              "      <td>0.009346</td>\n",
              "    </tr>\n",
              "  </tbody>\n",
              "</table>\n",
              "<p>156 rows × 4 columns</p>\n",
              "</div>"
            ],
            "text/plain": [
              "         asii      bbri      cpin      pgas\n",
              "367  0.028391  0.010526  0.012539 -0.003663\n",
              "368 -0.009202 -0.020833 -0.009288  0.003676\n",
              "369  0.003096  0.019149  0.006250  0.051282\n",
              "370 -0.003086  0.000000  0.021739 -0.020906\n",
              "371  0.003096  0.002088  0.063830  0.007117\n",
              "..        ...       ...       ...       ...\n",
              "518 -0.022388  0.007109 -0.054348 -0.040909\n",
              "519  0.045802  0.023529  0.034483  0.023697\n",
              "520  0.003650  0.013793  0.025926  0.013889\n",
              "521  0.000000  0.000000 -0.050542 -0.022831\n",
              "522  0.010909  0.002268  0.049430  0.009346\n",
              "\n",
              "[156 rows x 4 columns]"
            ]
          },
          "metadata": {
            "tags": []
          },
          "execution_count": 102
        }
      ]
    },
    {
      "cell_type": "code",
      "metadata": {
        "colab": {
          "base_uri": "https://localhost:8080/",
          "height": 391
        },
        "id": "KteAnGqKBidd",
        "outputId": "f475f634-8bbf-4072-a61c-191fa5f5caa7"
      },
      "source": [
        "weighted_returns4 = (w.value.reshape(4) * ret_data4)\n",
        "weighted_returns4"
      ],
      "execution_count": null,
      "outputs": [
        {
          "output_type": "execute_result",
          "data": {
            "text/html": [
              "<div>\n",
              "<style scoped>\n",
              "    .dataframe tbody tr th:only-of-type {\n",
              "        vertical-align: middle;\n",
              "    }\n",
              "\n",
              "    .dataframe tbody tr th {\n",
              "        vertical-align: top;\n",
              "    }\n",
              "\n",
              "    .dataframe thead th {\n",
              "        text-align: right;\n",
              "    }\n",
              "</style>\n",
              "<table border=\"1\" class=\"dataframe\">\n",
              "  <thead>\n",
              "    <tr style=\"text-align: right;\">\n",
              "      <th></th>\n",
              "      <th>asii</th>\n",
              "      <th>bbri</th>\n",
              "      <th>cpin</th>\n",
              "      <th>pgas</th>\n",
              "    </tr>\n",
              "  </thead>\n",
              "  <tbody>\n",
              "    <tr>\n",
              "      <th>367</th>\n",
              "      <td>0.011810</td>\n",
              "      <td>0.001423</td>\n",
              "      <td>-0.003233</td>\n",
              "      <td>-0.002589</td>\n",
              "    </tr>\n",
              "    <tr>\n",
              "      <th>368</th>\n",
              "      <td>-0.003828</td>\n",
              "      <td>-0.002816</td>\n",
              "      <td>0.002395</td>\n",
              "      <td>0.002598</td>\n",
              "    </tr>\n",
              "    <tr>\n",
              "      <th>369</th>\n",
              "      <td>0.001288</td>\n",
              "      <td>0.002588</td>\n",
              "      <td>-0.001611</td>\n",
              "      <td>0.036241</td>\n",
              "    </tr>\n",
              "    <tr>\n",
              "      <th>370</th>\n",
              "      <td>-0.001284</td>\n",
              "      <td>0.000000</td>\n",
              "      <td>-0.005605</td>\n",
              "      <td>-0.014774</td>\n",
              "    </tr>\n",
              "    <tr>\n",
              "      <th>371</th>\n",
              "      <td>0.001288</td>\n",
              "      <td>0.000282</td>\n",
              "      <td>-0.016458</td>\n",
              "      <td>0.005030</td>\n",
              "    </tr>\n",
              "    <tr>\n",
              "      <th>...</th>\n",
              "      <td>...</td>\n",
              "      <td>...</td>\n",
              "      <td>...</td>\n",
              "      <td>...</td>\n",
              "    </tr>\n",
              "    <tr>\n",
              "      <th>518</th>\n",
              "      <td>-0.009313</td>\n",
              "      <td>0.000961</td>\n",
              "      <td>0.014013</td>\n",
              "      <td>-0.028910</td>\n",
              "    </tr>\n",
              "    <tr>\n",
              "      <th>519</th>\n",
              "      <td>0.019052</td>\n",
              "      <td>0.003180</td>\n",
              "      <td>-0.008891</td>\n",
              "      <td>0.016746</td>\n",
              "    </tr>\n",
              "    <tr>\n",
              "      <th>520</th>\n",
              "      <td>0.001518</td>\n",
              "      <td>0.001864</td>\n",
              "      <td>-0.006685</td>\n",
              "      <td>0.009815</td>\n",
              "    </tr>\n",
              "    <tr>\n",
              "      <th>521</th>\n",
              "      <td>0.000000</td>\n",
              "      <td>0.000000</td>\n",
              "      <td>0.013031</td>\n",
              "      <td>-0.016135</td>\n",
              "    </tr>\n",
              "    <tr>\n",
              "      <th>522</th>\n",
              "      <td>0.004538</td>\n",
              "      <td>0.000306</td>\n",
              "      <td>-0.012745</td>\n",
              "      <td>0.006605</td>\n",
              "    </tr>\n",
              "  </tbody>\n",
              "</table>\n",
              "<p>156 rows × 4 columns</p>\n",
              "</div>"
            ],
            "text/plain": [
              "         asii      bbri      cpin      pgas\n",
              "367  0.011810  0.001423 -0.003233 -0.002589\n",
              "368 -0.003828 -0.002816  0.002395  0.002598\n",
              "369  0.001288  0.002588 -0.001611  0.036241\n",
              "370 -0.001284  0.000000 -0.005605 -0.014774\n",
              "371  0.001288  0.000282 -0.016458  0.005030\n",
              "..        ...       ...       ...       ...\n",
              "518 -0.009313  0.000961  0.014013 -0.028910\n",
              "519  0.019052  0.003180 -0.008891  0.016746\n",
              "520  0.001518  0.001864 -0.006685  0.009815\n",
              "521  0.000000  0.000000  0.013031 -0.016135\n",
              "522  0.004538  0.000306 -0.012745  0.006605\n",
              "\n",
              "[156 rows x 4 columns]"
            ]
          },
          "metadata": {
            "tags": []
          },
          "execution_count": 103
        }
      ]
    },
    {
      "cell_type": "code",
      "metadata": {
        "colab": {
          "base_uri": "https://localhost:8080/"
        },
        "id": "dXzkaUKWBqwH",
        "outputId": "ffaf65b0-0dab-4036-8aa0-084d15ecf836"
      },
      "source": [
        "port_ret42 = weighted_returns4.sum(axis=1)\n",
        "port_ret42"
      ],
      "execution_count": null,
      "outputs": [
        {
          "output_type": "execute_result",
          "data": {
            "text/plain": [
              "367    0.007411\n",
              "368   -0.001651\n",
              "369    0.038506\n",
              "370   -0.021663\n",
              "371   -0.009858\n",
              "         ...   \n",
              "518   -0.023250\n",
              "519    0.030088\n",
              "520    0.006513\n",
              "521   -0.003103\n",
              "522   -0.001296\n",
              "Length: 156, dtype: float64"
            ]
          },
          "metadata": {
            "tags": []
          },
          "execution_count": 104
        }
      ]
    },
    {
      "cell_type": "code",
      "metadata": {
        "id": "mJbd4R7HBuIV"
      },
      "source": [
        "port_ret42.to_csv('port_ret42.csv')\n",
        "!cp port_ret42.csv \"/content/drive/My Drive/PYTHON/port_ret\""
      ],
      "execution_count": null,
      "outputs": []
    },
    {
      "cell_type": "code",
      "metadata": {
        "colab": {
          "base_uri": "https://localhost:8080/"
        },
        "id": "SqoYZi_7BwM2",
        "outputId": "28f17a4f-09b5-47c7-9138-6e4056d3279d"
      },
      "source": [
        "print('Max return:', max(port_ret42))\n",
        "print('Min return:', min(port_ret42))\n",
        "print('Average return:', np.mean(port_ret42))\n",
        "print('sharpe ratio :', np.mean(port_ret42)/np.std(port_ret42))"
      ],
      "execution_count": null,
      "outputs": [
        {
          "output_type": "stream",
          "text": [
            "Max return: 0.16110941232856546\n",
            "Min return: -0.12752294113599086\n",
            "Average return: -0.0011614011384791826\n",
            "sharpe ratio : -0.02505896432597636\n"
          ],
          "name": "stdout"
        }
      ]
    },
    {
      "cell_type": "code",
      "metadata": {
        "colab": {
          "base_uri": "https://localhost:8080/",
          "height": 307
        },
        "id": "KDiRVUToBx-e",
        "outputId": "7c54346d-ca51-4bcd-f4ce-1277f0c1a924"
      },
      "source": [
        "import matplotlib.pyplot as plt\n",
        "\n",
        "fig = plt.figure()\n",
        "ax1 = fig.add_axes([0.1,0.1,0.8,0.8])\n",
        "ax1.hist(port_ret42, bins = 60)\n",
        "ax1.set_xlabel('Return Portofolio')\n",
        "ax1.set_ylabel(\"Jumlah\")\n",
        "ax1.set_title(\"Return Portofolio sparse mean-variance 4 emiten\")\n",
        "plt.show(); "
      ],
      "execution_count": null,
      "outputs": [
        {
          "output_type": "display_data",
          "data": {
            "image/png": "[encoded data removed]",
            "text/plain": [
              "<Figure size 432x288 with 1 Axes>"
            ]
          },
          "metadata": {
            "tags": [],
            "needs_background": "light"
          }
        }
      ]
    },
    {
      "cell_type": "markdown",
      "metadata": {
        "id": "UPNJwmUaI4LN"
      },
      "source": [
        "###5 emiten"
      ]
    },
    {
      "cell_type": "markdown",
      "metadata": {
        "id": "G2dKNA44j47q"
      },
      "source": [
        "####Ellipsoidal Uncertainty"
      ]
    },
    {
      "cell_type": "code",
      "metadata": {
        "id": "rsbQ2mliDYRF",
        "colab": {
          "base_uri": "https://localhost:8080/"
        },
        "outputId": "dabf9345-fbe8-428b-d0a6-bda9f4d480e1"
      },
      "source": [
        "import os\n",
        "base_dir = '/content/drive/My Drive/PYTHON/saham/data5'\n",
        "\n",
        "data5 = [f for f in os.listdir(base_dir)]\n",
        "for f in data5:\n",
        "    print(f)"
      ],
      "execution_count": null,
      "outputs": [
        {
          "output_type": "stream",
          "text": [
            "ANTM.JK.csv\n",
            "ASII.JK.csv\n",
            "BBRI.JK.csv\n",
            "CPIN.JK.csv\n",
            "PGAS.JK.csv\n"
          ],
          "name": "stdout"
        }
      ]
    },
    {
      "cell_type": "code",
      "metadata": {
        "colab": {
          "base_uri": "https://localhost:8080/",
          "height": 467
        },
        "id": "RGxytf2cHF8e",
        "outputId": "35322e9d-bc65-4656-aa04-510aaf3ec2de"
      },
      "source": [
        "#show one emiten\n",
        "import pandas as pd\n",
        "\n",
        "example_emiten5 = data5[0]\n",
        "df_example5 = pd.read_csv(base_dir+'/'+example_emiten5)\n",
        "print(example_emiten5)\n",
        "print(df_example5.info())\n",
        "print(\"Showing Head of Emiten Dataframe\")\n",
        "df_example5.head()"
      ],
      "execution_count": null,
      "outputs": [
        {
          "output_type": "stream",
          "text": [
            "ANTM.JK.csv\n",
            "<class 'pandas.core.frame.DataFrame'>\n",
            "RangeIndex: 523 entries, 0 to 522\n",
            "Data columns (total 7 columns):\n",
            " #   Column     Non-Null Count  Dtype  \n",
            "---  ------     --------------  -----  \n",
            " 0   Date       523 non-null    object \n",
            " 1   Open       523 non-null    float64\n",
            " 2   High       523 non-null    float64\n",
            " 3   Low        523 non-null    float64\n",
            " 4   Close      523 non-null    float64\n",
            " 5   Adj Close  523 non-null    float64\n",
            " 6   Volume     523 non-null    int64  \n",
            "dtypes: float64(5), int64(1), object(1)\n",
            "memory usage: 28.7+ KB\n",
            "None\n",
            "Showing Head of Emiten Dataframe\n"
          ],
          "name": "stdout"
        },
        {
          "output_type": "execute_result",
          "data": {
            "text/html": [
              "<div>\n",
              "<style scoped>\n",
              "    .dataframe tbody tr th:only-of-type {\n",
              "        vertical-align: middle;\n",
              "    }\n",
              "\n",
              "    .dataframe tbody tr th {\n",
              "        vertical-align: top;\n",
              "    }\n",
              "\n",
              "    .dataframe thead th {\n",
              "        text-align: right;\n",
              "    }\n",
              "</style>\n",
              "<table border=\"1\" class=\"dataframe\">\n",
              "  <thead>\n",
              "    <tr style=\"text-align: right;\">\n",
              "      <th></th>\n",
              "      <th>Date</th>\n",
              "      <th>Open</th>\n",
              "      <th>High</th>\n",
              "      <th>Low</th>\n",
              "      <th>Close</th>\n",
              "      <th>Adj Close</th>\n",
              "      <th>Volume</th>\n",
              "    </tr>\n",
              "  </thead>\n",
              "  <tbody>\n",
              "    <tr>\n",
              "      <th>0</th>\n",
              "      <td>2010-01-01</td>\n",
              "      <td>1931.949951</td>\n",
              "      <td>1994.949951</td>\n",
              "      <td>1847.949951</td>\n",
              "      <td>1973.949951</td>\n",
              "      <td>1597.762817</td>\n",
              "      <td>163202117</td>\n",
              "    </tr>\n",
              "    <tr>\n",
              "      <th>1</th>\n",
              "      <td>2010-01-08</td>\n",
              "      <td>1973.949951</td>\n",
              "      <td>2015.939941</td>\n",
              "      <td>1910.949951</td>\n",
              "      <td>1931.949951</td>\n",
              "      <td>1563.767090</td>\n",
              "      <td>115584733</td>\n",
              "    </tr>\n",
              "    <tr>\n",
              "      <th>2</th>\n",
              "      <td>2010-01-15</td>\n",
              "      <td>1868.949951</td>\n",
              "      <td>1952.949951</td>\n",
              "      <td>1784.949951</td>\n",
              "      <td>1826.949951</td>\n",
              "      <td>1478.777588</td>\n",
              "      <td>215405936</td>\n",
              "    </tr>\n",
              "    <tr>\n",
              "      <th>3</th>\n",
              "      <td>2010-01-22</td>\n",
              "      <td>1826.949951</td>\n",
              "      <td>1847.949951</td>\n",
              "      <td>1742.949951</td>\n",
              "      <td>1805.949951</td>\n",
              "      <td>1461.779663</td>\n",
              "      <td>147717166</td>\n",
              "    </tr>\n",
              "    <tr>\n",
              "      <th>4</th>\n",
              "      <td>2010-01-29</td>\n",
              "      <td>1784.949951</td>\n",
              "      <td>1784.949951</td>\n",
              "      <td>1700.949951</td>\n",
              "      <td>1721.949951</td>\n",
              "      <td>1393.787964</td>\n",
              "      <td>127631493</td>\n",
              "    </tr>\n",
              "  </tbody>\n",
              "</table>\n",
              "</div>"
            ],
            "text/plain": [
              "         Date         Open         High  ...        Close    Adj Close     Volume\n",
              "0  2010-01-01  1931.949951  1994.949951  ...  1973.949951  1597.762817  163202117\n",
              "1  2010-01-08  1973.949951  2015.939941  ...  1931.949951  1563.767090  115584733\n",
              "2  2010-01-15  1868.949951  1952.949951  ...  1826.949951  1478.777588  215405936\n",
              "3  2010-01-22  1826.949951  1847.949951  ...  1805.949951  1461.779663  147717166\n",
              "4  2010-01-29  1784.949951  1784.949951  ...  1721.949951  1393.787964  127631493\n",
              "\n",
              "[5 rows x 7 columns]"
            ]
          },
          "metadata": {
            "tags": []
          },
          "execution_count": 109
        }
      ]
    },
    {
      "cell_type": "code",
      "metadata": {
        "id": "rebnRlOssY_G"
      },
      "source": [
        "df5=pd.DataFrame()\n",
        "target_column5 = 'Close'\n",
        "emitens5 = []\n",
        "for f in data5:\n",
        "  emiten = f.lower().replace('.jk.csv', '')\n",
        "  emitens5.append(emiten)\n",
        "  df_emiten5 = pd.read_csv(base_dir+'/'+f)\n",
        "  df5['Date'] = df_emiten5['Date']\n",
        "  df5[emiten] = df_emiten5[target_column5]\n",
        "df5=df5.dropna()"
      ],
      "execution_count": null,
      "outputs": []
    },
    {
      "cell_type": "code",
      "metadata": {
        "colab": {
          "base_uri": "https://localhost:8080/"
        },
        "id": "5gcbmuyMbif8",
        "outputId": "fd052230-3e7d-4c53-c333-97563ec0eb2d"
      },
      "source": [
        "df_train5 = df5[(df5['Date'] <= '2017-01-01')]\n",
        "df_test5 = df5[(df5['Date'] > '2017-01-01')]\n",
        "\n",
        "print(df_train5)\n",
        "print(df_test5)"
      ],
      "execution_count": null,
      "outputs": [
        {
          "output_type": "stream",
          "text": [
            "           Date         antm    asii    bbri    cpin    pgas\n",
            "0    2010-01-01  1973.949951  3420.0   765.0   450.0  4000.0\n",
            "1    2010-01-08  1931.949951  3555.0   785.0   455.0  3850.0\n",
            "2    2010-01-15  1826.949951  3525.0   790.0   455.0  3750.0\n",
            "3    2010-01-22  1805.949951  3600.0   765.0   440.0  3800.0\n",
            "4    2010-01-29  1721.949951  3535.0   740.0   440.0  3700.0\n",
            "..          ...          ...     ...     ...     ...     ...\n",
            "361  2016-12-02   950.000000  7800.0  2300.0  3150.0  2840.0\n",
            "362  2016-12-09   895.000000  7750.0  2280.0  3180.0  2800.0\n",
            "363  2016-12-16   860.000000  7525.0  2175.0  2900.0  2480.0\n",
            "364  2016-12-23   895.000000  8125.0  2330.0  3110.0  2760.0\n",
            "365  2016-12-30   870.000000  8125.0  2420.0  3260.0  2860.0\n",
            "\n",
            "[366 rows x 6 columns]\n",
            "           Date   antm    asii    bbri    cpin    pgas\n",
            "366  2017-01-06  865.0  7925.0  2375.0  3190.0  2730.0\n",
            "367  2017-01-13  900.0  8150.0  2400.0  3230.0  2720.0\n",
            "368  2017-01-20  810.0  8075.0  2350.0  3200.0  2730.0\n",
            "369  2017-01-27  840.0  8100.0  2395.0  3220.0  2870.0\n",
            "370  2017-02-03  800.0  8075.0  2395.0  3290.0  2810.0\n",
            "..          ...    ...     ...     ...     ...     ...\n",
            "518  2019-12-06  835.0  6550.0  4250.0  6525.0  2110.0\n",
            "519  2019-12-13  835.0  6850.0  4350.0  6750.0  2160.0\n",
            "520  2019-12-20  840.0  6875.0  4410.0  6925.0  2190.0\n",
            "521  2019-12-27  840.0  6875.0  4410.0  6575.0  2140.0\n",
            "522  2020-01-03  850.0  6950.0  4420.0  6900.0  2160.0\n",
            "\n",
            "[157 rows x 6 columns]\n"
          ],
          "name": "stdout"
        }
      ]
    },
    {
      "cell_type": "code",
      "metadata": {
        "colab": {
          "base_uri": "https://localhost:8080/"
        },
        "id": "QnVmAZKve3XY",
        "outputId": "3b35e2e8-56f5-407f-c7be-080441f98464"
      },
      "source": [
        "emiten_means5 = df5.mean()\n",
        "emiten_means5"
      ],
      "execution_count": null,
      "outputs": [
        {
          "output_type": "execute_result",
          "data": {
            "text/plain": [
              "antm    1049.928070\n",
              "asii    6963.231358\n",
              "bbri    2210.248566\n",
              "cpin    3433.757170\n",
              "pgas    3530.869981\n",
              "dtype: float64"
            ]
          },
          "metadata": {
            "tags": []
          },
          "execution_count": 112
        }
      ]
    },
    {
      "cell_type": "code",
      "metadata": {
        "colab": {
          "base_uri": "https://localhost:8080/",
          "height": 191
        },
        "id": "TceAlnRAex57",
        "outputId": "2abeb8ce-3c29-4d9d-fd83-ad83eab5b73d"
      },
      "source": [
        "df_pct_ret5 = df_train5.drop(columns=['Date']).pct_change()\n",
        "df_pct_ret5 =df_pct_ret5.dropna()\n",
        "df_pct_ret5.head()"
      ],
      "execution_count": null,
      "outputs": [
        {
          "output_type": "execute_result",
          "data": {
            "text/html": [
              "<div>\n",
              "<style scoped>\n",
              "    .dataframe tbody tr th:only-of-type {\n",
              "        vertical-align: middle;\n",
              "    }\n",
              "\n",
              "    .dataframe tbody tr th {\n",
              "        vertical-align: top;\n",
              "    }\n",
              "\n",
              "    .dataframe thead th {\n",
              "        text-align: right;\n",
              "    }\n",
              "</style>\n",
              "<table border=\"1\" class=\"dataframe\">\n",
              "  <thead>\n",
              "    <tr style=\"text-align: right;\">\n",
              "      <th></th>\n",
              "      <th>antm</th>\n",
              "      <th>asii</th>\n",
              "      <th>bbri</th>\n",
              "      <th>cpin</th>\n",
              "      <th>pgas</th>\n",
              "    </tr>\n",
              "  </thead>\n",
              "  <tbody>\n",
              "    <tr>\n",
              "      <th>1</th>\n",
              "      <td>-0.021277</td>\n",
              "      <td>0.039474</td>\n",
              "      <td>0.026144</td>\n",
              "      <td>0.011111</td>\n",
              "      <td>-0.037500</td>\n",
              "    </tr>\n",
              "    <tr>\n",
              "      <th>2</th>\n",
              "      <td>-0.054349</td>\n",
              "      <td>-0.008439</td>\n",
              "      <td>0.006369</td>\n",
              "      <td>0.000000</td>\n",
              "      <td>-0.025974</td>\n",
              "    </tr>\n",
              "    <tr>\n",
              "      <th>3</th>\n",
              "      <td>-0.011495</td>\n",
              "      <td>0.021277</td>\n",
              "      <td>-0.031646</td>\n",
              "      <td>-0.032967</td>\n",
              "      <td>0.013333</td>\n",
              "    </tr>\n",
              "    <tr>\n",
              "      <th>4</th>\n",
              "      <td>-0.046513</td>\n",
              "      <td>-0.018056</td>\n",
              "      <td>-0.032680</td>\n",
              "      <td>0.000000</td>\n",
              "      <td>-0.026316</td>\n",
              "    </tr>\n",
              "    <tr>\n",
              "      <th>5</th>\n",
              "      <td>-0.039025</td>\n",
              "      <td>-0.029703</td>\n",
              "      <td>-0.013514</td>\n",
              "      <td>-0.045455</td>\n",
              "      <td>-0.020270</td>\n",
              "    </tr>\n",
              "  </tbody>\n",
              "</table>\n",
              "</div>"
            ],
            "text/plain": [
              "       antm      asii      bbri      cpin      pgas\n",
              "1 -0.021277  0.039474  0.026144  0.011111 -0.037500\n",
              "2 -0.054349 -0.008439  0.006369  0.000000 -0.025974\n",
              "3 -0.011495  0.021277 -0.031646 -0.032967  0.013333\n",
              "4 -0.046513 -0.018056 -0.032680  0.000000 -0.026316\n",
              "5 -0.039025 -0.029703 -0.013514 -0.045455 -0.020270"
            ]
          },
          "metadata": {
            "tags": []
          },
          "execution_count": 113
        }
      ]
    },
    {
      "cell_type": "code",
      "metadata": {
        "colab": {
          "base_uri": "https://localhost:8080/"
        },
        "id": "I0AUMpvIfA8j",
        "outputId": "1d1ab9b9-7127-40c0-a290-2fafd45e30b5"
      },
      "source": [
        "import numpy as np\n",
        "R5=np.array(df_pct_ret5)\n",
        "print(R5.shape)"
      ],
      "execution_count": null,
      "outputs": [
        {
          "output_type": "stream",
          "text": [
            "(365, 5)\n"
          ],
          "name": "stdout"
        }
      ]
    },
    {
      "cell_type": "code",
      "metadata": {
        "colab": {
          "base_uri": "https://localhost:8080/"
        },
        "id": "_gAUZTr4fKNa",
        "outputId": "cacd27d1-aa3e-468d-c4c2-48c0f37fb3a5"
      },
      "source": [
        "emiten_pct_ret_means5 = df_pct_ret5.mean()\n",
        "emiten_pct_ret_means5"
      ],
      "execution_count": null,
      "outputs": [
        {
          "output_type": "execute_result",
          "data": {
            "text/plain": [
              "antm   -0.000876\n",
              "asii    0.003320\n",
              "bbri    0.004238\n",
              "cpin    0.007500\n",
              "pgas    0.000255\n",
              "dtype: float64"
            ]
          },
          "metadata": {
            "tags": []
          },
          "execution_count": 115
        }
      ]
    },
    {
      "cell_type": "code",
      "metadata": {
        "colab": {
          "base_uri": "https://localhost:8080/"
        },
        "id": "Ptp2u4JCfQh7",
        "outputId": "774527e4-2e5c-4ffb-d716-6e36df403662"
      },
      "source": [
        "myu5 = np.matrix(emiten_pct_ret_means5.values).T\n",
        "myu5"
      ],
      "execution_count": null,
      "outputs": [
        {
          "output_type": "execute_result",
          "data": {
            "text/plain": [
              "matrix([[-0.00087614],\n",
              "        [ 0.00331959],\n",
              "        [ 0.00423764],\n",
              "        [ 0.00749999],\n",
              "        [ 0.00025489]])"
            ]
          },
          "metadata": {
            "tags": []
          },
          "execution_count": 116
        }
      ]
    },
    {
      "cell_type": "code",
      "metadata": {
        "colab": {
          "base_uri": "https://localhost:8080/"
        },
        "id": "etGAuAW8fUTq",
        "outputId": "d7464988-fd76-4b9b-caeb-61014a7480ae"
      },
      "source": [
        "tho = 0.01\n",
        "rho= 0.0002;\n",
        "print(rho)\n",
        "\n",
        "#jumlah data\n",
        "n=R5.shape[0]\n",
        "print(n)"
      ],
      "execution_count": null,
      "outputs": [
        {
          "output_type": "stream",
          "text": [
            "0.0002\n",
            "365\n"
          ],
          "name": "stdout"
        }
      ]
    },
    {
      "cell_type": "code",
      "metadata": {
        "colab": {
          "base_uri": "https://localhost:8080/"
        },
        "id": "1AvbToFtfZES",
        "outputId": "c9709766-c263-42c9-a625-ff5aff210e16"
      },
      "source": [
        "import cvxpy as cp\n",
        "import numpy as np\n",
        "\n",
        "# Generate a random feasible SOCP.\n",
        "P = np.array([[0.0001], [0.00009], [0.00008], [0.0001], [0.00009]]).T\n",
        "\n",
        "ns = R5.shape[1]\n",
        "m15 = np.ones((n,1), dtype=np.int64)\n",
        "m15 = np.matrix(m15).T\n",
        "w0 = np.random.randn(n)\n",
        "\n",
        "\n",
        "# Define and solve the CVXPY problem.\n",
        "w = cp.Variable(ns)\n",
        "contraints = [\n",
        "      cp.SOC(w.T @ myu5 - rho, P * w), #first constrraint, SOC constraint\n",
        "      cp.sum(w) == 1,\n",
        "      \n",
        "]\n",
        "\n",
        "obj = cp.Minimize(cp.sum_squares(cp.reshape(rho*m15.T, (n,)) - R5*w) + tho*cp.sum(cp.abs(w)))\n",
        "\n",
        "prob = cp.Problem(obj,contraints)\n",
        "prob.solve()\n",
        "\n",
        "# Print result.\n",
        "print(\"The optimal value is\", prob.value)\n",
        "print(\"Solution for w is\")\n",
        "print(w.value)\n",
        "print(\"SOC constraint dual variable solution\")\n",
        "print(contraints[0].dual_value)"
      ],
      "execution_count": null,
      "outputs": [
        {
          "output_type": "stream",
          "text": [
            "The optimal value is 0.4443955057943217\n",
            "Solution for w is\n",
            "[0.22089664 0.32449796 0.18995473 0.00647755 0.25817313]\n",
            "SOC constraint dual variable solution\n",
            "[ 4.77664478e-08 -1.72049201e-09]\n"
          ],
          "name": "stdout"
        }
      ]
    },
    {
      "cell_type": "code",
      "metadata": {
        "colab": {
          "base_uri": "https://localhost:8080/"
        },
        "id": "inTSZBgQfova",
        "outputId": "cb14beb7-0d4c-44ed-8248-d9ef83241352"
      },
      "source": [
        "print(rho) #rho\n",
        "print(w.value.T@myu5 - np.linalg.norm(P*w.value)) \n",
        "print(w.value.T@myu5 - np.linalg.norm(P*w.value)>= rho) #value of first constraint\n",
        "(P*w.value)"
      ],
      "execution_count": null,
      "outputs": [
        {
          "output_type": "stream",
          "text": [
            "0.0002\n",
            "[[0.00175705]]\n",
            "[[ True]]\n"
          ],
          "name": "stdout"
        },
        {
          "output_type": "execute_result",
          "data": {
            "text/plain": [
              "array([[2.20896635e-05, 2.92048160e-05, 1.51963784e-05, 6.47754546e-07,\n",
              "        2.32355821e-05]])"
            ]
          },
          "metadata": {
            "tags": []
          },
          "execution_count": 119
        }
      ]
    },
    {
      "cell_type": "code",
      "metadata": {
        "colab": {
          "base_uri": "https://localhost:8080/",
          "height": 391
        },
        "id": "rn6sAfeefsdK",
        "outputId": "01ea9fca-f1a5-4ebe-8a0f-7a8038f24356"
      },
      "source": [
        "#mencari return dan drop kolom date\n",
        "df_pct_ret_test5=df_test5.drop(columns=['Date']).pct_change()\n",
        "df_pct_ret_test5=df_pct_ret_test5.dropna()\n",
        "df_pct_ret_test5"
      ],
      "execution_count": null,
      "outputs": [
        {
          "output_type": "execute_result",
          "data": {
            "text/html": [
              "<div>\n",
              "<style scoped>\n",
              "    .dataframe tbody tr th:only-of-type {\n",
              "        vertical-align: middle;\n",
              "    }\n",
              "\n",
              "    .dataframe tbody tr th {\n",
              "        vertical-align: top;\n",
              "    }\n",
              "\n",
              "    .dataframe thead th {\n",
              "        text-align: right;\n",
              "    }\n",
              "</style>\n",
              "<table border=\"1\" class=\"dataframe\">\n",
              "  <thead>\n",
              "    <tr style=\"text-align: right;\">\n",
              "      <th></th>\n",
              "      <th>antm</th>\n",
              "      <th>asii</th>\n",
              "      <th>bbri</th>\n",
              "      <th>cpin</th>\n",
              "      <th>pgas</th>\n",
              "    </tr>\n",
              "  </thead>\n",
              "  <tbody>\n",
              "    <tr>\n",
              "      <th>367</th>\n",
              "      <td>0.040462</td>\n",
              "      <td>0.028391</td>\n",
              "      <td>0.010526</td>\n",
              "      <td>0.012539</td>\n",
              "      <td>-0.003663</td>\n",
              "    </tr>\n",
              "    <tr>\n",
              "      <th>368</th>\n",
              "      <td>-0.100000</td>\n",
              "      <td>-0.009202</td>\n",
              "      <td>-0.020833</td>\n",
              "      <td>-0.009288</td>\n",
              "      <td>0.003676</td>\n",
              "    </tr>\n",
              "    <tr>\n",
              "      <th>369</th>\n",
              "      <td>0.037037</td>\n",
              "      <td>0.003096</td>\n",
              "      <td>0.019149</td>\n",
              "      <td>0.006250</td>\n",
              "      <td>0.051282</td>\n",
              "    </tr>\n",
              "    <tr>\n",
              "      <th>370</th>\n",
              "      <td>-0.047619</td>\n",
              "      <td>-0.003086</td>\n",
              "      <td>0.000000</td>\n",
              "      <td>0.021739</td>\n",
              "      <td>-0.020906</td>\n",
              "    </tr>\n",
              "    <tr>\n",
              "      <th>371</th>\n",
              "      <td>0.000000</td>\n",
              "      <td>0.003096</td>\n",
              "      <td>0.002088</td>\n",
              "      <td>0.063830</td>\n",
              "      <td>0.007117</td>\n",
              "    </tr>\n",
              "    <tr>\n",
              "      <th>...</th>\n",
              "      <td>...</td>\n",
              "      <td>...</td>\n",
              "      <td>...</td>\n",
              "      <td>...</td>\n",
              "      <td>...</td>\n",
              "    </tr>\n",
              "    <tr>\n",
              "      <th>518</th>\n",
              "      <td>0.037267</td>\n",
              "      <td>-0.022388</td>\n",
              "      <td>0.007109</td>\n",
              "      <td>-0.054348</td>\n",
              "      <td>-0.040909</td>\n",
              "    </tr>\n",
              "    <tr>\n",
              "      <th>519</th>\n",
              "      <td>0.000000</td>\n",
              "      <td>0.045802</td>\n",
              "      <td>0.023529</td>\n",
              "      <td>0.034483</td>\n",
              "      <td>0.023697</td>\n",
              "    </tr>\n",
              "    <tr>\n",
              "      <th>520</th>\n",
              "      <td>0.005988</td>\n",
              "      <td>0.003650</td>\n",
              "      <td>0.013793</td>\n",
              "      <td>0.025926</td>\n",
              "      <td>0.013889</td>\n",
              "    </tr>\n",
              "    <tr>\n",
              "      <th>521</th>\n",
              "      <td>0.000000</td>\n",
              "      <td>0.000000</td>\n",
              "      <td>0.000000</td>\n",
              "      <td>-0.050542</td>\n",
              "      <td>-0.022831</td>\n",
              "    </tr>\n",
              "    <tr>\n",
              "      <th>522</th>\n",
              "      <td>0.011905</td>\n",
              "      <td>0.010909</td>\n",
              "      <td>0.002268</td>\n",
              "      <td>0.049430</td>\n",
              "      <td>0.009346</td>\n",
              "    </tr>\n",
              "  </tbody>\n",
              "</table>\n",
              "<p>156 rows × 5 columns</p>\n",
              "</div>"
            ],
            "text/plain": [
              "         antm      asii      bbri      cpin      pgas\n",
              "367  0.040462  0.028391  0.010526  0.012539 -0.003663\n",
              "368 -0.100000 -0.009202 -0.020833 -0.009288  0.003676\n",
              "369  0.037037  0.003096  0.019149  0.006250  0.051282\n",
              "370 -0.047619 -0.003086  0.000000  0.021739 -0.020906\n",
              "371  0.000000  0.003096  0.002088  0.063830  0.007117\n",
              "..        ...       ...       ...       ...       ...\n",
              "518  0.037267 -0.022388  0.007109 -0.054348 -0.040909\n",
              "519  0.000000  0.045802  0.023529  0.034483  0.023697\n",
              "520  0.005988  0.003650  0.013793  0.025926  0.013889\n",
              "521  0.000000  0.000000  0.000000 -0.050542 -0.022831\n",
              "522  0.011905  0.010909  0.002268  0.049430  0.009346\n",
              "\n",
              "[156 rows x 5 columns]"
            ]
          },
          "metadata": {
            "tags": []
          },
          "execution_count": 120
        }
      ]
    },
    {
      "cell_type": "code",
      "metadata": {
        "colab": {
          "base_uri": "https://localhost:8080/"
        },
        "id": "BDNaz1Tbf2N6",
        "outputId": "88ddf8fb-9e76-4bb9-91cb-386eac712747"
      },
      "source": [
        "emitens5"
      ],
      "execution_count": null,
      "outputs": [
        {
          "output_type": "execute_result",
          "data": {
            "text/plain": [
              "['antm', 'asii', 'bbri', 'cpin', 'pgas']"
            ]
          },
          "metadata": {
            "tags": []
          },
          "execution_count": 121
        }
      ]
    },
    {
      "cell_type": "code",
      "metadata": {
        "colab": {
          "base_uri": "https://localhost:8080/",
          "height": 391
        },
        "id": "FZl5twPrgAzc",
        "outputId": "3c409748-ce7b-46da-8902-b877f7a54ed4"
      },
      "source": [
        "df_pct_weekly_return5 = pd.DataFrame()\n",
        "i=0\n",
        "for emiten in emitens5:\n",
        "  df_pct_weekly_return5[emiten]=w.value[i]*df_pct_ret_test5[emiten]\n",
        "  i+=1\n",
        "\n",
        "df_pct_weekly_return5"
      ],
      "execution_count": null,
      "outputs": [
        {
          "output_type": "execute_result",
          "data": {
            "text/html": [
              "<div>\n",
              "<style scoped>\n",
              "    .dataframe tbody tr th:only-of-type {\n",
              "        vertical-align: middle;\n",
              "    }\n",
              "\n",
              "    .dataframe tbody tr th {\n",
              "        vertical-align: top;\n",
              "    }\n",
              "\n",
              "    .dataframe thead th {\n",
              "        text-align: right;\n",
              "    }\n",
              "</style>\n",
              "<table border=\"1\" class=\"dataframe\">\n",
              "  <thead>\n",
              "    <tr style=\"text-align: right;\">\n",
              "      <th></th>\n",
              "      <th>antm</th>\n",
              "      <th>asii</th>\n",
              "      <th>bbri</th>\n",
              "      <th>cpin</th>\n",
              "      <th>pgas</th>\n",
              "    </tr>\n",
              "  </thead>\n",
              "  <tbody>\n",
              "    <tr>\n",
              "      <th>367</th>\n",
              "      <td>0.008938</td>\n",
              "      <td>0.009213</td>\n",
              "      <td>0.002000</td>\n",
              "      <td>0.000081</td>\n",
              "      <td>-0.000946</td>\n",
              "    </tr>\n",
              "    <tr>\n",
              "      <th>368</th>\n",
              "      <td>-0.022090</td>\n",
              "      <td>-0.002986</td>\n",
              "      <td>-0.003957</td>\n",
              "      <td>-0.000060</td>\n",
              "      <td>0.000949</td>\n",
              "    </tr>\n",
              "    <tr>\n",
              "      <th>369</th>\n",
              "      <td>0.008181</td>\n",
              "      <td>0.001005</td>\n",
              "      <td>0.003637</td>\n",
              "      <td>0.000040</td>\n",
              "      <td>0.013240</td>\n",
              "    </tr>\n",
              "    <tr>\n",
              "      <th>370</th>\n",
              "      <td>-0.010519</td>\n",
              "      <td>-0.001002</td>\n",
              "      <td>0.000000</td>\n",
              "      <td>0.000141</td>\n",
              "      <td>-0.005397</td>\n",
              "    </tr>\n",
              "    <tr>\n",
              "      <th>371</th>\n",
              "      <td>0.000000</td>\n",
              "      <td>0.001005</td>\n",
              "      <td>0.000397</td>\n",
              "      <td>0.000413</td>\n",
              "      <td>0.001838</td>\n",
              "    </tr>\n",
              "    <tr>\n",
              "      <th>...</th>\n",
              "      <td>...</td>\n",
              "      <td>...</td>\n",
              "      <td>...</td>\n",
              "      <td>...</td>\n",
              "      <td>...</td>\n",
              "    </tr>\n",
              "    <tr>\n",
              "      <th>518</th>\n",
              "      <td>0.008232</td>\n",
              "      <td>-0.007265</td>\n",
              "      <td>0.001350</td>\n",
              "      <td>-0.000352</td>\n",
              "      <td>-0.010562</td>\n",
              "    </tr>\n",
              "    <tr>\n",
              "      <th>519</th>\n",
              "      <td>0.000000</td>\n",
              "      <td>0.014863</td>\n",
              "      <td>0.004470</td>\n",
              "      <td>0.000223</td>\n",
              "      <td>0.006118</td>\n",
              "    </tr>\n",
              "    <tr>\n",
              "      <th>520</th>\n",
              "      <td>0.001323</td>\n",
              "      <td>0.001184</td>\n",
              "      <td>0.002620</td>\n",
              "      <td>0.000168</td>\n",
              "      <td>0.003586</td>\n",
              "    </tr>\n",
              "    <tr>\n",
              "      <th>521</th>\n",
              "      <td>0.000000</td>\n",
              "      <td>0.000000</td>\n",
              "      <td>0.000000</td>\n",
              "      <td>-0.000327</td>\n",
              "      <td>-0.005894</td>\n",
              "    </tr>\n",
              "    <tr>\n",
              "      <th>522</th>\n",
              "      <td>0.002630</td>\n",
              "      <td>0.003540</td>\n",
              "      <td>0.000431</td>\n",
              "      <td>0.000320</td>\n",
              "      <td>0.002413</td>\n",
              "    </tr>\n",
              "  </tbody>\n",
              "</table>\n",
              "<p>156 rows × 5 columns</p>\n",
              "</div>"
            ],
            "text/plain": [
              "         antm      asii      bbri      cpin      pgas\n",
              "367  0.008938  0.009213  0.002000  0.000081 -0.000946\n",
              "368 -0.022090 -0.002986 -0.003957 -0.000060  0.000949\n",
              "369  0.008181  0.001005  0.003637  0.000040  0.013240\n",
              "370 -0.010519 -0.001002  0.000000  0.000141 -0.005397\n",
              "371  0.000000  0.001005  0.000397  0.000413  0.001838\n",
              "..        ...       ...       ...       ...       ...\n",
              "518  0.008232 -0.007265  0.001350 -0.000352 -0.010562\n",
              "519  0.000000  0.014863  0.004470  0.000223  0.006118\n",
              "520  0.001323  0.001184  0.002620  0.000168  0.003586\n",
              "521  0.000000  0.000000  0.000000 -0.000327 -0.005894\n",
              "522  0.002630  0.003540  0.000431  0.000320  0.002413\n",
              "\n",
              "[156 rows x 5 columns]"
            ]
          },
          "metadata": {
            "tags": []
          },
          "execution_count": 122
        }
      ]
    },
    {
      "cell_type": "code",
      "metadata": {
        "colab": {
          "base_uri": "https://localhost:8080/",
          "height": 391
        },
        "id": "oP-sQ6ZbgHIi",
        "outputId": "a2c863a2-5762-466b-e522-1fa328aec0e0"
      },
      "source": [
        "price_data5 = df_test5.drop(columns=['Date'])\n",
        "price_data5"
      ],
      "execution_count": null,
      "outputs": [
        {
          "output_type": "execute_result",
          "data": {
            "text/html": [
              "<div>\n",
              "<style scoped>\n",
              "    .dataframe tbody tr th:only-of-type {\n",
              "        vertical-align: middle;\n",
              "    }\n",
              "\n",
              "    .dataframe tbody tr th {\n",
              "        vertical-align: top;\n",
              "    }\n",
              "\n",
              "    .dataframe thead th {\n",
              "        text-align: right;\n",
              "    }\n",
              "</style>\n",
              "<table border=\"1\" class=\"dataframe\">\n",
              "  <thead>\n",
              "    <tr style=\"text-align: right;\">\n",
              "      <th></th>\n",
              "      <th>antm</th>\n",
              "      <th>asii</th>\n",
              "      <th>bbri</th>\n",
              "      <th>cpin</th>\n",
              "      <th>pgas</th>\n",
              "    </tr>\n",
              "  </thead>\n",
              "  <tbody>\n",
              "    <tr>\n",
              "      <th>366</th>\n",
              "      <td>865.0</td>\n",
              "      <td>7925.0</td>\n",
              "      <td>2375.0</td>\n",
              "      <td>3190.0</td>\n",
              "      <td>2730.0</td>\n",
              "    </tr>\n",
              "    <tr>\n",
              "      <th>367</th>\n",
              "      <td>900.0</td>\n",
              "      <td>8150.0</td>\n",
              "      <td>2400.0</td>\n",
              "      <td>3230.0</td>\n",
              "      <td>2720.0</td>\n",
              "    </tr>\n",
              "    <tr>\n",
              "      <th>368</th>\n",
              "      <td>810.0</td>\n",
              "      <td>8075.0</td>\n",
              "      <td>2350.0</td>\n",
              "      <td>3200.0</td>\n",
              "      <td>2730.0</td>\n",
              "    </tr>\n",
              "    <tr>\n",
              "      <th>369</th>\n",
              "      <td>840.0</td>\n",
              "      <td>8100.0</td>\n",
              "      <td>2395.0</td>\n",
              "      <td>3220.0</td>\n",
              "      <td>2870.0</td>\n",
              "    </tr>\n",
              "    <tr>\n",
              "      <th>370</th>\n",
              "      <td>800.0</td>\n",
              "      <td>8075.0</td>\n",
              "      <td>2395.0</td>\n",
              "      <td>3290.0</td>\n",
              "      <td>2810.0</td>\n",
              "    </tr>\n",
              "    <tr>\n",
              "      <th>...</th>\n",
              "      <td>...</td>\n",
              "      <td>...</td>\n",
              "      <td>...</td>\n",
              "      <td>...</td>\n",
              "      <td>...</td>\n",
              "    </tr>\n",
              "    <tr>\n",
              "      <th>518</th>\n",
              "      <td>835.0</td>\n",
              "      <td>6550.0</td>\n",
              "      <td>4250.0</td>\n",
              "      <td>6525.0</td>\n",
              "      <td>2110.0</td>\n",
              "    </tr>\n",
              "    <tr>\n",
              "      <th>519</th>\n",
              "      <td>835.0</td>\n",
              "      <td>6850.0</td>\n",
              "      <td>4350.0</td>\n",
              "      <td>6750.0</td>\n",
              "      <td>2160.0</td>\n",
              "    </tr>\n",
              "    <tr>\n",
              "      <th>520</th>\n",
              "      <td>840.0</td>\n",
              "      <td>6875.0</td>\n",
              "      <td>4410.0</td>\n",
              "      <td>6925.0</td>\n",
              "      <td>2190.0</td>\n",
              "    </tr>\n",
              "    <tr>\n",
              "      <th>521</th>\n",
              "      <td>840.0</td>\n",
              "      <td>6875.0</td>\n",
              "      <td>4410.0</td>\n",
              "      <td>6575.0</td>\n",
              "      <td>2140.0</td>\n",
              "    </tr>\n",
              "    <tr>\n",
              "      <th>522</th>\n",
              "      <td>850.0</td>\n",
              "      <td>6950.0</td>\n",
              "      <td>4420.0</td>\n",
              "      <td>6900.0</td>\n",
              "      <td>2160.0</td>\n",
              "    </tr>\n",
              "  </tbody>\n",
              "</table>\n",
              "<p>157 rows × 5 columns</p>\n",
              "</div>"
            ],
            "text/plain": [
              "      antm    asii    bbri    cpin    pgas\n",
              "366  865.0  7925.0  2375.0  3190.0  2730.0\n",
              "367  900.0  8150.0  2400.0  3230.0  2720.0\n",
              "368  810.0  8075.0  2350.0  3200.0  2730.0\n",
              "369  840.0  8100.0  2395.0  3220.0  2870.0\n",
              "370  800.0  8075.0  2395.0  3290.0  2810.0\n",
              "..     ...     ...     ...     ...     ...\n",
              "518  835.0  6550.0  4250.0  6525.0  2110.0\n",
              "519  835.0  6850.0  4350.0  6750.0  2160.0\n",
              "520  840.0  6875.0  4410.0  6925.0  2190.0\n",
              "521  840.0  6875.0  4410.0  6575.0  2140.0\n",
              "522  850.0  6950.0  4420.0  6900.0  2160.0\n",
              "\n",
              "[157 rows x 5 columns]"
            ]
          },
          "metadata": {
            "tags": []
          },
          "execution_count": 123
        }
      ]
    },
    {
      "cell_type": "code",
      "metadata": {
        "colab": {
          "base_uri": "https://localhost:8080/",
          "height": 391
        },
        "id": "a_NPuW5NgM1R",
        "outputId": "294b87e9-bd6f-4f43-a69e-e07ac79ba62e"
      },
      "source": [
        "ret_data5 = price_data5.pct_change()[1:]\n",
        "ret_data5"
      ],
      "execution_count": null,
      "outputs": [
        {
          "output_type": "execute_result",
          "data": {
            "text/html": [
              "<div>\n",
              "<style scoped>\n",
              "    .dataframe tbody tr th:only-of-type {\n",
              "        vertical-align: middle;\n",
              "    }\n",
              "\n",
              "    .dataframe tbody tr th {\n",
              "        vertical-align: top;\n",
              "    }\n",
              "\n",
              "    .dataframe thead th {\n",
              "        text-align: right;\n",
              "    }\n",
              "</style>\n",
              "<table border=\"1\" class=\"dataframe\">\n",
              "  <thead>\n",
              "    <tr style=\"text-align: right;\">\n",
              "      <th></th>\n",
              "      <th>antm</th>\n",
              "      <th>asii</th>\n",
              "      <th>bbri</th>\n",
              "      <th>cpin</th>\n",
              "      <th>pgas</th>\n",
              "    </tr>\n",
              "  </thead>\n",
              "  <tbody>\n",
              "    <tr>\n",
              "      <th>367</th>\n",
              "      <td>0.040462</td>\n",
              "      <td>0.028391</td>\n",
              "      <td>0.010526</td>\n",
              "      <td>0.012539</td>\n",
              "      <td>-0.003663</td>\n",
              "    </tr>\n",
              "    <tr>\n",
              "      <th>368</th>\n",
              "      <td>-0.100000</td>\n",
              "      <td>-0.009202</td>\n",
              "      <td>-0.020833</td>\n",
              "      <td>-0.009288</td>\n",
              "      <td>0.003676</td>\n",
              "    </tr>\n",
              "    <tr>\n",
              "      <th>369</th>\n",
              "      <td>0.037037</td>\n",
              "      <td>0.003096</td>\n",
              "      <td>0.019149</td>\n",
              "      <td>0.006250</td>\n",
              "      <td>0.051282</td>\n",
              "    </tr>\n",
              "    <tr>\n",
              "      <th>370</th>\n",
              "      <td>-0.047619</td>\n",
              "      <td>-0.003086</td>\n",
              "      <td>0.000000</td>\n",
              "      <td>0.021739</td>\n",
              "      <td>-0.020906</td>\n",
              "    </tr>\n",
              "    <tr>\n",
              "      <th>371</th>\n",
              "      <td>0.000000</td>\n",
              "      <td>0.003096</td>\n",
              "      <td>0.002088</td>\n",
              "      <td>0.063830</td>\n",
              "      <td>0.007117</td>\n",
              "    </tr>\n",
              "    <tr>\n",
              "      <th>...</th>\n",
              "      <td>...</td>\n",
              "      <td>...</td>\n",
              "      <td>...</td>\n",
              "      <td>...</td>\n",
              "      <td>...</td>\n",
              "    </tr>\n",
              "    <tr>\n",
              "      <th>518</th>\n",
              "      <td>0.037267</td>\n",
              "      <td>-0.022388</td>\n",
              "      <td>0.007109</td>\n",
              "      <td>-0.054348</td>\n",
              "      <td>-0.040909</td>\n",
              "    </tr>\n",
              "    <tr>\n",
              "      <th>519</th>\n",
              "      <td>0.000000</td>\n",
              "      <td>0.045802</td>\n",
              "      <td>0.023529</td>\n",
              "      <td>0.034483</td>\n",
              "      <td>0.023697</td>\n",
              "    </tr>\n",
              "    <tr>\n",
              "      <th>520</th>\n",
              "      <td>0.005988</td>\n",
              "      <td>0.003650</td>\n",
              "      <td>0.013793</td>\n",
              "      <td>0.025926</td>\n",
              "      <td>0.013889</td>\n",
              "    </tr>\n",
              "    <tr>\n",
              "      <th>521</th>\n",
              "      <td>0.000000</td>\n",
              "      <td>0.000000</td>\n",
              "      <td>0.000000</td>\n",
              "      <td>-0.050542</td>\n",
              "      <td>-0.022831</td>\n",
              "    </tr>\n",
              "    <tr>\n",
              "      <th>522</th>\n",
              "      <td>0.011905</td>\n",
              "      <td>0.010909</td>\n",
              "      <td>0.002268</td>\n",
              "      <td>0.049430</td>\n",
              "      <td>0.009346</td>\n",
              "    </tr>\n",
              "  </tbody>\n",
              "</table>\n",
              "<p>156 rows × 5 columns</p>\n",
              "</div>"
            ],
            "text/plain": [
              "         antm      asii      bbri      cpin      pgas\n",
              "367  0.040462  0.028391  0.010526  0.012539 -0.003663\n",
              "368 -0.100000 -0.009202 -0.020833 -0.009288  0.003676\n",
              "369  0.037037  0.003096  0.019149  0.006250  0.051282\n",
              "370 -0.047619 -0.003086  0.000000  0.021739 -0.020906\n",
              "371  0.000000  0.003096  0.002088  0.063830  0.007117\n",
              "..        ...       ...       ...       ...       ...\n",
              "518  0.037267 -0.022388  0.007109 -0.054348 -0.040909\n",
              "519  0.000000  0.045802  0.023529  0.034483  0.023697\n",
              "520  0.005988  0.003650  0.013793  0.025926  0.013889\n",
              "521  0.000000  0.000000  0.000000 -0.050542 -0.022831\n",
              "522  0.011905  0.010909  0.002268  0.049430  0.009346\n",
              "\n",
              "[156 rows x 5 columns]"
            ]
          },
          "metadata": {
            "tags": []
          },
          "execution_count": 124
        }
      ]
    },
    {
      "cell_type": "code",
      "metadata": {
        "colab": {
          "base_uri": "https://localhost:8080/",
          "height": 391
        },
        "id": "Jaq23sn5gQRy",
        "outputId": "6cdd72c6-a6e3-4ff2-b6fe-65533686a108"
      },
      "source": [
        "weighted_returns5 = (w.value.reshape(5) * ret_data5)\n",
        "weighted_returns5"
      ],
      "execution_count": null,
      "outputs": [
        {
          "output_type": "execute_result",
          "data": {
            "text/html": [
              "<div>\n",
              "<style scoped>\n",
              "    .dataframe tbody tr th:only-of-type {\n",
              "        vertical-align: middle;\n",
              "    }\n",
              "\n",
              "    .dataframe tbody tr th {\n",
              "        vertical-align: top;\n",
              "    }\n",
              "\n",
              "    .dataframe thead th {\n",
              "        text-align: right;\n",
              "    }\n",
              "</style>\n",
              "<table border=\"1\" class=\"dataframe\">\n",
              "  <thead>\n",
              "    <tr style=\"text-align: right;\">\n",
              "      <th></th>\n",
              "      <th>antm</th>\n",
              "      <th>asii</th>\n",
              "      <th>bbri</th>\n",
              "      <th>cpin</th>\n",
              "      <th>pgas</th>\n",
              "    </tr>\n",
              "  </thead>\n",
              "  <tbody>\n",
              "    <tr>\n",
              "      <th>367</th>\n",
              "      <td>0.008938</td>\n",
              "      <td>0.009213</td>\n",
              "      <td>0.002000</td>\n",
              "      <td>0.000081</td>\n",
              "      <td>-0.000946</td>\n",
              "    </tr>\n",
              "    <tr>\n",
              "      <th>368</th>\n",
              "      <td>-0.022090</td>\n",
              "      <td>-0.002986</td>\n",
              "      <td>-0.003957</td>\n",
              "      <td>-0.000060</td>\n",
              "      <td>0.000949</td>\n",
              "    </tr>\n",
              "    <tr>\n",
              "      <th>369</th>\n",
              "      <td>0.008181</td>\n",
              "      <td>0.001005</td>\n",
              "      <td>0.003637</td>\n",
              "      <td>0.000040</td>\n",
              "      <td>0.013240</td>\n",
              "    </tr>\n",
              "    <tr>\n",
              "      <th>370</th>\n",
              "      <td>-0.010519</td>\n",
              "      <td>-0.001002</td>\n",
              "      <td>0.000000</td>\n",
              "      <td>0.000141</td>\n",
              "      <td>-0.005397</td>\n",
              "    </tr>\n",
              "    <tr>\n",
              "      <th>371</th>\n",
              "      <td>0.000000</td>\n",
              "      <td>0.001005</td>\n",
              "      <td>0.000397</td>\n",
              "      <td>0.000413</td>\n",
              "      <td>0.001838</td>\n",
              "    </tr>\n",
              "    <tr>\n",
              "      <th>...</th>\n",
              "      <td>...</td>\n",
              "      <td>...</td>\n",
              "      <td>...</td>\n",
              "      <td>...</td>\n",
              "      <td>...</td>\n",
              "    </tr>\n",
              "    <tr>\n",
              "      <th>518</th>\n",
              "      <td>0.008232</td>\n",
              "      <td>-0.007265</td>\n",
              "      <td>0.001350</td>\n",
              "      <td>-0.000352</td>\n",
              "      <td>-0.010562</td>\n",
              "    </tr>\n",
              "    <tr>\n",
              "      <th>519</th>\n",
              "      <td>0.000000</td>\n",
              "      <td>0.014863</td>\n",
              "      <td>0.004470</td>\n",
              "      <td>0.000223</td>\n",
              "      <td>0.006118</td>\n",
              "    </tr>\n",
              "    <tr>\n",
              "      <th>520</th>\n",
              "      <td>0.001323</td>\n",
              "      <td>0.001184</td>\n",
              "      <td>0.002620</td>\n",
              "      <td>0.000168</td>\n",
              "      <td>0.003586</td>\n",
              "    </tr>\n",
              "    <tr>\n",
              "      <th>521</th>\n",
              "      <td>0.000000</td>\n",
              "      <td>0.000000</td>\n",
              "      <td>0.000000</td>\n",
              "      <td>-0.000327</td>\n",
              "      <td>-0.005894</td>\n",
              "    </tr>\n",
              "    <tr>\n",
              "      <th>522</th>\n",
              "      <td>0.002630</td>\n",
              "      <td>0.003540</td>\n",
              "      <td>0.000431</td>\n",
              "      <td>0.000320</td>\n",
              "      <td>0.002413</td>\n",
              "    </tr>\n",
              "  </tbody>\n",
              "</table>\n",
              "<p>156 rows × 5 columns</p>\n",
              "</div>"
            ],
            "text/plain": [
              "         antm      asii      bbri      cpin      pgas\n",
              "367  0.008938  0.009213  0.002000  0.000081 -0.000946\n",
              "368 -0.022090 -0.002986 -0.003957 -0.000060  0.000949\n",
              "369  0.008181  0.001005  0.003637  0.000040  0.013240\n",
              "370 -0.010519 -0.001002  0.000000  0.000141 -0.005397\n",
              "371  0.000000  0.001005  0.000397  0.000413  0.001838\n",
              "..        ...       ...       ...       ...       ...\n",
              "518  0.008232 -0.007265  0.001350 -0.000352 -0.010562\n",
              "519  0.000000  0.014863  0.004470  0.000223  0.006118\n",
              "520  0.001323  0.001184  0.002620  0.000168  0.003586\n",
              "521  0.000000  0.000000  0.000000 -0.000327 -0.005894\n",
              "522  0.002630  0.003540  0.000431  0.000320  0.002413\n",
              "\n",
              "[156 rows x 5 columns]"
            ]
          },
          "metadata": {
            "tags": []
          },
          "execution_count": 125
        }
      ]
    },
    {
      "cell_type": "code",
      "metadata": {
        "colab": {
          "base_uri": "https://localhost:8080/"
        },
        "id": "6vI-XbcthGWz",
        "outputId": "ccace6d0-7836-40d8-8ede-a314bd23c72b"
      },
      "source": [
        "port_ret51 = weighted_returns5.sum(axis=1)\n",
        "port_ret51"
      ],
      "execution_count": null,
      "outputs": [
        {
          "output_type": "execute_result",
          "data": {
            "text/plain": [
              "367    0.019286\n",
              "368   -0.028144\n",
              "369    0.026104\n",
              "370   -0.016777\n",
              "371    0.003652\n",
              "         ...   \n",
              "518   -0.008596\n",
              "519    0.025673\n",
              "520    0.008881\n",
              "521   -0.006222\n",
              "522    0.009333\n",
              "Length: 156, dtype: float64"
            ]
          },
          "metadata": {
            "tags": []
          },
          "execution_count": 126
        }
      ]
    },
    {
      "cell_type": "code",
      "metadata": {
        "id": "eIV67OEkhMbp"
      },
      "source": [
        "port_ret51.to_csv('port_ret51.csv')\n",
        "!cp port_ret51.csv \"/content/drive/My Drive/PYTHON/port_ret\""
      ],
      "execution_count": null,
      "outputs": []
    },
    {
      "cell_type": "code",
      "metadata": {
        "colab": {
          "base_uri": "https://localhost:8080/"
        },
        "id": "X6XqF2WKhNch",
        "outputId": "4dd942d8-27cc-48c2-d141-149192adcf61"
      },
      "source": [
        "print('Max return:', max(port_ret51))\n",
        "print('Min return:', min(port_ret51))\n",
        "print('Average return:', np.mean(port_ret51))\n",
        "print('sharpe ratio :', np.mean(port_ret51)/np.std(port_ret51))\n",
        "\n",
        "print(np.mean(port_ret51) > rho)"
      ],
      "execution_count": null,
      "outputs": [
        {
          "output_type": "stream",
          "text": [
            "Max return: 0.10889833837359508\n",
            "Min return: -0.07457818458414388\n",
            "Average return: 0.0011433236685019987\n",
            "sharpe ratio : 0.03506771675099472\n",
            "True\n"
          ],
          "name": "stdout"
        }
      ]
    },
    {
      "cell_type": "code",
      "metadata": {
        "colab": {
          "base_uri": "https://localhost:8080/",
          "height": 307
        },
        "id": "1gIg19gXhQ2q",
        "outputId": "b143201d-07d0-4c33-f09e-5ab8cb827418"
      },
      "source": [
        "import matplotlib.pyplot as plt\n",
        "\n",
        "fig = plt.figure()\n",
        "ax1 = fig.add_axes([0.1,0.1,0.8,0.8])\n",
        "ax1.hist(port_ret51, bins = 60)\n",
        "ax1.set_xlabel('Return Portofolio')\n",
        "ax1.set_ylabel(\"Jumlah\")\n",
        "ax1.set_title(\"Return Portofolio Ellipsoidal 5 emiten\")\n",
        "plt.show(); "
      ],
      "execution_count": null,
      "outputs": [
        {
          "output_type": "display_data",
          "data": {
            "image/png": "[encoded data removed]",
            "text/plain": [
              "<Figure size 432x288 with 1 Axes>"
            ]
          },
          "metadata": {
            "tags": [],
            "needs_background": "light"
          }
        }
      ]
    },
    {
      "cell_type": "markdown",
      "metadata": {
        "id": "VDBMfNX3fd8P"
      },
      "source": [
        "####Sparse Mean-Variance"
      ]
    },
    {
      "cell_type": "code",
      "metadata": {
        "colab": {
          "base_uri": "https://localhost:8080/"
        },
        "id": "ZDMTw4NKfhla",
        "outputId": "ca563dca-3a30-43b6-cb4d-1b12daa3e4ec"
      },
      "source": [
        "ns = R5.shape[1]\n",
        "m15 = np.ones((n,1), dtype=np.int64)\n",
        "m15= np.matrix(m15).T\n",
        "w0 = np.random.randn(n)\n",
        "\n",
        "\n",
        "# Define and solve the CVXPY problem.\n",
        "w = cp.Variable(ns)\n",
        "contraints = [\n",
        "      w.T*myu5 == rho, \n",
        "      cp.sum(w) == 1,\n",
        "      \n",
        "]\n",
        "\n",
        "obj = cp.Minimize(cp.sum_squares(cp.reshape(rho*m15.T, (n,)) - R5*w) + tho*cp.sum(cp.abs(w)))\n",
        "\n",
        "prob = cp.Problem(obj,contraints)\n",
        "prob.solve()\n",
        "\n",
        "print(\"The optimal value is\", prob.value)\n",
        "print(\"Solution for w is\")\n",
        "print(w.value)\n",
        "print(\"SOC constraint dual variable solution\")\n",
        "print(contraints[0].dual_value)"
      ],
      "execution_count": null,
      "outputs": [
        {
          "output_type": "stream",
          "text": [
            "The optimal value is 0.5007488805758795\n",
            "Solution for w is\n",
            "[ 0.35756057  0.31770574  0.09078853 -0.13605557  0.37000073]\n",
            "SOC constraint dual variable solution\n",
            "[68.69251345]\n"
          ],
          "name": "stdout"
        }
      ]
    },
    {
      "cell_type": "code",
      "metadata": {
        "colab": {
          "base_uri": "https://localhost:8080/",
          "height": 391
        },
        "id": "czMi6TRGkBDR",
        "outputId": "2f66f67d-2cc5-4329-dbf7-78b32efe8772"
      },
      "source": [
        "df_pct_ret_test5=df_test5.drop(columns=['Date']).pct_change()\n",
        "df_pct_ret_test5=df_pct_ret_test5.dropna()\n",
        "df_pct_ret_test5"
      ],
      "execution_count": null,
      "outputs": [
        {
          "output_type": "execute_result",
          "data": {
            "text/html": [
              "<div>\n",
              "<style scoped>\n",
              "    .dataframe tbody tr th:only-of-type {\n",
              "        vertical-align: middle;\n",
              "    }\n",
              "\n",
              "    .dataframe tbody tr th {\n",
              "        vertical-align: top;\n",
              "    }\n",
              "\n",
              "    .dataframe thead th {\n",
              "        text-align: right;\n",
              "    }\n",
              "</style>\n",
              "<table border=\"1\" class=\"dataframe\">\n",
              "  <thead>\n",
              "    <tr style=\"text-align: right;\">\n",
              "      <th></th>\n",
              "      <th>antm</th>\n",
              "      <th>asii</th>\n",
              "      <th>bbri</th>\n",
              "      <th>cpin</th>\n",
              "      <th>pgas</th>\n",
              "    </tr>\n",
              "  </thead>\n",
              "  <tbody>\n",
              "    <tr>\n",
              "      <th>367</th>\n",
              "      <td>0.040462</td>\n",
              "      <td>0.028391</td>\n",
              "      <td>0.010526</td>\n",
              "      <td>0.012539</td>\n",
              "      <td>-0.003663</td>\n",
              "    </tr>\n",
              "    <tr>\n",
              "      <th>368</th>\n",
              "      <td>-0.100000</td>\n",
              "      <td>-0.009202</td>\n",
              "      <td>-0.020833</td>\n",
              "      <td>-0.009288</td>\n",
              "      <td>0.003676</td>\n",
              "    </tr>\n",
              "    <tr>\n",
              "      <th>369</th>\n",
              "      <td>0.037037</td>\n",
              "      <td>0.003096</td>\n",
              "      <td>0.019149</td>\n",
              "      <td>0.006250</td>\n",
              "      <td>0.051282</td>\n",
              "    </tr>\n",
              "    <tr>\n",
              "      <th>370</th>\n",
              "      <td>-0.047619</td>\n",
              "      <td>-0.003086</td>\n",
              "      <td>0.000000</td>\n",
              "      <td>0.021739</td>\n",
              "      <td>-0.020906</td>\n",
              "    </tr>\n",
              "    <tr>\n",
              "      <th>371</th>\n",
              "      <td>0.000000</td>\n",
              "      <td>0.003096</td>\n",
              "      <td>0.002088</td>\n",
              "      <td>0.063830</td>\n",
              "      <td>0.007117</td>\n",
              "    </tr>\n",
              "    <tr>\n",
              "      <th>...</th>\n",
              "      <td>...</td>\n",
              "      <td>...</td>\n",
              "      <td>...</td>\n",
              "      <td>...</td>\n",
              "      <td>...</td>\n",
              "    </tr>\n",
              "    <tr>\n",
              "      <th>518</th>\n",
              "      <td>0.037267</td>\n",
              "      <td>-0.022388</td>\n",
              "      <td>0.007109</td>\n",
              "      <td>-0.054348</td>\n",
              "      <td>-0.040909</td>\n",
              "    </tr>\n",
              "    <tr>\n",
              "      <th>519</th>\n",
              "      <td>0.000000</td>\n",
              "      <td>0.045802</td>\n",
              "      <td>0.023529</td>\n",
              "      <td>0.034483</td>\n",
              "      <td>0.023697</td>\n",
              "    </tr>\n",
              "    <tr>\n",
              "      <th>520</th>\n",
              "      <td>0.005988</td>\n",
              "      <td>0.003650</td>\n",
              "      <td>0.013793</td>\n",
              "      <td>0.025926</td>\n",
              "      <td>0.013889</td>\n",
              "    </tr>\n",
              "    <tr>\n",
              "      <th>521</th>\n",
              "      <td>0.000000</td>\n",
              "      <td>0.000000</td>\n",
              "      <td>0.000000</td>\n",
              "      <td>-0.050542</td>\n",
              "      <td>-0.022831</td>\n",
              "    </tr>\n",
              "    <tr>\n",
              "      <th>522</th>\n",
              "      <td>0.011905</td>\n",
              "      <td>0.010909</td>\n",
              "      <td>0.002268</td>\n",
              "      <td>0.049430</td>\n",
              "      <td>0.009346</td>\n",
              "    </tr>\n",
              "  </tbody>\n",
              "</table>\n",
              "<p>156 rows × 5 columns</p>\n",
              "</div>"
            ],
            "text/plain": [
              "         antm      asii      bbri      cpin      pgas\n",
              "367  0.040462  0.028391  0.010526  0.012539 -0.003663\n",
              "368 -0.100000 -0.009202 -0.020833 -0.009288  0.003676\n",
              "369  0.037037  0.003096  0.019149  0.006250  0.051282\n",
              "370 -0.047619 -0.003086  0.000000  0.021739 -0.020906\n",
              "371  0.000000  0.003096  0.002088  0.063830  0.007117\n",
              "..        ...       ...       ...       ...       ...\n",
              "518  0.037267 -0.022388  0.007109 -0.054348 -0.040909\n",
              "519  0.000000  0.045802  0.023529  0.034483  0.023697\n",
              "520  0.005988  0.003650  0.013793  0.025926  0.013889\n",
              "521  0.000000  0.000000  0.000000 -0.050542 -0.022831\n",
              "522  0.011905  0.010909  0.002268  0.049430  0.009346\n",
              "\n",
              "[156 rows x 5 columns]"
            ]
          },
          "metadata": {
            "tags": []
          },
          "execution_count": 131
        }
      ]
    },
    {
      "cell_type": "code",
      "metadata": {
        "colab": {
          "base_uri": "https://localhost:8080/"
        },
        "id": "ENejUEWokFdd",
        "outputId": "5274fe05-e556-48bf-bdd5-bdedc638e7ba"
      },
      "source": [
        "emitens5"
      ],
      "execution_count": null,
      "outputs": [
        {
          "output_type": "execute_result",
          "data": {
            "text/plain": [
              "['antm', 'asii', 'bbri', 'cpin', 'pgas']"
            ]
          },
          "metadata": {
            "tags": []
          },
          "execution_count": 132
        }
      ]
    },
    {
      "cell_type": "code",
      "metadata": {
        "colab": {
          "base_uri": "https://localhost:8080/",
          "height": 391
        },
        "id": "FKdfWQiRkJjh",
        "outputId": "51676e7b-d3fe-43d6-cd01-be22460bf43d"
      },
      "source": [
        "df_pct_weekly_return5 = pd.DataFrame()\n",
        "i=0\n",
        "for emiten in emitens5:\n",
        "  df_pct_weekly_return5[emiten]=w.value[i]*df_pct_ret_test5[emiten]\n",
        "  i+=1\n",
        "\n",
        "df_pct_weekly_return5"
      ],
      "execution_count": null,
      "outputs": [
        {
          "output_type": "execute_result",
          "data": {
            "text/html": [
              "<div>\n",
              "<style scoped>\n",
              "    .dataframe tbody tr th:only-of-type {\n",
              "        vertical-align: middle;\n",
              "    }\n",
              "\n",
              "    .dataframe tbody tr th {\n",
              "        vertical-align: top;\n",
              "    }\n",
              "\n",
              "    .dataframe thead th {\n",
              "        text-align: right;\n",
              "    }\n",
              "</style>\n",
              "<table border=\"1\" class=\"dataframe\">\n",
              "  <thead>\n",
              "    <tr style=\"text-align: right;\">\n",
              "      <th></th>\n",
              "      <th>antm</th>\n",
              "      <th>asii</th>\n",
              "      <th>bbri</th>\n",
              "      <th>cpin</th>\n",
              "      <th>pgas</th>\n",
              "    </tr>\n",
              "  </thead>\n",
              "  <tbody>\n",
              "    <tr>\n",
              "      <th>367</th>\n",
              "      <td>0.014468</td>\n",
              "      <td>0.009020</td>\n",
              "      <td>0.000956</td>\n",
              "      <td>-0.001706</td>\n",
              "      <td>-0.001355</td>\n",
              "    </tr>\n",
              "    <tr>\n",
              "      <th>368</th>\n",
              "      <td>-0.035756</td>\n",
              "      <td>-0.002924</td>\n",
              "      <td>-0.001891</td>\n",
              "      <td>0.001264</td>\n",
              "      <td>0.001360</td>\n",
              "    </tr>\n",
              "    <tr>\n",
              "      <th>369</th>\n",
              "      <td>0.013243</td>\n",
              "      <td>0.000984</td>\n",
              "      <td>0.001739</td>\n",
              "      <td>-0.000850</td>\n",
              "      <td>0.018974</td>\n",
              "    </tr>\n",
              "    <tr>\n",
              "      <th>370</th>\n",
              "      <td>-0.017027</td>\n",
              "      <td>-0.000981</td>\n",
              "      <td>0.000000</td>\n",
              "      <td>-0.002958</td>\n",
              "      <td>-0.007735</td>\n",
              "    </tr>\n",
              "    <tr>\n",
              "      <th>371</th>\n",
              "      <td>0.000000</td>\n",
              "      <td>0.000984</td>\n",
              "      <td>0.000190</td>\n",
              "      <td>-0.008684</td>\n",
              "      <td>0.002633</td>\n",
              "    </tr>\n",
              "    <tr>\n",
              "      <th>...</th>\n",
              "      <td>...</td>\n",
              "      <td>...</td>\n",
              "      <td>...</td>\n",
              "      <td>...</td>\n",
              "      <td>...</td>\n",
              "    </tr>\n",
              "    <tr>\n",
              "      <th>518</th>\n",
              "      <td>0.013325</td>\n",
              "      <td>-0.007113</td>\n",
              "      <td>0.000645</td>\n",
              "      <td>0.007394</td>\n",
              "      <td>-0.015136</td>\n",
              "    </tr>\n",
              "    <tr>\n",
              "      <th>519</th>\n",
              "      <td>0.000000</td>\n",
              "      <td>0.014551</td>\n",
              "      <td>0.002136</td>\n",
              "      <td>-0.004692</td>\n",
              "      <td>0.008768</td>\n",
              "    </tr>\n",
              "    <tr>\n",
              "      <th>520</th>\n",
              "      <td>0.002141</td>\n",
              "      <td>0.001160</td>\n",
              "      <td>0.001252</td>\n",
              "      <td>-0.003527</td>\n",
              "      <td>0.005139</td>\n",
              "    </tr>\n",
              "    <tr>\n",
              "      <th>521</th>\n",
              "      <td>0.000000</td>\n",
              "      <td>0.000000</td>\n",
              "      <td>0.000000</td>\n",
              "      <td>0.006876</td>\n",
              "      <td>-0.008448</td>\n",
              "    </tr>\n",
              "    <tr>\n",
              "      <th>522</th>\n",
              "      <td>0.004257</td>\n",
              "      <td>0.003466</td>\n",
              "      <td>0.000206</td>\n",
              "      <td>-0.006725</td>\n",
              "      <td>0.003458</td>\n",
              "    </tr>\n",
              "  </tbody>\n",
              "</table>\n",
              "<p>156 rows × 5 columns</p>\n",
              "</div>"
            ],
            "text/plain": [
              "         antm      asii      bbri      cpin      pgas\n",
              "367  0.014468  0.009020  0.000956 -0.001706 -0.001355\n",
              "368 -0.035756 -0.002924 -0.001891  0.001264  0.001360\n",
              "369  0.013243  0.000984  0.001739 -0.000850  0.018974\n",
              "370 -0.017027 -0.000981  0.000000 -0.002958 -0.007735\n",
              "371  0.000000  0.000984  0.000190 -0.008684  0.002633\n",
              "..        ...       ...       ...       ...       ...\n",
              "518  0.013325 -0.007113  0.000645  0.007394 -0.015136\n",
              "519  0.000000  0.014551  0.002136 -0.004692  0.008768\n",
              "520  0.002141  0.001160  0.001252 -0.003527  0.005139\n",
              "521  0.000000  0.000000  0.000000  0.006876 -0.008448\n",
              "522  0.004257  0.003466  0.000206 -0.006725  0.003458\n",
              "\n",
              "[156 rows x 5 columns]"
            ]
          },
          "metadata": {
            "tags": []
          },
          "execution_count": 133
        }
      ]
    },
    {
      "cell_type": "code",
      "metadata": {
        "colab": {
          "base_uri": "https://localhost:8080/",
          "height": 391
        },
        "id": "glL6en7IkR6h",
        "outputId": "6a293314-2992-4195-9d9f-6bc95ae6adc4"
      },
      "source": [
        "price_data5 = df_test5.drop(columns=['Date'])\n",
        "price_data5"
      ],
      "execution_count": null,
      "outputs": [
        {
          "output_type": "execute_result",
          "data": {
            "text/html": [
              "<div>\n",
              "<style scoped>\n",
              "    .dataframe tbody tr th:only-of-type {\n",
              "        vertical-align: middle;\n",
              "    }\n",
              "\n",
              "    .dataframe tbody tr th {\n",
              "        vertical-align: top;\n",
              "    }\n",
              "\n",
              "    .dataframe thead th {\n",
              "        text-align: right;\n",
              "    }\n",
              "</style>\n",
              "<table border=\"1\" class=\"dataframe\">\n",
              "  <thead>\n",
              "    <tr style=\"text-align: right;\">\n",
              "      <th></th>\n",
              "      <th>antm</th>\n",
              "      <th>asii</th>\n",
              "      <th>bbri</th>\n",
              "      <th>cpin</th>\n",
              "      <th>pgas</th>\n",
              "    </tr>\n",
              "  </thead>\n",
              "  <tbody>\n",
              "    <tr>\n",
              "      <th>366</th>\n",
              "      <td>865.0</td>\n",
              "      <td>7925.0</td>\n",
              "      <td>2375.0</td>\n",
              "      <td>3190.0</td>\n",
              "      <td>2730.0</td>\n",
              "    </tr>\n",
              "    <tr>\n",
              "      <th>367</th>\n",
              "      <td>900.0</td>\n",
              "      <td>8150.0</td>\n",
              "      <td>2400.0</td>\n",
              "      <td>3230.0</td>\n",
              "      <td>2720.0</td>\n",
              "    </tr>\n",
              "    <tr>\n",
              "      <th>368</th>\n",
              "      <td>810.0</td>\n",
              "      <td>8075.0</td>\n",
              "      <td>2350.0</td>\n",
              "      <td>3200.0</td>\n",
              "      <td>2730.0</td>\n",
              "    </tr>\n",
              "    <tr>\n",
              "      <th>369</th>\n",
              "      <td>840.0</td>\n",
              "      <td>8100.0</td>\n",
              "      <td>2395.0</td>\n",
              "      <td>3220.0</td>\n",
              "      <td>2870.0</td>\n",
              "    </tr>\n",
              "    <tr>\n",
              "      <th>370</th>\n",
              "      <td>800.0</td>\n",
              "      <td>8075.0</td>\n",
              "      <td>2395.0</td>\n",
              "      <td>3290.0</td>\n",
              "      <td>2810.0</td>\n",
              "    </tr>\n",
              "    <tr>\n",
              "      <th>...</th>\n",
              "      <td>...</td>\n",
              "      <td>...</td>\n",
              "      <td>...</td>\n",
              "      <td>...</td>\n",
              "      <td>...</td>\n",
              "    </tr>\n",
              "    <tr>\n",
              "      <th>518</th>\n",
              "      <td>835.0</td>\n",
              "      <td>6550.0</td>\n",
              "      <td>4250.0</td>\n",
              "      <td>6525.0</td>\n",
              "      <td>2110.0</td>\n",
              "    </tr>\n",
              "    <tr>\n",
              "      <th>519</th>\n",
              "      <td>835.0</td>\n",
              "      <td>6850.0</td>\n",
              "      <td>4350.0</td>\n",
              "      <td>6750.0</td>\n",
              "      <td>2160.0</td>\n",
              "    </tr>\n",
              "    <tr>\n",
              "      <th>520</th>\n",
              "      <td>840.0</td>\n",
              "      <td>6875.0</td>\n",
              "      <td>4410.0</td>\n",
              "      <td>6925.0</td>\n",
              "      <td>2190.0</td>\n",
              "    </tr>\n",
              "    <tr>\n",
              "      <th>521</th>\n",
              "      <td>840.0</td>\n",
              "      <td>6875.0</td>\n",
              "      <td>4410.0</td>\n",
              "      <td>6575.0</td>\n",
              "      <td>2140.0</td>\n",
              "    </tr>\n",
              "    <tr>\n",
              "      <th>522</th>\n",
              "      <td>850.0</td>\n",
              "      <td>6950.0</td>\n",
              "      <td>4420.0</td>\n",
              "      <td>6900.0</td>\n",
              "      <td>2160.0</td>\n",
              "    </tr>\n",
              "  </tbody>\n",
              "</table>\n",
              "<p>157 rows × 5 columns</p>\n",
              "</div>"
            ],
            "text/plain": [
              "      antm    asii    bbri    cpin    pgas\n",
              "366  865.0  7925.0  2375.0  3190.0  2730.0\n",
              "367  900.0  8150.0  2400.0  3230.0  2720.0\n",
              "368  810.0  8075.0  2350.0  3200.0  2730.0\n",
              "369  840.0  8100.0  2395.0  3220.0  2870.0\n",
              "370  800.0  8075.0  2395.0  3290.0  2810.0\n",
              "..     ...     ...     ...     ...     ...\n",
              "518  835.0  6550.0  4250.0  6525.0  2110.0\n",
              "519  835.0  6850.0  4350.0  6750.0  2160.0\n",
              "520  840.0  6875.0  4410.0  6925.0  2190.0\n",
              "521  840.0  6875.0  4410.0  6575.0  2140.0\n",
              "522  850.0  6950.0  4420.0  6900.0  2160.0\n",
              "\n",
              "[157 rows x 5 columns]"
            ]
          },
          "metadata": {
            "tags": []
          },
          "execution_count": 134
        }
      ]
    },
    {
      "cell_type": "code",
      "metadata": {
        "colab": {
          "base_uri": "https://localhost:8080/",
          "height": 391
        },
        "id": "Wfjn_bZDkV-m",
        "outputId": "85a983e7-3a85-466c-ac46-58dda320c038"
      },
      "source": [
        "ret_data5 = price_data5.pct_change()[1:]\n",
        "ret_data5"
      ],
      "execution_count": null,
      "outputs": [
        {
          "output_type": "execute_result",
          "data": {
            "text/html": [
              "<div>\n",
              "<style scoped>\n",
              "    .dataframe tbody tr th:only-of-type {\n",
              "        vertical-align: middle;\n",
              "    }\n",
              "\n",
              "    .dataframe tbody tr th {\n",
              "        vertical-align: top;\n",
              "    }\n",
              "\n",
              "    .dataframe thead th {\n",
              "        text-align: right;\n",
              "    }\n",
              "</style>\n",
              "<table border=\"1\" class=\"dataframe\">\n",
              "  <thead>\n",
              "    <tr style=\"text-align: right;\">\n",
              "      <th></th>\n",
              "      <th>antm</th>\n",
              "      <th>asii</th>\n",
              "      <th>bbri</th>\n",
              "      <th>cpin</th>\n",
              "      <th>pgas</th>\n",
              "    </tr>\n",
              "  </thead>\n",
              "  <tbody>\n",
              "    <tr>\n",
              "      <th>367</th>\n",
              "      <td>0.040462</td>\n",
              "      <td>0.028391</td>\n",
              "      <td>0.010526</td>\n",
              "      <td>0.012539</td>\n",
              "      <td>-0.003663</td>\n",
              "    </tr>\n",
              "    <tr>\n",
              "      <th>368</th>\n",
              "      <td>-0.100000</td>\n",
              "      <td>-0.009202</td>\n",
              "      <td>-0.020833</td>\n",
              "      <td>-0.009288</td>\n",
              "      <td>0.003676</td>\n",
              "    </tr>\n",
              "    <tr>\n",
              "      <th>369</th>\n",
              "      <td>0.037037</td>\n",
              "      <td>0.003096</td>\n",
              "      <td>0.019149</td>\n",
              "      <td>0.006250</td>\n",
              "      <td>0.051282</td>\n",
              "    </tr>\n",
              "    <tr>\n",
              "      <th>370</th>\n",
              "      <td>-0.047619</td>\n",
              "      <td>-0.003086</td>\n",
              "      <td>0.000000</td>\n",
              "      <td>0.021739</td>\n",
              "      <td>-0.020906</td>\n",
              "    </tr>\n",
              "    <tr>\n",
              "      <th>371</th>\n",
              "      <td>0.000000</td>\n",
              "      <td>0.003096</td>\n",
              "      <td>0.002088</td>\n",
              "      <td>0.063830</td>\n",
              "      <td>0.007117</td>\n",
              "    </tr>\n",
              "    <tr>\n",
              "      <th>...</th>\n",
              "      <td>...</td>\n",
              "      <td>...</td>\n",
              "      <td>...</td>\n",
              "      <td>...</td>\n",
              "      <td>...</td>\n",
              "    </tr>\n",
              "    <tr>\n",
              "      <th>518</th>\n",
              "      <td>0.037267</td>\n",
              "      <td>-0.022388</td>\n",
              "      <td>0.007109</td>\n",
              "      <td>-0.054348</td>\n",
              "      <td>-0.040909</td>\n",
              "    </tr>\n",
              "    <tr>\n",
              "      <th>519</th>\n",
              "      <td>0.000000</td>\n",
              "      <td>0.045802</td>\n",
              "      <td>0.023529</td>\n",
              "      <td>0.034483</td>\n",
              "      <td>0.023697</td>\n",
              "    </tr>\n",
              "    <tr>\n",
              "      <th>520</th>\n",
              "      <td>0.005988</td>\n",
              "      <td>0.003650</td>\n",
              "      <td>0.013793</td>\n",
              "      <td>0.025926</td>\n",
              "      <td>0.013889</td>\n",
              "    </tr>\n",
              "    <tr>\n",
              "      <th>521</th>\n",
              "      <td>0.000000</td>\n",
              "      <td>0.000000</td>\n",
              "      <td>0.000000</td>\n",
              "      <td>-0.050542</td>\n",
              "      <td>-0.022831</td>\n",
              "    </tr>\n",
              "    <tr>\n",
              "      <th>522</th>\n",
              "      <td>0.011905</td>\n",
              "      <td>0.010909</td>\n",
              "      <td>0.002268</td>\n",
              "      <td>0.049430</td>\n",
              "      <td>0.009346</td>\n",
              "    </tr>\n",
              "  </tbody>\n",
              "</table>\n",
              "<p>156 rows × 5 columns</p>\n",
              "</div>"
            ],
            "text/plain": [
              "         antm      asii      bbri      cpin      pgas\n",
              "367  0.040462  0.028391  0.010526  0.012539 -0.003663\n",
              "368 -0.100000 -0.009202 -0.020833 -0.009288  0.003676\n",
              "369  0.037037  0.003096  0.019149  0.006250  0.051282\n",
              "370 -0.047619 -0.003086  0.000000  0.021739 -0.020906\n",
              "371  0.000000  0.003096  0.002088  0.063830  0.007117\n",
              "..        ...       ...       ...       ...       ...\n",
              "518  0.037267 -0.022388  0.007109 -0.054348 -0.040909\n",
              "519  0.000000  0.045802  0.023529  0.034483  0.023697\n",
              "520  0.005988  0.003650  0.013793  0.025926  0.013889\n",
              "521  0.000000  0.000000  0.000000 -0.050542 -0.022831\n",
              "522  0.011905  0.010909  0.002268  0.049430  0.009346\n",
              "\n",
              "[156 rows x 5 columns]"
            ]
          },
          "metadata": {
            "tags": []
          },
          "execution_count": 135
        }
      ]
    },
    {
      "cell_type": "code",
      "metadata": {
        "colab": {
          "base_uri": "https://localhost:8080/",
          "height": 391
        },
        "id": "mMrAtLYCkZZ5",
        "outputId": "31d5c68e-ed7e-46e6-b5d5-94f1564bd40a"
      },
      "source": [
        "weighted_returns5 = (w.value.reshape(5) * ret_data5)\n",
        "weighted_returns5"
      ],
      "execution_count": null,
      "outputs": [
        {
          "output_type": "execute_result",
          "data": {
            "text/html": [
              "<div>\n",
              "<style scoped>\n",
              "    .dataframe tbody tr th:only-of-type {\n",
              "        vertical-align: middle;\n",
              "    }\n",
              "\n",
              "    .dataframe tbody tr th {\n",
              "        vertical-align: top;\n",
              "    }\n",
              "\n",
              "    .dataframe thead th {\n",
              "        text-align: right;\n",
              "    }\n",
              "</style>\n",
              "<table border=\"1\" class=\"dataframe\">\n",
              "  <thead>\n",
              "    <tr style=\"text-align: right;\">\n",
              "      <th></th>\n",
              "      <th>antm</th>\n",
              "      <th>asii</th>\n",
              "      <th>bbri</th>\n",
              "      <th>cpin</th>\n",
              "      <th>pgas</th>\n",
              "    </tr>\n",
              "  </thead>\n",
              "  <tbody>\n",
              "    <tr>\n",
              "      <th>367</th>\n",
              "      <td>0.014468</td>\n",
              "      <td>0.009020</td>\n",
              "      <td>0.000956</td>\n",
              "      <td>-0.001706</td>\n",
              "      <td>-0.001355</td>\n",
              "    </tr>\n",
              "    <tr>\n",
              "      <th>368</th>\n",
              "      <td>-0.035756</td>\n",
              "      <td>-0.002924</td>\n",
              "      <td>-0.001891</td>\n",
              "      <td>0.001264</td>\n",
              "      <td>0.001360</td>\n",
              "    </tr>\n",
              "    <tr>\n",
              "      <th>369</th>\n",
              "      <td>0.013243</td>\n",
              "      <td>0.000984</td>\n",
              "      <td>0.001739</td>\n",
              "      <td>-0.000850</td>\n",
              "      <td>0.018974</td>\n",
              "    </tr>\n",
              "    <tr>\n",
              "      <th>370</th>\n",
              "      <td>-0.017027</td>\n",
              "      <td>-0.000981</td>\n",
              "      <td>0.000000</td>\n",
              "      <td>-0.002958</td>\n",
              "      <td>-0.007735</td>\n",
              "    </tr>\n",
              "    <tr>\n",
              "      <th>371</th>\n",
              "      <td>0.000000</td>\n",
              "      <td>0.000984</td>\n",
              "      <td>0.000190</td>\n",
              "      <td>-0.008684</td>\n",
              "      <td>0.002633</td>\n",
              "    </tr>\n",
              "    <tr>\n",
              "      <th>...</th>\n",
              "      <td>...</td>\n",
              "      <td>...</td>\n",
              "      <td>...</td>\n",
              "      <td>...</td>\n",
              "      <td>...</td>\n",
              "    </tr>\n",
              "    <tr>\n",
              "      <th>518</th>\n",
              "      <td>0.013325</td>\n",
              "      <td>-0.007113</td>\n",
              "      <td>0.000645</td>\n",
              "      <td>0.007394</td>\n",
              "      <td>-0.015136</td>\n",
              "    </tr>\n",
              "    <tr>\n",
              "      <th>519</th>\n",
              "      <td>0.000000</td>\n",
              "      <td>0.014551</td>\n",
              "      <td>0.002136</td>\n",
              "      <td>-0.004692</td>\n",
              "      <td>0.008768</td>\n",
              "    </tr>\n",
              "    <tr>\n",
              "      <th>520</th>\n",
              "      <td>0.002141</td>\n",
              "      <td>0.001160</td>\n",
              "      <td>0.001252</td>\n",
              "      <td>-0.003527</td>\n",
              "      <td>0.005139</td>\n",
              "    </tr>\n",
              "    <tr>\n",
              "      <th>521</th>\n",
              "      <td>0.000000</td>\n",
              "      <td>0.000000</td>\n",
              "      <td>0.000000</td>\n",
              "      <td>0.006876</td>\n",
              "      <td>-0.008448</td>\n",
              "    </tr>\n",
              "    <tr>\n",
              "      <th>522</th>\n",
              "      <td>0.004257</td>\n",
              "      <td>0.003466</td>\n",
              "      <td>0.000206</td>\n",
              "      <td>-0.006725</td>\n",
              "      <td>0.003458</td>\n",
              "    </tr>\n",
              "  </tbody>\n",
              "</table>\n",
              "<p>156 rows × 5 columns</p>\n",
              "</div>"
            ],
            "text/plain": [
              "         antm      asii      bbri      cpin      pgas\n",
              "367  0.014468  0.009020  0.000956 -0.001706 -0.001355\n",
              "368 -0.035756 -0.002924 -0.001891  0.001264  0.001360\n",
              "369  0.013243  0.000984  0.001739 -0.000850  0.018974\n",
              "370 -0.017027 -0.000981  0.000000 -0.002958 -0.007735\n",
              "371  0.000000  0.000984  0.000190 -0.008684  0.002633\n",
              "..        ...       ...       ...       ...       ...\n",
              "518  0.013325 -0.007113  0.000645  0.007394 -0.015136\n",
              "519  0.000000  0.014551  0.002136 -0.004692  0.008768\n",
              "520  0.002141  0.001160  0.001252 -0.003527  0.005139\n",
              "521  0.000000  0.000000  0.000000  0.006876 -0.008448\n",
              "522  0.004257  0.003466  0.000206 -0.006725  0.003458\n",
              "\n",
              "[156 rows x 5 columns]"
            ]
          },
          "metadata": {
            "tags": []
          },
          "execution_count": 136
        }
      ]
    },
    {
      "cell_type": "code",
      "metadata": {
        "colab": {
          "base_uri": "https://localhost:8080/"
        },
        "id": "jKDCdzXMkcvE",
        "outputId": "2b75e8a1-c9c7-4da7-c728-09f76cdb4fb0"
      },
      "source": [
        "port_ret52 = weighted_returns5.sum(axis=1)\n",
        "port_ret52"
      ],
      "execution_count": null,
      "outputs": [
        {
          "output_type": "execute_result",
          "data": {
            "text/plain": [
              "367    0.021382\n",
              "368   -0.037947\n",
              "369    0.034089\n",
              "370   -0.028700\n",
              "371   -0.004878\n",
              "         ...   \n",
              "518   -0.000884\n",
              "519    0.020764\n",
              "520    0.006164\n",
              "521   -0.001571\n",
              "522    0.004661\n",
              "Length: 156, dtype: float64"
            ]
          },
          "metadata": {
            "tags": []
          },
          "execution_count": 137
        }
      ]
    },
    {
      "cell_type": "code",
      "metadata": {
        "id": "5XkxhqdVkfQg"
      },
      "source": [
        "port_ret52.to_csv('port_ret52.csv')\n",
        "!cp port_ret52.csv \"/content/drive/My Drive/PYTHON/port_ret\""
      ],
      "execution_count": null,
      "outputs": []
    },
    {
      "cell_type": "code",
      "metadata": {
        "colab": {
          "base_uri": "https://localhost:8080/"
        },
        "id": "7g4WjLBekhkS",
        "outputId": "22a197aa-a417-4af8-a2d4-2b88a9a7d4d0"
      },
      "source": [
        "print('Max return:', max(port_ret52))\n",
        "print('Min return:', min(port_ret52))\n",
        "print('Average return:', np.mean(port_ret52))\n",
        "print('sharpe ratio :', np.mean(port_ret52)/np.std(port_ret52))"
      ],
      "execution_count": null,
      "outputs": [
        {
          "output_type": "stream",
          "text": [
            "Max return: 0.14098911768341105\n",
            "Min return: -0.08630616254639664\n",
            "Average return: -9.59336893191833e-05\n",
            "sharpe ratio : -0.0024648782998157523\n"
          ],
          "name": "stdout"
        }
      ]
    },
    {
      "cell_type": "code",
      "metadata": {
        "colab": {
          "base_uri": "https://localhost:8080/",
          "height": 307
        },
        "id": "dAoIR0apkjuy",
        "outputId": "15637109-483f-4782-95e0-98c617a6f2f7"
      },
      "source": [
        "import matplotlib.pyplot as plt\n",
        "\n",
        "fig = plt.figure()\n",
        "ax1 = fig.add_axes([0.1,0.1,0.8,0.8])\n",
        "ax1.hist(port_ret52, bins = 60)\n",
        "ax1.set_xlabel('Return Portofolio')\n",
        "ax1.set_ylabel(\"Jumlah\")\n",
        "ax1.set_title(\"Return Portofolio sparse mean-variance 5 emiten\")\n",
        "plt.show(); "
      ],
      "execution_count": null,
      "outputs": [
        {
          "output_type": "display_data",
          "data": {
            "image/png": "[encoded data removed]",
            "text/plain": [
              "<Figure size 432x288 with 1 Axes>"
            ]
          },
          "metadata": {
            "tags": [],
            "needs_background": "light"
          }
        }
      ]
    },
    {
      "cell_type": "markdown",
      "metadata": {
        "id": "PcS0QKYLE9C-"
      },
      "source": [
        "###6 emiten"
      ]
    },
    {
      "cell_type": "markdown",
      "metadata": {
        "id": "x5rZ0g_-meN6"
      },
      "source": [
        "####Ellipsoidal Uncertainty"
      ]
    },
    {
      "cell_type": "code",
      "metadata": {
        "id": "P-qYV7dyDdEb",
        "colab": {
          "base_uri": "https://localhost:8080/"
        },
        "outputId": "79873ef4-619d-4f60-84d5-81d561e66630"
      },
      "source": [
        "import os\n",
        "base_dir = '/content/drive/My Drive/PYTHON/saham/data6'\n",
        "\n",
        "data6 = [f for f in os.listdir(base_dir)]\n",
        "for f in data6:\n",
        "    print(f)"
      ],
      "execution_count": null,
      "outputs": [
        {
          "output_type": "stream",
          "text": [
            "ANTM.JK.csv\n",
            "ASII.JK.csv\n",
            "BBRI.JK.csv\n",
            "CPIN.JK.csv\n",
            "GGRM.JK.csv\n",
            "PGAS.JK.csv\n"
          ],
          "name": "stdout"
        }
      ]
    },
    {
      "cell_type": "code",
      "metadata": {
        "colab": {
          "base_uri": "https://localhost:8080/",
          "height": 467
        },
        "id": "FkSZNa-cmy4S",
        "outputId": "7b5f0381-dfe5-4aff-fcad-dee90fb40dbc"
      },
      "source": [
        "#show one emiten\n",
        "import pandas as pd\n",
        "\n",
        "example_emiten6 = data6[0]\n",
        "df_example6 = pd.read_csv(base_dir+'/'+example_emiten6)\n",
        "print(example_emiten6)\n",
        "print(df_example6.info())\n",
        "print(\"Showing Head of Emiten Dataframe\")\n",
        "df_example6.head()"
      ],
      "execution_count": null,
      "outputs": [
        {
          "output_type": "stream",
          "text": [
            "ANTM.JK.csv\n",
            "<class 'pandas.core.frame.DataFrame'>\n",
            "RangeIndex: 523 entries, 0 to 522\n",
            "Data columns (total 7 columns):\n",
            " #   Column     Non-Null Count  Dtype  \n",
            "---  ------     --------------  -----  \n",
            " 0   Date       523 non-null    object \n",
            " 1   Open       523 non-null    float64\n",
            " 2   High       523 non-null    float64\n",
            " 3   Low        523 non-null    float64\n",
            " 4   Close      523 non-null    float64\n",
            " 5   Adj Close  523 non-null    float64\n",
            " 6   Volume     523 non-null    int64  \n",
            "dtypes: float64(5), int64(1), object(1)\n",
            "memory usage: 28.7+ KB\n",
            "None\n",
            "Showing Head of Emiten Dataframe\n"
          ],
          "name": "stdout"
        },
        {
          "output_type": "execute_result",
          "data": {
            "text/html": [
              "<div>\n",
              "<style scoped>\n",
              "    .dataframe tbody tr th:only-of-type {\n",
              "        vertical-align: middle;\n",
              "    }\n",
              "\n",
              "    .dataframe tbody tr th {\n",
              "        vertical-align: top;\n",
              "    }\n",
              "\n",
              "    .dataframe thead th {\n",
              "        text-align: right;\n",
              "    }\n",
              "</style>\n",
              "<table border=\"1\" class=\"dataframe\">\n",
              "  <thead>\n",
              "    <tr style=\"text-align: right;\">\n",
              "      <th></th>\n",
              "      <th>Date</th>\n",
              "      <th>Open</th>\n",
              "      <th>High</th>\n",
              "      <th>Low</th>\n",
              "      <th>Close</th>\n",
              "      <th>Adj Close</th>\n",
              "      <th>Volume</th>\n",
              "    </tr>\n",
              "  </thead>\n",
              "  <tbody>\n",
              "    <tr>\n",
              "      <th>0</th>\n",
              "      <td>2010-01-01</td>\n",
              "      <td>1931.949951</td>\n",
              "      <td>1994.949951</td>\n",
              "      <td>1847.949951</td>\n",
              "      <td>1973.949951</td>\n",
              "      <td>1597.762817</td>\n",
              "      <td>163202117</td>\n",
              "    </tr>\n",
              "    <tr>\n",
              "      <th>1</th>\n",
              "      <td>2010-01-08</td>\n",
              "      <td>1973.949951</td>\n",
              "      <td>2015.939941</td>\n",
              "      <td>1910.949951</td>\n",
              "      <td>1931.949951</td>\n",
              "      <td>1563.767090</td>\n",
              "      <td>115584733</td>\n",
              "    </tr>\n",
              "    <tr>\n",
              "      <th>2</th>\n",
              "      <td>2010-01-15</td>\n",
              "      <td>1868.949951</td>\n",
              "      <td>1952.949951</td>\n",
              "      <td>1784.949951</td>\n",
              "      <td>1826.949951</td>\n",
              "      <td>1478.777588</td>\n",
              "      <td>215405936</td>\n",
              "    </tr>\n",
              "    <tr>\n",
              "      <th>3</th>\n",
              "      <td>2010-01-22</td>\n",
              "      <td>1826.949951</td>\n",
              "      <td>1847.949951</td>\n",
              "      <td>1742.949951</td>\n",
              "      <td>1805.949951</td>\n",
              "      <td>1461.779663</td>\n",
              "      <td>147717166</td>\n",
              "    </tr>\n",
              "    <tr>\n",
              "      <th>4</th>\n",
              "      <td>2010-01-29</td>\n",
              "      <td>1784.949951</td>\n",
              "      <td>1784.949951</td>\n",
              "      <td>1700.949951</td>\n",
              "      <td>1721.949951</td>\n",
              "      <td>1393.787964</td>\n",
              "      <td>127631493</td>\n",
              "    </tr>\n",
              "  </tbody>\n",
              "</table>\n",
              "</div>"
            ],
            "text/plain": [
              "         Date         Open         High  ...        Close    Adj Close     Volume\n",
              "0  2010-01-01  1931.949951  1994.949951  ...  1973.949951  1597.762817  163202117\n",
              "1  2010-01-08  1973.949951  2015.939941  ...  1931.949951  1563.767090  115584733\n",
              "2  2010-01-15  1868.949951  1952.949951  ...  1826.949951  1478.777588  215405936\n",
              "3  2010-01-22  1826.949951  1847.949951  ...  1805.949951  1461.779663  147717166\n",
              "4  2010-01-29  1784.949951  1784.949951  ...  1721.949951  1393.787964  127631493\n",
              "\n",
              "[5 rows x 7 columns]"
            ]
          },
          "metadata": {
            "tags": []
          },
          "execution_count": 142
        }
      ]
    },
    {
      "cell_type": "code",
      "metadata": {
        "id": "xxkjti0Em4Rw"
      },
      "source": [
        "df6=pd.DataFrame()\n",
        "target_column6 = 'Close'\n",
        "emitens6 = []\n",
        "for f in data6:\n",
        "  emiten = f.lower().replace('.jk.csv', '')\n",
        "  emitens6.append(emiten)\n",
        "  df_emiten6 = pd.read_csv(base_dir+'/'+f)\n",
        "  df6['Date'] = df_emiten6['Date']\n",
        "  df6[emiten] = df_emiten6[target_column6]\n",
        "df6=df6.dropna()"
      ],
      "execution_count": null,
      "outputs": []
    },
    {
      "cell_type": "code",
      "metadata": {
        "colab": {
          "base_uri": "https://localhost:8080/"
        },
        "id": "DM0y5f0knALI",
        "outputId": "ca0d4a56-2f5e-4e78-f7bb-e9abf17555c1"
      },
      "source": [
        "df_train6 = df6[(df6['Date'] <= '2017-01-01')]\n",
        "df_test6 = df6[(df6['Date'] > '2017-01-01')]\n",
        "\n",
        "print(df_train6)\n",
        "print(df_test6)"
      ],
      "execution_count": null,
      "outputs": [
        {
          "output_type": "stream",
          "text": [
            "           Date         antm    asii    bbri    cpin     ggrm    pgas\n",
            "0    2010-01-01  1973.949951  3420.0   765.0   450.0  20900.0  4000.0\n",
            "1    2010-01-08  1931.949951  3555.0   785.0   455.0  23450.0  3850.0\n",
            "2    2010-01-15  1826.949951  3525.0   790.0   455.0  24050.0  3750.0\n",
            "3    2010-01-22  1805.949951  3600.0   765.0   440.0  24050.0  3800.0\n",
            "4    2010-01-29  1721.949951  3535.0   740.0   440.0  25750.0  3700.0\n",
            "..          ...          ...     ...     ...     ...      ...     ...\n",
            "361  2016-12-02   950.000000  7800.0  2300.0  3150.0  67500.0  2840.0\n",
            "362  2016-12-09   895.000000  7750.0  2280.0  3180.0  66300.0  2800.0\n",
            "363  2016-12-16   860.000000  7525.0  2175.0  2900.0  60850.0  2480.0\n",
            "364  2016-12-23   895.000000  8125.0  2330.0  3110.0  64000.0  2760.0\n",
            "365  2016-12-30   870.000000  8125.0  2420.0  3260.0  65600.0  2860.0\n",
            "\n",
            "[366 rows x 7 columns]\n",
            "           Date   antm    asii    bbri    cpin     ggrm    pgas\n",
            "366  2017-01-06  865.0  7925.0  2375.0  3190.0  63250.0  2730.0\n",
            "367  2017-01-13  900.0  8150.0  2400.0  3230.0  63400.0  2720.0\n",
            "368  2017-01-20  810.0  8075.0  2350.0  3200.0  63400.0  2730.0\n",
            "369  2017-01-27  840.0  8100.0  2395.0  3220.0  62000.0  2870.0\n",
            "370  2017-02-03  800.0  8075.0  2395.0  3290.0  62400.0  2810.0\n",
            "..          ...    ...     ...     ...     ...      ...     ...\n",
            "518  2019-12-06  835.0  6550.0  4250.0  6525.0  51850.0  2110.0\n",
            "519  2019-12-13  835.0  6850.0  4350.0  6750.0  52125.0  2160.0\n",
            "520  2019-12-20  840.0  6875.0  4410.0  6925.0  53400.0  2190.0\n",
            "521  2019-12-27  840.0  6875.0  4410.0  6575.0  53350.0  2140.0\n",
            "522  2020-01-03  850.0  6950.0  4420.0  6900.0  54100.0  2160.0\n",
            "\n",
            "[157 rows x 7 columns]\n"
          ],
          "name": "stdout"
        }
      ]
    },
    {
      "cell_type": "code",
      "metadata": {
        "colab": {
          "base_uri": "https://localhost:8080/"
        },
        "id": "WrIkDH2fnEF1",
        "outputId": "bbfe8df8-010b-4351-b427-4da49bc88ed8"
      },
      "source": [
        "emiten_means6 = df6.mean()\n",
        "emiten_means6"
      ],
      "execution_count": null,
      "outputs": [
        {
          "output_type": "execute_result",
          "data": {
            "text/plain": [
              "antm     1049.928070\n",
              "asii     6963.231358\n",
              "bbri     2210.248566\n",
              "cpin     3433.757170\n",
              "ggrm    56963.814532\n",
              "pgas     3530.869981\n",
              "dtype: float64"
            ]
          },
          "metadata": {
            "tags": []
          },
          "execution_count": 145
        }
      ]
    },
    {
      "cell_type": "code",
      "metadata": {
        "colab": {
          "base_uri": "https://localhost:8080/",
          "height": 191
        },
        "id": "DRwlSv5knSOo",
        "outputId": "e3e66946-695e-4c08-8d3c-88437b4ca7ab"
      },
      "source": [
        "df_pct_ret6 = df_train6.drop(columns=['Date']).pct_change()\n",
        "df_pct_ret6 = df_pct_ret6.dropna()\n",
        "df_pct_ret6.head()"
      ],
      "execution_count": null,
      "outputs": [
        {
          "output_type": "execute_result",
          "data": {
            "text/html": [
              "<div>\n",
              "<style scoped>\n",
              "    .dataframe tbody tr th:only-of-type {\n",
              "        vertical-align: middle;\n",
              "    }\n",
              "\n",
              "    .dataframe tbody tr th {\n",
              "        vertical-align: top;\n",
              "    }\n",
              "\n",
              "    .dataframe thead th {\n",
              "        text-align: right;\n",
              "    }\n",
              "</style>\n",
              "<table border=\"1\" class=\"dataframe\">\n",
              "  <thead>\n",
              "    <tr style=\"text-align: right;\">\n",
              "      <th></th>\n",
              "      <th>antm</th>\n",
              "      <th>asii</th>\n",
              "      <th>bbri</th>\n",
              "      <th>cpin</th>\n",
              "      <th>ggrm</th>\n",
              "      <th>pgas</th>\n",
              "    </tr>\n",
              "  </thead>\n",
              "  <tbody>\n",
              "    <tr>\n",
              "      <th>1</th>\n",
              "      <td>-0.021277</td>\n",
              "      <td>0.039474</td>\n",
              "      <td>0.026144</td>\n",
              "      <td>0.011111</td>\n",
              "      <td>0.122010</td>\n",
              "      <td>-0.037500</td>\n",
              "    </tr>\n",
              "    <tr>\n",
              "      <th>2</th>\n",
              "      <td>-0.054349</td>\n",
              "      <td>-0.008439</td>\n",
              "      <td>0.006369</td>\n",
              "      <td>0.000000</td>\n",
              "      <td>0.025586</td>\n",
              "      <td>-0.025974</td>\n",
              "    </tr>\n",
              "    <tr>\n",
              "      <th>3</th>\n",
              "      <td>-0.011495</td>\n",
              "      <td>0.021277</td>\n",
              "      <td>-0.031646</td>\n",
              "      <td>-0.032967</td>\n",
              "      <td>0.000000</td>\n",
              "      <td>0.013333</td>\n",
              "    </tr>\n",
              "    <tr>\n",
              "      <th>4</th>\n",
              "      <td>-0.046513</td>\n",
              "      <td>-0.018056</td>\n",
              "      <td>-0.032680</td>\n",
              "      <td>0.000000</td>\n",
              "      <td>0.070686</td>\n",
              "      <td>-0.026316</td>\n",
              "    </tr>\n",
              "    <tr>\n",
              "      <th>5</th>\n",
              "      <td>-0.039025</td>\n",
              "      <td>-0.029703</td>\n",
              "      <td>-0.013514</td>\n",
              "      <td>-0.045455</td>\n",
              "      <td>-0.069903</td>\n",
              "      <td>-0.020270</td>\n",
              "    </tr>\n",
              "  </tbody>\n",
              "</table>\n",
              "</div>"
            ],
            "text/plain": [
              "       antm      asii      bbri      cpin      ggrm      pgas\n",
              "1 -0.021277  0.039474  0.026144  0.011111  0.122010 -0.037500\n",
              "2 -0.054349 -0.008439  0.006369  0.000000  0.025586 -0.025974\n",
              "3 -0.011495  0.021277 -0.031646 -0.032967  0.000000  0.013333\n",
              "4 -0.046513 -0.018056 -0.032680  0.000000  0.070686 -0.026316\n",
              "5 -0.039025 -0.029703 -0.013514 -0.045455 -0.069903 -0.020270"
            ]
          },
          "metadata": {
            "tags": []
          },
          "execution_count": 146
        }
      ]
    },
    {
      "cell_type": "code",
      "metadata": {
        "colab": {
          "base_uri": "https://localhost:8080/"
        },
        "id": "xLpLZ33pnpLC",
        "outputId": "a12cdb0d-ec12-4ebe-a530-edb40421fd02"
      },
      "source": [
        "import numpy as np\n",
        "R6=np.array(df_pct_ret6)\n",
        "print(R6.shape)"
      ],
      "execution_count": null,
      "outputs": [
        {
          "output_type": "stream",
          "text": [
            "(365, 6)\n"
          ],
          "name": "stdout"
        }
      ]
    },
    {
      "cell_type": "code",
      "metadata": {
        "colab": {
          "base_uri": "https://localhost:8080/"
        },
        "id": "_b80Wa-Qn1NF",
        "outputId": "9af65f63-dbfd-41f2-89b5-fd0dbfd8265d"
      },
      "source": [
        "emiten_pct_ret_means6 = df_pct_ret6.mean()\n",
        "emiten_pct_ret_means6"
      ],
      "execution_count": null,
      "outputs": [
        {
          "output_type": "execute_result",
          "data": {
            "text/plain": [
              "antm   -0.000876\n",
              "asii    0.003320\n",
              "bbri    0.004238\n",
              "cpin    0.007500\n",
              "ggrm    0.004245\n",
              "pgas    0.000255\n",
              "dtype: float64"
            ]
          },
          "metadata": {
            "tags": []
          },
          "execution_count": 148
        }
      ]
    },
    {
      "cell_type": "code",
      "metadata": {
        "colab": {
          "base_uri": "https://localhost:8080/"
        },
        "id": "dhdt_QNUn6t4",
        "outputId": "d350d1a9-cc04-4c4e-85c6-17a6935028e2"
      },
      "source": [
        "myu6 = np.matrix(emiten_pct_ret_means6.values).T\n",
        "myu6"
      ],
      "execution_count": null,
      "outputs": [
        {
          "output_type": "execute_result",
          "data": {
            "text/plain": [
              "matrix([[-0.00087614],\n",
              "        [ 0.00331959],\n",
              "        [ 0.00423764],\n",
              "        [ 0.00749999],\n",
              "        [ 0.00424466],\n",
              "        [ 0.00025489]])"
            ]
          },
          "metadata": {
            "tags": []
          },
          "execution_count": 149
        }
      ]
    },
    {
      "cell_type": "code",
      "metadata": {
        "colab": {
          "base_uri": "https://localhost:8080/"
        },
        "id": "d5Wgb469n-6o",
        "outputId": "13a3a654-5106-4c23-80f3-c97513b4b1be"
      },
      "source": [
        "tho = 0.01\n",
        "rho= 0.0002;\n",
        "print(rho)\n",
        "\n",
        "#jumlah data\n",
        "n=R6.shape[0]\n",
        "print(n)"
      ],
      "execution_count": null,
      "outputs": [
        {
          "output_type": "stream",
          "text": [
            "0.0002\n",
            "365\n"
          ],
          "name": "stdout"
        }
      ]
    },
    {
      "cell_type": "code",
      "metadata": {
        "colab": {
          "base_uri": "https://localhost:8080/"
        },
        "id": "anQwfm8YoDjh",
        "outputId": "28ec6d0f-4e90-4a5a-c4f7-eec277bf1c0e"
      },
      "source": [
        "import cvxpy as cp\n",
        "import numpy as np\n",
        "\n",
        "# Generate a random feasible SOCP.\n",
        "P = np.array([[0.0001], [0.00009], [0.00008], [0.0001], [0.00009], [0.00008]]).T\n",
        "\n",
        "ns = R6.shape[1]\n",
        "m16 = np.ones((n,1), dtype=np.int64)\n",
        "m16 = np.matrix(m16).T\n",
        "w0 = np.random.randn(n)\n",
        "\n",
        "\n",
        "# Define and solve the CVXPY problem.\n",
        "w = cp.Variable(ns)\n",
        "contraints = [\n",
        "      cp.SOC(w.T @ myu6 - rho, P * w), #first constrraint, SOC constraint\n",
        "      cp.sum(w) == 1,\n",
        "      \n",
        "]\n",
        "\n",
        "obj = cp.Minimize(cp.sum_squares(cp.reshape(rho*m16.T, (n,)) - R6*w) + tho*cp.sum(cp.abs(w)))\n",
        "\n",
        "prob = cp.Problem(obj,contraints)\n",
        "prob.solve()\n",
        "\n",
        "# Print result.\n",
        "print(\"The optimal value is\", prob.value)\n",
        "print(\"Solution for w is\")\n",
        "print(w.value)\n",
        "#print(\"SOC constraint dual variable solution\")\n",
        "#print(contraints[0].dual_value)"
      ],
      "execution_count": null,
      "outputs": [
        {
          "output_type": "stream",
          "text": [
            "The optimal value is 0.3740552634702651\n",
            "Solution for w is\n",
            "[ 0.17218537  0.2449817   0.1208685  -0.0197182   0.28623693  0.1954457 ]\n"
          ],
          "name": "stdout"
        }
      ]
    },
    {
      "cell_type": "code",
      "metadata": {
        "colab": {
          "base_uri": "https://localhost:8080/"
        },
        "id": "ATE6CgNWoJLx",
        "outputId": "da445da5-370d-4ddc-fc30-97b6edc282cd"
      },
      "source": [
        "print(rho) #rho\n",
        "print(w.value.T@myu6 - np.linalg.norm(P*w.value)) \n",
        "print(w.value.T@myu6 - np.linalg.norm(P*w.value)>= rho) #value of first constraint\n",
        "(P*w.value)\n",
        "print(cp.sum(cp.abs(w.value).value).value)"
      ],
      "execution_count": null,
      "outputs": [
        {
          "output_type": "stream",
          "text": [
            "0.0002\n",
            "[[0.0022492]]\n",
            "[[ True]]\n",
            "1.0394363974840692\n"
          ],
          "name": "stdout"
        }
      ]
    },
    {
      "cell_type": "code",
      "metadata": {
        "colab": {
          "base_uri": "https://localhost:8080/",
          "height": 391
        },
        "id": "0dUZUuCkoNcb",
        "outputId": "fa2b1686-f946-466b-fdef-4d7536513cc1"
      },
      "source": [
        "df_pct_ret_test6=df_test6.drop(columns=['Date']).pct_change()\n",
        "df_pct_ret_test6=df_pct_ret_test6.dropna()\n",
        "df_pct_ret_test6"
      ],
      "execution_count": null,
      "outputs": [
        {
          "output_type": "execute_result",
          "data": {
            "text/html": [
              "<div>\n",
              "<style scoped>\n",
              "    .dataframe tbody tr th:only-of-type {\n",
              "        vertical-align: middle;\n",
              "    }\n",
              "\n",
              "    .dataframe tbody tr th {\n",
              "        vertical-align: top;\n",
              "    }\n",
              "\n",
              "    .dataframe thead th {\n",
              "        text-align: right;\n",
              "    }\n",
              "</style>\n",
              "<table border=\"1\" class=\"dataframe\">\n",
              "  <thead>\n",
              "    <tr style=\"text-align: right;\">\n",
              "      <th></th>\n",
              "      <th>antm</th>\n",
              "      <th>asii</th>\n",
              "      <th>bbri</th>\n",
              "      <th>cpin</th>\n",
              "      <th>ggrm</th>\n",
              "      <th>pgas</th>\n",
              "    </tr>\n",
              "  </thead>\n",
              "  <tbody>\n",
              "    <tr>\n",
              "      <th>367</th>\n",
              "      <td>0.040462</td>\n",
              "      <td>0.028391</td>\n",
              "      <td>0.010526</td>\n",
              "      <td>0.012539</td>\n",
              "      <td>0.002372</td>\n",
              "      <td>-0.003663</td>\n",
              "    </tr>\n",
              "    <tr>\n",
              "      <th>368</th>\n",
              "      <td>-0.100000</td>\n",
              "      <td>-0.009202</td>\n",
              "      <td>-0.020833</td>\n",
              "      <td>-0.009288</td>\n",
              "      <td>0.000000</td>\n",
              "      <td>0.003676</td>\n",
              "    </tr>\n",
              "    <tr>\n",
              "      <th>369</th>\n",
              "      <td>0.037037</td>\n",
              "      <td>0.003096</td>\n",
              "      <td>0.019149</td>\n",
              "      <td>0.006250</td>\n",
              "      <td>-0.022082</td>\n",
              "      <td>0.051282</td>\n",
              "    </tr>\n",
              "    <tr>\n",
              "      <th>370</th>\n",
              "      <td>-0.047619</td>\n",
              "      <td>-0.003086</td>\n",
              "      <td>0.000000</td>\n",
              "      <td>0.021739</td>\n",
              "      <td>0.006452</td>\n",
              "      <td>-0.020906</td>\n",
              "    </tr>\n",
              "    <tr>\n",
              "      <th>371</th>\n",
              "      <td>0.000000</td>\n",
              "      <td>0.003096</td>\n",
              "      <td>0.002088</td>\n",
              "      <td>0.063830</td>\n",
              "      <td>-0.022436</td>\n",
              "      <td>0.007117</td>\n",
              "    </tr>\n",
              "    <tr>\n",
              "      <th>...</th>\n",
              "      <td>...</td>\n",
              "      <td>...</td>\n",
              "      <td>...</td>\n",
              "      <td>...</td>\n",
              "      <td>...</td>\n",
              "      <td>...</td>\n",
              "    </tr>\n",
              "    <tr>\n",
              "      <th>518</th>\n",
              "      <td>0.037267</td>\n",
              "      <td>-0.022388</td>\n",
              "      <td>0.007109</td>\n",
              "      <td>-0.054348</td>\n",
              "      <td>-0.019849</td>\n",
              "      <td>-0.040909</td>\n",
              "    </tr>\n",
              "    <tr>\n",
              "      <th>519</th>\n",
              "      <td>0.000000</td>\n",
              "      <td>0.045802</td>\n",
              "      <td>0.023529</td>\n",
              "      <td>0.034483</td>\n",
              "      <td>0.005304</td>\n",
              "      <td>0.023697</td>\n",
              "    </tr>\n",
              "    <tr>\n",
              "      <th>520</th>\n",
              "      <td>0.005988</td>\n",
              "      <td>0.003650</td>\n",
              "      <td>0.013793</td>\n",
              "      <td>0.025926</td>\n",
              "      <td>0.024460</td>\n",
              "      <td>0.013889</td>\n",
              "    </tr>\n",
              "    <tr>\n",
              "      <th>521</th>\n",
              "      <td>0.000000</td>\n",
              "      <td>0.000000</td>\n",
              "      <td>0.000000</td>\n",
              "      <td>-0.050542</td>\n",
              "      <td>-0.000936</td>\n",
              "      <td>-0.022831</td>\n",
              "    </tr>\n",
              "    <tr>\n",
              "      <th>522</th>\n",
              "      <td>0.011905</td>\n",
              "      <td>0.010909</td>\n",
              "      <td>0.002268</td>\n",
              "      <td>0.049430</td>\n",
              "      <td>0.014058</td>\n",
              "      <td>0.009346</td>\n",
              "    </tr>\n",
              "  </tbody>\n",
              "</table>\n",
              "<p>156 rows × 6 columns</p>\n",
              "</div>"
            ],
            "text/plain": [
              "         antm      asii      bbri      cpin      ggrm      pgas\n",
              "367  0.040462  0.028391  0.010526  0.012539  0.002372 -0.003663\n",
              "368 -0.100000 -0.009202 -0.020833 -0.009288  0.000000  0.003676\n",
              "369  0.037037  0.003096  0.019149  0.006250 -0.022082  0.051282\n",
              "370 -0.047619 -0.003086  0.000000  0.021739  0.006452 -0.020906\n",
              "371  0.000000  0.003096  0.002088  0.063830 -0.022436  0.007117\n",
              "..        ...       ...       ...       ...       ...       ...\n",
              "518  0.037267 -0.022388  0.007109 -0.054348 -0.019849 -0.040909\n",
              "519  0.000000  0.045802  0.023529  0.034483  0.005304  0.023697\n",
              "520  0.005988  0.003650  0.013793  0.025926  0.024460  0.013889\n",
              "521  0.000000  0.000000  0.000000 -0.050542 -0.000936 -0.022831\n",
              "522  0.011905  0.010909  0.002268  0.049430  0.014058  0.009346\n",
              "\n",
              "[156 rows x 6 columns]"
            ]
          },
          "metadata": {
            "tags": []
          },
          "execution_count": 153
        }
      ]
    },
    {
      "cell_type": "code",
      "metadata": {
        "colab": {
          "base_uri": "https://localhost:8080/"
        },
        "id": "RaCUc3SeoScY",
        "outputId": "9c36b7dc-e1de-4fee-8a46-84f12ddfe7f0"
      },
      "source": [
        "emitens6"
      ],
      "execution_count": null,
      "outputs": [
        {
          "output_type": "execute_result",
          "data": {
            "text/plain": [
              "['antm', 'asii', 'bbri', 'cpin', 'ggrm', 'pgas']"
            ]
          },
          "metadata": {
            "tags": []
          },
          "execution_count": 154
        }
      ]
    },
    {
      "cell_type": "code",
      "metadata": {
        "colab": {
          "base_uri": "https://localhost:8080/",
          "height": 391
        },
        "id": "-sCYFVjJqru0",
        "outputId": "571c759e-d03a-4ffc-ad83-cd766af0c566"
      },
      "source": [
        "df_pct_weekly_return6 = pd.DataFrame()\n",
        "i=0\n",
        "for emiten in emitens6:\n",
        "  df_pct_weekly_return6[emiten]=w.value[i]*df_pct_ret_test6[emiten]\n",
        "  i+=1\n",
        "\n",
        "df_pct_weekly_return6"
      ],
      "execution_count": null,
      "outputs": [
        {
          "output_type": "execute_result",
          "data": {
            "text/html": [
              "<div>\n",
              "<style scoped>\n",
              "    .dataframe tbody tr th:only-of-type {\n",
              "        vertical-align: middle;\n",
              "    }\n",
              "\n",
              "    .dataframe tbody tr th {\n",
              "        vertical-align: top;\n",
              "    }\n",
              "\n",
              "    .dataframe thead th {\n",
              "        text-align: right;\n",
              "    }\n",
              "</style>\n",
              "<table border=\"1\" class=\"dataframe\">\n",
              "  <thead>\n",
              "    <tr style=\"text-align: right;\">\n",
              "      <th></th>\n",
              "      <th>antm</th>\n",
              "      <th>asii</th>\n",
              "      <th>bbri</th>\n",
              "      <th>cpin</th>\n",
              "      <th>ggrm</th>\n",
              "      <th>pgas</th>\n",
              "    </tr>\n",
              "  </thead>\n",
              "  <tbody>\n",
              "    <tr>\n",
              "      <th>367</th>\n",
              "      <td>0.006967</td>\n",
              "      <td>0.006955</td>\n",
              "      <td>0.001272</td>\n",
              "      <td>-0.000247</td>\n",
              "      <td>0.000679</td>\n",
              "      <td>-0.000716</td>\n",
              "    </tr>\n",
              "    <tr>\n",
              "      <th>368</th>\n",
              "      <td>-0.017219</td>\n",
              "      <td>-0.002254</td>\n",
              "      <td>-0.002518</td>\n",
              "      <td>0.000183</td>\n",
              "      <td>0.000000</td>\n",
              "      <td>0.000719</td>\n",
              "    </tr>\n",
              "    <tr>\n",
              "      <th>369</th>\n",
              "      <td>0.006377</td>\n",
              "      <td>0.000758</td>\n",
              "      <td>0.002315</td>\n",
              "      <td>-0.000123</td>\n",
              "      <td>-0.006321</td>\n",
              "      <td>0.010023</td>\n",
              "    </tr>\n",
              "    <tr>\n",
              "      <th>370</th>\n",
              "      <td>-0.008199</td>\n",
              "      <td>-0.000756</td>\n",
              "      <td>0.000000</td>\n",
              "      <td>-0.000429</td>\n",
              "      <td>0.001847</td>\n",
              "      <td>-0.004086</td>\n",
              "    </tr>\n",
              "    <tr>\n",
              "      <th>371</th>\n",
              "      <td>0.000000</td>\n",
              "      <td>0.000758</td>\n",
              "      <td>0.000252</td>\n",
              "      <td>-0.001259</td>\n",
              "      <td>-0.006422</td>\n",
              "      <td>0.001391</td>\n",
              "    </tr>\n",
              "    <tr>\n",
              "      <th>...</th>\n",
              "      <td>...</td>\n",
              "      <td>...</td>\n",
              "      <td>...</td>\n",
              "      <td>...</td>\n",
              "      <td>...</td>\n",
              "      <td>...</td>\n",
              "    </tr>\n",
              "    <tr>\n",
              "      <th>518</th>\n",
              "      <td>0.006417</td>\n",
              "      <td>-0.005485</td>\n",
              "      <td>0.000859</td>\n",
              "      <td>0.001072</td>\n",
              "      <td>-0.005681</td>\n",
              "      <td>-0.007996</td>\n",
              "    </tr>\n",
              "    <tr>\n",
              "      <th>519</th>\n",
              "      <td>0.000000</td>\n",
              "      <td>0.011221</td>\n",
              "      <td>0.002844</td>\n",
              "      <td>-0.000680</td>\n",
              "      <td>0.001518</td>\n",
              "      <td>0.004631</td>\n",
              "    </tr>\n",
              "    <tr>\n",
              "      <th>520</th>\n",
              "      <td>0.001031</td>\n",
              "      <td>0.000894</td>\n",
              "      <td>0.001667</td>\n",
              "      <td>-0.000511</td>\n",
              "      <td>0.007001</td>\n",
              "      <td>0.002715</td>\n",
              "    </tr>\n",
              "    <tr>\n",
              "      <th>521</th>\n",
              "      <td>0.000000</td>\n",
              "      <td>0.000000</td>\n",
              "      <td>0.000000</td>\n",
              "      <td>0.000997</td>\n",
              "      <td>-0.000268</td>\n",
              "      <td>-0.004462</td>\n",
              "    </tr>\n",
              "    <tr>\n",
              "      <th>522</th>\n",
              "      <td>0.002050</td>\n",
              "      <td>0.002673</td>\n",
              "      <td>0.000274</td>\n",
              "      <td>-0.000975</td>\n",
              "      <td>0.004024</td>\n",
              "      <td>0.001827</td>\n",
              "    </tr>\n",
              "  </tbody>\n",
              "</table>\n",
              "<p>156 rows × 6 columns</p>\n",
              "</div>"
            ],
            "text/plain": [
              "         antm      asii      bbri      cpin      ggrm      pgas\n",
              "367  0.006967  0.006955  0.001272 -0.000247  0.000679 -0.000716\n",
              "368 -0.017219 -0.002254 -0.002518  0.000183  0.000000  0.000719\n",
              "369  0.006377  0.000758  0.002315 -0.000123 -0.006321  0.010023\n",
              "370 -0.008199 -0.000756  0.000000 -0.000429  0.001847 -0.004086\n",
              "371  0.000000  0.000758  0.000252 -0.001259 -0.006422  0.001391\n",
              "..        ...       ...       ...       ...       ...       ...\n",
              "518  0.006417 -0.005485  0.000859  0.001072 -0.005681 -0.007996\n",
              "519  0.000000  0.011221  0.002844 -0.000680  0.001518  0.004631\n",
              "520  0.001031  0.000894  0.001667 -0.000511  0.007001  0.002715\n",
              "521  0.000000  0.000000  0.000000  0.000997 -0.000268 -0.004462\n",
              "522  0.002050  0.002673  0.000274 -0.000975  0.004024  0.001827\n",
              "\n",
              "[156 rows x 6 columns]"
            ]
          },
          "metadata": {
            "tags": []
          },
          "execution_count": 155
        }
      ]
    },
    {
      "cell_type": "code",
      "metadata": {
        "colab": {
          "base_uri": "https://localhost:8080/",
          "height": 391
        },
        "id": "iedTl0fKq32t",
        "outputId": "959c0656-fb69-4c8d-dcf5-711353112f7a"
      },
      "source": [
        "price_data6 = df_test6.drop(columns=['Date'])\n",
        "price_data6"
      ],
      "execution_count": null,
      "outputs": [
        {
          "output_type": "execute_result",
          "data": {
            "text/html": [
              "<div>\n",
              "<style scoped>\n",
              "    .dataframe tbody tr th:only-of-type {\n",
              "        vertical-align: middle;\n",
              "    }\n",
              "\n",
              "    .dataframe tbody tr th {\n",
              "        vertical-align: top;\n",
              "    }\n",
              "\n",
              "    .dataframe thead th {\n",
              "        text-align: right;\n",
              "    }\n",
              "</style>\n",
              "<table border=\"1\" class=\"dataframe\">\n",
              "  <thead>\n",
              "    <tr style=\"text-align: right;\">\n",
              "      <th></th>\n",
              "      <th>antm</th>\n",
              "      <th>asii</th>\n",
              "      <th>bbri</th>\n",
              "      <th>cpin</th>\n",
              "      <th>ggrm</th>\n",
              "      <th>pgas</th>\n",
              "    </tr>\n",
              "  </thead>\n",
              "  <tbody>\n",
              "    <tr>\n",
              "      <th>366</th>\n",
              "      <td>865.0</td>\n",
              "      <td>7925.0</td>\n",
              "      <td>2375.0</td>\n",
              "      <td>3190.0</td>\n",
              "      <td>63250.0</td>\n",
              "      <td>2730.0</td>\n",
              "    </tr>\n",
              "    <tr>\n",
              "      <th>367</th>\n",
              "      <td>900.0</td>\n",
              "      <td>8150.0</td>\n",
              "      <td>2400.0</td>\n",
              "      <td>3230.0</td>\n",
              "      <td>63400.0</td>\n",
              "      <td>2720.0</td>\n",
              "    </tr>\n",
              "    <tr>\n",
              "      <th>368</th>\n",
              "      <td>810.0</td>\n",
              "      <td>8075.0</td>\n",
              "      <td>2350.0</td>\n",
              "      <td>3200.0</td>\n",
              "      <td>63400.0</td>\n",
              "      <td>2730.0</td>\n",
              "    </tr>\n",
              "    <tr>\n",
              "      <th>369</th>\n",
              "      <td>840.0</td>\n",
              "      <td>8100.0</td>\n",
              "      <td>2395.0</td>\n",
              "      <td>3220.0</td>\n",
              "      <td>62000.0</td>\n",
              "      <td>2870.0</td>\n",
              "    </tr>\n",
              "    <tr>\n",
              "      <th>370</th>\n",
              "      <td>800.0</td>\n",
              "      <td>8075.0</td>\n",
              "      <td>2395.0</td>\n",
              "      <td>3290.0</td>\n",
              "      <td>62400.0</td>\n",
              "      <td>2810.0</td>\n",
              "    </tr>\n",
              "    <tr>\n",
              "      <th>...</th>\n",
              "      <td>...</td>\n",
              "      <td>...</td>\n",
              "      <td>...</td>\n",
              "      <td>...</td>\n",
              "      <td>...</td>\n",
              "      <td>...</td>\n",
              "    </tr>\n",
              "    <tr>\n",
              "      <th>518</th>\n",
              "      <td>835.0</td>\n",
              "      <td>6550.0</td>\n",
              "      <td>4250.0</td>\n",
              "      <td>6525.0</td>\n",
              "      <td>51850.0</td>\n",
              "      <td>2110.0</td>\n",
              "    </tr>\n",
              "    <tr>\n",
              "      <th>519</th>\n",
              "      <td>835.0</td>\n",
              "      <td>6850.0</td>\n",
              "      <td>4350.0</td>\n",
              "      <td>6750.0</td>\n",
              "      <td>52125.0</td>\n",
              "      <td>2160.0</td>\n",
              "    </tr>\n",
              "    <tr>\n",
              "      <th>520</th>\n",
              "      <td>840.0</td>\n",
              "      <td>6875.0</td>\n",
              "      <td>4410.0</td>\n",
              "      <td>6925.0</td>\n",
              "      <td>53400.0</td>\n",
              "      <td>2190.0</td>\n",
              "    </tr>\n",
              "    <tr>\n",
              "      <th>521</th>\n",
              "      <td>840.0</td>\n",
              "      <td>6875.0</td>\n",
              "      <td>4410.0</td>\n",
              "      <td>6575.0</td>\n",
              "      <td>53350.0</td>\n",
              "      <td>2140.0</td>\n",
              "    </tr>\n",
              "    <tr>\n",
              "      <th>522</th>\n",
              "      <td>850.0</td>\n",
              "      <td>6950.0</td>\n",
              "      <td>4420.0</td>\n",
              "      <td>6900.0</td>\n",
              "      <td>54100.0</td>\n",
              "      <td>2160.0</td>\n",
              "    </tr>\n",
              "  </tbody>\n",
              "</table>\n",
              "<p>157 rows × 6 columns</p>\n",
              "</div>"
            ],
            "text/plain": [
              "      antm    asii    bbri    cpin     ggrm    pgas\n",
              "366  865.0  7925.0  2375.0  3190.0  63250.0  2730.0\n",
              "367  900.0  8150.0  2400.0  3230.0  63400.0  2720.0\n",
              "368  810.0  8075.0  2350.0  3200.0  63400.0  2730.0\n",
              "369  840.0  8100.0  2395.0  3220.0  62000.0  2870.0\n",
              "370  800.0  8075.0  2395.0  3290.0  62400.0  2810.0\n",
              "..     ...     ...     ...     ...      ...     ...\n",
              "518  835.0  6550.0  4250.0  6525.0  51850.0  2110.0\n",
              "519  835.0  6850.0  4350.0  6750.0  52125.0  2160.0\n",
              "520  840.0  6875.0  4410.0  6925.0  53400.0  2190.0\n",
              "521  840.0  6875.0  4410.0  6575.0  53350.0  2140.0\n",
              "522  850.0  6950.0  4420.0  6900.0  54100.0  2160.0\n",
              "\n",
              "[157 rows x 6 columns]"
            ]
          },
          "metadata": {
            "tags": []
          },
          "execution_count": 156
        }
      ]
    },
    {
      "cell_type": "code",
      "metadata": {
        "colab": {
          "base_uri": "https://localhost:8080/",
          "height": 391
        },
        "id": "PSmDUtrfrVZQ",
        "outputId": "9e42283c-19f6-4ba8-9fee-ef73d2c45c0d"
      },
      "source": [
        "ret_data6 = price_data6.pct_change()[1:]\n",
        "ret_data6"
      ],
      "execution_count": null,
      "outputs": [
        {
          "output_type": "execute_result",
          "data": {
            "text/html": [
              "<div>\n",
              "<style scoped>\n",
              "    .dataframe tbody tr th:only-of-type {\n",
              "        vertical-align: middle;\n",
              "    }\n",
              "\n",
              "    .dataframe tbody tr th {\n",
              "        vertical-align: top;\n",
              "    }\n",
              "\n",
              "    .dataframe thead th {\n",
              "        text-align: right;\n",
              "    }\n",
              "</style>\n",
              "<table border=\"1\" class=\"dataframe\">\n",
              "  <thead>\n",
              "    <tr style=\"text-align: right;\">\n",
              "      <th></th>\n",
              "      <th>antm</th>\n",
              "      <th>asii</th>\n",
              "      <th>bbri</th>\n",
              "      <th>cpin</th>\n",
              "      <th>ggrm</th>\n",
              "      <th>pgas</th>\n",
              "    </tr>\n",
              "  </thead>\n",
              "  <tbody>\n",
              "    <tr>\n",
              "      <th>367</th>\n",
              "      <td>0.040462</td>\n",
              "      <td>0.028391</td>\n",
              "      <td>0.010526</td>\n",
              "      <td>0.012539</td>\n",
              "      <td>0.002372</td>\n",
              "      <td>-0.003663</td>\n",
              "    </tr>\n",
              "    <tr>\n",
              "      <th>368</th>\n",
              "      <td>-0.100000</td>\n",
              "      <td>-0.009202</td>\n",
              "      <td>-0.020833</td>\n",
              "      <td>-0.009288</td>\n",
              "      <td>0.000000</td>\n",
              "      <td>0.003676</td>\n",
              "    </tr>\n",
              "    <tr>\n",
              "      <th>369</th>\n",
              "      <td>0.037037</td>\n",
              "      <td>0.003096</td>\n",
              "      <td>0.019149</td>\n",
              "      <td>0.006250</td>\n",
              "      <td>-0.022082</td>\n",
              "      <td>0.051282</td>\n",
              "    </tr>\n",
              "    <tr>\n",
              "      <th>370</th>\n",
              "      <td>-0.047619</td>\n",
              "      <td>-0.003086</td>\n",
              "      <td>0.000000</td>\n",
              "      <td>0.021739</td>\n",
              "      <td>0.006452</td>\n",
              "      <td>-0.020906</td>\n",
              "    </tr>\n",
              "    <tr>\n",
              "      <th>371</th>\n",
              "      <td>0.000000</td>\n",
              "      <td>0.003096</td>\n",
              "      <td>0.002088</td>\n",
              "      <td>0.063830</td>\n",
              "      <td>-0.022436</td>\n",
              "      <td>0.007117</td>\n",
              "    </tr>\n",
              "    <tr>\n",
              "      <th>...</th>\n",
              "      <td>...</td>\n",
              "      <td>...</td>\n",
              "      <td>...</td>\n",
              "      <td>...</td>\n",
              "      <td>...</td>\n",
              "      <td>...</td>\n",
              "    </tr>\n",
              "    <tr>\n",
              "      <th>518</th>\n",
              "      <td>0.037267</td>\n",
              "      <td>-0.022388</td>\n",
              "      <td>0.007109</td>\n",
              "      <td>-0.054348</td>\n",
              "      <td>-0.019849</td>\n",
              "      <td>-0.040909</td>\n",
              "    </tr>\n",
              "    <tr>\n",
              "      <th>519</th>\n",
              "      <td>0.000000</td>\n",
              "      <td>0.045802</td>\n",
              "      <td>0.023529</td>\n",
              "      <td>0.034483</td>\n",
              "      <td>0.005304</td>\n",
              "      <td>0.023697</td>\n",
              "    </tr>\n",
              "    <tr>\n",
              "      <th>520</th>\n",
              "      <td>0.005988</td>\n",
              "      <td>0.003650</td>\n",
              "      <td>0.013793</td>\n",
              "      <td>0.025926</td>\n",
              "      <td>0.024460</td>\n",
              "      <td>0.013889</td>\n",
              "    </tr>\n",
              "    <tr>\n",
              "      <th>521</th>\n",
              "      <td>0.000000</td>\n",
              "      <td>0.000000</td>\n",
              "      <td>0.000000</td>\n",
              "      <td>-0.050542</td>\n",
              "      <td>-0.000936</td>\n",
              "      <td>-0.022831</td>\n",
              "    </tr>\n",
              "    <tr>\n",
              "      <th>522</th>\n",
              "      <td>0.011905</td>\n",
              "      <td>0.010909</td>\n",
              "      <td>0.002268</td>\n",
              "      <td>0.049430</td>\n",
              "      <td>0.014058</td>\n",
              "      <td>0.009346</td>\n",
              "    </tr>\n",
              "  </tbody>\n",
              "</table>\n",
              "<p>156 rows × 6 columns</p>\n",
              "</div>"
            ],
            "text/plain": [
              "         antm      asii      bbri      cpin      ggrm      pgas\n",
              "367  0.040462  0.028391  0.010526  0.012539  0.002372 -0.003663\n",
              "368 -0.100000 -0.009202 -0.020833 -0.009288  0.000000  0.003676\n",
              "369  0.037037  0.003096  0.019149  0.006250 -0.022082  0.051282\n",
              "370 -0.047619 -0.003086  0.000000  0.021739  0.006452 -0.020906\n",
              "371  0.000000  0.003096  0.002088  0.063830 -0.022436  0.007117\n",
              "..        ...       ...       ...       ...       ...       ...\n",
              "518  0.037267 -0.022388  0.007109 -0.054348 -0.019849 -0.040909\n",
              "519  0.000000  0.045802  0.023529  0.034483  0.005304  0.023697\n",
              "520  0.005988  0.003650  0.013793  0.025926  0.024460  0.013889\n",
              "521  0.000000  0.000000  0.000000 -0.050542 -0.000936 -0.022831\n",
              "522  0.011905  0.010909  0.002268  0.049430  0.014058  0.009346\n",
              "\n",
              "[156 rows x 6 columns]"
            ]
          },
          "metadata": {
            "tags": []
          },
          "execution_count": 157
        }
      ]
    },
    {
      "cell_type": "code",
      "metadata": {
        "colab": {
          "base_uri": "https://localhost:8080/",
          "height": 391
        },
        "id": "AwYKUdV8rYw1",
        "outputId": "e46f0cfa-5bc0-4835-fc55-4bc752cc71be"
      },
      "source": [
        "weighted_returns6 = (w.value.reshape(6) * ret_data6)\n",
        "weighted_returns6"
      ],
      "execution_count": null,
      "outputs": [
        {
          "output_type": "execute_result",
          "data": {
            "text/html": [
              "<div>\n",
              "<style scoped>\n",
              "    .dataframe tbody tr th:only-of-type {\n",
              "        vertical-align: middle;\n",
              "    }\n",
              "\n",
              "    .dataframe tbody tr th {\n",
              "        vertical-align: top;\n",
              "    }\n",
              "\n",
              "    .dataframe thead th {\n",
              "        text-align: right;\n",
              "    }\n",
              "</style>\n",
              "<table border=\"1\" class=\"dataframe\">\n",
              "  <thead>\n",
              "    <tr style=\"text-align: right;\">\n",
              "      <th></th>\n",
              "      <th>antm</th>\n",
              "      <th>asii</th>\n",
              "      <th>bbri</th>\n",
              "      <th>cpin</th>\n",
              "      <th>ggrm</th>\n",
              "      <th>pgas</th>\n",
              "    </tr>\n",
              "  </thead>\n",
              "  <tbody>\n",
              "    <tr>\n",
              "      <th>367</th>\n",
              "      <td>0.006967</td>\n",
              "      <td>0.006955</td>\n",
              "      <td>0.001272</td>\n",
              "      <td>-0.000247</td>\n",
              "      <td>0.000679</td>\n",
              "      <td>-0.000716</td>\n",
              "    </tr>\n",
              "    <tr>\n",
              "      <th>368</th>\n",
              "      <td>-0.017219</td>\n",
              "      <td>-0.002254</td>\n",
              "      <td>-0.002518</td>\n",
              "      <td>0.000183</td>\n",
              "      <td>0.000000</td>\n",
              "      <td>0.000719</td>\n",
              "    </tr>\n",
              "    <tr>\n",
              "      <th>369</th>\n",
              "      <td>0.006377</td>\n",
              "      <td>0.000758</td>\n",
              "      <td>0.002315</td>\n",
              "      <td>-0.000123</td>\n",
              "      <td>-0.006321</td>\n",
              "      <td>0.010023</td>\n",
              "    </tr>\n",
              "    <tr>\n",
              "      <th>370</th>\n",
              "      <td>-0.008199</td>\n",
              "      <td>-0.000756</td>\n",
              "      <td>0.000000</td>\n",
              "      <td>-0.000429</td>\n",
              "      <td>0.001847</td>\n",
              "      <td>-0.004086</td>\n",
              "    </tr>\n",
              "    <tr>\n",
              "      <th>371</th>\n",
              "      <td>0.000000</td>\n",
              "      <td>0.000758</td>\n",
              "      <td>0.000252</td>\n",
              "      <td>-0.001259</td>\n",
              "      <td>-0.006422</td>\n",
              "      <td>0.001391</td>\n",
              "    </tr>\n",
              "    <tr>\n",
              "      <th>...</th>\n",
              "      <td>...</td>\n",
              "      <td>...</td>\n",
              "      <td>...</td>\n",
              "      <td>...</td>\n",
              "      <td>...</td>\n",
              "      <td>...</td>\n",
              "    </tr>\n",
              "    <tr>\n",
              "      <th>518</th>\n",
              "      <td>0.006417</td>\n",
              "      <td>-0.005485</td>\n",
              "      <td>0.000859</td>\n",
              "      <td>0.001072</td>\n",
              "      <td>-0.005681</td>\n",
              "      <td>-0.007996</td>\n",
              "    </tr>\n",
              "    <tr>\n",
              "      <th>519</th>\n",
              "      <td>0.000000</td>\n",
              "      <td>0.011221</td>\n",
              "      <td>0.002844</td>\n",
              "      <td>-0.000680</td>\n",
              "      <td>0.001518</td>\n",
              "      <td>0.004631</td>\n",
              "    </tr>\n",
              "    <tr>\n",
              "      <th>520</th>\n",
              "      <td>0.001031</td>\n",
              "      <td>0.000894</td>\n",
              "      <td>0.001667</td>\n",
              "      <td>-0.000511</td>\n",
              "      <td>0.007001</td>\n",
              "      <td>0.002715</td>\n",
              "    </tr>\n",
              "    <tr>\n",
              "      <th>521</th>\n",
              "      <td>0.000000</td>\n",
              "      <td>0.000000</td>\n",
              "      <td>0.000000</td>\n",
              "      <td>0.000997</td>\n",
              "      <td>-0.000268</td>\n",
              "      <td>-0.004462</td>\n",
              "    </tr>\n",
              "    <tr>\n",
              "      <th>522</th>\n",
              "      <td>0.002050</td>\n",
              "      <td>0.002673</td>\n",
              "      <td>0.000274</td>\n",
              "      <td>-0.000975</td>\n",
              "      <td>0.004024</td>\n",
              "      <td>0.001827</td>\n",
              "    </tr>\n",
              "  </tbody>\n",
              "</table>\n",
              "<p>156 rows × 6 columns</p>\n",
              "</div>"
            ],
            "text/plain": [
              "         antm      asii      bbri      cpin      ggrm      pgas\n",
              "367  0.006967  0.006955  0.001272 -0.000247  0.000679 -0.000716\n",
              "368 -0.017219 -0.002254 -0.002518  0.000183  0.000000  0.000719\n",
              "369  0.006377  0.000758  0.002315 -0.000123 -0.006321  0.010023\n",
              "370 -0.008199 -0.000756  0.000000 -0.000429  0.001847 -0.004086\n",
              "371  0.000000  0.000758  0.000252 -0.001259 -0.006422  0.001391\n",
              "..        ...       ...       ...       ...       ...       ...\n",
              "518  0.006417 -0.005485  0.000859  0.001072 -0.005681 -0.007996\n",
              "519  0.000000  0.011221  0.002844 -0.000680  0.001518  0.004631\n",
              "520  0.001031  0.000894  0.001667 -0.000511  0.007001  0.002715\n",
              "521  0.000000  0.000000  0.000000  0.000997 -0.000268 -0.004462\n",
              "522  0.002050  0.002673  0.000274 -0.000975  0.004024  0.001827\n",
              "\n",
              "[156 rows x 6 columns]"
            ]
          },
          "metadata": {
            "tags": []
          },
          "execution_count": 158
        }
      ]
    },
    {
      "cell_type": "code",
      "metadata": {
        "colab": {
          "base_uri": "https://localhost:8080/"
        },
        "id": "oj7XYJgtreDn",
        "outputId": "9faef899-2f14-47f5-9fcb-414003e69522"
      },
      "source": [
        "port_ret61 = weighted_returns6.sum(axis=1)\n",
        "port_ret61"
      ],
      "execution_count": null,
      "outputs": [
        {
          "output_type": "execute_result",
          "data": {
            "text/plain": [
              "367    0.014910\n",
              "368   -0.021089\n",
              "369    0.013029\n",
              "370   -0.011623\n",
              "371   -0.005279\n",
              "         ...   \n",
              "518   -0.010814\n",
              "519    0.019534\n",
              "520    0.012797\n",
              "521   -0.003734\n",
              "522    0.009872\n",
              "Length: 156, dtype: float64"
            ]
          },
          "metadata": {
            "tags": []
          },
          "execution_count": 159
        }
      ]
    },
    {
      "cell_type": "code",
      "metadata": {
        "id": "_X5U9J90rk_i"
      },
      "source": [
        "port_ret61.to_csv('port_ret61.csv')\n",
        "!cp port_ret61.csv \"/content/drive/My Drive/PYTHON/port_ret\""
      ],
      "execution_count": null,
      "outputs": []
    },
    {
      "cell_type": "code",
      "metadata": {
        "colab": {
          "base_uri": "https://localhost:8080/"
        },
        "id": "oBQrwtW3rrhQ",
        "outputId": "851930f4-6e2d-4cf0-8f99-ab83186c8966"
      },
      "source": [
        "print('Max return:', max(port_ret61))\n",
        "print('Min return:', min(port_ret61))\n",
        "print('Average return:', np.mean(port_ret61))\n",
        "print('sharpe ratio :', np.mean(port_ret61)/np.std(port_ret61))\n",
        "\n",
        "\n",
        "print(np.mean(port_ret61) > rho)"
      ],
      "execution_count": null,
      "outputs": [
        {
          "output_type": "stream",
          "text": [
            "Max return: 0.08425235395953014\n",
            "Min return: -0.07094646403894866\n",
            "Average return: 0.0005198167434419514\n",
            "sharpe ratio : 0.01833375538664384\n",
            "True\n"
          ],
          "name": "stdout"
        }
      ]
    },
    {
      "cell_type": "code",
      "metadata": {
        "colab": {
          "base_uri": "https://localhost:8080/",
          "height": 307
        },
        "id": "f-mZe7EJrutD",
        "outputId": "be9f4f72-096f-4d39-8437-00140cf18d58"
      },
      "source": [
        "import matplotlib.pyplot as plt\n",
        "\n",
        "fig = plt.figure()\n",
        "ax1 = fig.add_axes([0.1,0.1,0.8,0.8])\n",
        "ax1.hist(port_ret61, bins = 60)\n",
        "ax1.set_xlabel('Return Portofolio')\n",
        "ax1.set_ylabel(\"Jumlah\")\n",
        "ax1.set_title(\"Return Portofolio Ellipsoidal 6 emiten\")\n",
        "plt.show(); "
      ],
      "execution_count": null,
      "outputs": [
        {
          "output_type": "display_data",
          "data": {
            "image/png": "[encoded data removed]",
            "text/plain": [
              "<Figure size 432x288 with 1 Axes>"
            ]
          },
          "metadata": {
            "tags": [],
            "needs_background": "light"
          }
        }
      ]
    },
    {
      "cell_type": "markdown",
      "metadata": {
        "id": "-VopY6s1sOa6"
      },
      "source": [
        "####Sparse mean variance"
      ]
    },
    {
      "cell_type": "code",
      "metadata": {
        "colab": {
          "base_uri": "https://localhost:8080/"
        },
        "id": "mkJXHTdusK7a",
        "outputId": "2295a9d1-1cf1-47ed-f59c-e9f7cb242dab"
      },
      "source": [
        "ns = R6.shape[1]\n",
        "m16 = np.ones((n,1), dtype=np.int64)\n",
        "m16 = np.matrix(m16).T\n",
        "w0 = np.random.randn(n)\n",
        "\n",
        "\n",
        "# Define and solve the CVXPY problem.\n",
        "w = cp.Variable(ns)\n",
        "contraints = [\n",
        "      w.T*myu6 == rho, \n",
        "      cp.sum(w) == 1,\n",
        "      \n",
        "]\n",
        "\n",
        "obj = cp.Minimize(cp.sum_squares(cp.reshape(rho*m16.T, (n,)) - R6*w) + tho*cp.sum(cp.abs(w)))\n",
        "\n",
        "prob = cp.Problem(obj,contraints)\n",
        "prob.solve()\n",
        "\n",
        "print(\"The optimal value is\", prob.value)\n",
        "print(\"Solution for w is\")\n",
        "print(w.value)\n",
        "print(\"SOC constraint dual variable solution\")\n",
        "print(contraints[0].dual_value)"
      ],
      "execution_count": null,
      "outputs": [
        {
          "output_type": "stream",
          "text": [
            "The optimal value is 0.4602109538606506\n",
            "Solution for w is\n",
            "[ 0.35000156  0.26009454  0.02320055 -0.19218945  0.2115143   0.3473785 ]\n",
            "SOC constraint dual variable solution\n",
            "[82.38714137]\n"
          ],
          "name": "stdout"
        }
      ]
    },
    {
      "cell_type": "code",
      "metadata": {
        "colab": {
          "base_uri": "https://localhost:8080/",
          "height": 391
        },
        "id": "kIMOhFacsNTk",
        "outputId": "edf8a047-4e43-42d8-b013-9cdab556d300"
      },
      "source": [
        "df_pct_ret_test6=df_test6.drop(columns=['Date']).pct_change()\n",
        "df_pct_ret_test6=df_pct_ret_test6.dropna()\n",
        "df_pct_ret_test6"
      ],
      "execution_count": null,
      "outputs": [
        {
          "output_type": "execute_result",
          "data": {
            "text/html": [
              "<div>\n",
              "<style scoped>\n",
              "    .dataframe tbody tr th:only-of-type {\n",
              "        vertical-align: middle;\n",
              "    }\n",
              "\n",
              "    .dataframe tbody tr th {\n",
              "        vertical-align: top;\n",
              "    }\n",
              "\n",
              "    .dataframe thead th {\n",
              "        text-align: right;\n",
              "    }\n",
              "</style>\n",
              "<table border=\"1\" class=\"dataframe\">\n",
              "  <thead>\n",
              "    <tr style=\"text-align: right;\">\n",
              "      <th></th>\n",
              "      <th>antm</th>\n",
              "      <th>asii</th>\n",
              "      <th>bbri</th>\n",
              "      <th>cpin</th>\n",
              "      <th>ggrm</th>\n",
              "      <th>pgas</th>\n",
              "    </tr>\n",
              "  </thead>\n",
              "  <tbody>\n",
              "    <tr>\n",
              "      <th>367</th>\n",
              "      <td>0.040462</td>\n",
              "      <td>0.028391</td>\n",
              "      <td>0.010526</td>\n",
              "      <td>0.012539</td>\n",
              "      <td>0.002372</td>\n",
              "      <td>-0.003663</td>\n",
              "    </tr>\n",
              "    <tr>\n",
              "      <th>368</th>\n",
              "      <td>-0.100000</td>\n",
              "      <td>-0.009202</td>\n",
              "      <td>-0.020833</td>\n",
              "      <td>-0.009288</td>\n",
              "      <td>0.000000</td>\n",
              "      <td>0.003676</td>\n",
              "    </tr>\n",
              "    <tr>\n",
              "      <th>369</th>\n",
              "      <td>0.037037</td>\n",
              "      <td>0.003096</td>\n",
              "      <td>0.019149</td>\n",
              "      <td>0.006250</td>\n",
              "      <td>-0.022082</td>\n",
              "      <td>0.051282</td>\n",
              "    </tr>\n",
              "    <tr>\n",
              "      <th>370</th>\n",
              "      <td>-0.047619</td>\n",
              "      <td>-0.003086</td>\n",
              "      <td>0.000000</td>\n",
              "      <td>0.021739</td>\n",
              "      <td>0.006452</td>\n",
              "      <td>-0.020906</td>\n",
              "    </tr>\n",
              "    <tr>\n",
              "      <th>371</th>\n",
              "      <td>0.000000</td>\n",
              "      <td>0.003096</td>\n",
              "      <td>0.002088</td>\n",
              "      <td>0.063830</td>\n",
              "      <td>-0.022436</td>\n",
              "      <td>0.007117</td>\n",
              "    </tr>\n",
              "    <tr>\n",
              "      <th>...</th>\n",
              "      <td>...</td>\n",
              "      <td>...</td>\n",
              "      <td>...</td>\n",
              "      <td>...</td>\n",
              "      <td>...</td>\n",
              "      <td>...</td>\n",
              "    </tr>\n",
              "    <tr>\n",
              "      <th>518</th>\n",
              "      <td>0.037267</td>\n",
              "      <td>-0.022388</td>\n",
              "      <td>0.007109</td>\n",
              "      <td>-0.054348</td>\n",
              "      <td>-0.019849</td>\n",
              "      <td>-0.040909</td>\n",
              "    </tr>\n",
              "    <tr>\n",
              "      <th>519</th>\n",
              "      <td>0.000000</td>\n",
              "      <td>0.045802</td>\n",
              "      <td>0.023529</td>\n",
              "      <td>0.034483</td>\n",
              "      <td>0.005304</td>\n",
              "      <td>0.023697</td>\n",
              "    </tr>\n",
              "    <tr>\n",
              "      <th>520</th>\n",
              "      <td>0.005988</td>\n",
              "      <td>0.003650</td>\n",
              "      <td>0.013793</td>\n",
              "      <td>0.025926</td>\n",
              "      <td>0.024460</td>\n",
              "      <td>0.013889</td>\n",
              "    </tr>\n",
              "    <tr>\n",
              "      <th>521</th>\n",
              "      <td>0.000000</td>\n",
              "      <td>0.000000</td>\n",
              "      <td>0.000000</td>\n",
              "      <td>-0.050542</td>\n",
              "      <td>-0.000936</td>\n",
              "      <td>-0.022831</td>\n",
              "    </tr>\n",
              "    <tr>\n",
              "      <th>522</th>\n",
              "      <td>0.011905</td>\n",
              "      <td>0.010909</td>\n",
              "      <td>0.002268</td>\n",
              "      <td>0.049430</td>\n",
              "      <td>0.014058</td>\n",
              "      <td>0.009346</td>\n",
              "    </tr>\n",
              "  </tbody>\n",
              "</table>\n",
              "<p>156 rows × 6 columns</p>\n",
              "</div>"
            ],
            "text/plain": [
              "         antm      asii      bbri      cpin      ggrm      pgas\n",
              "367  0.040462  0.028391  0.010526  0.012539  0.002372 -0.003663\n",
              "368 -0.100000 -0.009202 -0.020833 -0.009288  0.000000  0.003676\n",
              "369  0.037037  0.003096  0.019149  0.006250 -0.022082  0.051282\n",
              "370 -0.047619 -0.003086  0.000000  0.021739  0.006452 -0.020906\n",
              "371  0.000000  0.003096  0.002088  0.063830 -0.022436  0.007117\n",
              "..        ...       ...       ...       ...       ...       ...\n",
              "518  0.037267 -0.022388  0.007109 -0.054348 -0.019849 -0.040909\n",
              "519  0.000000  0.045802  0.023529  0.034483  0.005304  0.023697\n",
              "520  0.005988  0.003650  0.013793  0.025926  0.024460  0.013889\n",
              "521  0.000000  0.000000  0.000000 -0.050542 -0.000936 -0.022831\n",
              "522  0.011905  0.010909  0.002268  0.049430  0.014058  0.009346\n",
              "\n",
              "[156 rows x 6 columns]"
            ]
          },
          "metadata": {
            "tags": []
          },
          "execution_count": 164
        }
      ]
    },
    {
      "cell_type": "code",
      "metadata": {
        "colab": {
          "base_uri": "https://localhost:8080/"
        },
        "id": "Mg887jDJsiHv",
        "outputId": "7caaaf12-8dc1-4e34-da2e-a330c00cbd65"
      },
      "source": [
        "emitens6"
      ],
      "execution_count": null,
      "outputs": [
        {
          "output_type": "execute_result",
          "data": {
            "text/plain": [
              "['antm', 'asii', 'bbri', 'cpin', 'ggrm', 'pgas']"
            ]
          },
          "metadata": {
            "tags": []
          },
          "execution_count": 165
        }
      ]
    },
    {
      "cell_type": "code",
      "metadata": {
        "colab": {
          "base_uri": "https://localhost:8080/",
          "height": 391
        },
        "id": "BrfrGOc9ssHN",
        "outputId": "b0a2352d-3dc6-49f9-e0bf-234c1be0b7b8"
      },
      "source": [
        "df_pct_weekly_return6 = pd.DataFrame()\n",
        "i=0\n",
        "for emiten in emitens6:\n",
        "  df_pct_weekly_return6[emiten]=w.value[i]*df_pct_ret_test6[emiten]\n",
        "  i+=1\n",
        "\n",
        "df_pct_weekly_return6"
      ],
      "execution_count": null,
      "outputs": [
        {
          "output_type": "execute_result",
          "data": {
            "text/html": [
              "<div>\n",
              "<style scoped>\n",
              "    .dataframe tbody tr th:only-of-type {\n",
              "        vertical-align: middle;\n",
              "    }\n",
              "\n",
              "    .dataframe tbody tr th {\n",
              "        vertical-align: top;\n",
              "    }\n",
              "\n",
              "    .dataframe thead th {\n",
              "        text-align: right;\n",
              "    }\n",
              "</style>\n",
              "<table border=\"1\" class=\"dataframe\">\n",
              "  <thead>\n",
              "    <tr style=\"text-align: right;\">\n",
              "      <th></th>\n",
              "      <th>antm</th>\n",
              "      <th>asii</th>\n",
              "      <th>bbri</th>\n",
              "      <th>cpin</th>\n",
              "      <th>ggrm</th>\n",
              "      <th>pgas</th>\n",
              "    </tr>\n",
              "  </thead>\n",
              "  <tbody>\n",
              "    <tr>\n",
              "      <th>367</th>\n",
              "      <td>0.014162</td>\n",
              "      <td>0.007384</td>\n",
              "      <td>0.000244</td>\n",
              "      <td>-0.002410</td>\n",
              "      <td>0.000502</td>\n",
              "      <td>-0.001272</td>\n",
              "    </tr>\n",
              "    <tr>\n",
              "      <th>368</th>\n",
              "      <td>-0.035000</td>\n",
              "      <td>-0.002394</td>\n",
              "      <td>-0.000483</td>\n",
              "      <td>0.001785</td>\n",
              "      <td>0.000000</td>\n",
              "      <td>0.001277</td>\n",
              "    </tr>\n",
              "    <tr>\n",
              "      <th>369</th>\n",
              "      <td>0.012963</td>\n",
              "      <td>0.000805</td>\n",
              "      <td>0.000444</td>\n",
              "      <td>-0.001201</td>\n",
              "      <td>-0.004671</td>\n",
              "      <td>0.017814</td>\n",
              "    </tr>\n",
              "    <tr>\n",
              "      <th>370</th>\n",
              "      <td>-0.016667</td>\n",
              "      <td>-0.000803</td>\n",
              "      <td>0.000000</td>\n",
              "      <td>-0.004178</td>\n",
              "      <td>0.001365</td>\n",
              "      <td>-0.007262</td>\n",
              "    </tr>\n",
              "    <tr>\n",
              "      <th>371</th>\n",
              "      <td>0.000000</td>\n",
              "      <td>0.000805</td>\n",
              "      <td>0.000048</td>\n",
              "      <td>-0.012267</td>\n",
              "      <td>-0.004746</td>\n",
              "      <td>0.002472</td>\n",
              "    </tr>\n",
              "    <tr>\n",
              "      <th>...</th>\n",
              "      <td>...</td>\n",
              "      <td>...</td>\n",
              "      <td>...</td>\n",
              "      <td>...</td>\n",
              "      <td>...</td>\n",
              "      <td>...</td>\n",
              "    </tr>\n",
              "    <tr>\n",
              "      <th>518</th>\n",
              "      <td>0.013044</td>\n",
              "      <td>-0.005823</td>\n",
              "      <td>0.000165</td>\n",
              "      <td>0.010445</td>\n",
              "      <td>-0.004198</td>\n",
              "      <td>-0.014211</td>\n",
              "    </tr>\n",
              "    <tr>\n",
              "      <th>519</th>\n",
              "      <td>0.000000</td>\n",
              "      <td>0.011913</td>\n",
              "      <td>0.000546</td>\n",
              "      <td>-0.006627</td>\n",
              "      <td>0.001122</td>\n",
              "      <td>0.008232</td>\n",
              "    </tr>\n",
              "    <tr>\n",
              "      <th>520</th>\n",
              "      <td>0.002096</td>\n",
              "      <td>0.000949</td>\n",
              "      <td>0.000320</td>\n",
              "      <td>-0.004983</td>\n",
              "      <td>0.005174</td>\n",
              "      <td>0.004825</td>\n",
              "    </tr>\n",
              "    <tr>\n",
              "      <th>521</th>\n",
              "      <td>0.000000</td>\n",
              "      <td>0.000000</td>\n",
              "      <td>0.000000</td>\n",
              "      <td>0.009714</td>\n",
              "      <td>-0.000198</td>\n",
              "      <td>-0.007931</td>\n",
              "    </tr>\n",
              "    <tr>\n",
              "      <th>522</th>\n",
              "      <td>0.004167</td>\n",
              "      <td>0.002837</td>\n",
              "      <td>0.000053</td>\n",
              "      <td>-0.009500</td>\n",
              "      <td>0.002973</td>\n",
              "      <td>0.003247</td>\n",
              "    </tr>\n",
              "  </tbody>\n",
              "</table>\n",
              "<p>156 rows × 6 columns</p>\n",
              "</div>"
            ],
            "text/plain": [
              "         antm      asii      bbri      cpin      ggrm      pgas\n",
              "367  0.014162  0.007384  0.000244 -0.002410  0.000502 -0.001272\n",
              "368 -0.035000 -0.002394 -0.000483  0.001785  0.000000  0.001277\n",
              "369  0.012963  0.000805  0.000444 -0.001201 -0.004671  0.017814\n",
              "370 -0.016667 -0.000803  0.000000 -0.004178  0.001365 -0.007262\n",
              "371  0.000000  0.000805  0.000048 -0.012267 -0.004746  0.002472\n",
              "..        ...       ...       ...       ...       ...       ...\n",
              "518  0.013044 -0.005823  0.000165  0.010445 -0.004198 -0.014211\n",
              "519  0.000000  0.011913  0.000546 -0.006627  0.001122  0.008232\n",
              "520  0.002096  0.000949  0.000320 -0.004983  0.005174  0.004825\n",
              "521  0.000000  0.000000  0.000000  0.009714 -0.000198 -0.007931\n",
              "522  0.004167  0.002837  0.000053 -0.009500  0.002973  0.003247\n",
              "\n",
              "[156 rows x 6 columns]"
            ]
          },
          "metadata": {
            "tags": []
          },
          "execution_count": 166
        }
      ]
    },
    {
      "cell_type": "code",
      "metadata": {
        "colab": {
          "base_uri": "https://localhost:8080/",
          "height": 391
        },
        "id": "bhJUmKoesvRO",
        "outputId": "3a8d7d47-36e2-46c5-f450-f59ecdb5967e"
      },
      "source": [
        "price_data6 = df_test6.drop(columns=['Date'])\n",
        "price_data6"
      ],
      "execution_count": null,
      "outputs": [
        {
          "output_type": "execute_result",
          "data": {
            "text/html": [
              "<div>\n",
              "<style scoped>\n",
              "    .dataframe tbody tr th:only-of-type {\n",
              "        vertical-align: middle;\n",
              "    }\n",
              "\n",
              "    .dataframe tbody tr th {\n",
              "        vertical-align: top;\n",
              "    }\n",
              "\n",
              "    .dataframe thead th {\n",
              "        text-align: right;\n",
              "    }\n",
              "</style>\n",
              "<table border=\"1\" class=\"dataframe\">\n",
              "  <thead>\n",
              "    <tr style=\"text-align: right;\">\n",
              "      <th></th>\n",
              "      <th>antm</th>\n",
              "      <th>asii</th>\n",
              "      <th>bbri</th>\n",
              "      <th>cpin</th>\n",
              "      <th>ggrm</th>\n",
              "      <th>pgas</th>\n",
              "    </tr>\n",
              "  </thead>\n",
              "  <tbody>\n",
              "    <tr>\n",
              "      <th>366</th>\n",
              "      <td>865.0</td>\n",
              "      <td>7925.0</td>\n",
              "      <td>2375.0</td>\n",
              "      <td>3190.0</td>\n",
              "      <td>63250.0</td>\n",
              "      <td>2730.0</td>\n",
              "    </tr>\n",
              "    <tr>\n",
              "      <th>367</th>\n",
              "      <td>900.0</td>\n",
              "      <td>8150.0</td>\n",
              "      <td>2400.0</td>\n",
              "      <td>3230.0</td>\n",
              "      <td>63400.0</td>\n",
              "      <td>2720.0</td>\n",
              "    </tr>\n",
              "    <tr>\n",
              "      <th>368</th>\n",
              "      <td>810.0</td>\n",
              "      <td>8075.0</td>\n",
              "      <td>2350.0</td>\n",
              "      <td>3200.0</td>\n",
              "      <td>63400.0</td>\n",
              "      <td>2730.0</td>\n",
              "    </tr>\n",
              "    <tr>\n",
              "      <th>369</th>\n",
              "      <td>840.0</td>\n",
              "      <td>8100.0</td>\n",
              "      <td>2395.0</td>\n",
              "      <td>3220.0</td>\n",
              "      <td>62000.0</td>\n",
              "      <td>2870.0</td>\n",
              "    </tr>\n",
              "    <tr>\n",
              "      <th>370</th>\n",
              "      <td>800.0</td>\n",
              "      <td>8075.0</td>\n",
              "      <td>2395.0</td>\n",
              "      <td>3290.0</td>\n",
              "      <td>62400.0</td>\n",
              "      <td>2810.0</td>\n",
              "    </tr>\n",
              "    <tr>\n",
              "      <th>...</th>\n",
              "      <td>...</td>\n",
              "      <td>...</td>\n",
              "      <td>...</td>\n",
              "      <td>...</td>\n",
              "      <td>...</td>\n",
              "      <td>...</td>\n",
              "    </tr>\n",
              "    <tr>\n",
              "      <th>518</th>\n",
              "      <td>835.0</td>\n",
              "      <td>6550.0</td>\n",
              "      <td>4250.0</td>\n",
              "      <td>6525.0</td>\n",
              "      <td>51850.0</td>\n",
              "      <td>2110.0</td>\n",
              "    </tr>\n",
              "    <tr>\n",
              "      <th>519</th>\n",
              "      <td>835.0</td>\n",
              "      <td>6850.0</td>\n",
              "      <td>4350.0</td>\n",
              "      <td>6750.0</td>\n",
              "      <td>52125.0</td>\n",
              "      <td>2160.0</td>\n",
              "    </tr>\n",
              "    <tr>\n",
              "      <th>520</th>\n",
              "      <td>840.0</td>\n",
              "      <td>6875.0</td>\n",
              "      <td>4410.0</td>\n",
              "      <td>6925.0</td>\n",
              "      <td>53400.0</td>\n",
              "      <td>2190.0</td>\n",
              "    </tr>\n",
              "    <tr>\n",
              "      <th>521</th>\n",
              "      <td>840.0</td>\n",
              "      <td>6875.0</td>\n",
              "      <td>4410.0</td>\n",
              "      <td>6575.0</td>\n",
              "      <td>53350.0</td>\n",
              "      <td>2140.0</td>\n",
              "    </tr>\n",
              "    <tr>\n",
              "      <th>522</th>\n",
              "      <td>850.0</td>\n",
              "      <td>6950.0</td>\n",
              "      <td>4420.0</td>\n",
              "      <td>6900.0</td>\n",
              "      <td>54100.0</td>\n",
              "      <td>2160.0</td>\n",
              "    </tr>\n",
              "  </tbody>\n",
              "</table>\n",
              "<p>157 rows × 6 columns</p>\n",
              "</div>"
            ],
            "text/plain": [
              "      antm    asii    bbri    cpin     ggrm    pgas\n",
              "366  865.0  7925.0  2375.0  3190.0  63250.0  2730.0\n",
              "367  900.0  8150.0  2400.0  3230.0  63400.0  2720.0\n",
              "368  810.0  8075.0  2350.0  3200.0  63400.0  2730.0\n",
              "369  840.0  8100.0  2395.0  3220.0  62000.0  2870.0\n",
              "370  800.0  8075.0  2395.0  3290.0  62400.0  2810.0\n",
              "..     ...     ...     ...     ...      ...     ...\n",
              "518  835.0  6550.0  4250.0  6525.0  51850.0  2110.0\n",
              "519  835.0  6850.0  4350.0  6750.0  52125.0  2160.0\n",
              "520  840.0  6875.0  4410.0  6925.0  53400.0  2190.0\n",
              "521  840.0  6875.0  4410.0  6575.0  53350.0  2140.0\n",
              "522  850.0  6950.0  4420.0  6900.0  54100.0  2160.0\n",
              "\n",
              "[157 rows x 6 columns]"
            ]
          },
          "metadata": {
            "tags": []
          },
          "execution_count": 167
        }
      ]
    },
    {
      "cell_type": "code",
      "metadata": {
        "colab": {
          "base_uri": "https://localhost:8080/",
          "height": 391
        },
        "id": "OR5FRkwisyP4",
        "outputId": "0a2269ca-8df9-40cd-9c0c-fe890f982412"
      },
      "source": [
        "ret_data6 = price_data6.pct_change()[1:]\n",
        "ret_data6"
      ],
      "execution_count": null,
      "outputs": [
        {
          "output_type": "execute_result",
          "data": {
            "text/html": [
              "<div>\n",
              "<style scoped>\n",
              "    .dataframe tbody tr th:only-of-type {\n",
              "        vertical-align: middle;\n",
              "    }\n",
              "\n",
              "    .dataframe tbody tr th {\n",
              "        vertical-align: top;\n",
              "    }\n",
              "\n",
              "    .dataframe thead th {\n",
              "        text-align: right;\n",
              "    }\n",
              "</style>\n",
              "<table border=\"1\" class=\"dataframe\">\n",
              "  <thead>\n",
              "    <tr style=\"text-align: right;\">\n",
              "      <th></th>\n",
              "      <th>antm</th>\n",
              "      <th>asii</th>\n",
              "      <th>bbri</th>\n",
              "      <th>cpin</th>\n",
              "      <th>ggrm</th>\n",
              "      <th>pgas</th>\n",
              "    </tr>\n",
              "  </thead>\n",
              "  <tbody>\n",
              "    <tr>\n",
              "      <th>367</th>\n",
              "      <td>0.040462</td>\n",
              "      <td>0.028391</td>\n",
              "      <td>0.010526</td>\n",
              "      <td>0.012539</td>\n",
              "      <td>0.002372</td>\n",
              "      <td>-0.003663</td>\n",
              "    </tr>\n",
              "    <tr>\n",
              "      <th>368</th>\n",
              "      <td>-0.100000</td>\n",
              "      <td>-0.009202</td>\n",
              "      <td>-0.020833</td>\n",
              "      <td>-0.009288</td>\n",
              "      <td>0.000000</td>\n",
              "      <td>0.003676</td>\n",
              "    </tr>\n",
              "    <tr>\n",
              "      <th>369</th>\n",
              "      <td>0.037037</td>\n",
              "      <td>0.003096</td>\n",
              "      <td>0.019149</td>\n",
              "      <td>0.006250</td>\n",
              "      <td>-0.022082</td>\n",
              "      <td>0.051282</td>\n",
              "    </tr>\n",
              "    <tr>\n",
              "      <th>370</th>\n",
              "      <td>-0.047619</td>\n",
              "      <td>-0.003086</td>\n",
              "      <td>0.000000</td>\n",
              "      <td>0.021739</td>\n",
              "      <td>0.006452</td>\n",
              "      <td>-0.020906</td>\n",
              "    </tr>\n",
              "    <tr>\n",
              "      <th>371</th>\n",
              "      <td>0.000000</td>\n",
              "      <td>0.003096</td>\n",
              "      <td>0.002088</td>\n",
              "      <td>0.063830</td>\n",
              "      <td>-0.022436</td>\n",
              "      <td>0.007117</td>\n",
              "    </tr>\n",
              "    <tr>\n",
              "      <th>...</th>\n",
              "      <td>...</td>\n",
              "      <td>...</td>\n",
              "      <td>...</td>\n",
              "      <td>...</td>\n",
              "      <td>...</td>\n",
              "      <td>...</td>\n",
              "    </tr>\n",
              "    <tr>\n",
              "      <th>518</th>\n",
              "      <td>0.037267</td>\n",
              "      <td>-0.022388</td>\n",
              "      <td>0.007109</td>\n",
              "      <td>-0.054348</td>\n",
              "      <td>-0.019849</td>\n",
              "      <td>-0.040909</td>\n",
              "    </tr>\n",
              "    <tr>\n",
              "      <th>519</th>\n",
              "      <td>0.000000</td>\n",
              "      <td>0.045802</td>\n",
              "      <td>0.023529</td>\n",
              "      <td>0.034483</td>\n",
              "      <td>0.005304</td>\n",
              "      <td>0.023697</td>\n",
              "    </tr>\n",
              "    <tr>\n",
              "      <th>520</th>\n",
              "      <td>0.005988</td>\n",
              "      <td>0.003650</td>\n",
              "      <td>0.013793</td>\n",
              "      <td>0.025926</td>\n",
              "      <td>0.024460</td>\n",
              "      <td>0.013889</td>\n",
              "    </tr>\n",
              "    <tr>\n",
              "      <th>521</th>\n",
              "      <td>0.000000</td>\n",
              "      <td>0.000000</td>\n",
              "      <td>0.000000</td>\n",
              "      <td>-0.050542</td>\n",
              "      <td>-0.000936</td>\n",
              "      <td>-0.022831</td>\n",
              "    </tr>\n",
              "    <tr>\n",
              "      <th>522</th>\n",
              "      <td>0.011905</td>\n",
              "      <td>0.010909</td>\n",
              "      <td>0.002268</td>\n",
              "      <td>0.049430</td>\n",
              "      <td>0.014058</td>\n",
              "      <td>0.009346</td>\n",
              "    </tr>\n",
              "  </tbody>\n",
              "</table>\n",
              "<p>156 rows × 6 columns</p>\n",
              "</div>"
            ],
            "text/plain": [
              "         antm      asii      bbri      cpin      ggrm      pgas\n",
              "367  0.040462  0.028391  0.010526  0.012539  0.002372 -0.003663\n",
              "368 -0.100000 -0.009202 -0.020833 -0.009288  0.000000  0.003676\n",
              "369  0.037037  0.003096  0.019149  0.006250 -0.022082  0.051282\n",
              "370 -0.047619 -0.003086  0.000000  0.021739  0.006452 -0.020906\n",
              "371  0.000000  0.003096  0.002088  0.063830 -0.022436  0.007117\n",
              "..        ...       ...       ...       ...       ...       ...\n",
              "518  0.037267 -0.022388  0.007109 -0.054348 -0.019849 -0.040909\n",
              "519  0.000000  0.045802  0.023529  0.034483  0.005304  0.023697\n",
              "520  0.005988  0.003650  0.013793  0.025926  0.024460  0.013889\n",
              "521  0.000000  0.000000  0.000000 -0.050542 -0.000936 -0.022831\n",
              "522  0.011905  0.010909  0.002268  0.049430  0.014058  0.009346\n",
              "\n",
              "[156 rows x 6 columns]"
            ]
          },
          "metadata": {
            "tags": []
          },
          "execution_count": 168
        }
      ]
    },
    {
      "cell_type": "code",
      "metadata": {
        "colab": {
          "base_uri": "https://localhost:8080/",
          "height": 391
        },
        "id": "D2eb8ktvs01y",
        "outputId": "9516bff5-3f1c-49e0-a701-13434f1cd297"
      },
      "source": [
        "weighted_returns6 = (w.value.reshape(6) * ret_data6)\n",
        "weighted_returns6"
      ],
      "execution_count": null,
      "outputs": [
        {
          "output_type": "execute_result",
          "data": {
            "text/html": [
              "<div>\n",
              "<style scoped>\n",
              "    .dataframe tbody tr th:only-of-type {\n",
              "        vertical-align: middle;\n",
              "    }\n",
              "\n",
              "    .dataframe tbody tr th {\n",
              "        vertical-align: top;\n",
              "    }\n",
              "\n",
              "    .dataframe thead th {\n",
              "        text-align: right;\n",
              "    }\n",
              "</style>\n",
              "<table border=\"1\" class=\"dataframe\">\n",
              "  <thead>\n",
              "    <tr style=\"text-align: right;\">\n",
              "      <th></th>\n",
              "      <th>antm</th>\n",
              "      <th>asii</th>\n",
              "      <th>bbri</th>\n",
              "      <th>cpin</th>\n",
              "      <th>ggrm</th>\n",
              "      <th>pgas</th>\n",
              "    </tr>\n",
              "  </thead>\n",
              "  <tbody>\n",
              "    <tr>\n",
              "      <th>367</th>\n",
              "      <td>0.014162</td>\n",
              "      <td>0.007384</td>\n",
              "      <td>0.000244</td>\n",
              "      <td>-0.002410</td>\n",
              "      <td>0.000502</td>\n",
              "      <td>-0.001272</td>\n",
              "    </tr>\n",
              "    <tr>\n",
              "      <th>368</th>\n",
              "      <td>-0.035000</td>\n",
              "      <td>-0.002394</td>\n",
              "      <td>-0.000483</td>\n",
              "      <td>0.001785</td>\n",
              "      <td>0.000000</td>\n",
              "      <td>0.001277</td>\n",
              "    </tr>\n",
              "    <tr>\n",
              "      <th>369</th>\n",
              "      <td>0.012963</td>\n",
              "      <td>0.000805</td>\n",
              "      <td>0.000444</td>\n",
              "      <td>-0.001201</td>\n",
              "      <td>-0.004671</td>\n",
              "      <td>0.017814</td>\n",
              "    </tr>\n",
              "    <tr>\n",
              "      <th>370</th>\n",
              "      <td>-0.016667</td>\n",
              "      <td>-0.000803</td>\n",
              "      <td>0.000000</td>\n",
              "      <td>-0.004178</td>\n",
              "      <td>0.001365</td>\n",
              "      <td>-0.007262</td>\n",
              "    </tr>\n",
              "    <tr>\n",
              "      <th>371</th>\n",
              "      <td>0.000000</td>\n",
              "      <td>0.000805</td>\n",
              "      <td>0.000048</td>\n",
              "      <td>-0.012267</td>\n",
              "      <td>-0.004746</td>\n",
              "      <td>0.002472</td>\n",
              "    </tr>\n",
              "    <tr>\n",
              "      <th>...</th>\n",
              "      <td>...</td>\n",
              "      <td>...</td>\n",
              "      <td>...</td>\n",
              "      <td>...</td>\n",
              "      <td>...</td>\n",
              "      <td>...</td>\n",
              "    </tr>\n",
              "    <tr>\n",
              "      <th>518</th>\n",
              "      <td>0.013044</td>\n",
              "      <td>-0.005823</td>\n",
              "      <td>0.000165</td>\n",
              "      <td>0.010445</td>\n",
              "      <td>-0.004198</td>\n",
              "      <td>-0.014211</td>\n",
              "    </tr>\n",
              "    <tr>\n",
              "      <th>519</th>\n",
              "      <td>0.000000</td>\n",
              "      <td>0.011913</td>\n",
              "      <td>0.000546</td>\n",
              "      <td>-0.006627</td>\n",
              "      <td>0.001122</td>\n",
              "      <td>0.008232</td>\n",
              "    </tr>\n",
              "    <tr>\n",
              "      <th>520</th>\n",
              "      <td>0.002096</td>\n",
              "      <td>0.000949</td>\n",
              "      <td>0.000320</td>\n",
              "      <td>-0.004983</td>\n",
              "      <td>0.005174</td>\n",
              "      <td>0.004825</td>\n",
              "    </tr>\n",
              "    <tr>\n",
              "      <th>521</th>\n",
              "      <td>0.000000</td>\n",
              "      <td>0.000000</td>\n",
              "      <td>0.000000</td>\n",
              "      <td>0.009714</td>\n",
              "      <td>-0.000198</td>\n",
              "      <td>-0.007931</td>\n",
              "    </tr>\n",
              "    <tr>\n",
              "      <th>522</th>\n",
              "      <td>0.004167</td>\n",
              "      <td>0.002837</td>\n",
              "      <td>0.000053</td>\n",
              "      <td>-0.009500</td>\n",
              "      <td>0.002973</td>\n",
              "      <td>0.003247</td>\n",
              "    </tr>\n",
              "  </tbody>\n",
              "</table>\n",
              "<p>156 rows × 6 columns</p>\n",
              "</div>"
            ],
            "text/plain": [
              "         antm      asii      bbri      cpin      ggrm      pgas\n",
              "367  0.014162  0.007384  0.000244 -0.002410  0.000502 -0.001272\n",
              "368 -0.035000 -0.002394 -0.000483  0.001785  0.000000  0.001277\n",
              "369  0.012963  0.000805  0.000444 -0.001201 -0.004671  0.017814\n",
              "370 -0.016667 -0.000803  0.000000 -0.004178  0.001365 -0.007262\n",
              "371  0.000000  0.000805  0.000048 -0.012267 -0.004746  0.002472\n",
              "..        ...       ...       ...       ...       ...       ...\n",
              "518  0.013044 -0.005823  0.000165  0.010445 -0.004198 -0.014211\n",
              "519  0.000000  0.011913  0.000546 -0.006627  0.001122  0.008232\n",
              "520  0.002096  0.000949  0.000320 -0.004983  0.005174  0.004825\n",
              "521  0.000000  0.000000  0.000000  0.009714 -0.000198 -0.007931\n",
              "522  0.004167  0.002837  0.000053 -0.009500  0.002973  0.003247\n",
              "\n",
              "[156 rows x 6 columns]"
            ]
          },
          "metadata": {
            "tags": []
          },
          "execution_count": 169
        }
      ]
    },
    {
      "cell_type": "code",
      "metadata": {
        "colab": {
          "base_uri": "https://localhost:8080/"
        },
        "id": "4XWi3-urs38S",
        "outputId": "d16f3042-19a7-441e-ccd9-c67b01b57ce9"
      },
      "source": [
        "port_ret62 = weighted_returns6.sum(axis=1)\n",
        "port_ret62"
      ],
      "execution_count": null,
      "outputs": [
        {
          "output_type": "execute_result",
          "data": {
            "text/plain": [
              "367    0.018610\n",
              "368   -0.034815\n",
              "369    0.026155\n",
              "370   -0.027545\n",
              "371   -0.013687\n",
              "         ...   \n",
              "518   -0.000579\n",
              "519    0.015185\n",
              "520    0.008381\n",
              "521    0.001584\n",
              "522    0.003777\n",
              "Length: 156, dtype: float64"
            ]
          },
          "metadata": {
            "tags": []
          },
          "execution_count": 170
        }
      ]
    },
    {
      "cell_type": "code",
      "metadata": {
        "id": "Ivvq-uD2s6jV"
      },
      "source": [
        "port_ret62.to_csv('port_ret62.csv')\n",
        "!cp port_ret62.csv \"/content/drive/My Drive/PYTHON/port_ret\""
      ],
      "execution_count": null,
      "outputs": []
    },
    {
      "cell_type": "code",
      "metadata": {
        "colab": {
          "base_uri": "https://localhost:8080/"
        },
        "id": "oX8wUhNXs9Lv",
        "outputId": "0abb37e0-c2d7-4365-f99f-c10a666a54b4"
      },
      "source": [
        "print('Max return:', max(port_ret62))\n",
        "print('Min return:', min(port_ret62))\n",
        "print('Average return:', np.mean(port_ret62))\n",
        "print('sharpe ratio :', np.mean(port_ret62)/np.std(port_ret62))"
      ],
      "execution_count": null,
      "outputs": [
        {
          "output_type": "stream",
          "text": [
            "Max return: 0.12956398150266862\n",
            "Min return: -0.09331210911303096\n",
            "Average return: -0.0008456175167414729\n",
            "sharpe ratio : -0.022728043451261115\n"
          ],
          "name": "stdout"
        }
      ]
    },
    {
      "cell_type": "code",
      "metadata": {
        "colab": {
          "base_uri": "https://localhost:8080/",
          "height": 307
        },
        "id": "ptrBeoHStDLU",
        "outputId": "5190a02d-d42b-4c48-cab3-b936727ba029"
      },
      "source": [
        "import matplotlib.pyplot as plt\n",
        "\n",
        "fig = plt.figure()\n",
        "ax1 = fig.add_axes([0.1,0.1,0.8,0.8])\n",
        "ax1.hist(port_ret62, bins = 60)\n",
        "ax1.set_xlabel('Return Portofolio')\n",
        "ax1.set_ylabel(\"Jumlah\")\n",
        "ax1.set_title(\"Return Portofolio sparse mean-variance 6 emiten\")\n",
        "plt.show(); "
      ],
      "execution_count": null,
      "outputs": [
        {
          "output_type": "display_data",
          "data": {
            "image/png": "[encoded data removed]",
            "text/plain": [
              "<Figure size 432x288 with 1 Axes>"
            ]
          },
          "metadata": {
            "tags": [],
            "needs_background": "light"
          }
        }
      ]
    },
    {
      "cell_type": "markdown",
      "metadata": {
        "id": "K9A9rO8uE_80"
      },
      "source": [
        "### 7 emiten"
      ]
    },
    {
      "cell_type": "markdown",
      "metadata": {
        "id": "xfHLfs2auRPe"
      },
      "source": [
        "####Ellipsoidal Uncertainty "
      ]
    },
    {
      "cell_type": "code",
      "metadata": {
        "id": "TO9bpnxBDoHU",
        "colab": {
          "base_uri": "https://localhost:8080/"
        },
        "outputId": "70ccbd54-267b-4bbc-b391-44d5c508cb3b"
      },
      "source": [
        "import os\n",
        "base_dir = '/content/drive/My Drive/PYTHON/saham/data7'\n",
        "\n",
        "data7= [f for f in os.listdir(base_dir)]\n",
        "for f in data7:\n",
        "    print(f)"
      ],
      "execution_count": null,
      "outputs": [
        {
          "output_type": "stream",
          "text": [
            "ANTM.JK.csv\n",
            "ASII.JK.csv\n",
            "BBRI.JK.csv\n",
            "CPIN.JK.csv\n",
            "GGRM.JK.csv\n",
            "LPPF.JK.csv\n",
            "PGAS.JK.csv\n"
          ],
          "name": "stdout"
        }
      ]
    },
    {
      "cell_type": "code",
      "metadata": {
        "colab": {
          "base_uri": "https://localhost:8080/",
          "height": 467
        },
        "id": "nOrtsYlMukBr",
        "outputId": "fc49b007-003d-481c-997a-7775916d22db"
      },
      "source": [
        "#show one emiten\n",
        "import pandas as pd\n",
        "\n",
        "example_emiten7 = data7[0]\n",
        "df_example7 = pd.read_csv(base_dir+'/'+example_emiten7)\n",
        "print(example_emiten7)\n",
        "print(df_example7.info())\n",
        "print(\"Showing Head of Emiten Dataframe\")\n",
        "df_example7.head()"
      ],
      "execution_count": null,
      "outputs": [
        {
          "output_type": "stream",
          "text": [
            "ANTM.JK.csv\n",
            "<class 'pandas.core.frame.DataFrame'>\n",
            "RangeIndex: 523 entries, 0 to 522\n",
            "Data columns (total 7 columns):\n",
            " #   Column     Non-Null Count  Dtype  \n",
            "---  ------     --------------  -----  \n",
            " 0   Date       523 non-null    object \n",
            " 1   Open       523 non-null    float64\n",
            " 2   High       523 non-null    float64\n",
            " 3   Low        523 non-null    float64\n",
            " 4   Close      523 non-null    float64\n",
            " 5   Adj Close  523 non-null    float64\n",
            " 6   Volume     523 non-null    int64  \n",
            "dtypes: float64(5), int64(1), object(1)\n",
            "memory usage: 28.7+ KB\n",
            "None\n",
            "Showing Head of Emiten Dataframe\n"
          ],
          "name": "stdout"
        },
        {
          "output_type": "execute_result",
          "data": {
            "text/html": [
              "<div>\n",
              "<style scoped>\n",
              "    .dataframe tbody tr th:only-of-type {\n",
              "        vertical-align: middle;\n",
              "    }\n",
              "\n",
              "    .dataframe tbody tr th {\n",
              "        vertical-align: top;\n",
              "    }\n",
              "\n",
              "    .dataframe thead th {\n",
              "        text-align: right;\n",
              "    }\n",
              "</style>\n",
              "<table border=\"1\" class=\"dataframe\">\n",
              "  <thead>\n",
              "    <tr style=\"text-align: right;\">\n",
              "      <th></th>\n",
              "      <th>Date</th>\n",
              "      <th>Open</th>\n",
              "      <th>High</th>\n",
              "      <th>Low</th>\n",
              "      <th>Close</th>\n",
              "      <th>Adj Close</th>\n",
              "      <th>Volume</th>\n",
              "    </tr>\n",
              "  </thead>\n",
              "  <tbody>\n",
              "    <tr>\n",
              "      <th>0</th>\n",
              "      <td>2010-01-01</td>\n",
              "      <td>1931.949951</td>\n",
              "      <td>1994.949951</td>\n",
              "      <td>1847.949951</td>\n",
              "      <td>1973.949951</td>\n",
              "      <td>1597.762817</td>\n",
              "      <td>163202117</td>\n",
              "    </tr>\n",
              "    <tr>\n",
              "      <th>1</th>\n",
              "      <td>2010-01-08</td>\n",
              "      <td>1973.949951</td>\n",
              "      <td>2015.939941</td>\n",
              "      <td>1910.949951</td>\n",
              "      <td>1931.949951</td>\n",
              "      <td>1563.767090</td>\n",
              "      <td>115584733</td>\n",
              "    </tr>\n",
              "    <tr>\n",
              "      <th>2</th>\n",
              "      <td>2010-01-15</td>\n",
              "      <td>1868.949951</td>\n",
              "      <td>1952.949951</td>\n",
              "      <td>1784.949951</td>\n",
              "      <td>1826.949951</td>\n",
              "      <td>1478.777588</td>\n",
              "      <td>215405936</td>\n",
              "    </tr>\n",
              "    <tr>\n",
              "      <th>3</th>\n",
              "      <td>2010-01-22</td>\n",
              "      <td>1826.949951</td>\n",
              "      <td>1847.949951</td>\n",
              "      <td>1742.949951</td>\n",
              "      <td>1805.949951</td>\n",
              "      <td>1461.779663</td>\n",
              "      <td>147717166</td>\n",
              "    </tr>\n",
              "    <tr>\n",
              "      <th>4</th>\n",
              "      <td>2010-01-29</td>\n",
              "      <td>1784.949951</td>\n",
              "      <td>1784.949951</td>\n",
              "      <td>1700.949951</td>\n",
              "      <td>1721.949951</td>\n",
              "      <td>1393.787964</td>\n",
              "      <td>127631493</td>\n",
              "    </tr>\n",
              "  </tbody>\n",
              "</table>\n",
              "</div>"
            ],
            "text/plain": [
              "         Date         Open         High  ...        Close    Adj Close     Volume\n",
              "0  2010-01-01  1931.949951  1994.949951  ...  1973.949951  1597.762817  163202117\n",
              "1  2010-01-08  1973.949951  2015.939941  ...  1931.949951  1563.767090  115584733\n",
              "2  2010-01-15  1868.949951  1952.949951  ...  1826.949951  1478.777588  215405936\n",
              "3  2010-01-22  1826.949951  1847.949951  ...  1805.949951  1461.779663  147717166\n",
              "4  2010-01-29  1784.949951  1784.949951  ...  1721.949951  1393.787964  127631493\n",
              "\n",
              "[5 rows x 7 columns]"
            ]
          },
          "metadata": {
            "tags": []
          },
          "execution_count": 210
        }
      ]
    },
    {
      "cell_type": "code",
      "metadata": {
        "id": "rnNhw00Tuni_"
      },
      "source": [
        "df7=pd.DataFrame()\n",
        "target_column7 = 'Close'\n",
        "emitens7 = []\n",
        "for f in data7:\n",
        "  emiten = f.lower().replace('.jk.csv', '')\n",
        "  emitens7.append(emiten)\n",
        "  df_emiten7 = pd.read_csv(base_dir+'/'+f)\n",
        "  df7['Date'] = df_emiten7['Date']\n",
        "  df7[emiten] = df_emiten7[target_column7]\n",
        "df7=df7.dropna()"
      ],
      "execution_count": null,
      "outputs": []
    },
    {
      "cell_type": "code",
      "metadata": {
        "colab": {
          "base_uri": "https://localhost:8080/"
        },
        "id": "74db0uEnutjQ",
        "outputId": "260bdf17-2da0-4d5e-d281-b132fa5fbcbd"
      },
      "source": [
        "df_train7 = df7[(df7['Date'] <= '2017-01-01')]\n",
        "df_test7 = df7[(df7['Date'] > '2017-01-01')]\n",
        "\n",
        "print(df_train7)\n",
        "print(df_test7)"
      ],
      "execution_count": null,
      "outputs": [
        {
          "output_type": "stream",
          "text": [
            "           Date         antm    asii    bbri    cpin     ggrm     lppf    pgas\n",
            "0    2010-01-01  1973.949951  3420.0   765.0   450.0  20900.0   1000.0  4000.0\n",
            "1    2010-01-08  1931.949951  3555.0   785.0   455.0  23450.0   1600.0  3850.0\n",
            "2    2010-01-15  1826.949951  3525.0   790.0   455.0  24050.0   1450.0  3750.0\n",
            "3    2010-01-22  1805.949951  3600.0   765.0   440.0  24050.0   2725.0  3800.0\n",
            "4    2010-01-29  1721.949951  3535.0   740.0   440.0  25750.0   2625.0  3700.0\n",
            "..          ...          ...     ...     ...     ...      ...      ...     ...\n",
            "361  2016-12-02   950.000000  7800.0  2300.0  3150.0  67500.0  15700.0  2840.0\n",
            "362  2016-12-09   895.000000  7750.0  2280.0  3180.0  66300.0  14400.0  2800.0\n",
            "363  2016-12-16   860.000000  7525.0  2175.0  2900.0  60850.0  14450.0  2480.0\n",
            "364  2016-12-23   895.000000  8125.0  2330.0  3110.0  64000.0  15100.0  2760.0\n",
            "365  2016-12-30   870.000000  8125.0  2420.0  3260.0  65600.0  15525.0  2860.0\n",
            "\n",
            "[366 rows x 8 columns]\n",
            "           Date   antm    asii    bbri    cpin     ggrm     lppf    pgas\n",
            "366  2017-01-06  865.0  7925.0  2375.0  3190.0  63250.0  15250.0  2730.0\n",
            "367  2017-01-13  900.0  8150.0  2400.0  3230.0  63400.0  14900.0  2720.0\n",
            "368  2017-01-20  810.0  8075.0  2350.0  3200.0  63400.0  15100.0  2730.0\n",
            "369  2017-01-27  840.0  8100.0  2395.0  3220.0  62000.0  14950.0  2870.0\n",
            "370  2017-02-03  800.0  8075.0  2395.0  3290.0  62400.0  15325.0  2810.0\n",
            "..          ...    ...     ...     ...     ...      ...      ...     ...\n",
            "518  2019-12-06  835.0  6550.0  4250.0  6525.0  51850.0   3710.0  2110.0\n",
            "519  2019-12-13  835.0  6850.0  4350.0  6750.0  52125.0   3970.0  2160.0\n",
            "520  2019-12-20  840.0  6875.0  4410.0  6925.0  53400.0   4210.0  2190.0\n",
            "521  2019-12-27  840.0  6875.0  4410.0  6575.0  53350.0   4120.0  2140.0\n",
            "522  2020-01-03  850.0  6950.0  4420.0  6900.0  54100.0   4040.0  2160.0\n",
            "\n",
            "[157 rows x 8 columns]\n"
          ],
          "name": "stdout"
        }
      ]
    },
    {
      "cell_type": "code",
      "metadata": {
        "colab": {
          "base_uri": "https://localhost:8080/"
        },
        "id": "RiwkYCtuvhyJ",
        "outputId": "757177c8-fc97-47e5-d291-5f400a8a7052"
      },
      "source": [
        "emiten_means7 = df7.mean()\n",
        "emiten_means7"
      ],
      "execution_count": null,
      "outputs": [
        {
          "output_type": "execute_result",
          "data": {
            "text/plain": [
              "antm     1049.928070\n",
              "asii     6963.231358\n",
              "bbri     2210.248566\n",
              "cpin     3433.757170\n",
              "ggrm    56963.814532\n",
              "lppf     9150.487572\n",
              "pgas     3530.869981\n",
              "dtype: float64"
            ]
          },
          "metadata": {
            "tags": []
          },
          "execution_count": 213
        }
      ]
    },
    {
      "cell_type": "code",
      "metadata": {
        "colab": {
          "base_uri": "https://localhost:8080/",
          "height": 191
        },
        "id": "gIBR8jqSvl-p",
        "outputId": "0b66831b-d496-4165-fb4a-ad7f50273cc2"
      },
      "source": [
        "df_pct_ret7 = df_train7.drop(columns=['Date']).pct_change()\n",
        "df_pct_ret7 = df_pct_ret7.dropna()\n",
        "df_pct_ret7.head()"
      ],
      "execution_count": null,
      "outputs": [
        {
          "output_type": "execute_result",
          "data": {
            "text/html": [
              "<div>\n",
              "<style scoped>\n",
              "    .dataframe tbody tr th:only-of-type {\n",
              "        vertical-align: middle;\n",
              "    }\n",
              "\n",
              "    .dataframe tbody tr th {\n",
              "        vertical-align: top;\n",
              "    }\n",
              "\n",
              "    .dataframe thead th {\n",
              "        text-align: right;\n",
              "    }\n",
              "</style>\n",
              "<table border=\"1\" class=\"dataframe\">\n",
              "  <thead>\n",
              "    <tr style=\"text-align: right;\">\n",
              "      <th></th>\n",
              "      <th>antm</th>\n",
              "      <th>asii</th>\n",
              "      <th>bbri</th>\n",
              "      <th>cpin</th>\n",
              "      <th>ggrm</th>\n",
              "      <th>lppf</th>\n",
              "      <th>pgas</th>\n",
              "    </tr>\n",
              "  </thead>\n",
              "  <tbody>\n",
              "    <tr>\n",
              "      <th>1</th>\n",
              "      <td>-0.021277</td>\n",
              "      <td>0.039474</td>\n",
              "      <td>0.026144</td>\n",
              "      <td>0.011111</td>\n",
              "      <td>0.122010</td>\n",
              "      <td>0.600000</td>\n",
              "      <td>-0.037500</td>\n",
              "    </tr>\n",
              "    <tr>\n",
              "      <th>2</th>\n",
              "      <td>-0.054349</td>\n",
              "      <td>-0.008439</td>\n",
              "      <td>0.006369</td>\n",
              "      <td>0.000000</td>\n",
              "      <td>0.025586</td>\n",
              "      <td>-0.093750</td>\n",
              "      <td>-0.025974</td>\n",
              "    </tr>\n",
              "    <tr>\n",
              "      <th>3</th>\n",
              "      <td>-0.011495</td>\n",
              "      <td>0.021277</td>\n",
              "      <td>-0.031646</td>\n",
              "      <td>-0.032967</td>\n",
              "      <td>0.000000</td>\n",
              "      <td>0.879310</td>\n",
              "      <td>0.013333</td>\n",
              "    </tr>\n",
              "    <tr>\n",
              "      <th>4</th>\n",
              "      <td>-0.046513</td>\n",
              "      <td>-0.018056</td>\n",
              "      <td>-0.032680</td>\n",
              "      <td>0.000000</td>\n",
              "      <td>0.070686</td>\n",
              "      <td>-0.036697</td>\n",
              "      <td>-0.026316</td>\n",
              "    </tr>\n",
              "    <tr>\n",
              "      <th>5</th>\n",
              "      <td>-0.039025</td>\n",
              "      <td>-0.029703</td>\n",
              "      <td>-0.013514</td>\n",
              "      <td>-0.045455</td>\n",
              "      <td>-0.069903</td>\n",
              "      <td>0.000000</td>\n",
              "      <td>-0.020270</td>\n",
              "    </tr>\n",
              "  </tbody>\n",
              "</table>\n",
              "</div>"
            ],
            "text/plain": [
              "       antm      asii      bbri      cpin      ggrm      lppf      pgas\n",
              "1 -0.021277  0.039474  0.026144  0.011111  0.122010  0.600000 -0.037500\n",
              "2 -0.054349 -0.008439  0.006369  0.000000  0.025586 -0.093750 -0.025974\n",
              "3 -0.011495  0.021277 -0.031646 -0.032967  0.000000  0.879310  0.013333\n",
              "4 -0.046513 -0.018056 -0.032680  0.000000  0.070686 -0.036697 -0.026316\n",
              "5 -0.039025 -0.029703 -0.013514 -0.045455 -0.069903  0.000000 -0.020270"
            ]
          },
          "metadata": {
            "tags": []
          },
          "execution_count": 214
        }
      ]
    },
    {
      "cell_type": "code",
      "metadata": {
        "colab": {
          "base_uri": "https://localhost:8080/"
        },
        "id": "c0TJdSY-vpm1",
        "outputId": "7f93f2e2-bfe7-4d14-ba93-c2bad47e237f"
      },
      "source": [
        "import numpy as np\n",
        "R7=np.array(df_pct_ret7)\n",
        "print(R7.shape)"
      ],
      "execution_count": null,
      "outputs": [
        {
          "output_type": "stream",
          "text": [
            "(365, 7)\n"
          ],
          "name": "stdout"
        }
      ]
    },
    {
      "cell_type": "code",
      "metadata": {
        "colab": {
          "base_uri": "https://localhost:8080/"
        },
        "id": "a6pcA9a-wX7_",
        "outputId": "a3438d94-c0e2-4021-9dcf-a5eed13755eb"
      },
      "source": [
        "emiten_pct_ret_means7 = df_pct_ret7.mean()\n",
        "emiten_pct_ret_means7"
      ],
      "execution_count": null,
      "outputs": [
        {
          "output_type": "execute_result",
          "data": {
            "text/plain": [
              "antm   -0.000876\n",
              "asii    0.003320\n",
              "bbri    0.004238\n",
              "cpin    0.007500\n",
              "ggrm    0.004245\n",
              "lppf    0.011310\n",
              "pgas    0.000255\n",
              "dtype: float64"
            ]
          },
          "metadata": {
            "tags": []
          },
          "execution_count": 216
        }
      ]
    },
    {
      "cell_type": "code",
      "metadata": {
        "colab": {
          "base_uri": "https://localhost:8080/"
        },
        "id": "lbPHMHHewbsD",
        "outputId": "a2c06cd8-ad7a-4953-bff2-43f7e0e0a947"
      },
      "source": [
        "myu7 = np.matrix(emiten_pct_ret_means7.values).T\n",
        "myu7"
      ],
      "execution_count": null,
      "outputs": [
        {
          "output_type": "execute_result",
          "data": {
            "text/plain": [
              "matrix([[-0.00087614],\n",
              "        [ 0.00331959],\n",
              "        [ 0.00423764],\n",
              "        [ 0.00749999],\n",
              "        [ 0.00424466],\n",
              "        [ 0.01130955],\n",
              "        [ 0.00025489]])"
            ]
          },
          "metadata": {
            "tags": []
          },
          "execution_count": 217
        }
      ]
    },
    {
      "cell_type": "code",
      "metadata": {
        "colab": {
          "base_uri": "https://localhost:8080/"
        },
        "id": "Py73luASwere",
        "outputId": "0cd9106b-e589-41e6-e8e6-40369df962bc"
      },
      "source": [
        "tho = 0.6\n",
        "rho= 0.0002;\n",
        "print(rho)\n",
        "\n",
        "#jumlah data\n",
        "n=R7.shape[0]\n",
        "print(n)"
      ],
      "execution_count": null,
      "outputs": [
        {
          "output_type": "stream",
          "text": [
            "0.0002\n",
            "365\n"
          ],
          "name": "stdout"
        }
      ]
    },
    {
      "cell_type": "code",
      "metadata": {
        "colab": {
          "base_uri": "https://localhost:8080/"
        },
        "id": "0dc1VqEOwhwv",
        "outputId": "f84b1757-2060-4f84-af6c-42ae61ff4357"
      },
      "source": [
        "import cvxpy as cp\n",
        "import numpy as np\n",
        "\n",
        "# Generate a random feasible SOCP.\n",
        "P = np.array([[0.0001], [0.00009], [0.00008], [0.0001], [0.00009], [0.00008],[0.0001]]).T\n",
        "\n",
        "ns = R7.shape[1]\n",
        "m17 = np.ones((n,1), dtype=np.int64)\n",
        "m17 = np.matrix(m17).T\n",
        "w0 = np.random.randn(n)\n",
        "\n",
        "\n",
        "# Define and solve the CVXPY problem.\n",
        "w = cp.Variable(ns)\n",
        "contraints = [\n",
        "      cp.SOC(w.T @ myu7 - rho, P * w), #first constrraint, SOC constraint\n",
        "      cp.sum(w) == 1,\n",
        "      \n",
        "]\n",
        "\n",
        "obj = cp.Minimize(cp.sum_squares(cp.reshape(rho*m17.T, (n,)) - R7*w) + tho*cp.sum(cp.abs(w)))\n",
        "\n",
        "prob = cp.Problem(obj,contraints)\n",
        "prob.solve()\n",
        "\n",
        "# Print result.\n",
        "print(\"The optimal value is\", prob.value)\n",
        "print(\"Solution for w is\")\n",
        "print(w.value)\n",
        "#print(\"SOC constraint dual variable solution\")\n",
        "#print(contraints[0].dual_value)"
      ],
      "execution_count": null,
      "outputs": [
        {
          "output_type": "stream",
          "text": [
            "The optimal value is 0.9612254671637505\n",
            "Solution for w is\n",
            "[1.69443043e-01 2.33058049e-01 1.11985935e-01 4.12944626e-09\n",
            " 2.73065962e-01 2.75147220e-02 1.84932285e-01]\n"
          ],
          "name": "stdout"
        }
      ]
    },
    {
      "cell_type": "code",
      "metadata": {
        "colab": {
          "base_uri": "https://localhost:8080/"
        },
        "id": "A10oW_P1wnUF",
        "outputId": "1534051f-5497-4ec3-9b95-2f9dbc53a53e"
      },
      "source": [
        "print(rho) #rho\n",
        "print(w.value.T@myu7 - np.linalg.norm(P*w.value)) \n",
        "print(w.value.T@myu7 - np.linalg.norm(P*w.value)>= rho) #value of first constraint\n",
        "(P*w.value)"
      ],
      "execution_count": null,
      "outputs": [
        {
          "output_type": "stream",
          "text": [
            "0.0002\n",
            "[[0.00257521]]\n",
            "[[ True]]\n"
          ],
          "name": "stdout"
        },
        {
          "output_type": "execute_result",
          "data": {
            "text/plain": [
              "array([[1.69443043e-05, 2.09752244e-05, 8.95887477e-06, 4.12944626e-13,\n",
              "        2.45759366e-05, 2.20117776e-06, 1.84932285e-05]])"
            ]
          },
          "metadata": {
            "tags": []
          },
          "execution_count": 220
        }
      ]
    },
    {
      "cell_type": "code",
      "metadata": {
        "colab": {
          "base_uri": "https://localhost:8080/",
          "height": 391
        },
        "id": "RMYviOdmwrPd",
        "outputId": "7f3b6219-0d76-4aa7-8b4b-32557b1022d3"
      },
      "source": [
        "df_pct_ret_test7=df_test7.drop(columns=['Date']).pct_change()\n",
        "df_pct_ret_test7=df_pct_ret_test7.dropna()\n",
        "df_pct_ret_test7"
      ],
      "execution_count": null,
      "outputs": [
        {
          "output_type": "execute_result",
          "data": {
            "text/html": [
              "<div>\n",
              "<style scoped>\n",
              "    .dataframe tbody tr th:only-of-type {\n",
              "        vertical-align: middle;\n",
              "    }\n",
              "\n",
              "    .dataframe tbody tr th {\n",
              "        vertical-align: top;\n",
              "    }\n",
              "\n",
              "    .dataframe thead th {\n",
              "        text-align: right;\n",
              "    }\n",
              "</style>\n",
              "<table border=\"1\" class=\"dataframe\">\n",
              "  <thead>\n",
              "    <tr style=\"text-align: right;\">\n",
              "      <th></th>\n",
              "      <th>antm</th>\n",
              "      <th>asii</th>\n",
              "      <th>bbri</th>\n",
              "      <th>cpin</th>\n",
              "      <th>ggrm</th>\n",
              "      <th>lppf</th>\n",
              "      <th>pgas</th>\n",
              "    </tr>\n",
              "  </thead>\n",
              "  <tbody>\n",
              "    <tr>\n",
              "      <th>367</th>\n",
              "      <td>0.040462</td>\n",
              "      <td>0.028391</td>\n",
              "      <td>0.010526</td>\n",
              "      <td>0.012539</td>\n",
              "      <td>0.002372</td>\n",
              "      <td>-0.022951</td>\n",
              "      <td>-0.003663</td>\n",
              "    </tr>\n",
              "    <tr>\n",
              "      <th>368</th>\n",
              "      <td>-0.100000</td>\n",
              "      <td>-0.009202</td>\n",
              "      <td>-0.020833</td>\n",
              "      <td>-0.009288</td>\n",
              "      <td>0.000000</td>\n",
              "      <td>0.013423</td>\n",
              "      <td>0.003676</td>\n",
              "    </tr>\n",
              "    <tr>\n",
              "      <th>369</th>\n",
              "      <td>0.037037</td>\n",
              "      <td>0.003096</td>\n",
              "      <td>0.019149</td>\n",
              "      <td>0.006250</td>\n",
              "      <td>-0.022082</td>\n",
              "      <td>-0.009934</td>\n",
              "      <td>0.051282</td>\n",
              "    </tr>\n",
              "    <tr>\n",
              "      <th>370</th>\n",
              "      <td>-0.047619</td>\n",
              "      <td>-0.003086</td>\n",
              "      <td>0.000000</td>\n",
              "      <td>0.021739</td>\n",
              "      <td>0.006452</td>\n",
              "      <td>0.025084</td>\n",
              "      <td>-0.020906</td>\n",
              "    </tr>\n",
              "    <tr>\n",
              "      <th>371</th>\n",
              "      <td>0.000000</td>\n",
              "      <td>0.003096</td>\n",
              "      <td>0.002088</td>\n",
              "      <td>0.063830</td>\n",
              "      <td>-0.022436</td>\n",
              "      <td>-0.034258</td>\n",
              "      <td>0.007117</td>\n",
              "    </tr>\n",
              "    <tr>\n",
              "      <th>...</th>\n",
              "      <td>...</td>\n",
              "      <td>...</td>\n",
              "      <td>...</td>\n",
              "      <td>...</td>\n",
              "      <td>...</td>\n",
              "      <td>...</td>\n",
              "      <td>...</td>\n",
              "    </tr>\n",
              "    <tr>\n",
              "      <th>518</th>\n",
              "      <td>0.037267</td>\n",
              "      <td>-0.022388</td>\n",
              "      <td>0.007109</td>\n",
              "      <td>-0.054348</td>\n",
              "      <td>-0.019849</td>\n",
              "      <td>-0.008021</td>\n",
              "      <td>-0.040909</td>\n",
              "    </tr>\n",
              "    <tr>\n",
              "      <th>519</th>\n",
              "      <td>0.000000</td>\n",
              "      <td>0.045802</td>\n",
              "      <td>0.023529</td>\n",
              "      <td>0.034483</td>\n",
              "      <td>0.005304</td>\n",
              "      <td>0.070081</td>\n",
              "      <td>0.023697</td>\n",
              "    </tr>\n",
              "    <tr>\n",
              "      <th>520</th>\n",
              "      <td>0.005988</td>\n",
              "      <td>0.003650</td>\n",
              "      <td>0.013793</td>\n",
              "      <td>0.025926</td>\n",
              "      <td>0.024460</td>\n",
              "      <td>0.060453</td>\n",
              "      <td>0.013889</td>\n",
              "    </tr>\n",
              "    <tr>\n",
              "      <th>521</th>\n",
              "      <td>0.000000</td>\n",
              "      <td>0.000000</td>\n",
              "      <td>0.000000</td>\n",
              "      <td>-0.050542</td>\n",
              "      <td>-0.000936</td>\n",
              "      <td>-0.021378</td>\n",
              "      <td>-0.022831</td>\n",
              "    </tr>\n",
              "    <tr>\n",
              "      <th>522</th>\n",
              "      <td>0.011905</td>\n",
              "      <td>0.010909</td>\n",
              "      <td>0.002268</td>\n",
              "      <td>0.049430</td>\n",
              "      <td>0.014058</td>\n",
              "      <td>-0.019417</td>\n",
              "      <td>0.009346</td>\n",
              "    </tr>\n",
              "  </tbody>\n",
              "</table>\n",
              "<p>156 rows × 7 columns</p>\n",
              "</div>"
            ],
            "text/plain": [
              "         antm      asii      bbri      cpin      ggrm      lppf      pgas\n",
              "367  0.040462  0.028391  0.010526  0.012539  0.002372 -0.022951 -0.003663\n",
              "368 -0.100000 -0.009202 -0.020833 -0.009288  0.000000  0.013423  0.003676\n",
              "369  0.037037  0.003096  0.019149  0.006250 -0.022082 -0.009934  0.051282\n",
              "370 -0.047619 -0.003086  0.000000  0.021739  0.006452  0.025084 -0.020906\n",
              "371  0.000000  0.003096  0.002088  0.063830 -0.022436 -0.034258  0.007117\n",
              "..        ...       ...       ...       ...       ...       ...       ...\n",
              "518  0.037267 -0.022388  0.007109 -0.054348 -0.019849 -0.008021 -0.040909\n",
              "519  0.000000  0.045802  0.023529  0.034483  0.005304  0.070081  0.023697\n",
              "520  0.005988  0.003650  0.013793  0.025926  0.024460  0.060453  0.013889\n",
              "521  0.000000  0.000000  0.000000 -0.050542 -0.000936 -0.021378 -0.022831\n",
              "522  0.011905  0.010909  0.002268  0.049430  0.014058 -0.019417  0.009346\n",
              "\n",
              "[156 rows x 7 columns]"
            ]
          },
          "metadata": {
            "tags": []
          },
          "execution_count": 221
        }
      ]
    },
    {
      "cell_type": "code",
      "metadata": {
        "colab": {
          "base_uri": "https://localhost:8080/",
          "height": 391
        },
        "id": "8waSJXD9wvDg",
        "outputId": "dfc87d00-79ef-4edb-e703-1a752e9fa6ec"
      },
      "source": [
        "df_pct_ret_test7=df_test7.drop(columns=['Date']).pct_change()\n",
        "df_pct_ret_test7=df_pct_ret_test7.dropna()\n",
        "df_pct_ret_test7"
      ],
      "execution_count": null,
      "outputs": [
        {
          "output_type": "execute_result",
          "data": {
            "text/html": [
              "<div>\n",
              "<style scoped>\n",
              "    .dataframe tbody tr th:only-of-type {\n",
              "        vertical-align: middle;\n",
              "    }\n",
              "\n",
              "    .dataframe tbody tr th {\n",
              "        vertical-align: top;\n",
              "    }\n",
              "\n",
              "    .dataframe thead th {\n",
              "        text-align: right;\n",
              "    }\n",
              "</style>\n",
              "<table border=\"1\" class=\"dataframe\">\n",
              "  <thead>\n",
              "    <tr style=\"text-align: right;\">\n",
              "      <th></th>\n",
              "      <th>antm</th>\n",
              "      <th>asii</th>\n",
              "      <th>bbri</th>\n",
              "      <th>cpin</th>\n",
              "      <th>ggrm</th>\n",
              "      <th>lppf</th>\n",
              "      <th>pgas</th>\n",
              "    </tr>\n",
              "  </thead>\n",
              "  <tbody>\n",
              "    <tr>\n",
              "      <th>367</th>\n",
              "      <td>0.040462</td>\n",
              "      <td>0.028391</td>\n",
              "      <td>0.010526</td>\n",
              "      <td>0.012539</td>\n",
              "      <td>0.002372</td>\n",
              "      <td>-0.022951</td>\n",
              "      <td>-0.003663</td>\n",
              "    </tr>\n",
              "    <tr>\n",
              "      <th>368</th>\n",
              "      <td>-0.100000</td>\n",
              "      <td>-0.009202</td>\n",
              "      <td>-0.020833</td>\n",
              "      <td>-0.009288</td>\n",
              "      <td>0.000000</td>\n",
              "      <td>0.013423</td>\n",
              "      <td>0.003676</td>\n",
              "    </tr>\n",
              "    <tr>\n",
              "      <th>369</th>\n",
              "      <td>0.037037</td>\n",
              "      <td>0.003096</td>\n",
              "      <td>0.019149</td>\n",
              "      <td>0.006250</td>\n",
              "      <td>-0.022082</td>\n",
              "      <td>-0.009934</td>\n",
              "      <td>0.051282</td>\n",
              "    </tr>\n",
              "    <tr>\n",
              "      <th>370</th>\n",
              "      <td>-0.047619</td>\n",
              "      <td>-0.003086</td>\n",
              "      <td>0.000000</td>\n",
              "      <td>0.021739</td>\n",
              "      <td>0.006452</td>\n",
              "      <td>0.025084</td>\n",
              "      <td>-0.020906</td>\n",
              "    </tr>\n",
              "    <tr>\n",
              "      <th>371</th>\n",
              "      <td>0.000000</td>\n",
              "      <td>0.003096</td>\n",
              "      <td>0.002088</td>\n",
              "      <td>0.063830</td>\n",
              "      <td>-0.022436</td>\n",
              "      <td>-0.034258</td>\n",
              "      <td>0.007117</td>\n",
              "    </tr>\n",
              "    <tr>\n",
              "      <th>...</th>\n",
              "      <td>...</td>\n",
              "      <td>...</td>\n",
              "      <td>...</td>\n",
              "      <td>...</td>\n",
              "      <td>...</td>\n",
              "      <td>...</td>\n",
              "      <td>...</td>\n",
              "    </tr>\n",
              "    <tr>\n",
              "      <th>518</th>\n",
              "      <td>0.037267</td>\n",
              "      <td>-0.022388</td>\n",
              "      <td>0.007109</td>\n",
              "      <td>-0.054348</td>\n",
              "      <td>-0.019849</td>\n",
              "      <td>-0.008021</td>\n",
              "      <td>-0.040909</td>\n",
              "    </tr>\n",
              "    <tr>\n",
              "      <th>519</th>\n",
              "      <td>0.000000</td>\n",
              "      <td>0.045802</td>\n",
              "      <td>0.023529</td>\n",
              "      <td>0.034483</td>\n",
              "      <td>0.005304</td>\n",
              "      <td>0.070081</td>\n",
              "      <td>0.023697</td>\n",
              "    </tr>\n",
              "    <tr>\n",
              "      <th>520</th>\n",
              "      <td>0.005988</td>\n",
              "      <td>0.003650</td>\n",
              "      <td>0.013793</td>\n",
              "      <td>0.025926</td>\n",
              "      <td>0.024460</td>\n",
              "      <td>0.060453</td>\n",
              "      <td>0.013889</td>\n",
              "    </tr>\n",
              "    <tr>\n",
              "      <th>521</th>\n",
              "      <td>0.000000</td>\n",
              "      <td>0.000000</td>\n",
              "      <td>0.000000</td>\n",
              "      <td>-0.050542</td>\n",
              "      <td>-0.000936</td>\n",
              "      <td>-0.021378</td>\n",
              "      <td>-0.022831</td>\n",
              "    </tr>\n",
              "    <tr>\n",
              "      <th>522</th>\n",
              "      <td>0.011905</td>\n",
              "      <td>0.010909</td>\n",
              "      <td>0.002268</td>\n",
              "      <td>0.049430</td>\n",
              "      <td>0.014058</td>\n",
              "      <td>-0.019417</td>\n",
              "      <td>0.009346</td>\n",
              "    </tr>\n",
              "  </tbody>\n",
              "</table>\n",
              "<p>156 rows × 7 columns</p>\n",
              "</div>"
            ],
            "text/plain": [
              "         antm      asii      bbri      cpin      ggrm      lppf      pgas\n",
              "367  0.040462  0.028391  0.010526  0.012539  0.002372 -0.022951 -0.003663\n",
              "368 -0.100000 -0.009202 -0.020833 -0.009288  0.000000  0.013423  0.003676\n",
              "369  0.037037  0.003096  0.019149  0.006250 -0.022082 -0.009934  0.051282\n",
              "370 -0.047619 -0.003086  0.000000  0.021739  0.006452  0.025084 -0.020906\n",
              "371  0.000000  0.003096  0.002088  0.063830 -0.022436 -0.034258  0.007117\n",
              "..        ...       ...       ...       ...       ...       ...       ...\n",
              "518  0.037267 -0.022388  0.007109 -0.054348 -0.019849 -0.008021 -0.040909\n",
              "519  0.000000  0.045802  0.023529  0.034483  0.005304  0.070081  0.023697\n",
              "520  0.005988  0.003650  0.013793  0.025926  0.024460  0.060453  0.013889\n",
              "521  0.000000  0.000000  0.000000 -0.050542 -0.000936 -0.021378 -0.022831\n",
              "522  0.011905  0.010909  0.002268  0.049430  0.014058 -0.019417  0.009346\n",
              "\n",
              "[156 rows x 7 columns]"
            ]
          },
          "metadata": {
            "tags": []
          },
          "execution_count": 222
        }
      ]
    },
    {
      "cell_type": "code",
      "metadata": {
        "colab": {
          "base_uri": "https://localhost:8080/"
        },
        "id": "GBl8h5Y7zgy4",
        "outputId": "2e61464b-0179-4979-f4a3-45116e4a6a17"
      },
      "source": [
        "emitens7"
      ],
      "execution_count": null,
      "outputs": [
        {
          "output_type": "execute_result",
          "data": {
            "text/plain": [
              "['antm', 'asii', 'bbri', 'cpin', 'ggrm', 'lppf', 'pgas']"
            ]
          },
          "metadata": {
            "tags": []
          },
          "execution_count": 223
        }
      ]
    },
    {
      "cell_type": "code",
      "metadata": {
        "colab": {
          "base_uri": "https://localhost:8080/",
          "height": 391
        },
        "id": "RmzIHki7zpKR",
        "outputId": "9e775c7b-be58-4446-e8ae-14da6525de8b"
      },
      "source": [
        "df_pct_weekly_return7 = pd.DataFrame()\n",
        "i=0\n",
        "for emiten in emitens7:\n",
        "  df_pct_weekly_return7[emiten]=w.value[i]*df_pct_ret_test7[emiten]\n",
        "  i+=1\n",
        "\n",
        "df_pct_weekly_return7"
      ],
      "execution_count": null,
      "outputs": [
        {
          "output_type": "execute_result",
          "data": {
            "text/html": [
              "<div>\n",
              "<style scoped>\n",
              "    .dataframe tbody tr th:only-of-type {\n",
              "        vertical-align: middle;\n",
              "    }\n",
              "\n",
              "    .dataframe tbody tr th {\n",
              "        vertical-align: top;\n",
              "    }\n",
              "\n",
              "    .dataframe thead th {\n",
              "        text-align: right;\n",
              "    }\n",
              "</style>\n",
              "<table border=\"1\" class=\"dataframe\">\n",
              "  <thead>\n",
              "    <tr style=\"text-align: right;\">\n",
              "      <th></th>\n",
              "      <th>antm</th>\n",
              "      <th>asii</th>\n",
              "      <th>bbri</th>\n",
              "      <th>cpin</th>\n",
              "      <th>ggrm</th>\n",
              "      <th>lppf</th>\n",
              "      <th>pgas</th>\n",
              "    </tr>\n",
              "  </thead>\n",
              "  <tbody>\n",
              "    <tr>\n",
              "      <th>367</th>\n",
              "      <td>0.006856</td>\n",
              "      <td>0.006617</td>\n",
              "      <td>0.001179</td>\n",
              "      <td>5.177989e-11</td>\n",
              "      <td>0.000648</td>\n",
              "      <td>-0.000631</td>\n",
              "      <td>-0.000677</td>\n",
              "    </tr>\n",
              "    <tr>\n",
              "      <th>368</th>\n",
              "      <td>-0.016944</td>\n",
              "      <td>-0.002145</td>\n",
              "      <td>-0.002333</td>\n",
              "      <td>-3.835399e-11</td>\n",
              "      <td>0.000000</td>\n",
              "      <td>0.000369</td>\n",
              "      <td>0.000680</td>\n",
              "    </tr>\n",
              "    <tr>\n",
              "      <th>369</th>\n",
              "      <td>0.006276</td>\n",
              "      <td>0.000722</td>\n",
              "      <td>0.002144</td>\n",
              "      <td>2.580904e-11</td>\n",
              "      <td>-0.006030</td>\n",
              "      <td>-0.000273</td>\n",
              "      <td>0.009484</td>\n",
              "    </tr>\n",
              "    <tr>\n",
              "      <th>370</th>\n",
              "      <td>-0.008069</td>\n",
              "      <td>-0.000719</td>\n",
              "      <td>0.000000</td>\n",
              "      <td>8.977057e-11</td>\n",
              "      <td>0.001762</td>\n",
              "      <td>0.000690</td>\n",
              "      <td>-0.003866</td>\n",
              "    </tr>\n",
              "    <tr>\n",
              "      <th>371</th>\n",
              "      <td>0.000000</td>\n",
              "      <td>0.000722</td>\n",
              "      <td>0.000234</td>\n",
              "      <td>2.635817e-10</td>\n",
              "      <td>-0.006126</td>\n",
              "      <td>-0.000943</td>\n",
              "      <td>0.001316</td>\n",
              "    </tr>\n",
              "    <tr>\n",
              "      <th>...</th>\n",
              "      <td>...</td>\n",
              "      <td>...</td>\n",
              "      <td>...</td>\n",
              "      <td>...</td>\n",
              "      <td>...</td>\n",
              "      <td>...</td>\n",
              "      <td>...</td>\n",
              "    </tr>\n",
              "    <tr>\n",
              "      <th>518</th>\n",
              "      <td>0.006315</td>\n",
              "      <td>-0.005218</td>\n",
              "      <td>0.000796</td>\n",
              "      <td>-2.244264e-10</td>\n",
              "      <td>-0.005420</td>\n",
              "      <td>-0.000221</td>\n",
              "      <td>-0.007565</td>\n",
              "    </tr>\n",
              "    <tr>\n",
              "      <th>519</th>\n",
              "      <td>0.000000</td>\n",
              "      <td>0.010674</td>\n",
              "      <td>0.002635</td>\n",
              "      <td>1.423947e-10</td>\n",
              "      <td>0.001448</td>\n",
              "      <td>0.001928</td>\n",
              "      <td>0.004382</td>\n",
              "    </tr>\n",
              "    <tr>\n",
              "      <th>520</th>\n",
              "      <td>0.001015</td>\n",
              "      <td>0.000851</td>\n",
              "      <td>0.001545</td>\n",
              "      <td>1.070597e-10</td>\n",
              "      <td>0.006679</td>\n",
              "      <td>0.001663</td>\n",
              "      <td>0.002569</td>\n",
              "    </tr>\n",
              "    <tr>\n",
              "      <th>521</th>\n",
              "      <td>0.000000</td>\n",
              "      <td>0.000000</td>\n",
              "      <td>0.000000</td>\n",
              "      <td>-2.087085e-10</td>\n",
              "      <td>-0.000256</td>\n",
              "      <td>-0.000588</td>\n",
              "      <td>-0.004222</td>\n",
              "    </tr>\n",
              "    <tr>\n",
              "      <th>522</th>\n",
              "      <td>0.002017</td>\n",
              "      <td>0.002542</td>\n",
              "      <td>0.000254</td>\n",
              "      <td>2.041171e-10</td>\n",
              "      <td>0.003839</td>\n",
              "      <td>-0.000534</td>\n",
              "      <td>0.001728</td>\n",
              "    </tr>\n",
              "  </tbody>\n",
              "</table>\n",
              "<p>156 rows × 7 columns</p>\n",
              "</div>"
            ],
            "text/plain": [
              "         antm      asii      bbri          cpin      ggrm      lppf      pgas\n",
              "367  0.006856  0.006617  0.001179  5.177989e-11  0.000648 -0.000631 -0.000677\n",
              "368 -0.016944 -0.002145 -0.002333 -3.835399e-11  0.000000  0.000369  0.000680\n",
              "369  0.006276  0.000722  0.002144  2.580904e-11 -0.006030 -0.000273  0.009484\n",
              "370 -0.008069 -0.000719  0.000000  8.977057e-11  0.001762  0.000690 -0.003866\n",
              "371  0.000000  0.000722  0.000234  2.635817e-10 -0.006126 -0.000943  0.001316\n",
              "..        ...       ...       ...           ...       ...       ...       ...\n",
              "518  0.006315 -0.005218  0.000796 -2.244264e-10 -0.005420 -0.000221 -0.007565\n",
              "519  0.000000  0.010674  0.002635  1.423947e-10  0.001448  0.001928  0.004382\n",
              "520  0.001015  0.000851  0.001545  1.070597e-10  0.006679  0.001663  0.002569\n",
              "521  0.000000  0.000000  0.000000 -2.087085e-10 -0.000256 -0.000588 -0.004222\n",
              "522  0.002017  0.002542  0.000254  2.041171e-10  0.003839 -0.000534  0.001728\n",
              "\n",
              "[156 rows x 7 columns]"
            ]
          },
          "metadata": {
            "tags": []
          },
          "execution_count": 224
        }
      ]
    },
    {
      "cell_type": "code",
      "metadata": {
        "colab": {
          "base_uri": "https://localhost:8080/",
          "height": 391
        },
        "id": "pVlb3Omczznz",
        "outputId": "f09fa516-9bb6-46f6-ec5b-787a8e28a631"
      },
      "source": [
        "price_data7 = df_test7.drop(columns=['Date'])\n",
        "price_data7"
      ],
      "execution_count": null,
      "outputs": [
        {
          "output_type": "execute_result",
          "data": {
            "text/html": [
              "<div>\n",
              "<style scoped>\n",
              "    .dataframe tbody tr th:only-of-type {\n",
              "        vertical-align: middle;\n",
              "    }\n",
              "\n",
              "    .dataframe tbody tr th {\n",
              "        vertical-align: top;\n",
              "    }\n",
              "\n",
              "    .dataframe thead th {\n",
              "        text-align: right;\n",
              "    }\n",
              "</style>\n",
              "<table border=\"1\" class=\"dataframe\">\n",
              "  <thead>\n",
              "    <tr style=\"text-align: right;\">\n",
              "      <th></th>\n",
              "      <th>antm</th>\n",
              "      <th>asii</th>\n",
              "      <th>bbri</th>\n",
              "      <th>cpin</th>\n",
              "      <th>ggrm</th>\n",
              "      <th>lppf</th>\n",
              "      <th>pgas</th>\n",
              "    </tr>\n",
              "  </thead>\n",
              "  <tbody>\n",
              "    <tr>\n",
              "      <th>366</th>\n",
              "      <td>865.0</td>\n",
              "      <td>7925.0</td>\n",
              "      <td>2375.0</td>\n",
              "      <td>3190.0</td>\n",
              "      <td>63250.0</td>\n",
              "      <td>15250.0</td>\n",
              "      <td>2730.0</td>\n",
              "    </tr>\n",
              "    <tr>\n",
              "      <th>367</th>\n",
              "      <td>900.0</td>\n",
              "      <td>8150.0</td>\n",
              "      <td>2400.0</td>\n",
              "      <td>3230.0</td>\n",
              "      <td>63400.0</td>\n",
              "      <td>14900.0</td>\n",
              "      <td>2720.0</td>\n",
              "    </tr>\n",
              "    <tr>\n",
              "      <th>368</th>\n",
              "      <td>810.0</td>\n",
              "      <td>8075.0</td>\n",
              "      <td>2350.0</td>\n",
              "      <td>3200.0</td>\n",
              "      <td>63400.0</td>\n",
              "      <td>15100.0</td>\n",
              "      <td>2730.0</td>\n",
              "    </tr>\n",
              "    <tr>\n",
              "      <th>369</th>\n",
              "      <td>840.0</td>\n",
              "      <td>8100.0</td>\n",
              "      <td>2395.0</td>\n",
              "      <td>3220.0</td>\n",
              "      <td>62000.0</td>\n",
              "      <td>14950.0</td>\n",
              "      <td>2870.0</td>\n",
              "    </tr>\n",
              "    <tr>\n",
              "      <th>370</th>\n",
              "      <td>800.0</td>\n",
              "      <td>8075.0</td>\n",
              "      <td>2395.0</td>\n",
              "      <td>3290.0</td>\n",
              "      <td>62400.0</td>\n",
              "      <td>15325.0</td>\n",
              "      <td>2810.0</td>\n",
              "    </tr>\n",
              "    <tr>\n",
              "      <th>...</th>\n",
              "      <td>...</td>\n",
              "      <td>...</td>\n",
              "      <td>...</td>\n",
              "      <td>...</td>\n",
              "      <td>...</td>\n",
              "      <td>...</td>\n",
              "      <td>...</td>\n",
              "    </tr>\n",
              "    <tr>\n",
              "      <th>518</th>\n",
              "      <td>835.0</td>\n",
              "      <td>6550.0</td>\n",
              "      <td>4250.0</td>\n",
              "      <td>6525.0</td>\n",
              "      <td>51850.0</td>\n",
              "      <td>3710.0</td>\n",
              "      <td>2110.0</td>\n",
              "    </tr>\n",
              "    <tr>\n",
              "      <th>519</th>\n",
              "      <td>835.0</td>\n",
              "      <td>6850.0</td>\n",
              "      <td>4350.0</td>\n",
              "      <td>6750.0</td>\n",
              "      <td>52125.0</td>\n",
              "      <td>3970.0</td>\n",
              "      <td>2160.0</td>\n",
              "    </tr>\n",
              "    <tr>\n",
              "      <th>520</th>\n",
              "      <td>840.0</td>\n",
              "      <td>6875.0</td>\n",
              "      <td>4410.0</td>\n",
              "      <td>6925.0</td>\n",
              "      <td>53400.0</td>\n",
              "      <td>4210.0</td>\n",
              "      <td>2190.0</td>\n",
              "    </tr>\n",
              "    <tr>\n",
              "      <th>521</th>\n",
              "      <td>840.0</td>\n",
              "      <td>6875.0</td>\n",
              "      <td>4410.0</td>\n",
              "      <td>6575.0</td>\n",
              "      <td>53350.0</td>\n",
              "      <td>4120.0</td>\n",
              "      <td>2140.0</td>\n",
              "    </tr>\n",
              "    <tr>\n",
              "      <th>522</th>\n",
              "      <td>850.0</td>\n",
              "      <td>6950.0</td>\n",
              "      <td>4420.0</td>\n",
              "      <td>6900.0</td>\n",
              "      <td>54100.0</td>\n",
              "      <td>4040.0</td>\n",
              "      <td>2160.0</td>\n",
              "    </tr>\n",
              "  </tbody>\n",
              "</table>\n",
              "<p>157 rows × 7 columns</p>\n",
              "</div>"
            ],
            "text/plain": [
              "      antm    asii    bbri    cpin     ggrm     lppf    pgas\n",
              "366  865.0  7925.0  2375.0  3190.0  63250.0  15250.0  2730.0\n",
              "367  900.0  8150.0  2400.0  3230.0  63400.0  14900.0  2720.0\n",
              "368  810.0  8075.0  2350.0  3200.0  63400.0  15100.0  2730.0\n",
              "369  840.0  8100.0  2395.0  3220.0  62000.0  14950.0  2870.0\n",
              "370  800.0  8075.0  2395.0  3290.0  62400.0  15325.0  2810.0\n",
              "..     ...     ...     ...     ...      ...      ...     ...\n",
              "518  835.0  6550.0  4250.0  6525.0  51850.0   3710.0  2110.0\n",
              "519  835.0  6850.0  4350.0  6750.0  52125.0   3970.0  2160.0\n",
              "520  840.0  6875.0  4410.0  6925.0  53400.0   4210.0  2190.0\n",
              "521  840.0  6875.0  4410.0  6575.0  53350.0   4120.0  2140.0\n",
              "522  850.0  6950.0  4420.0  6900.0  54100.0   4040.0  2160.0\n",
              "\n",
              "[157 rows x 7 columns]"
            ]
          },
          "metadata": {
            "tags": []
          },
          "execution_count": 225
        }
      ]
    },
    {
      "cell_type": "code",
      "metadata": {
        "colab": {
          "base_uri": "https://localhost:8080/",
          "height": 391
        },
        "id": "w52tNqUQ0ATq",
        "outputId": "529e84d6-c44f-4e25-9243-67e33e97eb0d"
      },
      "source": [
        "ret_data7 = price_data7.pct_change()[1:]\n",
        "ret_data7"
      ],
      "execution_count": null,
      "outputs": [
        {
          "output_type": "execute_result",
          "data": {
            "text/html": [
              "<div>\n",
              "<style scoped>\n",
              "    .dataframe tbody tr th:only-of-type {\n",
              "        vertical-align: middle;\n",
              "    }\n",
              "\n",
              "    .dataframe tbody tr th {\n",
              "        vertical-align: top;\n",
              "    }\n",
              "\n",
              "    .dataframe thead th {\n",
              "        text-align: right;\n",
              "    }\n",
              "</style>\n",
              "<table border=\"1\" class=\"dataframe\">\n",
              "  <thead>\n",
              "    <tr style=\"text-align: right;\">\n",
              "      <th></th>\n",
              "      <th>antm</th>\n",
              "      <th>asii</th>\n",
              "      <th>bbri</th>\n",
              "      <th>cpin</th>\n",
              "      <th>ggrm</th>\n",
              "      <th>lppf</th>\n",
              "      <th>pgas</th>\n",
              "    </tr>\n",
              "  </thead>\n",
              "  <tbody>\n",
              "    <tr>\n",
              "      <th>367</th>\n",
              "      <td>0.040462</td>\n",
              "      <td>0.028391</td>\n",
              "      <td>0.010526</td>\n",
              "      <td>0.012539</td>\n",
              "      <td>0.002372</td>\n",
              "      <td>-0.022951</td>\n",
              "      <td>-0.003663</td>\n",
              "    </tr>\n",
              "    <tr>\n",
              "      <th>368</th>\n",
              "      <td>-0.100000</td>\n",
              "      <td>-0.009202</td>\n",
              "      <td>-0.020833</td>\n",
              "      <td>-0.009288</td>\n",
              "      <td>0.000000</td>\n",
              "      <td>0.013423</td>\n",
              "      <td>0.003676</td>\n",
              "    </tr>\n",
              "    <tr>\n",
              "      <th>369</th>\n",
              "      <td>0.037037</td>\n",
              "      <td>0.003096</td>\n",
              "      <td>0.019149</td>\n",
              "      <td>0.006250</td>\n",
              "      <td>-0.022082</td>\n",
              "      <td>-0.009934</td>\n",
              "      <td>0.051282</td>\n",
              "    </tr>\n",
              "    <tr>\n",
              "      <th>370</th>\n",
              "      <td>-0.047619</td>\n",
              "      <td>-0.003086</td>\n",
              "      <td>0.000000</td>\n",
              "      <td>0.021739</td>\n",
              "      <td>0.006452</td>\n",
              "      <td>0.025084</td>\n",
              "      <td>-0.020906</td>\n",
              "    </tr>\n",
              "    <tr>\n",
              "      <th>371</th>\n",
              "      <td>0.000000</td>\n",
              "      <td>0.003096</td>\n",
              "      <td>0.002088</td>\n",
              "      <td>0.063830</td>\n",
              "      <td>-0.022436</td>\n",
              "      <td>-0.034258</td>\n",
              "      <td>0.007117</td>\n",
              "    </tr>\n",
              "    <tr>\n",
              "      <th>...</th>\n",
              "      <td>...</td>\n",
              "      <td>...</td>\n",
              "      <td>...</td>\n",
              "      <td>...</td>\n",
              "      <td>...</td>\n",
              "      <td>...</td>\n",
              "      <td>...</td>\n",
              "    </tr>\n",
              "    <tr>\n",
              "      <th>518</th>\n",
              "      <td>0.037267</td>\n",
              "      <td>-0.022388</td>\n",
              "      <td>0.007109</td>\n",
              "      <td>-0.054348</td>\n",
              "      <td>-0.019849</td>\n",
              "      <td>-0.008021</td>\n",
              "      <td>-0.040909</td>\n",
              "    </tr>\n",
              "    <tr>\n",
              "      <th>519</th>\n",
              "      <td>0.000000</td>\n",
              "      <td>0.045802</td>\n",
              "      <td>0.023529</td>\n",
              "      <td>0.034483</td>\n",
              "      <td>0.005304</td>\n",
              "      <td>0.070081</td>\n",
              "      <td>0.023697</td>\n",
              "    </tr>\n",
              "    <tr>\n",
              "      <th>520</th>\n",
              "      <td>0.005988</td>\n",
              "      <td>0.003650</td>\n",
              "      <td>0.013793</td>\n",
              "      <td>0.025926</td>\n",
              "      <td>0.024460</td>\n",
              "      <td>0.060453</td>\n",
              "      <td>0.013889</td>\n",
              "    </tr>\n",
              "    <tr>\n",
              "      <th>521</th>\n",
              "      <td>0.000000</td>\n",
              "      <td>0.000000</td>\n",
              "      <td>0.000000</td>\n",
              "      <td>-0.050542</td>\n",
              "      <td>-0.000936</td>\n",
              "      <td>-0.021378</td>\n",
              "      <td>-0.022831</td>\n",
              "    </tr>\n",
              "    <tr>\n",
              "      <th>522</th>\n",
              "      <td>0.011905</td>\n",
              "      <td>0.010909</td>\n",
              "      <td>0.002268</td>\n",
              "      <td>0.049430</td>\n",
              "      <td>0.014058</td>\n",
              "      <td>-0.019417</td>\n",
              "      <td>0.009346</td>\n",
              "    </tr>\n",
              "  </tbody>\n",
              "</table>\n",
              "<p>156 rows × 7 columns</p>\n",
              "</div>"
            ],
            "text/plain": [
              "         antm      asii      bbri      cpin      ggrm      lppf      pgas\n",
              "367  0.040462  0.028391  0.010526  0.012539  0.002372 -0.022951 -0.003663\n",
              "368 -0.100000 -0.009202 -0.020833 -0.009288  0.000000  0.013423  0.003676\n",
              "369  0.037037  0.003096  0.019149  0.006250 -0.022082 -0.009934  0.051282\n",
              "370 -0.047619 -0.003086  0.000000  0.021739  0.006452  0.025084 -0.020906\n",
              "371  0.000000  0.003096  0.002088  0.063830 -0.022436 -0.034258  0.007117\n",
              "..        ...       ...       ...       ...       ...       ...       ...\n",
              "518  0.037267 -0.022388  0.007109 -0.054348 -0.019849 -0.008021 -0.040909\n",
              "519  0.000000  0.045802  0.023529  0.034483  0.005304  0.070081  0.023697\n",
              "520  0.005988  0.003650  0.013793  0.025926  0.024460  0.060453  0.013889\n",
              "521  0.000000  0.000000  0.000000 -0.050542 -0.000936 -0.021378 -0.022831\n",
              "522  0.011905  0.010909  0.002268  0.049430  0.014058 -0.019417  0.009346\n",
              "\n",
              "[156 rows x 7 columns]"
            ]
          },
          "metadata": {
            "tags": []
          },
          "execution_count": 226
        }
      ]
    },
    {
      "cell_type": "code",
      "metadata": {
        "colab": {
          "base_uri": "https://localhost:8080/",
          "height": 391
        },
        "id": "jQFmnsfA0EZk",
        "outputId": "5727de66-e5da-47d8-ec43-6056d95ebba0"
      },
      "source": [
        "weighted_returns7 = (w.value.reshape(7) * ret_data7)\n",
        "weighted_returns7"
      ],
      "execution_count": null,
      "outputs": [
        {
          "output_type": "execute_result",
          "data": {
            "text/html": [
              "<div>\n",
              "<style scoped>\n",
              "    .dataframe tbody tr th:only-of-type {\n",
              "        vertical-align: middle;\n",
              "    }\n",
              "\n",
              "    .dataframe tbody tr th {\n",
              "        vertical-align: top;\n",
              "    }\n",
              "\n",
              "    .dataframe thead th {\n",
              "        text-align: right;\n",
              "    }\n",
              "</style>\n",
              "<table border=\"1\" class=\"dataframe\">\n",
              "  <thead>\n",
              "    <tr style=\"text-align: right;\">\n",
              "      <th></th>\n",
              "      <th>antm</th>\n",
              "      <th>asii</th>\n",
              "      <th>bbri</th>\n",
              "      <th>cpin</th>\n",
              "      <th>ggrm</th>\n",
              "      <th>lppf</th>\n",
              "      <th>pgas</th>\n",
              "    </tr>\n",
              "  </thead>\n",
              "  <tbody>\n",
              "    <tr>\n",
              "      <th>367</th>\n",
              "      <td>0.006856</td>\n",
              "      <td>0.006617</td>\n",
              "      <td>0.001179</td>\n",
              "      <td>5.177989e-11</td>\n",
              "      <td>0.000648</td>\n",
              "      <td>-0.000631</td>\n",
              "      <td>-0.000677</td>\n",
              "    </tr>\n",
              "    <tr>\n",
              "      <th>368</th>\n",
              "      <td>-0.016944</td>\n",
              "      <td>-0.002145</td>\n",
              "      <td>-0.002333</td>\n",
              "      <td>-3.835399e-11</td>\n",
              "      <td>0.000000</td>\n",
              "      <td>0.000369</td>\n",
              "      <td>0.000680</td>\n",
              "    </tr>\n",
              "    <tr>\n",
              "      <th>369</th>\n",
              "      <td>0.006276</td>\n",
              "      <td>0.000722</td>\n",
              "      <td>0.002144</td>\n",
              "      <td>2.580904e-11</td>\n",
              "      <td>-0.006030</td>\n",
              "      <td>-0.000273</td>\n",
              "      <td>0.009484</td>\n",
              "    </tr>\n",
              "    <tr>\n",
              "      <th>370</th>\n",
              "      <td>-0.008069</td>\n",
              "      <td>-0.000719</td>\n",
              "      <td>0.000000</td>\n",
              "      <td>8.977057e-11</td>\n",
              "      <td>0.001762</td>\n",
              "      <td>0.000690</td>\n",
              "      <td>-0.003866</td>\n",
              "    </tr>\n",
              "    <tr>\n",
              "      <th>371</th>\n",
              "      <td>0.000000</td>\n",
              "      <td>0.000722</td>\n",
              "      <td>0.000234</td>\n",
              "      <td>2.635817e-10</td>\n",
              "      <td>-0.006126</td>\n",
              "      <td>-0.000943</td>\n",
              "      <td>0.001316</td>\n",
              "    </tr>\n",
              "    <tr>\n",
              "      <th>...</th>\n",
              "      <td>...</td>\n",
              "      <td>...</td>\n",
              "      <td>...</td>\n",
              "      <td>...</td>\n",
              "      <td>...</td>\n",
              "      <td>...</td>\n",
              "      <td>...</td>\n",
              "    </tr>\n",
              "    <tr>\n",
              "      <th>518</th>\n",
              "      <td>0.006315</td>\n",
              "      <td>-0.005218</td>\n",
              "      <td>0.000796</td>\n",
              "      <td>-2.244264e-10</td>\n",
              "      <td>-0.005420</td>\n",
              "      <td>-0.000221</td>\n",
              "      <td>-0.007565</td>\n",
              "    </tr>\n",
              "    <tr>\n",
              "      <th>519</th>\n",
              "      <td>0.000000</td>\n",
              "      <td>0.010674</td>\n",
              "      <td>0.002635</td>\n",
              "      <td>1.423947e-10</td>\n",
              "      <td>0.001448</td>\n",
              "      <td>0.001928</td>\n",
              "      <td>0.004382</td>\n",
              "    </tr>\n",
              "    <tr>\n",
              "      <th>520</th>\n",
              "      <td>0.001015</td>\n",
              "      <td>0.000851</td>\n",
              "      <td>0.001545</td>\n",
              "      <td>1.070597e-10</td>\n",
              "      <td>0.006679</td>\n",
              "      <td>0.001663</td>\n",
              "      <td>0.002569</td>\n",
              "    </tr>\n",
              "    <tr>\n",
              "      <th>521</th>\n",
              "      <td>0.000000</td>\n",
              "      <td>0.000000</td>\n",
              "      <td>0.000000</td>\n",
              "      <td>-2.087085e-10</td>\n",
              "      <td>-0.000256</td>\n",
              "      <td>-0.000588</td>\n",
              "      <td>-0.004222</td>\n",
              "    </tr>\n",
              "    <tr>\n",
              "      <th>522</th>\n",
              "      <td>0.002017</td>\n",
              "      <td>0.002542</td>\n",
              "      <td>0.000254</td>\n",
              "      <td>2.041171e-10</td>\n",
              "      <td>0.003839</td>\n",
              "      <td>-0.000534</td>\n",
              "      <td>0.001728</td>\n",
              "    </tr>\n",
              "  </tbody>\n",
              "</table>\n",
              "<p>156 rows × 7 columns</p>\n",
              "</div>"
            ],
            "text/plain": [
              "         antm      asii      bbri          cpin      ggrm      lppf      pgas\n",
              "367  0.006856  0.006617  0.001179  5.177989e-11  0.000648 -0.000631 -0.000677\n",
              "368 -0.016944 -0.002145 -0.002333 -3.835399e-11  0.000000  0.000369  0.000680\n",
              "369  0.006276  0.000722  0.002144  2.580904e-11 -0.006030 -0.000273  0.009484\n",
              "370 -0.008069 -0.000719  0.000000  8.977057e-11  0.001762  0.000690 -0.003866\n",
              "371  0.000000  0.000722  0.000234  2.635817e-10 -0.006126 -0.000943  0.001316\n",
              "..        ...       ...       ...           ...       ...       ...       ...\n",
              "518  0.006315 -0.005218  0.000796 -2.244264e-10 -0.005420 -0.000221 -0.007565\n",
              "519  0.000000  0.010674  0.002635  1.423947e-10  0.001448  0.001928  0.004382\n",
              "520  0.001015  0.000851  0.001545  1.070597e-10  0.006679  0.001663  0.002569\n",
              "521  0.000000  0.000000  0.000000 -2.087085e-10 -0.000256 -0.000588 -0.004222\n",
              "522  0.002017  0.002542  0.000254  2.041171e-10  0.003839 -0.000534  0.001728\n",
              "\n",
              "[156 rows x 7 columns]"
            ]
          },
          "metadata": {
            "tags": []
          },
          "execution_count": 227
        }
      ]
    },
    {
      "cell_type": "code",
      "metadata": {
        "colab": {
          "base_uri": "https://localhost:8080/"
        },
        "id": "82tLU_NA0IJY",
        "outputId": "227d3e76-b6a0-47f1-f5d7-8ac45fa86c70"
      },
      "source": [
        "port_ret71 = weighted_returns7.sum(axis=1)\n",
        "port_ret71"
      ],
      "execution_count": null,
      "outputs": [
        {
          "output_type": "execute_result",
          "data": {
            "text/plain": [
              "367    0.013990\n",
              "368   -0.020373\n",
              "369    0.012322\n",
              "370   -0.010202\n",
              "371   -0.004797\n",
              "         ...   \n",
              "518   -0.011313\n",
              "519    0.021068\n",
              "520    0.014321\n",
              "521   -0.005066\n",
              "522    0.009846\n",
              "Length: 156, dtype: float64"
            ]
          },
          "metadata": {
            "tags": []
          },
          "execution_count": 228
        }
      ]
    },
    {
      "cell_type": "code",
      "metadata": {
        "id": "y6fzAFH70PXI"
      },
      "source": [
        "port_ret71.to_csv('port_ret71.csv')\n",
        "!cp port_ret71.csv \"/content/drive/My Drive/PYTHON/port_ret\""
      ],
      "execution_count": null,
      "outputs": []
    },
    {
      "cell_type": "code",
      "metadata": {
        "colab": {
          "base_uri": "https://localhost:8080/"
        },
        "id": "2Rm1x8LS0TTo",
        "outputId": "cf01928a-a6dc-410b-a963-48f240ebecbc"
      },
      "source": [
        "print('Max return:', max(port_ret71))\n",
        "print('Min return:', min(port_ret71))\n",
        "print('Average return:', np.mean(port_ret71))\n",
        "print('sharpe ratio :', np.mean(port_ret71)/np.std(port_ret71))\n",
        "\n",
        "\n",
        "print(np.mean(port_ret71) > rho)"
      ],
      "execution_count": null,
      "outputs": [
        {
          "output_type": "stream",
          "text": [
            "Max return: 0.08300568447413893\n",
            "Min return: -0.06843692781787718\n",
            "Average return: 0.0004609764539425368\n",
            "sharpe ratio : 0.016571244526730592\n",
            "True\n"
          ],
          "name": "stdout"
        }
      ]
    },
    {
      "cell_type": "code",
      "metadata": {
        "colab": {
          "base_uri": "https://localhost:8080/",
          "height": 307
        },
        "id": "OQUXfcO00Ynp",
        "outputId": "7e6b6691-c7d9-4b38-ae4f-8de5bf893dc5"
      },
      "source": [
        "import matplotlib.pyplot as plt\n",
        "\n",
        "fig = plt.figure()\n",
        "ax1 = fig.add_axes([0.1,0.1,0.8,0.8])\n",
        "ax1.hist(port_ret71, bins = 60)\n",
        "ax1.set_xlabel('Return Portofolio')\n",
        "ax1.set_ylabel(\"Jumlah\")\n",
        "ax1.set_title(\"Return Portofolio Ellipsoidal 7 emiten\")\n",
        "plt.show(); "
      ],
      "execution_count": null,
      "outputs": [
        {
          "output_type": "display_data",
          "data": {
            "image/png": "[encoded data removed]",
            "text/plain": [
              "<Figure size 432x288 with 1 Axes>"
            ]
          },
          "metadata": {
            "tags": [],
            "needs_background": "light"
          }
        }
      ]
    },
    {
      "cell_type": "markdown",
      "metadata": {
        "id": "zcY1r2Xa-DFv"
      },
      "source": [
        "####Sparse mean variance"
      ]
    },
    {
      "cell_type": "code",
      "metadata": {
        "colab": {
          "base_uri": "https://localhost:8080/"
        },
        "id": "g3gBjhkY-BRE",
        "outputId": "916ffcfe-9085-4388-ffef-f9b6154c8f63"
      },
      "source": [
        "ns = R7.shape[1]\n",
        "m17 = np.ones((n,1), dtype=np.int64)\n",
        "m17 = np.matrix(m17).T\n",
        "w0 = np.random.randn(n)\n",
        "\n",
        "\n",
        "# Define and solve the CVXPY problem.\n",
        "w = cp.Variable(ns)\n",
        "contraints = [\n",
        "      w.T*myu7 == rho, \n",
        "      cp.sum(w) == 1,\n",
        "      \n",
        "]\n",
        "\n",
        "obj = cp.Minimize(cp.sum_squares(cp.reshape(rho*m17.T, (n,)) - R7*w) + tho*cp.sum(cp.abs(w)))\n",
        "\n",
        "prob = cp.Problem(obj,contraints)\n",
        "prob.solve()\n",
        "\n",
        "print(\"The optimal value is\", prob.value)\n",
        "print(\"Solution for w is\")\n",
        "print(w.value)\n",
        "print(\"SOC constraint dual variable solution\")\n",
        "print(contraints[0].dual_value)"
      ],
      "execution_count": null,
      "outputs": [
        {
          "output_type": "stream",
          "text": [
            "The optimal value is 1.1293551649716658\n",
            "Solution for w is\n",
            "[ 4.50047308e-01  7.55860168e-02 -6.53504249e-22 -3.30424496e-21\n",
            "  5.57631921e-02 -6.76228845e-21  4.18603484e-01]\n",
            "SOC constraint dual variable solution\n",
            "[160.56546625]\n"
          ],
          "name": "stdout"
        }
      ]
    },
    {
      "cell_type": "code",
      "metadata": {
        "colab": {
          "base_uri": "https://localhost:8080/",
          "height": 391
        },
        "id": "vUGLb8UECeWR",
        "outputId": "5dfae012-92c9-407e-9cd6-77b01fdf6515"
      },
      "source": [
        "df_pct_ret_test7=df_test7.drop(columns=['Date']).pct_change()\n",
        "df_pct_ret_test7=df_pct_ret_test7.dropna()\n",
        "df_pct_ret_test7"
      ],
      "execution_count": null,
      "outputs": [
        {
          "output_type": "execute_result",
          "data": {
            "text/html": [
              "<div>\n",
              "<style scoped>\n",
              "    .dataframe tbody tr th:only-of-type {\n",
              "        vertical-align: middle;\n",
              "    }\n",
              "\n",
              "    .dataframe tbody tr th {\n",
              "        vertical-align: top;\n",
              "    }\n",
              "\n",
              "    .dataframe thead th {\n",
              "        text-align: right;\n",
              "    }\n",
              "</style>\n",
              "<table border=\"1\" class=\"dataframe\">\n",
              "  <thead>\n",
              "    <tr style=\"text-align: right;\">\n",
              "      <th></th>\n",
              "      <th>antm</th>\n",
              "      <th>asii</th>\n",
              "      <th>bbri</th>\n",
              "      <th>cpin</th>\n",
              "      <th>ggrm</th>\n",
              "      <th>lppf</th>\n",
              "      <th>pgas</th>\n",
              "    </tr>\n",
              "  </thead>\n",
              "  <tbody>\n",
              "    <tr>\n",
              "      <th>367</th>\n",
              "      <td>0.040462</td>\n",
              "      <td>0.028391</td>\n",
              "      <td>0.010526</td>\n",
              "      <td>0.012539</td>\n",
              "      <td>0.002372</td>\n",
              "      <td>-0.022951</td>\n",
              "      <td>-0.003663</td>\n",
              "    </tr>\n",
              "    <tr>\n",
              "      <th>368</th>\n",
              "      <td>-0.100000</td>\n",
              "      <td>-0.009202</td>\n",
              "      <td>-0.020833</td>\n",
              "      <td>-0.009288</td>\n",
              "      <td>0.000000</td>\n",
              "      <td>0.013423</td>\n",
              "      <td>0.003676</td>\n",
              "    </tr>\n",
              "    <tr>\n",
              "      <th>369</th>\n",
              "      <td>0.037037</td>\n",
              "      <td>0.003096</td>\n",
              "      <td>0.019149</td>\n",
              "      <td>0.006250</td>\n",
              "      <td>-0.022082</td>\n",
              "      <td>-0.009934</td>\n",
              "      <td>0.051282</td>\n",
              "    </tr>\n",
              "    <tr>\n",
              "      <th>370</th>\n",
              "      <td>-0.047619</td>\n",
              "      <td>-0.003086</td>\n",
              "      <td>0.000000</td>\n",
              "      <td>0.021739</td>\n",
              "      <td>0.006452</td>\n",
              "      <td>0.025084</td>\n",
              "      <td>-0.020906</td>\n",
              "    </tr>\n",
              "    <tr>\n",
              "      <th>371</th>\n",
              "      <td>0.000000</td>\n",
              "      <td>0.003096</td>\n",
              "      <td>0.002088</td>\n",
              "      <td>0.063830</td>\n",
              "      <td>-0.022436</td>\n",
              "      <td>-0.034258</td>\n",
              "      <td>0.007117</td>\n",
              "    </tr>\n",
              "    <tr>\n",
              "      <th>...</th>\n",
              "      <td>...</td>\n",
              "      <td>...</td>\n",
              "      <td>...</td>\n",
              "      <td>...</td>\n",
              "      <td>...</td>\n",
              "      <td>...</td>\n",
              "      <td>...</td>\n",
              "    </tr>\n",
              "    <tr>\n",
              "      <th>518</th>\n",
              "      <td>0.037267</td>\n",
              "      <td>-0.022388</td>\n",
              "      <td>0.007109</td>\n",
              "      <td>-0.054348</td>\n",
              "      <td>-0.019849</td>\n",
              "      <td>-0.008021</td>\n",
              "      <td>-0.040909</td>\n",
              "    </tr>\n",
              "    <tr>\n",
              "      <th>519</th>\n",
              "      <td>0.000000</td>\n",
              "      <td>0.045802</td>\n",
              "      <td>0.023529</td>\n",
              "      <td>0.034483</td>\n",
              "      <td>0.005304</td>\n",
              "      <td>0.070081</td>\n",
              "      <td>0.023697</td>\n",
              "    </tr>\n",
              "    <tr>\n",
              "      <th>520</th>\n",
              "      <td>0.005988</td>\n",
              "      <td>0.003650</td>\n",
              "      <td>0.013793</td>\n",
              "      <td>0.025926</td>\n",
              "      <td>0.024460</td>\n",
              "      <td>0.060453</td>\n",
              "      <td>0.013889</td>\n",
              "    </tr>\n",
              "    <tr>\n",
              "      <th>521</th>\n",
              "      <td>0.000000</td>\n",
              "      <td>0.000000</td>\n",
              "      <td>0.000000</td>\n",
              "      <td>-0.050542</td>\n",
              "      <td>-0.000936</td>\n",
              "      <td>-0.021378</td>\n",
              "      <td>-0.022831</td>\n",
              "    </tr>\n",
              "    <tr>\n",
              "      <th>522</th>\n",
              "      <td>0.011905</td>\n",
              "      <td>0.010909</td>\n",
              "      <td>0.002268</td>\n",
              "      <td>0.049430</td>\n",
              "      <td>0.014058</td>\n",
              "      <td>-0.019417</td>\n",
              "      <td>0.009346</td>\n",
              "    </tr>\n",
              "  </tbody>\n",
              "</table>\n",
              "<p>156 rows × 7 columns</p>\n",
              "</div>"
            ],
            "text/plain": [
              "         antm      asii      bbri      cpin      ggrm      lppf      pgas\n",
              "367  0.040462  0.028391  0.010526  0.012539  0.002372 -0.022951 -0.003663\n",
              "368 -0.100000 -0.009202 -0.020833 -0.009288  0.000000  0.013423  0.003676\n",
              "369  0.037037  0.003096  0.019149  0.006250 -0.022082 -0.009934  0.051282\n",
              "370 -0.047619 -0.003086  0.000000  0.021739  0.006452  0.025084 -0.020906\n",
              "371  0.000000  0.003096  0.002088  0.063830 -0.022436 -0.034258  0.007117\n",
              "..        ...       ...       ...       ...       ...       ...       ...\n",
              "518  0.037267 -0.022388  0.007109 -0.054348 -0.019849 -0.008021 -0.040909\n",
              "519  0.000000  0.045802  0.023529  0.034483  0.005304  0.070081  0.023697\n",
              "520  0.005988  0.003650  0.013793  0.025926  0.024460  0.060453  0.013889\n",
              "521  0.000000  0.000000  0.000000 -0.050542 -0.000936 -0.021378 -0.022831\n",
              "522  0.011905  0.010909  0.002268  0.049430  0.014058 -0.019417  0.009346\n",
              "\n",
              "[156 rows x 7 columns]"
            ]
          },
          "metadata": {
            "tags": []
          },
          "execution_count": 233
        }
      ]
    },
    {
      "cell_type": "code",
      "metadata": {
        "colab": {
          "base_uri": "https://localhost:8080/"
        },
        "id": "qzQ6-8zLCfB1",
        "outputId": "42fc7d17-3c97-4eeb-d236-f6d82039b119"
      },
      "source": [
        "emitens7"
      ],
      "execution_count": null,
      "outputs": [
        {
          "output_type": "execute_result",
          "data": {
            "text/plain": [
              "['antm', 'asii', 'bbri', 'cpin', 'ggrm', 'lppf', 'pgas']"
            ]
          },
          "metadata": {
            "tags": []
          },
          "execution_count": 234
        }
      ]
    },
    {
      "cell_type": "code",
      "metadata": {
        "colab": {
          "base_uri": "https://localhost:8080/",
          "height": 391
        },
        "id": "NZ6l6d8XCicF",
        "outputId": "0a9f2b98-b262-49b2-9a47-e080a0175670"
      },
      "source": [
        "df_pct_weekly_return7 = pd.DataFrame()\n",
        "i=0\n",
        "for emiten in emitens7:\n",
        "  df_pct_weekly_return7[emiten]=w.value[i]*df_pct_ret_test7[emiten]\n",
        "  i+=1\n",
        "\n",
        "df_pct_weekly_return7"
      ],
      "execution_count": null,
      "outputs": [
        {
          "output_type": "execute_result",
          "data": {
            "text/html": [
              "<div>\n",
              "<style scoped>\n",
              "    .dataframe tbody tr th:only-of-type {\n",
              "        vertical-align: middle;\n",
              "    }\n",
              "\n",
              "    .dataframe tbody tr th {\n",
              "        vertical-align: top;\n",
              "    }\n",
              "\n",
              "    .dataframe thead th {\n",
              "        text-align: right;\n",
              "    }\n",
              "</style>\n",
              "<table border=\"1\" class=\"dataframe\">\n",
              "  <thead>\n",
              "    <tr style=\"text-align: right;\">\n",
              "      <th></th>\n",
              "      <th>antm</th>\n",
              "      <th>asii</th>\n",
              "      <th>bbri</th>\n",
              "      <th>cpin</th>\n",
              "      <th>ggrm</th>\n",
              "      <th>lppf</th>\n",
              "      <th>pgas</th>\n",
              "    </tr>\n",
              "  </thead>\n",
              "  <tbody>\n",
              "    <tr>\n",
              "      <th>367</th>\n",
              "      <td>0.018210</td>\n",
              "      <td>0.002146</td>\n",
              "      <td>-6.878992e-24</td>\n",
              "      <td>-4.143254e-23</td>\n",
              "      <td>0.000132</td>\n",
              "      <td>1.552001e-22</td>\n",
              "      <td>-0.001533</td>\n",
              "    </tr>\n",
              "    <tr>\n",
              "      <th>368</th>\n",
              "      <td>-0.045005</td>\n",
              "      <td>-0.000696</td>\n",
              "      <td>1.361467e-23</td>\n",
              "      <td>3.068958e-23</td>\n",
              "      <td>0.000000</td>\n",
              "      <td>-9.076897e-23</td>\n",
              "      <td>0.001539</td>\n",
              "    </tr>\n",
              "    <tr>\n",
              "      <th>369</th>\n",
              "      <td>0.016668</td>\n",
              "      <td>0.000234</td>\n",
              "      <td>-1.251391e-23</td>\n",
              "      <td>-2.065153e-23</td>\n",
              "      <td>-0.001231</td>\n",
              "      <td>6.717505e-23</td>\n",
              "      <td>0.021467</td>\n",
              "    </tr>\n",
              "    <tr>\n",
              "      <th>370</th>\n",
              "      <td>-0.021431</td>\n",
              "      <td>-0.000233</td>\n",
              "      <td>-0.000000e+00</td>\n",
              "      <td>-7.183141e-23</td>\n",
              "      <td>0.000360</td>\n",
              "      <td>-1.696226e-22</td>\n",
              "      <td>-0.008751</td>\n",
              "    </tr>\n",
              "    <tr>\n",
              "      <th>371</th>\n",
              "      <td>0.000000</td>\n",
              "      <td>0.000234</td>\n",
              "      <td>-1.364309e-24</td>\n",
              "      <td>-2.109093e-22</td>\n",
              "      <td>-0.001251</td>\n",
              "      <td>2.316608e-22</td>\n",
              "      <td>0.002979</td>\n",
              "    </tr>\n",
              "    <tr>\n",
              "      <th>...</th>\n",
              "      <td>...</td>\n",
              "      <td>...</td>\n",
              "      <td>...</td>\n",
              "      <td>...</td>\n",
              "      <td>...</td>\n",
              "      <td>...</td>\n",
              "      <td>...</td>\n",
              "    </tr>\n",
              "    <tr>\n",
              "      <th>518</th>\n",
              "      <td>0.016772</td>\n",
              "      <td>-0.001692</td>\n",
              "      <td>-4.645765e-24</td>\n",
              "      <td>1.795785e-22</td>\n",
              "      <td>-0.001107</td>\n",
              "      <td>5.424296e-23</td>\n",
              "      <td>-0.017125</td>\n",
              "    </tr>\n",
              "    <tr>\n",
              "      <th>519</th>\n",
              "      <td>0.000000</td>\n",
              "      <td>0.003462</td>\n",
              "      <td>-1.537657e-23</td>\n",
              "      <td>-1.139395e-22</td>\n",
              "      <td>0.000296</td>\n",
              "      <td>-4.739070e-22</td>\n",
              "      <td>0.009920</td>\n",
              "    </tr>\n",
              "    <tr>\n",
              "      <th>520</th>\n",
              "      <td>0.002695</td>\n",
              "      <td>0.000276</td>\n",
              "      <td>-9.013852e-24</td>\n",
              "      <td>-8.566561e-23</td>\n",
              "      <td>0.001364</td>\n",
              "      <td>-4.088033e-22</td>\n",
              "      <td>0.005814</td>\n",
              "    </tr>\n",
              "    <tr>\n",
              "      <th>521</th>\n",
              "      <td>0.000000</td>\n",
              "      <td>0.000000</td>\n",
              "      <td>-0.000000e+00</td>\n",
              "      <td>1.670016e-22</td>\n",
              "      <td>-0.000052</td>\n",
              "      <td>1.445620e-22</td>\n",
              "      <td>-0.009557</td>\n",
              "    </tr>\n",
              "    <tr>\n",
              "      <th>522</th>\n",
              "      <td>0.005358</td>\n",
              "      <td>0.000825</td>\n",
              "      <td>-1.481869e-24</td>\n",
              "      <td>-1.633277e-22</td>\n",
              "      <td>0.000784</td>\n",
              "      <td>1.313066e-22</td>\n",
              "      <td>0.003912</td>\n",
              "    </tr>\n",
              "  </tbody>\n",
              "</table>\n",
              "<p>156 rows × 7 columns</p>\n",
              "</div>"
            ],
            "text/plain": [
              "         antm      asii          bbri  ...      ggrm          lppf      pgas\n",
              "367  0.018210  0.002146 -6.878992e-24  ...  0.000132  1.552001e-22 -0.001533\n",
              "368 -0.045005 -0.000696  1.361467e-23  ...  0.000000 -9.076897e-23  0.001539\n",
              "369  0.016668  0.000234 -1.251391e-23  ... -0.001231  6.717505e-23  0.021467\n",
              "370 -0.021431 -0.000233 -0.000000e+00  ...  0.000360 -1.696226e-22 -0.008751\n",
              "371  0.000000  0.000234 -1.364309e-24  ... -0.001251  2.316608e-22  0.002979\n",
              "..        ...       ...           ...  ...       ...           ...       ...\n",
              "518  0.016772 -0.001692 -4.645765e-24  ... -0.001107  5.424296e-23 -0.017125\n",
              "519  0.000000  0.003462 -1.537657e-23  ...  0.000296 -4.739070e-22  0.009920\n",
              "520  0.002695  0.000276 -9.013852e-24  ...  0.001364 -4.088033e-22  0.005814\n",
              "521  0.000000  0.000000 -0.000000e+00  ... -0.000052  1.445620e-22 -0.009557\n",
              "522  0.005358  0.000825 -1.481869e-24  ...  0.000784  1.313066e-22  0.003912\n",
              "\n",
              "[156 rows x 7 columns]"
            ]
          },
          "metadata": {
            "tags": []
          },
          "execution_count": 235
        }
      ]
    },
    {
      "cell_type": "code",
      "metadata": {
        "colab": {
          "base_uri": "https://localhost:8080/",
          "height": 391
        },
        "id": "BErP5DYiCow7",
        "outputId": "0c68d5ec-96de-4e5e-96ff-af0bce5cfaec"
      },
      "source": [
        "price_data7 = df_test7.drop(columns=['Date'])\n",
        "price_data7"
      ],
      "execution_count": null,
      "outputs": [
        {
          "output_type": "execute_result",
          "data": {
            "text/html": [
              "<div>\n",
              "<style scoped>\n",
              "    .dataframe tbody tr th:only-of-type {\n",
              "        vertical-align: middle;\n",
              "    }\n",
              "\n",
              "    .dataframe tbody tr th {\n",
              "        vertical-align: top;\n",
              "    }\n",
              "\n",
              "    .dataframe thead th {\n",
              "        text-align: right;\n",
              "    }\n",
              "</style>\n",
              "<table border=\"1\" class=\"dataframe\">\n",
              "  <thead>\n",
              "    <tr style=\"text-align: right;\">\n",
              "      <th></th>\n",
              "      <th>antm</th>\n",
              "      <th>asii</th>\n",
              "      <th>bbri</th>\n",
              "      <th>cpin</th>\n",
              "      <th>ggrm</th>\n",
              "      <th>lppf</th>\n",
              "      <th>pgas</th>\n",
              "    </tr>\n",
              "  </thead>\n",
              "  <tbody>\n",
              "    <tr>\n",
              "      <th>366</th>\n",
              "      <td>865.0</td>\n",
              "      <td>7925.0</td>\n",
              "      <td>2375.0</td>\n",
              "      <td>3190.0</td>\n",
              "      <td>63250.0</td>\n",
              "      <td>15250.0</td>\n",
              "      <td>2730.0</td>\n",
              "    </tr>\n",
              "    <tr>\n",
              "      <th>367</th>\n",
              "      <td>900.0</td>\n",
              "      <td>8150.0</td>\n",
              "      <td>2400.0</td>\n",
              "      <td>3230.0</td>\n",
              "      <td>63400.0</td>\n",
              "      <td>14900.0</td>\n",
              "      <td>2720.0</td>\n",
              "    </tr>\n",
              "    <tr>\n",
              "      <th>368</th>\n",
              "      <td>810.0</td>\n",
              "      <td>8075.0</td>\n",
              "      <td>2350.0</td>\n",
              "      <td>3200.0</td>\n",
              "      <td>63400.0</td>\n",
              "      <td>15100.0</td>\n",
              "      <td>2730.0</td>\n",
              "    </tr>\n",
              "    <tr>\n",
              "      <th>369</th>\n",
              "      <td>840.0</td>\n",
              "      <td>8100.0</td>\n",
              "      <td>2395.0</td>\n",
              "      <td>3220.0</td>\n",
              "      <td>62000.0</td>\n",
              "      <td>14950.0</td>\n",
              "      <td>2870.0</td>\n",
              "    </tr>\n",
              "    <tr>\n",
              "      <th>370</th>\n",
              "      <td>800.0</td>\n",
              "      <td>8075.0</td>\n",
              "      <td>2395.0</td>\n",
              "      <td>3290.0</td>\n",
              "      <td>62400.0</td>\n",
              "      <td>15325.0</td>\n",
              "      <td>2810.0</td>\n",
              "    </tr>\n",
              "    <tr>\n",
              "      <th>...</th>\n",
              "      <td>...</td>\n",
              "      <td>...</td>\n",
              "      <td>...</td>\n",
              "      <td>...</td>\n",
              "      <td>...</td>\n",
              "      <td>...</td>\n",
              "      <td>...</td>\n",
              "    </tr>\n",
              "    <tr>\n",
              "      <th>518</th>\n",
              "      <td>835.0</td>\n",
              "      <td>6550.0</td>\n",
              "      <td>4250.0</td>\n",
              "      <td>6525.0</td>\n",
              "      <td>51850.0</td>\n",
              "      <td>3710.0</td>\n",
              "      <td>2110.0</td>\n",
              "    </tr>\n",
              "    <tr>\n",
              "      <th>519</th>\n",
              "      <td>835.0</td>\n",
              "      <td>6850.0</td>\n",
              "      <td>4350.0</td>\n",
              "      <td>6750.0</td>\n",
              "      <td>52125.0</td>\n",
              "      <td>3970.0</td>\n",
              "      <td>2160.0</td>\n",
              "    </tr>\n",
              "    <tr>\n",
              "      <th>520</th>\n",
              "      <td>840.0</td>\n",
              "      <td>6875.0</td>\n",
              "      <td>4410.0</td>\n",
              "      <td>6925.0</td>\n",
              "      <td>53400.0</td>\n",
              "      <td>4210.0</td>\n",
              "      <td>2190.0</td>\n",
              "    </tr>\n",
              "    <tr>\n",
              "      <th>521</th>\n",
              "      <td>840.0</td>\n",
              "      <td>6875.0</td>\n",
              "      <td>4410.0</td>\n",
              "      <td>6575.0</td>\n",
              "      <td>53350.0</td>\n",
              "      <td>4120.0</td>\n",
              "      <td>2140.0</td>\n",
              "    </tr>\n",
              "    <tr>\n",
              "      <th>522</th>\n",
              "      <td>850.0</td>\n",
              "      <td>6950.0</td>\n",
              "      <td>4420.0</td>\n",
              "      <td>6900.0</td>\n",
              "      <td>54100.0</td>\n",
              "      <td>4040.0</td>\n",
              "      <td>2160.0</td>\n",
              "    </tr>\n",
              "  </tbody>\n",
              "</table>\n",
              "<p>157 rows × 7 columns</p>\n",
              "</div>"
            ],
            "text/plain": [
              "      antm    asii    bbri    cpin     ggrm     lppf    pgas\n",
              "366  865.0  7925.0  2375.0  3190.0  63250.0  15250.0  2730.0\n",
              "367  900.0  8150.0  2400.0  3230.0  63400.0  14900.0  2720.0\n",
              "368  810.0  8075.0  2350.0  3200.0  63400.0  15100.0  2730.0\n",
              "369  840.0  8100.0  2395.0  3220.0  62000.0  14950.0  2870.0\n",
              "370  800.0  8075.0  2395.0  3290.0  62400.0  15325.0  2810.0\n",
              "..     ...     ...     ...     ...      ...      ...     ...\n",
              "518  835.0  6550.0  4250.0  6525.0  51850.0   3710.0  2110.0\n",
              "519  835.0  6850.0  4350.0  6750.0  52125.0   3970.0  2160.0\n",
              "520  840.0  6875.0  4410.0  6925.0  53400.0   4210.0  2190.0\n",
              "521  840.0  6875.0  4410.0  6575.0  53350.0   4120.0  2140.0\n",
              "522  850.0  6950.0  4420.0  6900.0  54100.0   4040.0  2160.0\n",
              "\n",
              "[157 rows x 7 columns]"
            ]
          },
          "metadata": {
            "tags": []
          },
          "execution_count": 236
        }
      ]
    },
    {
      "cell_type": "code",
      "metadata": {
        "colab": {
          "base_uri": "https://localhost:8080/",
          "height": 391
        },
        "id": "dyvuXl2jCvps",
        "outputId": "ee807819-434c-4b8d-c745-6bd79912c84e"
      },
      "source": [
        "ret_data7 = price_data7.pct_change()[1:]\n",
        "ret_data7"
      ],
      "execution_count": null,
      "outputs": [
        {
          "output_type": "execute_result",
          "data": {
            "text/html": [
              "<div>\n",
              "<style scoped>\n",
              "    .dataframe tbody tr th:only-of-type {\n",
              "        vertical-align: middle;\n",
              "    }\n",
              "\n",
              "    .dataframe tbody tr th {\n",
              "        vertical-align: top;\n",
              "    }\n",
              "\n",
              "    .dataframe thead th {\n",
              "        text-align: right;\n",
              "    }\n",
              "</style>\n",
              "<table border=\"1\" class=\"dataframe\">\n",
              "  <thead>\n",
              "    <tr style=\"text-align: right;\">\n",
              "      <th></th>\n",
              "      <th>antm</th>\n",
              "      <th>asii</th>\n",
              "      <th>bbri</th>\n",
              "      <th>cpin</th>\n",
              "      <th>ggrm</th>\n",
              "      <th>lppf</th>\n",
              "      <th>pgas</th>\n",
              "    </tr>\n",
              "  </thead>\n",
              "  <tbody>\n",
              "    <tr>\n",
              "      <th>367</th>\n",
              "      <td>0.040462</td>\n",
              "      <td>0.028391</td>\n",
              "      <td>0.010526</td>\n",
              "      <td>0.012539</td>\n",
              "      <td>0.002372</td>\n",
              "      <td>-0.022951</td>\n",
              "      <td>-0.003663</td>\n",
              "    </tr>\n",
              "    <tr>\n",
              "      <th>368</th>\n",
              "      <td>-0.100000</td>\n",
              "      <td>-0.009202</td>\n",
              "      <td>-0.020833</td>\n",
              "      <td>-0.009288</td>\n",
              "      <td>0.000000</td>\n",
              "      <td>0.013423</td>\n",
              "      <td>0.003676</td>\n",
              "    </tr>\n",
              "    <tr>\n",
              "      <th>369</th>\n",
              "      <td>0.037037</td>\n",
              "      <td>0.003096</td>\n",
              "      <td>0.019149</td>\n",
              "      <td>0.006250</td>\n",
              "      <td>-0.022082</td>\n",
              "      <td>-0.009934</td>\n",
              "      <td>0.051282</td>\n",
              "    </tr>\n",
              "    <tr>\n",
              "      <th>370</th>\n",
              "      <td>-0.047619</td>\n",
              "      <td>-0.003086</td>\n",
              "      <td>0.000000</td>\n",
              "      <td>0.021739</td>\n",
              "      <td>0.006452</td>\n",
              "      <td>0.025084</td>\n",
              "      <td>-0.020906</td>\n",
              "    </tr>\n",
              "    <tr>\n",
              "      <th>371</th>\n",
              "      <td>0.000000</td>\n",
              "      <td>0.003096</td>\n",
              "      <td>0.002088</td>\n",
              "      <td>0.063830</td>\n",
              "      <td>-0.022436</td>\n",
              "      <td>-0.034258</td>\n",
              "      <td>0.007117</td>\n",
              "    </tr>\n",
              "    <tr>\n",
              "      <th>...</th>\n",
              "      <td>...</td>\n",
              "      <td>...</td>\n",
              "      <td>...</td>\n",
              "      <td>...</td>\n",
              "      <td>...</td>\n",
              "      <td>...</td>\n",
              "      <td>...</td>\n",
              "    </tr>\n",
              "    <tr>\n",
              "      <th>518</th>\n",
              "      <td>0.037267</td>\n",
              "      <td>-0.022388</td>\n",
              "      <td>0.007109</td>\n",
              "      <td>-0.054348</td>\n",
              "      <td>-0.019849</td>\n",
              "      <td>-0.008021</td>\n",
              "      <td>-0.040909</td>\n",
              "    </tr>\n",
              "    <tr>\n",
              "      <th>519</th>\n",
              "      <td>0.000000</td>\n",
              "      <td>0.045802</td>\n",
              "      <td>0.023529</td>\n",
              "      <td>0.034483</td>\n",
              "      <td>0.005304</td>\n",
              "      <td>0.070081</td>\n",
              "      <td>0.023697</td>\n",
              "    </tr>\n",
              "    <tr>\n",
              "      <th>520</th>\n",
              "      <td>0.005988</td>\n",
              "      <td>0.003650</td>\n",
              "      <td>0.013793</td>\n",
              "      <td>0.025926</td>\n",
              "      <td>0.024460</td>\n",
              "      <td>0.060453</td>\n",
              "      <td>0.013889</td>\n",
              "    </tr>\n",
              "    <tr>\n",
              "      <th>521</th>\n",
              "      <td>0.000000</td>\n",
              "      <td>0.000000</td>\n",
              "      <td>0.000000</td>\n",
              "      <td>-0.050542</td>\n",
              "      <td>-0.000936</td>\n",
              "      <td>-0.021378</td>\n",
              "      <td>-0.022831</td>\n",
              "    </tr>\n",
              "    <tr>\n",
              "      <th>522</th>\n",
              "      <td>0.011905</td>\n",
              "      <td>0.010909</td>\n",
              "      <td>0.002268</td>\n",
              "      <td>0.049430</td>\n",
              "      <td>0.014058</td>\n",
              "      <td>-0.019417</td>\n",
              "      <td>0.009346</td>\n",
              "    </tr>\n",
              "  </tbody>\n",
              "</table>\n",
              "<p>156 rows × 7 columns</p>\n",
              "</div>"
            ],
            "text/plain": [
              "         antm      asii      bbri      cpin      ggrm      lppf      pgas\n",
              "367  0.040462  0.028391  0.010526  0.012539  0.002372 -0.022951 -0.003663\n",
              "368 -0.100000 -0.009202 -0.020833 -0.009288  0.000000  0.013423  0.003676\n",
              "369  0.037037  0.003096  0.019149  0.006250 -0.022082 -0.009934  0.051282\n",
              "370 -0.047619 -0.003086  0.000000  0.021739  0.006452  0.025084 -0.020906\n",
              "371  0.000000  0.003096  0.002088  0.063830 -0.022436 -0.034258  0.007117\n",
              "..        ...       ...       ...       ...       ...       ...       ...\n",
              "518  0.037267 -0.022388  0.007109 -0.054348 -0.019849 -0.008021 -0.040909\n",
              "519  0.000000  0.045802  0.023529  0.034483  0.005304  0.070081  0.023697\n",
              "520  0.005988  0.003650  0.013793  0.025926  0.024460  0.060453  0.013889\n",
              "521  0.000000  0.000000  0.000000 -0.050542 -0.000936 -0.021378 -0.022831\n",
              "522  0.011905  0.010909  0.002268  0.049430  0.014058 -0.019417  0.009346\n",
              "\n",
              "[156 rows x 7 columns]"
            ]
          },
          "metadata": {
            "tags": []
          },
          "execution_count": 237
        }
      ]
    },
    {
      "cell_type": "code",
      "metadata": {
        "colab": {
          "base_uri": "https://localhost:8080/",
          "height": 391
        },
        "id": "a161JEgoDSUU",
        "outputId": "156f6ac6-d905-4a52-fd0f-b8bc8be72e2c"
      },
      "source": [
        "weighted_returns7 = (w.value.reshape(7) * ret_data7)\n",
        "weighted_returns7"
      ],
      "execution_count": null,
      "outputs": [
        {
          "output_type": "execute_result",
          "data": {
            "text/html": [
              "<div>\n",
              "<style scoped>\n",
              "    .dataframe tbody tr th:only-of-type {\n",
              "        vertical-align: middle;\n",
              "    }\n",
              "\n",
              "    .dataframe tbody tr th {\n",
              "        vertical-align: top;\n",
              "    }\n",
              "\n",
              "    .dataframe thead th {\n",
              "        text-align: right;\n",
              "    }\n",
              "</style>\n",
              "<table border=\"1\" class=\"dataframe\">\n",
              "  <thead>\n",
              "    <tr style=\"text-align: right;\">\n",
              "      <th></th>\n",
              "      <th>antm</th>\n",
              "      <th>asii</th>\n",
              "      <th>bbri</th>\n",
              "      <th>cpin</th>\n",
              "      <th>ggrm</th>\n",
              "      <th>lppf</th>\n",
              "      <th>pgas</th>\n",
              "    </tr>\n",
              "  </thead>\n",
              "  <tbody>\n",
              "    <tr>\n",
              "      <th>367</th>\n",
              "      <td>0.018210</td>\n",
              "      <td>0.002146</td>\n",
              "      <td>-6.878992e-24</td>\n",
              "      <td>-4.143254e-23</td>\n",
              "      <td>0.000132</td>\n",
              "      <td>1.552001e-22</td>\n",
              "      <td>-0.001533</td>\n",
              "    </tr>\n",
              "    <tr>\n",
              "      <th>368</th>\n",
              "      <td>-0.045005</td>\n",
              "      <td>-0.000696</td>\n",
              "      <td>1.361467e-23</td>\n",
              "      <td>3.068958e-23</td>\n",
              "      <td>0.000000</td>\n",
              "      <td>-9.076897e-23</td>\n",
              "      <td>0.001539</td>\n",
              "    </tr>\n",
              "    <tr>\n",
              "      <th>369</th>\n",
              "      <td>0.016668</td>\n",
              "      <td>0.000234</td>\n",
              "      <td>-1.251391e-23</td>\n",
              "      <td>-2.065153e-23</td>\n",
              "      <td>-0.001231</td>\n",
              "      <td>6.717505e-23</td>\n",
              "      <td>0.021467</td>\n",
              "    </tr>\n",
              "    <tr>\n",
              "      <th>370</th>\n",
              "      <td>-0.021431</td>\n",
              "      <td>-0.000233</td>\n",
              "      <td>-0.000000e+00</td>\n",
              "      <td>-7.183141e-23</td>\n",
              "      <td>0.000360</td>\n",
              "      <td>-1.696226e-22</td>\n",
              "      <td>-0.008751</td>\n",
              "    </tr>\n",
              "    <tr>\n",
              "      <th>371</th>\n",
              "      <td>0.000000</td>\n",
              "      <td>0.000234</td>\n",
              "      <td>-1.364309e-24</td>\n",
              "      <td>-2.109093e-22</td>\n",
              "      <td>-0.001251</td>\n",
              "      <td>2.316608e-22</td>\n",
              "      <td>0.002979</td>\n",
              "    </tr>\n",
              "    <tr>\n",
              "      <th>...</th>\n",
              "      <td>...</td>\n",
              "      <td>...</td>\n",
              "      <td>...</td>\n",
              "      <td>...</td>\n",
              "      <td>...</td>\n",
              "      <td>...</td>\n",
              "      <td>...</td>\n",
              "    </tr>\n",
              "    <tr>\n",
              "      <th>518</th>\n",
              "      <td>0.016772</td>\n",
              "      <td>-0.001692</td>\n",
              "      <td>-4.645765e-24</td>\n",
              "      <td>1.795785e-22</td>\n",
              "      <td>-0.001107</td>\n",
              "      <td>5.424296e-23</td>\n",
              "      <td>-0.017125</td>\n",
              "    </tr>\n",
              "    <tr>\n",
              "      <th>519</th>\n",
              "      <td>0.000000</td>\n",
              "      <td>0.003462</td>\n",
              "      <td>-1.537657e-23</td>\n",
              "      <td>-1.139395e-22</td>\n",
              "      <td>0.000296</td>\n",
              "      <td>-4.739070e-22</td>\n",
              "      <td>0.009920</td>\n",
              "    </tr>\n",
              "    <tr>\n",
              "      <th>520</th>\n",
              "      <td>0.002695</td>\n",
              "      <td>0.000276</td>\n",
              "      <td>-9.013852e-24</td>\n",
              "      <td>-8.566561e-23</td>\n",
              "      <td>0.001364</td>\n",
              "      <td>-4.088033e-22</td>\n",
              "      <td>0.005814</td>\n",
              "    </tr>\n",
              "    <tr>\n",
              "      <th>521</th>\n",
              "      <td>0.000000</td>\n",
              "      <td>0.000000</td>\n",
              "      <td>-0.000000e+00</td>\n",
              "      <td>1.670016e-22</td>\n",
              "      <td>-0.000052</td>\n",
              "      <td>1.445620e-22</td>\n",
              "      <td>-0.009557</td>\n",
              "    </tr>\n",
              "    <tr>\n",
              "      <th>522</th>\n",
              "      <td>0.005358</td>\n",
              "      <td>0.000825</td>\n",
              "      <td>-1.481869e-24</td>\n",
              "      <td>-1.633277e-22</td>\n",
              "      <td>0.000784</td>\n",
              "      <td>1.313066e-22</td>\n",
              "      <td>0.003912</td>\n",
              "    </tr>\n",
              "  </tbody>\n",
              "</table>\n",
              "<p>156 rows × 7 columns</p>\n",
              "</div>"
            ],
            "text/plain": [
              "         antm      asii          bbri  ...      ggrm          lppf      pgas\n",
              "367  0.018210  0.002146 -6.878992e-24  ...  0.000132  1.552001e-22 -0.001533\n",
              "368 -0.045005 -0.000696  1.361467e-23  ...  0.000000 -9.076897e-23  0.001539\n",
              "369  0.016668  0.000234 -1.251391e-23  ... -0.001231  6.717505e-23  0.021467\n",
              "370 -0.021431 -0.000233 -0.000000e+00  ...  0.000360 -1.696226e-22 -0.008751\n",
              "371  0.000000  0.000234 -1.364309e-24  ... -0.001251  2.316608e-22  0.002979\n",
              "..        ...       ...           ...  ...       ...           ...       ...\n",
              "518  0.016772 -0.001692 -4.645765e-24  ... -0.001107  5.424296e-23 -0.017125\n",
              "519  0.000000  0.003462 -1.537657e-23  ...  0.000296 -4.739070e-22  0.009920\n",
              "520  0.002695  0.000276 -9.013852e-24  ...  0.001364 -4.088033e-22  0.005814\n",
              "521  0.000000  0.000000 -0.000000e+00  ... -0.000052  1.445620e-22 -0.009557\n",
              "522  0.005358  0.000825 -1.481869e-24  ...  0.000784  1.313066e-22  0.003912\n",
              "\n",
              "[156 rows x 7 columns]"
            ]
          },
          "metadata": {
            "tags": []
          },
          "execution_count": 238
        }
      ]
    },
    {
      "cell_type": "code",
      "metadata": {
        "colab": {
          "base_uri": "https://localhost:8080/"
        },
        "id": "Mhphk-WmDVRk",
        "outputId": "99724af7-8ed1-45f3-9d71-cb6b703e92a2"
      },
      "source": [
        "port_ret72 = weighted_returns7.sum(axis=1)\n",
        "port_ret72"
      ],
      "execution_count": null,
      "outputs": [
        {
          "output_type": "execute_result",
          "data": {
            "text/plain": [
              "367    0.018955\n",
              "368   -0.044161\n",
              "369    0.037138\n",
              "370   -0.030056\n",
              "371    0.001962\n",
              "         ...   \n",
              "518   -0.003152\n",
              "519    0.013677\n",
              "520    0.010149\n",
              "521   -0.009609\n",
              "522    0.010878\n",
              "Length: 156, dtype: float64"
            ]
          },
          "metadata": {
            "tags": []
          },
          "execution_count": 239
        }
      ]
    },
    {
      "cell_type": "code",
      "metadata": {
        "id": "-_puwCdNDYDd"
      },
      "source": [
        "port_ret72.to_csv('port_ret72.csv')\n",
        "!cp port_ret72.csv \"/content/drive/My Drive/PYTHON/port_ret\""
      ],
      "execution_count": null,
      "outputs": []
    },
    {
      "cell_type": "code",
      "metadata": {
        "colab": {
          "base_uri": "https://localhost:8080/"
        },
        "id": "xy71m98hDaZY",
        "outputId": "2f325288-6554-4e8e-9d5e-b818e733944d"
      },
      "source": [
        "print('Max return:', max(port_ret72))\n",
        "print('Min return:', min(port_ret72))\n",
        "print('Average return:', np.mean(port_ret72))\n",
        "print('sharpe ratio :', np.mean(port_ret72)/np.std(port_ret72))"
      ],
      "execution_count": null,
      "outputs": [
        {
          "output_type": "stream",
          "text": [
            "Max return: 0.15628315880092103\n",
            "Min return: -0.0933975912083587\n",
            "Average return: 0.00061006045745565\n",
            "sharpe ratio : 0.014213540068424329\n"
          ],
          "name": "stdout"
        }
      ]
    },
    {
      "cell_type": "code",
      "metadata": {
        "colab": {
          "base_uri": "https://localhost:8080/",
          "height": 307
        },
        "id": "qJ6Qy9XeDdDs",
        "outputId": "90227ad3-afe2-4a9f-a97e-f5852c3dd365"
      },
      "source": [
        "import matplotlib.pyplot as plt\n",
        "\n",
        "fig = plt.figure()\n",
        "ax1 = fig.add_axes([0.1,0.1,0.8,0.8])\n",
        "ax1.hist(port_ret72, bins = 60)\n",
        "ax1.set_xlabel('Return Portofolio')\n",
        "ax1.set_ylabel(\"Jumlah\")\n",
        "ax1.set_title(\"Return Portofolio sparse mean-variance 7 emiten\")\n",
        "plt.show();"
      ],
      "execution_count": null,
      "outputs": [
        {
          "output_type": "display_data",
          "data": {
            "image/png": "[encoded data removed]",
            "text/plain": [
              "<Figure size 432x288 with 1 Axes>"
            ]
          },
          "metadata": {
            "tags": [],
            "needs_background": "light"
          }
        }
      ]
    }
  ]
}